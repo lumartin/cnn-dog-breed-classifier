{
 "cells": [
  {
   "cell_type": "code",
   "execution_count": 1,
   "metadata": {
    "colab": {
     "base_uri": "https://localhost:8080/",
     "height": 122
    },
    "colab_type": "code",
    "executionInfo": {
     "elapsed": 24248,
     "status": "ok",
     "timestamp": 1587591742039,
     "user": {
      "displayName": "Luis Martín",
      "photoUrl": "",
      "userId": "05136960784416304431"
     },
     "user_tz": -120
    },
    "id": "JXxOTx7DU-o4",
    "outputId": "520bf746-950b-4242-9ee4-0cc71b3631f3"
   },
   "outputs": [
    {
     "name": "stdout",
     "output_type": "stream",
     "text": [
      "Go to this URL in a browser: https://accounts.google.com/o/oauth2/auth?client_id=947318989803-6bn6qk8qdgf4n4g3pfee6491hc0brc4i.apps.googleusercontent.com&redirect_uri=urn%3aietf%3awg%3aoauth%3a2.0%3aoob&response_type=code&scope=email%20https%3a%2f%2fwww.googleapis.com%2fauth%2fdocs.test%20https%3a%2f%2fwww.googleapis.com%2fauth%2fdrive%20https%3a%2f%2fwww.googleapis.com%2fauth%2fdrive.photos.readonly%20https%3a%2f%2fwww.googleapis.com%2fauth%2fpeopleapi.readonly\n",
      "\n",
      "Enter your authorization code:\n",
      "··········\n",
      "Mounted at /content/drive\n"
     ]
    }
   ],
   "source": [
    "from google.colab import drive\n",
    "drive.mount('/content/drive')"
   ]
  },
  {
   "cell_type": "code",
   "execution_count": null,
   "metadata": {
    "colab": {},
    "colab_type": "code",
    "id": "qkVY9R0tYZw3"
   },
   "outputs": [],
   "source": [
    "#%%capture\n",
    "#!wget -N https://s3-us-west-1.amazonaws.com/udacity-aind/dog-project/dogImages.zip\n",
    "#!unzip -o /content/dogImages.zip\n",
    "#!mv /content/dogImages /content/drive/My\\ Drive/dog-breeds/dog_images"
   ]
  },
  {
   "cell_type": "markdown",
   "metadata": {
    "colab_type": "text",
    "id": "SE3rFGLpoYhJ"
   },
   "source": [
    "# Configuration & utilities\n",
    "\n",
    "Here we define the configuration parameters, dependencies and utility functions needed for the experiment. You may only need to specify the 'experiment_description' value in the first line of code, and the paths identifying the project and the different datasets. "
   ]
  },
  {
   "cell_type": "code",
   "execution_count": null,
   "metadata": {
    "colab": {},
    "colab_type": "code",
    "id": "GbuFvy-OAzXp"
   },
   "outputs": [],
   "source": [
    "import numpy as np\n",
    "from glob import glob\n",
    "import sys\n",
    "from utils.preprocess import *\n",
    "from utils.resnet_model import *\n",
    "from utils.train import *\n",
    "from utils.simple_model import *\n",
    "\n",
    "\n",
    "experiment_description = 'refactor'\n",
    "project_path = '/content/drive/My Drive/dog-breeds/'\n",
    "\n",
    "##################### DO NOT MODIFY ################################\n",
    "\n",
    "experiment_location = project_path + experiment_description\n",
    "escaped_exp_location = experiment_location.replace(\" \", \"\\\\ \")\n",
    "!mkdir $escaped_exp_location\n",
    "model_file = experiment_location + '/model_ ' + experiment_description\n",
    "output_file = experiment_location + '/' + experiment_description\n",
    "sys.path.append(project_path)\n",
    "##################### END: DO NOT MODIFY ###########################\n",
    "\n",
    "dog_files = np.array(glob(project_path + \"dog_images/*/*/*\"))\n",
    "print('There are %d total dog images.' % len(dog_files))\n",
    "train_path = project_path + 'dog_images/train'\n",
    "validation_path = project_path +'dog_images/valid'\n",
    "test_path = project_path +'dog_images/test'\n",
    "\n",
    "\n",
    "def print_gpu():\n",
    "  gpu_info = !nvidia-smi\n",
    "  gpu_info = '\\n'.join(gpu_info)\n",
    "  if gpu_info.find('failed') >= 0:\n",
    "    print('Select the Runtime → \"Change runtime type\" menu to enable a GPU accelerator, ')\n",
    "    print('and then re-execute this cell.')\n",
    "  else:\n",
    "    print(gpu_info) "
   ]
  },
  {
   "cell_type": "markdown",
   "metadata": {
    "colab_type": "text",
    "id": "SVQ7DTfXq7m4"
   },
   "source": [
    "# Experiment\n",
    "\n",
    "A lot of things here need to be separated:\n",
    "\n",
    " - Creation of dataset loaders\n",
    " - NN architecture\n",
    " - Hyperparameter dictionaries\n",
    " - Testing and Rebooting functions\n",
    " - Experiment loop\n",
    " - Visualization"
   ]
  },
  {
   "cell_type": "code",
   "execution_count": null,
   "metadata": {
    "colab": {
     "base_uri": "https://localhost:8080/",
     "height": 1000
    },
    "colab_type": "code",
    "executionInfo": {
     "elapsed": 308005,
     "status": "error",
     "timestamp": 1587341074536,
     "user": {
      "displayName": "Luis Martín",
      "photoUrl": "",
      "userId": "05136960784416304431"
     },
     "user_tz": -120
    },
    "id": "ksid6BWZJlFO",
    "outputId": "bc59842e-a04f-4e5b-aed7-b68728daa4ef"
   },
   "outputs": [
    {
     "name": "stdout",
     "output_type": "stream",
     "text": [
      "Wed Apr 22 22:08:41 2020       \n",
      "+-----------------------------------------------------------------------------+\n",
      "| NVIDIA-SMI 440.64.00    Driver Version: 418.67       CUDA Version: 10.1     |\n",
      "|-------------------------------+----------------------+----------------------+\n",
      "| GPU  Name        Persistence-M| Bus-Id        Disp.A | Volatile Uncorr. ECC |\n",
      "| Fan  Temp  Perf  Pwr:Usage/Cap|         Memory-Usage | GPU-Util  Compute M. |\n",
      "|===============================+======================+======================|\n",
      "|   0  Tesla P100-PCIE...  Off  | 00000000:00:04.0 Off |                    0 |\n",
      "| N/A   33C    P0    25W / 250W |      0MiB / 16280MiB |      0%      Default |\n",
      "+-------------------------------+----------------------+----------------------+\n",
      "                                                                               \n",
      "+-----------------------------------------------------------------------------+\n",
      "| Processes:                                                       GPU Memory |\n",
      "|  GPU       PID   Type   Process name                             Usage      |\n",
      "|=============================================================================|\n",
      "|  No running processes found                                                 |\n",
      "+-----------------------------------------------------------------------------+\n",
      "ResNet(\n",
      "  (conv1): Sequential(\n",
      "    (0): Conv2d(3, 64, kernel_size=(3, 3), stride=(1, 1), padding=(1, 1), bias=False)\n",
      "    (1): BatchNorm2d(64, eps=1e-05, momentum=0.1, affine=True, track_running_stats=True)\n",
      "    (2): ReLU(inplace=True)\n",
      "  )\n",
      "  (conv2_x): Sequential(\n",
      "    (0): BasicBlock(\n",
      "      (residual_function): Sequential(\n",
      "        (0): Conv2d(64, 64, kernel_size=(3, 3), stride=(1, 1), padding=(1, 1), bias=False)\n",
      "        (1): BatchNorm2d(64, eps=1e-05, momentum=0.1, affine=True, track_running_stats=True)\n",
      "        (2): ReLU(inplace=True)\n",
      "        (3): Conv2d(64, 64, kernel_size=(3, 3), stride=(1, 1), padding=(1, 1), bias=False)\n",
      "        (4): BatchNorm2d(64, eps=1e-05, momentum=0.1, affine=True, track_running_stats=True)\n",
      "      )\n",
      "      (shortcut): Sequential()\n",
      "    )\n",
      "    (1): BasicBlock(\n",
      "      (residual_function): Sequential(\n",
      "        (0): Conv2d(64, 64, kernel_size=(3, 3), stride=(1, 1), padding=(1, 1), bias=False)\n",
      "        (1): BatchNorm2d(64, eps=1e-05, momentum=0.1, affine=True, track_running_stats=True)\n",
      "        (2): ReLU(inplace=True)\n",
      "        (3): Conv2d(64, 64, kernel_size=(3, 3), stride=(1, 1), padding=(1, 1), bias=False)\n",
      "        (4): BatchNorm2d(64, eps=1e-05, momentum=0.1, affine=True, track_running_stats=True)\n",
      "      )\n",
      "      (shortcut): Sequential()\n",
      "    )\n",
      "  )\n",
      "  (conv3_x): Sequential(\n",
      "    (0): BasicBlock(\n",
      "      (residual_function): Sequential(\n",
      "        (0): Conv2d(64, 128, kernel_size=(3, 3), stride=(2, 2), padding=(1, 1), bias=False)\n",
      "        (1): BatchNorm2d(128, eps=1e-05, momentum=0.1, affine=True, track_running_stats=True)\n",
      "        (2): ReLU(inplace=True)\n",
      "        (3): Conv2d(128, 128, kernel_size=(3, 3), stride=(1, 1), padding=(1, 1), bias=False)\n",
      "        (4): BatchNorm2d(128, eps=1e-05, momentum=0.1, affine=True, track_running_stats=True)\n",
      "      )\n",
      "      (shortcut): Sequential(\n",
      "        (0): Conv2d(64, 128, kernel_size=(1, 1), stride=(2, 2), bias=False)\n",
      "        (1): BatchNorm2d(128, eps=1e-05, momentum=0.1, affine=True, track_running_stats=True)\n",
      "      )\n",
      "    )\n",
      "    (1): BasicBlock(\n",
      "      (residual_function): Sequential(\n",
      "        (0): Conv2d(128, 128, kernel_size=(3, 3), stride=(1, 1), padding=(1, 1), bias=False)\n",
      "        (1): BatchNorm2d(128, eps=1e-05, momentum=0.1, affine=True, track_running_stats=True)\n",
      "        (2): ReLU(inplace=True)\n",
      "        (3): Conv2d(128, 128, kernel_size=(3, 3), stride=(1, 1), padding=(1, 1), bias=False)\n",
      "        (4): BatchNorm2d(128, eps=1e-05, momentum=0.1, affine=True, track_running_stats=True)\n",
      "      )\n",
      "      (shortcut): Sequential()\n",
      "    )\n",
      "  )\n",
      "  (conv4_x): Sequential(\n",
      "    (0): BasicBlock(\n",
      "      (residual_function): Sequential(\n",
      "        (0): Conv2d(128, 256, kernel_size=(3, 3), stride=(2, 2), padding=(1, 1), bias=False)\n",
      "        (1): BatchNorm2d(256, eps=1e-05, momentum=0.1, affine=True, track_running_stats=True)\n",
      "        (2): ReLU(inplace=True)\n",
      "        (3): Conv2d(256, 256, kernel_size=(3, 3), stride=(1, 1), padding=(1, 1), bias=False)\n",
      "        (4): BatchNorm2d(256, eps=1e-05, momentum=0.1, affine=True, track_running_stats=True)\n",
      "      )\n",
      "      (shortcut): Sequential(\n",
      "        (0): Conv2d(128, 256, kernel_size=(1, 1), stride=(2, 2), bias=False)\n",
      "        (1): BatchNorm2d(256, eps=1e-05, momentum=0.1, affine=True, track_running_stats=True)\n",
      "      )\n",
      "    )\n",
      "    (1): BasicBlock(\n",
      "      (residual_function): Sequential(\n",
      "        (0): Conv2d(256, 256, kernel_size=(3, 3), stride=(1, 1), padding=(1, 1), bias=False)\n",
      "        (1): BatchNorm2d(256, eps=1e-05, momentum=0.1, affine=True, track_running_stats=True)\n",
      "        (2): ReLU(inplace=True)\n",
      "        (3): Conv2d(256, 256, kernel_size=(3, 3), stride=(1, 1), padding=(1, 1), bias=False)\n",
      "        (4): BatchNorm2d(256, eps=1e-05, momentum=0.1, affine=True, track_running_stats=True)\n",
      "      )\n",
      "      (shortcut): Sequential()\n",
      "    )\n",
      "  )\n",
      "  (conv5_x): Sequential(\n",
      "    (0): BasicBlock(\n",
      "      (residual_function): Sequential(\n",
      "        (0): Conv2d(256, 512, kernel_size=(3, 3), stride=(2, 2), padding=(1, 1), bias=False)\n",
      "        (1): BatchNorm2d(512, eps=1e-05, momentum=0.1, affine=True, track_running_stats=True)\n",
      "        (2): ReLU(inplace=True)\n",
      "        (3): Conv2d(512, 512, kernel_size=(3, 3), stride=(1, 1), padding=(1, 1), bias=False)\n",
      "        (4): BatchNorm2d(512, eps=1e-05, momentum=0.1, affine=True, track_running_stats=True)\n",
      "      )\n",
      "      (shortcut): Sequential(\n",
      "        (0): Conv2d(256, 512, kernel_size=(1, 1), stride=(2, 2), bias=False)\n",
      "        (1): BatchNorm2d(512, eps=1e-05, momentum=0.1, affine=True, track_running_stats=True)\n",
      "      )\n",
      "    )\n",
      "    (1): BasicBlock(\n",
      "      (residual_function): Sequential(\n",
      "        (0): Conv2d(512, 512, kernel_size=(3, 3), stride=(1, 1), padding=(1, 1), bias=False)\n",
      "        (1): BatchNorm2d(512, eps=1e-05, momentum=0.1, affine=True, track_running_stats=True)\n",
      "        (2): ReLU(inplace=True)\n",
      "        (3): Conv2d(512, 512, kernel_size=(3, 3), stride=(1, 1), padding=(1, 1), bias=False)\n",
      "        (4): BatchNorm2d(512, eps=1e-05, momentum=0.1, affine=True, track_running_stats=True)\n",
      "      )\n",
      "      (shortcut): Sequential()\n",
      "    )\n",
      "  )\n",
      "  (avg_pool): AdaptiveAvgPool2d(output_size=(1, 1))\n",
      "  (fc): Linear(in_features=512, out_features=133, bias=True)\n",
      ")\n",
      "Adam (\n",
      "Parameter Group 0\n",
      "    amsgrad: False\n",
      "    betas: (0.9, 0.999)\n",
      "    eps: 1e-08\n",
      "    lr: 0.0015\n",
      "    weight_decay: 0\n",
      ")\n"
     ]
    }
   ],
   "source": [
    "%matplotlib inline\n",
    "%config InlineBackend.figure_format = 'retina'\n",
    "\n",
    "import os\n",
    "import torch\n",
    "from torchvision import datasets\n",
    "import torch.optim as optim\n",
    "from PIL import ImageFile\n",
    "import matplotlib.pyplot as plt\n",
    "import datetime\n",
    "\n",
    "ImageFile.LOAD_TRUNCATED_IMAGES = True\n",
    "\n",
    "augmentations = [\n",
    "                 [iaa.Resize((224, 224)), iaa.Crop(percent=(0, 0.45))]\n",
    "                ]\n",
    "learning_rates = [\n",
    "                 #0.001\n",
    "                 0.0015,\n",
    "                 #0.0025,\n",
    "                 #0.0035\n",
    "                 ]\n",
    "optimizers = [\n",
    "             #optim.Adagrad,\n",
    "             optim.Adam\n",
    "             ]\n",
    "models = [\n",
    "         resnet18(),\n",
    "         simple_cnn()\n",
    "         ]\n",
    "         \n",
    "paths = {\n",
    "    'train_path' : train_path,\n",
    "    'validation_path' : validation_path,\n",
    "    'test_path' : test_path\n",
    "}\n",
    "\n",
    "\n",
    "hyperparameters_dictionary = {\n",
    "    'augmentations' : augmentations,\n",
    "    'learning_rates' : learning_rates,\n",
    "    'epochs' : 100,\n",
    "    'optimizers' : optimizers,\n",
    "    'models' : models\n",
    "}\n",
    "\n",
    "print_gpu()\n",
    "run_experiments(paths, hyperparameters_dictionary, model_file)\n",
    "\n",
    "\n"
   ]
  },
  {
   "cell_type": "code",
   "execution_count": null,
   "metadata": {
    "colab": {},
    "colab_type": "code",
    "id": "JIajAq0W3g08"
   },
   "outputs": [],
   "source": []
  }
 ],
 "metadata": {
  "accelerator": "GPU",
  "anaconda-cloud": {},
  "colab": {
   "collapsed_sections": [],
   "name": "experiments_framework_refactor.ipynb",
   "provenance": [
    {
     "file_id": "1OjCJi1WTxHyoX3PJv-O2nnwOTT2llm1K",
     "timestamp": 1586133248550
    },
    {
     "file_id": "1nDZaK8ZxAz8K8x1nvxH5hJxNrFdDGOGW",
     "timestamp": 1586132559362
    },
    {
     "file_id": "1CB8ottEi6O0V1byMpFFwPGAsDASBjZMB",
     "timestamp": 1586083613524
    },
    {
     "file_id": "1Z8yuY-OvTPNR_I39ExXUOetQgZCd5ai3",
     "timestamp": 1586083560447
    },
    {
     "file_id": "1CCtPCrvTO1eJTvBKDYBNh1qzbLulOgIB",
     "timestamp": 1586083192152
    },
    {
     "file_id": "1XEMq3W--Egp-IwHfHLUl8fooafAISsSq",
     "timestamp": 1586046109632
    },
    {
     "file_id": "1M6NnHno6mb6UmPwY3rLfVYIgx4r300qj",
     "timestamp": 1586045971599
    },
    {
     "file_id": "1nfhbSpamn1nTIQ94KZMjeAJvJQuUvQWH",
     "timestamp": 1586019294461
    },
    {
     "file_id": "1S5b4ZZBlAQH0-QI2rR3Klay6plHwlSG4",
     "timestamp": 1586019186582
    },
    {
     "file_id": "1x43TFVwxZ-RIkjvpxoh231Lvtt-ikN2C",
     "timestamp": 1586019059898
    },
    {
     "file_id": "18_yL6W-Q1P8P1xqcCJPCNjg_8OeZTD69",
     "timestamp": 1586005625719
    },
    {
     "file_id": "1r2_wvotCDm3k_r_TLNHFwiyqgwyV5KkQ",
     "timestamp": 1586005597098
    },
    {
     "file_id": "1x17ANn3WW9PJckaEQSlkio5gn7dkPN-k",
     "timestamp": 1586005574311
    },
    {
     "file_id": "1wrfznjw3XLiV6JfDZxRvB0FBT5wBDZ0I",
     "timestamp": 1586005511862
    },
    {
     "file_id": "1dOYwkMe0ADYqIypoTsfACJ0m1aC2wFkJ",
     "timestamp": 1585991244277
    },
    {
     "file_id": "1f9SevfjtTDJD6CO-HfNW-osiYvgrGJvN",
     "timestamp": 1585991217369
    },
    {
     "file_id": "1XWPqI_yXRmz4PenEhf7W2irFoa6HT6uF",
     "timestamp": 1585991195574
    },
    {
     "file_id": "1XNOEqHACPONOBz8ZN9L-aSYsuM0I2xJd",
     "timestamp": 1585991128475
    },
    {
     "file_id": "1E3y3-KvBsy9UapPVrGZypZT00YexjZbR",
     "timestamp": 1585955348971
    },
    {
     "file_id": "116DV5OYEC78n8Tdpt9Q7_MzL_TdLq6Qe",
     "timestamp": 1585955020650
    },
    {
     "file_id": "14GYMrkofK2E3cxEXO0Wa3eUO1nV6TOXr",
     "timestamp": 1585941706806
    },
    {
     "file_id": "1vcnE6D3-w6WNefC-orZ7W0KpV6HOmgnW",
     "timestamp": 1585781564679
    },
    {
     "file_id": "1CuKotTscUY4BCBXthHtT6SvrXJtC5f2I",
     "timestamp": 1585484980455
    },
    {
     "file_id": "1q5wJQ8TKeGV62hAt3Qj8gTaCOJkqUNgd",
     "timestamp": 1585323933479
    }
   ],
   "toc_visible": true
  },
  "kernelspec": {
   "display_name": "Python 3",
   "language": "python",
   "name": "python3"
  },
  "language_info": {
   "codemirror_mode": {
    "name": "ipython",
    "version": 3
   },
   "file_extension": ".py",
   "mimetype": "text/x-python",
   "name": "python",
   "nbconvert_exporter": "python",
   "pygments_lexer": "ipython3",
   "version": "3.7.4"
  }
 },
 "nbformat": 4,
 "nbformat_minor": 4
}
