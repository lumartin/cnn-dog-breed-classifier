{
 "cells": [
  {
   "cell_type": "code",
   "execution_count": 1,
   "metadata": {
    "colab": {
     "base_uri": "https://localhost:8080/",
     "height": 122
    },
    "colab_type": "code",
    "executionInfo": {
     "elapsed": 30090,
     "status": "ok",
     "timestamp": 1587682383528,
     "user": {
      "displayName": "Luis Martín",
      "photoUrl": "",
      "userId": "05136960784416304431"
     },
     "user_tz": -120
    },
    "id": "JXxOTx7DU-o4",
    "outputId": "35c9c40a-8109-4d9a-881f-158020b4922d"
   },
   "outputs": [
    {
     "name": "stdout",
     "output_type": "stream",
     "text": [
      "Go to this URL in a browser: https://accounts.google.com/o/oauth2/auth?client_id=947318989803-6bn6qk8qdgf4n4g3pfee6491hc0brc4i.apps.googleusercontent.com&redirect_uri=urn%3aietf%3awg%3aoauth%3a2.0%3aoob&response_type=code&scope=email%20https%3a%2f%2fwww.googleapis.com%2fauth%2fdocs.test%20https%3a%2f%2fwww.googleapis.com%2fauth%2fdrive%20https%3a%2f%2fwww.googleapis.com%2fauth%2fdrive.photos.readonly%20https%3a%2f%2fwww.googleapis.com%2fauth%2fpeopleapi.readonly\n",
      "\n",
      "Enter your authorization code:\n",
      "··········\n",
      "Mounted at /content/drive\n"
     ]
    }
   ],
   "source": [
    "from google.colab import drive\n",
    "drive.mount('/content/drive')"
   ]
  },
  {
   "cell_type": "code",
   "execution_count": null,
   "metadata": {
    "colab": {},
    "colab_type": "code",
    "id": "qkVY9R0tYZw3"
   },
   "outputs": [],
   "source": [
    "#%%capture\n",
    "#!wget -N https://s3-us-west-1.amazonaws.com/udacity-aind/dog-project/dogImages.zip\n",
    "#!unzip -o /content/dogImages.zip\n",
    "#!mv /content/dogImages /content/drive/My\\ Drive/dog-breeds/dog_images"
   ]
  },
  {
   "cell_type": "markdown",
   "metadata": {
    "colab_type": "text",
    "id": "SE3rFGLpoYhJ"
   },
   "source": [
    "# Configuration & utilities\n",
    "\n",
    "Here we define the configuration parameters, dependencies and utility functions needed for the experiment. You may only need to specify the 'experiment_description' value in the first line of code, and the paths identifying the project and the different datasets. "
   ]
  },
  {
   "cell_type": "code",
   "execution_count": 3,
   "metadata": {
    "colab": {
     "base_uri": "https://localhost:8080/",
     "height": 34
    },
    "colab_type": "code",
    "executionInfo": {
     "elapsed": 3036,
     "status": "ok",
     "timestamp": 1587682446392,
     "user": {
      "displayName": "Luis Martín",
      "photoUrl": "",
      "userId": "05136960784416304431"
     },
     "user_tz": -120
    },
    "id": "GbuFvy-OAzXp",
    "outputId": "f54cb665-705d-4bbd-85b5-22e423b34818"
   },
   "outputs": [
    {
     "name": "stdout",
     "output_type": "stream",
     "text": [
      "There are 8351 total dog images.\n"
     ]
    }
   ],
   "source": [
    "import numpy as np\n",
    "from glob import glob\n",
    "import sys\n",
    "\n",
    "experiment_description = 'best_scenario_replay'\n",
    "project_path = '/content/drive/My Drive/dog-breeds/'\n",
    "\n",
    "##################### DO NOT MODIFY ################################\n",
    "\n",
    "experiment_location = project_path + experiment_description\n",
    "escaped_exp_location = experiment_location.replace(\" \", \"\\\\ \")\n",
    "!mkdir $escaped_exp_location\n",
    "model_file = experiment_location + '/model_ ' + experiment_description\n",
    "output_file = experiment_location + '/' + experiment_description\n",
    "sys.path.append(project_path)\n",
    "##################### END: DO NOT MODIFY ###########################\n",
    "\n",
    "dog_files = np.array(glob(project_path + \"dog_images/*/*/*\"))\n",
    "print('There are %d total dog images.' % len(dog_files))\n",
    "train_path = project_path + 'dog_images/train'\n",
    "validation_path = project_path +'dog_images/valid'\n",
    "test_path = project_path +'dog_images/test'\n",
    "\n",
    "\n",
    "def print_gpu():\n",
    "  gpu_info = !nvidia-smi\n",
    "  gpu_info = '\\n'.join(gpu_info)\n",
    "  if gpu_info.find('failed') >= 0:\n",
    "    print('Select the Runtime → \"Change runtime type\" menu to enable a GPU accelerator, ')\n",
    "    print('and then re-execute this cell.')\n",
    "  else:\n",
    "    print(gpu_info) "
   ]
  },
  {
   "cell_type": "markdown",
   "metadata": {
    "colab_type": "text",
    "id": "SVQ7DTfXq7m4"
   },
   "source": [
    "# Experiment\n",
    "\n",
    "A lot of things here need to be separated:\n",
    "\n",
    " - Creation of dataset loaders\n",
    " - NN architecture\n",
    " - Hyperparameter dictionaries\n",
    " - Testing and Rebooting functions\n",
    " - Experiment loop\n",
    " - Visualization"
   ]
  },
  {
   "cell_type": "code",
   "execution_count": 4,
   "metadata": {
    "colab": {
     "base_uri": "https://localhost:8080/",
     "height": 1000
    },
    "colab_type": "code",
    "executionInfo": {
     "elapsed": 27554566,
     "status": "ok",
     "timestamp": 1587711569526,
     "user": {
      "displayName": "Luis Martín",
      "photoUrl": "",
      "userId": "05136960784416304431"
     },
     "user_tz": -120
    },
    "id": "ksid6BWZJlFO",
    "outputId": "8253066f-4632-46b8-909c-e94fc7edd920"
   },
   "outputs": [
    {
     "name": "stdout",
     "output_type": "stream",
     "text": [
      "ResNet(\n",
      "  (conv1): Sequential(\n",
      "    (0): Conv2d(3, 64, kernel_size=(3, 3), stride=(1, 1), padding=(1, 1), bias=False)\n",
      "    (1): BatchNorm2d(64, eps=1e-05, momentum=0.1, affine=True, track_running_stats=True)\n",
      "    (2): ReLU(inplace=True)\n",
      "  )\n",
      "  (conv2_x): Sequential(\n",
      "    (0): BasicBlock(\n",
      "      (residual_function): Sequential(\n",
      "        (0): Conv2d(64, 64, kernel_size=(3, 3), stride=(1, 1), padding=(1, 1), bias=False)\n",
      "        (1): BatchNorm2d(64, eps=1e-05, momentum=0.1, affine=True, track_running_stats=True)\n",
      "        (2): ReLU(inplace=True)\n",
      "        (3): Conv2d(64, 64, kernel_size=(3, 3), stride=(1, 1), padding=(1, 1), bias=False)\n",
      "        (4): BatchNorm2d(64, eps=1e-05, momentum=0.1, affine=True, track_running_stats=True)\n",
      "      )\n",
      "      (shortcut): Sequential()\n",
      "    )\n",
      "    (1): BasicBlock(\n",
      "      (residual_function): Sequential(\n",
      "        (0): Conv2d(64, 64, kernel_size=(3, 3), stride=(1, 1), padding=(1, 1), bias=False)\n",
      "        (1): BatchNorm2d(64, eps=1e-05, momentum=0.1, affine=True, track_running_stats=True)\n",
      "        (2): ReLU(inplace=True)\n",
      "        (3): Conv2d(64, 64, kernel_size=(3, 3), stride=(1, 1), padding=(1, 1), bias=False)\n",
      "        (4): BatchNorm2d(64, eps=1e-05, momentum=0.1, affine=True, track_running_stats=True)\n",
      "      )\n",
      "      (shortcut): Sequential()\n",
      "    )\n",
      "  )\n",
      "  (conv3_x): Sequential(\n",
      "    (0): BasicBlock(\n",
      "      (residual_function): Sequential(\n",
      "        (0): Conv2d(64, 128, kernel_size=(3, 3), stride=(2, 2), padding=(1, 1), bias=False)\n",
      "        (1): BatchNorm2d(128, eps=1e-05, momentum=0.1, affine=True, track_running_stats=True)\n",
      "        (2): ReLU(inplace=True)\n",
      "        (3): Conv2d(128, 128, kernel_size=(3, 3), stride=(1, 1), padding=(1, 1), bias=False)\n",
      "        (4): BatchNorm2d(128, eps=1e-05, momentum=0.1, affine=True, track_running_stats=True)\n",
      "      )\n",
      "      (shortcut): Sequential(\n",
      "        (0): Conv2d(64, 128, kernel_size=(1, 1), stride=(2, 2), bias=False)\n",
      "        (1): BatchNorm2d(128, eps=1e-05, momentum=0.1, affine=True, track_running_stats=True)\n",
      "      )\n",
      "    )\n",
      "    (1): BasicBlock(\n",
      "      (residual_function): Sequential(\n",
      "        (0): Conv2d(128, 128, kernel_size=(3, 3), stride=(1, 1), padding=(1, 1), bias=False)\n",
      "        (1): BatchNorm2d(128, eps=1e-05, momentum=0.1, affine=True, track_running_stats=True)\n",
      "        (2): ReLU(inplace=True)\n",
      "        (3): Conv2d(128, 128, kernel_size=(3, 3), stride=(1, 1), padding=(1, 1), bias=False)\n",
      "        (4): BatchNorm2d(128, eps=1e-05, momentum=0.1, affine=True, track_running_stats=True)\n",
      "      )\n",
      "      (shortcut): Sequential()\n",
      "    )\n",
      "  )\n",
      "  (conv4_x): Sequential(\n",
      "    (0): BasicBlock(\n",
      "      (residual_function): Sequential(\n",
      "        (0): Conv2d(128, 256, kernel_size=(3, 3), stride=(2, 2), padding=(1, 1), bias=False)\n",
      "        (1): BatchNorm2d(256, eps=1e-05, momentum=0.1, affine=True, track_running_stats=True)\n",
      "        (2): ReLU(inplace=True)\n",
      "        (3): Conv2d(256, 256, kernel_size=(3, 3), stride=(1, 1), padding=(1, 1), bias=False)\n",
      "        (4): BatchNorm2d(256, eps=1e-05, momentum=0.1, affine=True, track_running_stats=True)\n",
      "      )\n",
      "      (shortcut): Sequential(\n",
      "        (0): Conv2d(128, 256, kernel_size=(1, 1), stride=(2, 2), bias=False)\n",
      "        (1): BatchNorm2d(256, eps=1e-05, momentum=0.1, affine=True, track_running_stats=True)\n",
      "      )\n",
      "    )\n",
      "    (1): BasicBlock(\n",
      "      (residual_function): Sequential(\n",
      "        (0): Conv2d(256, 256, kernel_size=(3, 3), stride=(1, 1), padding=(1, 1), bias=False)\n",
      "        (1): BatchNorm2d(256, eps=1e-05, momentum=0.1, affine=True, track_running_stats=True)\n",
      "        (2): ReLU(inplace=True)\n",
      "        (3): Conv2d(256, 256, kernel_size=(3, 3), stride=(1, 1), padding=(1, 1), bias=False)\n",
      "        (4): BatchNorm2d(256, eps=1e-05, momentum=0.1, affine=True, track_running_stats=True)\n",
      "      )\n",
      "      (shortcut): Sequential()\n",
      "    )\n",
      "  )\n",
      "  (conv5_x): Sequential(\n",
      "    (0): BasicBlock(\n",
      "      (residual_function): Sequential(\n",
      "        (0): Conv2d(256, 512, kernel_size=(3, 3), stride=(2, 2), padding=(1, 1), bias=False)\n",
      "        (1): BatchNorm2d(512, eps=1e-05, momentum=0.1, affine=True, track_running_stats=True)\n",
      "        (2): ReLU(inplace=True)\n",
      "        (3): Conv2d(512, 512, kernel_size=(3, 3), stride=(1, 1), padding=(1, 1), bias=False)\n",
      "        (4): BatchNorm2d(512, eps=1e-05, momentum=0.1, affine=True, track_running_stats=True)\n",
      "      )\n",
      "      (shortcut): Sequential(\n",
      "        (0): Conv2d(256, 512, kernel_size=(1, 1), stride=(2, 2), bias=False)\n",
      "        (1): BatchNorm2d(512, eps=1e-05, momentum=0.1, affine=True, track_running_stats=True)\n",
      "      )\n",
      "    )\n",
      "    (1): BasicBlock(\n",
      "      (residual_function): Sequential(\n",
      "        (0): Conv2d(512, 512, kernel_size=(3, 3), stride=(1, 1), padding=(1, 1), bias=False)\n",
      "        (1): BatchNorm2d(512, eps=1e-05, momentum=0.1, affine=True, track_running_stats=True)\n",
      "        (2): ReLU(inplace=True)\n",
      "        (3): Conv2d(512, 512, kernel_size=(3, 3), stride=(1, 1), padding=(1, 1), bias=False)\n",
      "        (4): BatchNorm2d(512, eps=1e-05, momentum=0.1, affine=True, track_running_stats=True)\n",
      "      )\n",
      "      (shortcut): Sequential()\n",
      "    )\n",
      "  )\n",
      "  (avg_pool): AdaptiveAvgPool2d(output_size=(1, 1))\n",
      "  (fc): Linear(in_features=512, out_features=133, bias=True)\n",
      ")\n",
      "Sat Apr  4 20:36:04 2020       \n",
      "+-----------------------------------------------------------------------------+\n",
      "| NVIDIA-SMI 440.64.00    Driver Version: 418.67       CUDA Version: 10.1     |\n",
      "|-------------------------------+----------------------+----------------------+\n",
      "| GPU  Name        Persistence-M| Bus-Id        Disp.A | Volatile Uncorr. ECC |\n",
      "| Fan  Temp  Perf  Pwr:Usage/Cap|         Memory-Usage | GPU-Util  Compute M. |\n",
      "|===============================+======================+======================|\n",
      "|   0  Tesla P100-PCIE...  Off  | 00000000:00:04.0 Off |                    0 |\n",
      "| N/A   35C    P0    33W / 250W |    781MiB / 16280MiB |      0%      Default |\n",
      "+-------------------------------+----------------------+----------------------+\n",
      "                                                                               \n",
      "+-----------------------------------------------------------------------------+\n",
      "| Processes:                                                       GPU Memory |\n",
      "|  GPU       PID   Type   Process name                             Usage      |\n",
      "|=============================================================================|\n",
      "+-----------------------------------------------------------------------------+\n",
      "Adam (\n",
      "Parameter Group 0\n",
      "    amsgrad: False\n",
      "    betas: (0.9, 0.999)\n",
      "    eps: 1e-08\n",
      "    lr: 0.0015\n",
      "    weight_decay: 0\n",
      ")\n",
      "Epoch: 1 \tTraining Loss: 5.017341 \tValidation Loss: 10.122358 \tTime spent: 132.079876\n",
      "Epoch: 2 \tTraining Loss: 4.849830 \tValidation Loss: 4.789334 \tTime spent: 132.951756\n",
      "Epoch: 3 \tTraining Loss: 4.796907 \tValidation Loss: 4.759367 \tTime spent: 133.530966\n",
      "Epoch: 4 \tTraining Loss: 4.773296 \tValidation Loss: 4.754186 \tTime spent: 131.566077\n",
      "Epoch: 5 \tTraining Loss: 4.738388 \tValidation Loss: 5.102014 \tTime spent: 133.749731\n",
      "Epoch: 6 \tTraining Loss: 4.707807 \tValidation Loss: 4.905168 \tTime spent: 132.792140\n",
      "Epoch: 7 \tTraining Loss: 4.657764 \tValidation Loss: 4.532940 \tTime spent: 131.853727\n",
      "Epoch: 8 \tTraining Loss: 4.621054 \tValidation Loss: 4.567719 \tTime spent: 132.749635\n",
      "Epoch: 9 \tTraining Loss: 4.558301 \tValidation Loss: 4.443468 \tTime spent: 132.360752\n",
      "Epoch: 10 \tTraining Loss: 4.498827 \tValidation Loss: 4.338097 \tTime spent: 133.546990\n",
      "Epoch: 11 \tTraining Loss: 4.436438 \tValidation Loss: 4.354772 \tTime spent: 134.398806\n",
      "Epoch: 12 \tTraining Loss: 4.375872 \tValidation Loss: 6.586380 \tTime spent: 132.322939\n",
      "Epoch: 13 \tTraining Loss: 4.301241 \tValidation Loss: 4.502716 \tTime spent: 131.524943\n",
      "Epoch: 14 \tTraining Loss: 4.225084 \tValidation Loss: 4.227152 \tTime spent: 134.297118\n",
      "Epoch: 15 \tTraining Loss: 4.180748 \tValidation Loss: 4.110947 \tTime spent: 132.974615\n",
      "Epoch: 16 \tTraining Loss: 4.092855 \tValidation Loss: 4.549100 \tTime spent: 134.280245\n",
      "Epoch: 17 \tTraining Loss: 4.029714 \tValidation Loss: 4.168281 \tTime spent: 133.671566\n",
      "Epoch: 18 \tTraining Loss: 3.956876 \tValidation Loss: 4.299380 \tTime spent: 134.852328\n",
      "Epoch: 19 \tTraining Loss: 3.865449 \tValidation Loss: 4.185055 \tTime spent: 132.874091\n",
      "Epoch: 20 \tTraining Loss: 3.812752 \tValidation Loss: 3.962911 \tTime spent: 134.001114\n",
      "Epoch: 21 \tTraining Loss: 3.732674 \tValidation Loss: 3.676854 \tTime spent: 134.228051\n",
      "Epoch: 22 \tTraining Loss: 3.702624 \tValidation Loss: 3.762628 \tTime spent: 135.150802\n",
      "Epoch: 23 \tTraining Loss: 3.634964 \tValidation Loss: 4.057183 \tTime spent: 132.711600\n",
      "Epoch: 24 \tTraining Loss: 3.555680 \tValidation Loss: 3.848159 \tTime spent: 133.548047\n",
      "Epoch: 25 \tTraining Loss: 3.491212 \tValidation Loss: 3.631055 \tTime spent: 132.395602\n",
      "Epoch: 26 \tTraining Loss: 3.417248 \tValidation Loss: 3.872766 \tTime spent: 133.679934\n",
      "Epoch: 27 \tTraining Loss: 3.357555 \tValidation Loss: 3.408311 \tTime spent: 132.365582\n",
      "Epoch: 28 \tTraining Loss: 3.310850 \tValidation Loss: 3.529109 \tTime spent: 134.522764\n",
      "Epoch: 29 \tTraining Loss: 3.265752 \tValidation Loss: 3.475103 \tTime spent: 133.890576\n",
      "Epoch: 30 \tTraining Loss: 3.208813 \tValidation Loss: 3.421616 \tTime spent: 132.055051\n",
      "Epoch: 31 \tTraining Loss: 3.145526 \tValidation Loss: 3.009772 \tTime spent: 132.405435\n",
      "Epoch: 32 \tTraining Loss: 3.071730 \tValidation Loss: 3.232814 \tTime spent: 131.572012\n",
      "Epoch: 33 \tTraining Loss: 3.031326 \tValidation Loss: 2.923929 \tTime spent: 134.115386\n",
      "Epoch: 34 \tTraining Loss: 2.950677 \tValidation Loss: 3.177395 \tTime spent: 134.193716\n",
      "Epoch: 35 \tTraining Loss: 2.903020 \tValidation Loss: 2.886093 \tTime spent: 132.902298\n",
      "Epoch: 36 \tTraining Loss: 2.834971 \tValidation Loss: 3.038820 \tTime spent: 135.032376\n",
      "Epoch: 37 \tTraining Loss: 2.753619 \tValidation Loss: 2.959414 \tTime spent: 133.612754\n",
      "Epoch: 38 \tTraining Loss: 2.689500 \tValidation Loss: 2.993078 \tTime spent: 134.986200\n",
      "Epoch: 39 \tTraining Loss: 2.632717 \tValidation Loss: 2.681816 \tTime spent: 135.003929\n",
      "Epoch: 40 \tTraining Loss: 2.568928 \tValidation Loss: 3.234785 \tTime spent: 134.430745\n",
      "Epoch: 41 \tTraining Loss: 2.521515 \tValidation Loss: 2.827652 \tTime spent: 134.343466\n",
      "Epoch: 42 \tTraining Loss: 2.474376 \tValidation Loss: 2.633654 \tTime spent: 132.449422\n",
      "Epoch: 43 \tTraining Loss: 2.394193 \tValidation Loss: 3.131475 \tTime spent: 133.446902\n",
      "Epoch: 44 \tTraining Loss: 2.327620 \tValidation Loss: 2.650012 \tTime spent: 134.048405\n",
      "Epoch: 45 \tTraining Loss: 2.260991 \tValidation Loss: 3.380859 \tTime spent: 132.814248\n",
      "Epoch: 46 \tTraining Loss: 2.240543 \tValidation Loss: 2.396457 \tTime spent: 133.793361\n",
      "Epoch: 47 \tTraining Loss: 2.154669 \tValidation Loss: 2.223501 \tTime spent: 134.063840\n",
      "Epoch: 48 \tTraining Loss: 2.110321 \tValidation Loss: 2.368285 \tTime spent: 132.779281\n",
      "Epoch: 49 \tTraining Loss: 2.066817 \tValidation Loss: 2.404338 \tTime spent: 132.972751\n",
      "Epoch: 50 \tTraining Loss: 2.002451 \tValidation Loss: 2.233097 \tTime spent: 134.172870\n",
      "Epoch: 51 \tTraining Loss: 1.938041 \tValidation Loss: 2.296197 \tTime spent: 134.718067\n",
      "Epoch: 52 \tTraining Loss: 1.871439 \tValidation Loss: 2.166403 \tTime spent: 135.071680\n",
      "Epoch: 53 \tTraining Loss: 1.835519 \tValidation Loss: 2.552948 \tTime spent: 134.890192\n",
      "Epoch: 54 \tTraining Loss: 1.819045 \tValidation Loss: 2.464211 \tTime spent: 132.714417\n",
      "Epoch: 55 \tTraining Loss: 1.753234 \tValidation Loss: 2.302469 \tTime spent: 134.900853\n",
      "Epoch: 56 \tTraining Loss: 1.750922 \tValidation Loss: 2.084125 \tTime spent: 134.488983\n",
      "Epoch: 57 \tTraining Loss: 1.641261 \tValidation Loss: 2.455910 \tTime spent: 132.630848\n",
      "Epoch: 58 \tTraining Loss: 1.649558 \tValidation Loss: 2.353167 \tTime spent: 134.276366\n",
      "Epoch: 59 \tTraining Loss: 1.579956 \tValidation Loss: 2.143798 \tTime spent: 134.937788\n",
      "Epoch: 60 \tTraining Loss: 1.555731 \tValidation Loss: 2.301561 \tTime spent: 134.677407\n",
      "Epoch: 61 \tTraining Loss: 1.542997 \tValidation Loss: 2.168277 \tTime spent: 133.443561\n",
      "Epoch: 62 \tTraining Loss: 1.507357 \tValidation Loss: 2.077767 \tTime spent: 134.182217\n",
      "Epoch: 63 \tTraining Loss: 1.440160 \tValidation Loss: 2.066376 \tTime spent: 133.029634\n",
      "Epoch: 64 \tTraining Loss: 1.399093 \tValidation Loss: 2.100461 \tTime spent: 135.485840\n",
      "Epoch: 65 \tTraining Loss: 1.365591 \tValidation Loss: 1.853351 \tTime spent: 132.945777\n",
      "Epoch: 66 \tTraining Loss: 1.389229 \tValidation Loss: 2.371565 \tTime spent: 133.452116\n",
      "Epoch: 67 \tTraining Loss: 1.315252 \tValidation Loss: 1.972212 \tTime spent: 134.028842\n",
      "Epoch: 68 \tTraining Loss: 1.296769 \tValidation Loss: 2.072048 \tTime spent: 131.736298\n",
      "Epoch: 69 \tTraining Loss: 1.251248 \tValidation Loss: 1.899469 \tTime spent: 133.572602\n",
      "Epoch: 70 \tTraining Loss: 1.219723 \tValidation Loss: 2.414075 \tTime spent: 132.749166\n",
      "Epoch: 71 \tTraining Loss: 1.246879 \tValidation Loss: 2.049502 \tTime spent: 133.573793\n",
      "Epoch: 72 \tTraining Loss: 1.180815 \tValidation Loss: 2.086706 \tTime spent: 133.902754\n",
      "Epoch: 73 \tTraining Loss: 1.182268 \tValidation Loss: 2.571903 \tTime spent: 134.028331\n",
      "Epoch: 74 \tTraining Loss: 1.135893 \tValidation Loss: 1.921088 \tTime spent: 135.056827\n",
      "Epoch: 75 \tTraining Loss: 1.124697 \tValidation Loss: 2.171598 \tTime spent: 133.847172\n",
      "Epoch: 76 \tTraining Loss: 1.099470 \tValidation Loss: 2.224179 \tTime spent: 133.711875\n",
      "Epoch: 77 \tTraining Loss: 1.073811 \tValidation Loss: 1.857948 \tTime spent: 135.560385\n",
      "Epoch: 78 \tTraining Loss: 1.066630 \tValidation Loss: 2.015309 \tTime spent: 133.416056\n",
      "Epoch: 79 \tTraining Loss: 1.055517 \tValidation Loss: 2.063997 \tTime spent: 134.534345\n",
      "Epoch: 80 \tTraining Loss: 1.032083 \tValidation Loss: 2.082175 \tTime spent: 135.340813\n",
      "Epoch: 81 \tTraining Loss: 1.009392 \tValidation Loss: 1.962052 \tTime spent: 134.171043\n",
      "Epoch: 82 \tTraining Loss: 0.978994 \tValidation Loss: 2.146188 \tTime spent: 135.110510\n",
      "Epoch: 83 \tTraining Loss: 0.987488 \tValidation Loss: 2.065906 \tTime spent: 133.240155\n",
      "Epoch: 84 \tTraining Loss: 0.995660 \tValidation Loss: 1.939221 \tTime spent: 135.025901\n",
      "Epoch: 85 \tTraining Loss: 0.949529 \tValidation Loss: 2.062027 \tTime spent: 133.257922\n",
      "Epoch: 86 \tTraining Loss: 0.916899 \tValidation Loss: 2.081795 \tTime spent: 132.452192\n",
      "Epoch: 87 \tTraining Loss: 0.914192 \tValidation Loss: 2.079302 \tTime spent: 133.990122\n",
      "Epoch: 88 \tTraining Loss: 0.903489 \tValidation Loss: 2.125895 \tTime spent: 133.189451\n",
      "Epoch: 89 \tTraining Loss: 0.906891 \tValidation Loss: 2.303416 \tTime spent: 133.685210\n",
      "Epoch: 90 \tTraining Loss: 0.884417 \tValidation Loss: 1.977180 \tTime spent: 133.313329\n",
      "Epoch: 91 \tTraining Loss: 0.853496 \tValidation Loss: 2.408137 \tTime spent: 131.755122\n",
      "Epoch: 92 \tTraining Loss: 0.866793 \tValidation Loss: 2.486399 \tTime spent: 133.022217\n",
      "Epoch: 93 \tTraining Loss: 0.849099 \tValidation Loss: 2.003035 \tTime spent: 133.367713\n",
      "Epoch: 94 \tTraining Loss: 0.844596 \tValidation Loss: 2.100401 \tTime spent: 135.074612\n",
      "Epoch: 95 \tTraining Loss: 0.822463 \tValidation Loss: 2.154222 \tTime spent: 133.907891\n",
      "Epoch: 96 \tTraining Loss: 0.808026 \tValidation Loss: 2.231328 \tTime spent: 132.672622\n",
      "Epoch: 97 \tTraining Loss: 0.792204 \tValidation Loss: 2.127738 \tTime spent: 132.246697\n",
      "Epoch: 98 \tTraining Loss: 0.813565 \tValidation Loss: 2.258393 \tTime spent: 134.695506\n",
      "Epoch: 99 \tTraining Loss: 0.787471 \tValidation Loss: 2.632228 \tTime spent: 135.458203\n",
      "Epoch: 100 \tTraining Loss: 0.786985 \tValidation Loss: 2.252862 \tTime spent: 135.167150\n",
      "time spent:  3:42:47.312415\n",
      "Minimum trainig loss:  0.7869846224784851\n",
      "Minimum validation loss:  1.853351354598999\n"
     ]
    },
    {
     "data": {
      "image/png": "[encoded data removed]",
      "text/plain": [
       "<Figure size 432x288 with 1 Axes>"
      ]
     },
     "metadata": {
      "image/png": {
       "height": 248,
       "width": 369
      },
      "tags": []
     },
     "output_type": "display_data"
    },
    {
     "name": "stdout",
     "output_type": "stream",
     "text": [
      "Test Loss: 1.862602\n",
      "\n",
      "Test Accuracy: 53% (449/836)\n",
      "\n",
      "\n"
     ]
    }
   ],
   "source": [
    "%matplotlib inline\n",
    "%config InlineBackend.figure_format = 'retina'\n",
    "from utils.preprocess import *\n",
    "from utils.resnet_model import *\n",
    "from utils.train import *\n",
    "from utils.simple_model import *\n",
    "import torch.optim as optim\n",
    "from PIL import ImageFile\n",
    "\n",
    "ImageFile.LOAD_TRUNCATED_IMAGES = True\n",
    "\n",
    "sometimes = lambda aug: iaa.Sometimes(0.5, aug)\n",
    "\n",
    "augmentations = [\n",
    "                 [iaa.Resize((224, 224)),\n",
    "                  iaa.AdditiveGaussianNoise(loc=0, scale=(0.0, 0.05*255), per_channel=0.5)\n",
    "                  sometimes(iaa.Crop(percent=(0, 0.45)))\n",
    "                 ]\n",
    "                ]\n",
    "learning_rates = [\n",
    "                 0.0015\n",
    "                 ]\n",
    "optimizers = [\n",
    "             optim.Adam\n",
    "             ]\n",
    "models = [\n",
    "         resnet18()\n",
    "         ]\n",
    "         \n",
    "paths = {\n",
    "    'train_path' : train_path,\n",
    "    'validation_path' : validation_path,\n",
    "    'test_path' : test_path\n",
    "}\n",
    "\n",
    "\n",
    "hyperparameters_dictionary = {\n",
    "    'augmentations' : augmentations,\n",
    "    'learning_rates' : learning_rates,\n",
    "    'epochs' : 100,\n",
    "    'optimizers' : optimizers,\n",
    "    'models' : models\n",
    "}\n",
    "\n",
    "print_gpu()\n",
    "run_experiments(paths, hyperparameters_dictionary, model_file)\n",
    "\n",
    "\n"
   ]
  },
  {
   "cell_type": "code",
   "execution_count": null,
   "metadata": {
    "colab": {},
    "colab_type": "code",
    "id": "JIajAq0W3g08"
   },
   "outputs": [],
   "source": []
  }
 ],
 "metadata": {
  "accelerator": "GPU",
  "anaconda-cloud": {},
  "colab": {
   "collapsed_sections": [],
   "name": "best_scenario_replay.ipynb",
   "provenance": [
    {
     "file_id": "1OjCJi1WTxHyoX3PJv-O2nnwOTT2llm1K",
     "timestamp": 1586133248550
    },
    {
     "file_id": "1nDZaK8ZxAz8K8x1nvxH5hJxNrFdDGOGW",
     "timestamp": 1586132559362
    },
    {
     "file_id": "1CB8ottEi6O0V1byMpFFwPGAsDASBjZMB",
     "timestamp": 1586083613524
    },
    {
     "file_id": "1Z8yuY-OvTPNR_I39ExXUOetQgZCd5ai3",
     "timestamp": 1586083560447
    },
    {
     "file_id": "1CCtPCrvTO1eJTvBKDYBNh1qzbLulOgIB",
     "timestamp": 1586083192152
    },
    {
     "file_id": "1XEMq3W--Egp-IwHfHLUl8fooafAISsSq",
     "timestamp": 1586046109632
    },
    {
     "file_id": "1M6NnHno6mb6UmPwY3rLfVYIgx4r300qj",
     "timestamp": 1586045971599
    },
    {
     "file_id": "1nfhbSpamn1nTIQ94KZMjeAJvJQuUvQWH",
     "timestamp": 1586019294461
    },
    {
     "file_id": "1S5b4ZZBlAQH0-QI2rR3Klay6plHwlSG4",
     "timestamp": 1586019186582
    },
    {
     "file_id": "1x43TFVwxZ-RIkjvpxoh231Lvtt-ikN2C",
     "timestamp": 1586019059898
    },
    {
     "file_id": "18_yL6W-Q1P8P1xqcCJPCNjg_8OeZTD69",
     "timestamp": 1586005625719
    },
    {
     "file_id": "1r2_wvotCDm3k_r_TLNHFwiyqgwyV5KkQ",
     "timestamp": 1586005597098
    },
    {
     "file_id": "1x17ANn3WW9PJckaEQSlkio5gn7dkPN-k",
     "timestamp": 1586005574311
    },
    {
     "file_id": "1wrfznjw3XLiV6JfDZxRvB0FBT5wBDZ0I",
     "timestamp": 1586005511862
    },
    {
     "file_id": "1dOYwkMe0ADYqIypoTsfACJ0m1aC2wFkJ",
     "timestamp": 1585991244277
    },
    {
     "file_id": "1f9SevfjtTDJD6CO-HfNW-osiYvgrGJvN",
     "timestamp": 1585991217369
    },
    {
     "file_id": "1XWPqI_yXRmz4PenEhf7W2irFoa6HT6uF",
     "timestamp": 1585991195574
    },
    {
     "file_id": "1XNOEqHACPONOBz8ZN9L-aSYsuM0I2xJd",
     "timestamp": 1585991128475
    },
    {
     "file_id": "1E3y3-KvBsy9UapPVrGZypZT00YexjZbR",
     "timestamp": 1585955348971
    },
    {
     "file_id": "116DV5OYEC78n8Tdpt9Q7_MzL_TdLq6Qe",
     "timestamp": 1585955020650
    },
    {
     "file_id": "14GYMrkofK2E3cxEXO0Wa3eUO1nV6TOXr",
     "timestamp": 1585941706806
    },
    {
     "file_id": "1vcnE6D3-w6WNefC-orZ7W0KpV6HOmgnW",
     "timestamp": 1585781564679
    },
    {
     "file_id": "1CuKotTscUY4BCBXthHtT6SvrXJtC5f2I",
     "timestamp": 1585484980455
    },
    {
     "file_id": "1q5wJQ8TKeGV62hAt3Qj8gTaCOJkqUNgd",
     "timestamp": 1585323933479
    }
   ],
   "toc_visible": true
  },
  "kernelspec": {
   "display_name": "Python 3",
   "language": "python",
   "name": "python3"
  },
  "language_info": {
   "codemirror_mode": {
    "name": "ipython",
    "version": 3
   },
   "file_extension": ".py",
   "mimetype": "text/x-python",
   "name": "python",
   "nbconvert_exporter": "python",
   "pygments_lexer": "ipython3",
   "version": "3.7.6"
  }
 },
 "nbformat": 4,
 "nbformat_minor": 4
}
