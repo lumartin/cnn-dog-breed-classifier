{
 "cells": [
  {
   "cell_type": "code",
   "execution_count": 1,
   "metadata": {
    "colab": {
     "base_uri": "https://localhost:8080/",
     "height": 122
    },
    "colab_type": "code",
    "executionInfo": {
     "elapsed": 30090,
     "status": "ok",
     "timestamp": 1587682383528,
     "user": {
      "displayName": "Luis Martín",
      "photoUrl": "",
      "userId": "05136960784416304431"
     },
     "user_tz": -120
    },
    "id": "JXxOTx7DU-o4",
    "outputId": "35c9c40a-8109-4d9a-881f-158020b4922d"
   },
   "outputs": [
    {
     "name": "stdout",
     "output_type": "stream",
     "text": [
      "Go to this URL in a browser: https://accounts.google.com/o/oauth2/auth?client_id=947318989803-6bn6qk8qdgf4n4g3pfee6491hc0brc4i.apps.googleusercontent.com&redirect_uri=urn%3aietf%3awg%3aoauth%3a2.0%3aoob&response_type=code&scope=email%20https%3a%2f%2fwww.googleapis.com%2fauth%2fdocs.test%20https%3a%2f%2fwww.googleapis.com%2fauth%2fdrive%20https%3a%2f%2fwww.googleapis.com%2fauth%2fdrive.photos.readonly%20https%3a%2f%2fwww.googleapis.com%2fauth%2fpeopleapi.readonly\n",
      "\n",
      "Enter your authorization code:\n",
      "··········\n",
      "Mounted at /content/drive\n"
     ]
    }
   ],
   "source": [
    "from google.colab import drive\n",
    "drive.mount('/content/drive')"
   ]
  },
  {
   "cell_type": "code",
   "execution_count": null,
   "metadata": {
    "colab": {},
    "colab_type": "code",
    "id": "qkVY9R0tYZw3"
   },
   "outputs": [],
   "source": [
    "#%%capture\n",
    "#!wget -N https://s3-us-west-1.amazonaws.com/udacity-aind/dog-project/dogImages.zip\n",
    "#!unzip -o /content/dogImages.zip\n",
    "#!mv /content/dogImages /content/drive/My\\ Drive/dog-breeds/dog_images"
   ]
  },
  {
   "cell_type": "markdown",
   "metadata": {
    "colab_type": "text",
    "id": "SE3rFGLpoYhJ"
   },
   "source": [
    "# Configuration & utilities\n",
    "\n",
    "Here we define the configuration parameters, dependencies and utility functions needed for the experiment. You may only need to specify the 'experiment_description' value in the first line of code, and the paths identifying the project and the different datasets. "
   ]
  },
  {
   "cell_type": "code",
   "execution_count": 3,
   "metadata": {
    "colab": {
     "base_uri": "https://localhost:8080/",
     "height": 34
    },
    "colab_type": "code",
    "executionInfo": {
     "elapsed": 3036,
     "status": "ok",
     "timestamp": 1587682446392,
     "user": {
      "displayName": "Luis Martín",
      "photoUrl": "",
      "userId": "05136960784416304431"
     },
     "user_tz": -120
    },
    "id": "GbuFvy-OAzXp",
    "outputId": "f54cb665-705d-4bbd-85b5-22e423b34818"
   },
   "outputs": [
    {
     "name": "stdout",
     "output_type": "stream",
     "text": [
      "There are 8351 total dog images.\n"
     ]
    }
   ],
   "source": [
    "import numpy as np\n",
    "from glob import glob\n",
    "import sys\n",
    "\n",
    "experiment_description = 'best_scenario_replay'\n",
    "project_path = '/content/drive/My Drive/dog-breeds/'\n",
    "\n",
    "##################### DO NOT MODIFY ################################\n",
    "\n",
    "experiment_location = project_path + experiment_description\n",
    "escaped_exp_location = experiment_location.replace(\" \", \"\\\\ \")\n",
    "!mkdir $escaped_exp_location\n",
    "model_file = experiment_location + '/model_ ' + experiment_description\n",
    "output_file = experiment_location + '/' + experiment_description\n",
    "sys.path.append(project_path)\n",
    "##################### END: DO NOT MODIFY ###########################\n",
    "\n",
    "dog_files = np.array(glob(project_path + \"dog_images/*/*/*\"))\n",
    "print('There are %d total dog images.' % len(dog_files))\n",
    "train_path = project_path + 'dog_images/train'\n",
    "validation_path = project_path +'dog_images/valid'\n",
    "test_path = project_path +'dog_images/test'\n",
    "\n",
    "\n",
    "def print_gpu():\n",
    "  gpu_info = !nvidia-smi\n",
    "  gpu_info = '\\n'.join(gpu_info)\n",
    "  if gpu_info.find('failed') >= 0:\n",
    "    print('Select the Runtime → \"Change runtime type\" menu to enable a GPU accelerator, ')\n",
    "    print('and then re-execute this cell.')\n",
    "  else:\n",
    "    print(gpu_info) "
   ]
  },
  {
   "cell_type": "markdown",
   "metadata": {
    "colab_type": "text",
    "id": "SVQ7DTfXq7m4"
   },
   "source": [
    "# Experiment\n",
    "\n",
    "A lot of things here need to be separated:\n",
    "\n",
    " - Creation of dataset loaders\n",
    " - NN architecture\n",
    " - Hyperparameter dictionaries\n",
    " - Testing and Rebooting functions\n",
    " - Experiment loop\n",
    " - Visualization"
   ]
  },
  {
   "cell_type": "code",
   "execution_count": 4,
   "metadata": {
    "colab": {
     "base_uri": "https://localhost:8080/",
     "height": 1000
    },
    "colab_type": "code",
    "executionInfo": {
     "elapsed": 27554566,
     "status": "ok",
     "timestamp": 1587711569526,
     "user": {
      "displayName": "Luis Martín",
      "photoUrl": "",
      "userId": "05136960784416304431"
     },
     "user_tz": -120
    },
    "id": "ksid6BWZJlFO",
    "outputId": "8253066f-4632-46b8-909c-e94fc7edd920"
   },
   "outputs": [
        {
          "output_type": "stream",
          "text": [
            "ResNet(\n",
            "  (conv1): Sequential(\n",
            "    (0): Conv2d(3, 64, kernel_size=(3, 3), stride=(1, 1), padding=(1, 1), bias=False)\n",
            "    (1): BatchNorm2d(64, eps=1e-05, momentum=0.1, affine=True, track_running_stats=True)\n",
            "    (2): ReLU(inplace=True)\n",
            "  )\n",
            "  (conv2_x): Sequential(\n",
            "    (0): BasicBlock(\n",
            "      (residual_function): Sequential(\n",
            "        (0): Conv2d(64, 64, kernel_size=(3, 3), stride=(1, 1), padding=(1, 1), bias=False)\n",
            "        (1): BatchNorm2d(64, eps=1e-05, momentum=0.1, affine=True, track_running_stats=True)\n",
            "        (2): ReLU(inplace=True)\n",
            "        (3): Conv2d(64, 64, kernel_size=(3, 3), stride=(1, 1), padding=(1, 1), bias=False)\n",
            "        (4): BatchNorm2d(64, eps=1e-05, momentum=0.1, affine=True, track_running_stats=True)\n",
            "      )\n",
            "      (shortcut): Sequential()\n",
            "    )\n",
            "    (1): BasicBlock(\n",
            "      (residual_function): Sequential(\n",
            "        (0): Conv2d(64, 64, kernel_size=(3, 3), stride=(1, 1), padding=(1, 1), bias=False)\n",
            "        (1): BatchNorm2d(64, eps=1e-05, momentum=0.1, affine=True, track_running_stats=True)\n",
            "        (2): ReLU(inplace=True)\n",
            "        (3): Conv2d(64, 64, kernel_size=(3, 3), stride=(1, 1), padding=(1, 1), bias=False)\n",
            "        (4): BatchNorm2d(64, eps=1e-05, momentum=0.1, affine=True, track_running_stats=True)\n",
            "      )\n",
            "      (shortcut): Sequential()\n",
            "    )\n",
            "  )\n",
            "  (conv3_x): Sequential(\n",
            "    (0): BasicBlock(\n",
            "      (residual_function): Sequential(\n",
            "        (0): Conv2d(64, 128, kernel_size=(3, 3), stride=(2, 2), padding=(1, 1), bias=False)\n",
            "        (1): BatchNorm2d(128, eps=1e-05, momentum=0.1, affine=True, track_running_stats=True)\n",
            "        (2): ReLU(inplace=True)\n",
            "        (3): Conv2d(128, 128, kernel_size=(3, 3), stride=(1, 1), padding=(1, 1), bias=False)\n",
            "        (4): BatchNorm2d(128, eps=1e-05, momentum=0.1, affine=True, track_running_stats=True)\n",
            "      )\n",
            "      (shortcut): Sequential(\n",
            "        (0): Conv2d(64, 128, kernel_size=(1, 1), stride=(2, 2), bias=False)\n",
            "        (1): BatchNorm2d(128, eps=1e-05, momentum=0.1, affine=True, track_running_stats=True)\n",
            "      )\n",
            "    )\n",
            "    (1): BasicBlock(\n",
            "      (residual_function): Sequential(\n",
            "        (0): Conv2d(128, 128, kernel_size=(3, 3), stride=(1, 1), padding=(1, 1), bias=False)\n",
            "        (1): BatchNorm2d(128, eps=1e-05, momentum=0.1, affine=True, track_running_stats=True)\n",
            "        (2): ReLU(inplace=True)\n",
            "        (3): Conv2d(128, 128, kernel_size=(3, 3), stride=(1, 1), padding=(1, 1), bias=False)\n",
            "        (4): BatchNorm2d(128, eps=1e-05, momentum=0.1, affine=True, track_running_stats=True)\n",
            "      )\n",
            "      (shortcut): Sequential()\n",
            "    )\n",
            "  )\n",
            "  (conv4_x): Sequential(\n",
            "    (0): BasicBlock(\n",
            "      (residual_function): Sequential(\n",
            "        (0): Conv2d(128, 256, kernel_size=(3, 3), stride=(2, 2), padding=(1, 1), bias=False)\n",
            "        (1): BatchNorm2d(256, eps=1e-05, momentum=0.1, affine=True, track_running_stats=True)\n",
            "        (2): ReLU(inplace=True)\n",
            "        (3): Conv2d(256, 256, kernel_size=(3, 3), stride=(1, 1), padding=(1, 1), bias=False)\n",
            "        (4): BatchNorm2d(256, eps=1e-05, momentum=0.1, affine=True, track_running_stats=True)\n",
            "      )\n",
            "      (shortcut): Sequential(\n",
            "        (0): Conv2d(128, 256, kernel_size=(1, 1), stride=(2, 2), bias=False)\n",
            "        (1): BatchNorm2d(256, eps=1e-05, momentum=0.1, affine=True, track_running_stats=True)\n",
            "      )\n",
            "    )\n",
            "    (1): BasicBlock(\n",
            "      (residual_function): Sequential(\n",
            "        (0): Conv2d(256, 256, kernel_size=(3, 3), stride=(1, 1), padding=(1, 1), bias=False)\n",
            "        (1): BatchNorm2d(256, eps=1e-05, momentum=0.1, affine=True, track_running_stats=True)\n",
            "        (2): ReLU(inplace=True)\n",
            "        (3): Conv2d(256, 256, kernel_size=(3, 3), stride=(1, 1), padding=(1, 1), bias=False)\n",
            "        (4): BatchNorm2d(256, eps=1e-05, momentum=0.1, affine=True, track_running_stats=True)\n",
            "      )\n",
            "      (shortcut): Sequential()\n",
            "    )\n",
            "  )\n",
            "  (conv5_x): Sequential(\n",
            "    (0): BasicBlock(\n",
            "      (residual_function): Sequential(\n",
            "        (0): Conv2d(256, 512, kernel_size=(3, 3), stride=(2, 2), padding=(1, 1), bias=False)\n",
            "        (1): BatchNorm2d(512, eps=1e-05, momentum=0.1, affine=True, track_running_stats=True)\n",
            "        (2): ReLU(inplace=True)\n",
            "        (3): Conv2d(512, 512, kernel_size=(3, 3), stride=(1, 1), padding=(1, 1), bias=False)\n",
            "        (4): BatchNorm2d(512, eps=1e-05, momentum=0.1, affine=True, track_running_stats=True)\n",
            "      )\n",
            "      (shortcut): Sequential(\n",
            "        (0): Conv2d(256, 512, kernel_size=(1, 1), stride=(2, 2), bias=False)\n",
            "        (1): BatchNorm2d(512, eps=1e-05, momentum=0.1, affine=True, track_running_stats=True)\n",
            "      )\n",
            "    )\n",
            "    (1): BasicBlock(\n",
            "      (residual_function): Sequential(\n",
            "        (0): Conv2d(512, 512, kernel_size=(3, 3), stride=(1, 1), padding=(1, 1), bias=False)\n",
            "        (1): BatchNorm2d(512, eps=1e-05, momentum=0.1, affine=True, track_running_stats=True)\n",
            "        (2): ReLU(inplace=True)\n",
            "        (3): Conv2d(512, 512, kernel_size=(3, 3), stride=(1, 1), padding=(1, 1), bias=False)\n",
            "        (4): BatchNorm2d(512, eps=1e-05, momentum=0.1, affine=True, track_running_stats=True)\n",
            "      )\n",
            "      (shortcut): Sequential()\n",
            "    )\n",
            "  )\n",
            "  (avg_pool): AdaptiveAvgPool2d(output_size=(1, 1))\n",
            "  (fc): Linear(in_features=512, out_features=133, bias=True)\n",
            ")\n",
            "Sat Apr  4 09:10:14 2020       \n",
            "+-----------------------------------------------------------------------------+\n",
            "| NVIDIA-SMI 440.64.00    Driver Version: 418.67       CUDA Version: 10.1     |\n",
            "|-------------------------------+----------------------+----------------------+\n",
            "| GPU  Name        Persistence-M| Bus-Id        Disp.A | Volatile Uncorr. ECC |\n",
            "| Fan  Temp  Perf  Pwr:Usage/Cap|         Memory-Usage | GPU-Util  Compute M. |\n",
            "|===============================+======================+======================|\n",
            "|   0  Tesla P100-PCIE...  Off  | 00000000:00:04.0 Off |                    0 |\n",
            "| N/A   34C    P0    32W / 250W |    781MiB / 16280MiB |      0%      Default |\n",
            "+-------------------------------+----------------------+----------------------+\n",
            "                                                                               \n",
            "+-----------------------------------------------------------------------------+\n",
            "| Processes:                                                       GPU Memory |\n",
            "|  GPU       PID   Type   Process name                             Usage      |\n",
            "|=============================================================================|\n",
            "+-----------------------------------------------------------------------------+\n",
            "Adam (\n",
            "Parameter Group 0\n",
            "    amsgrad: False\n",
            "    betas: (0.9, 0.999)\n",
            "    eps: 1e-08\n",
            "    lr: 0.0015\n",
            "    weight_decay: 0\n",
            ")\n",
            "Epoch: 1 \tTraining Loss: 4.878328 \tValidation Loss: 4.968388 \tTime spent: 129.228059\n",
            "Epoch: 2 \tTraining Loss: 4.645213 \tValidation Loss: 4.689105 \tTime spent: 129.250021\n",
            "Epoch: 3 \tTraining Loss: 4.585210 \tValidation Loss: 4.655641 \tTime spent: 129.769085\n",
            "Epoch: 4 \tTraining Loss: 4.524483 \tValidation Loss: 4.759977 \tTime spent: 129.152179\n",
            "Epoch: 5 \tTraining Loss: 4.460849 \tValidation Loss: 4.578525 \tTime spent: 130.372858\n",
            "Epoch: 6 \tTraining Loss: 4.402552 \tValidation Loss: 4.603275 \tTime spent: 129.938111\n",
            "Epoch: 7 \tTraining Loss: 4.333053 \tValidation Loss: 4.429520 \tTime spent: 129.559206\n",
            "Epoch: 8 \tTraining Loss: 4.239715 \tValidation Loss: 4.322063 \tTime spent: 130.178818\n",
            "Epoch: 9 \tTraining Loss: 4.162513 \tValidation Loss: 4.372167 \tTime spent: 130.543193\n",
            "Epoch: 10 \tTraining Loss: 4.084177 \tValidation Loss: 4.204901 \tTime spent: 129.574297\n",
            "Epoch: 11 \tTraining Loss: 4.004952 \tValidation Loss: 4.216197 \tTime spent: 129.910762\n",
            "Epoch: 12 \tTraining Loss: 3.939542 \tValidation Loss: 4.036439 \tTime spent: 129.636813\n",
            "Epoch: 13 \tTraining Loss: 3.876694 \tValidation Loss: 4.475219 \tTime spent: 129.607317\n",
            "Epoch: 14 \tTraining Loss: 3.824861 \tValidation Loss: 4.090530 \tTime spent: 130.220476\n",
            "Epoch: 15 \tTraining Loss: 3.764149 \tValidation Loss: 4.090724 \tTime spent: 129.226086\n",
            "Epoch: 16 \tTraining Loss: 3.731502 \tValidation Loss: 3.984356 \tTime spent: 130.142617\n",
            "Epoch: 17 \tTraining Loss: 3.677096 \tValidation Loss: 3.829201 \tTime spent: 129.557747\n",
            "Epoch: 18 \tTraining Loss: 3.634218 \tValidation Loss: 3.766091 \tTime spent: 129.339517\n",
            "Epoch: 19 \tTraining Loss: 3.555504 \tValidation Loss: 3.780777 \tTime spent: 129.680909\n",
            "Epoch: 20 \tTraining Loss: 3.507608 \tValidation Loss: 3.581444 \tTime spent: 129.002376\n",
            "Epoch: 21 \tTraining Loss: 3.461167 \tValidation Loss: 3.733611 \tTime spent: 129.161683\n",
            "Epoch: 22 \tTraining Loss: 3.406830 \tValidation Loss: 3.596052 \tTime spent: 129.095120\n",
            "Epoch: 23 \tTraining Loss: 3.345355 \tValidation Loss: 3.692467 \tTime spent: 128.862137\n",
            "Epoch: 24 \tTraining Loss: 3.300720 \tValidation Loss: 3.497906 \tTime spent: 129.214182\n",
            "Epoch: 25 \tTraining Loss: 3.230163 \tValidation Loss: 3.411187 \tTime spent: 129.432422\n",
            "Epoch: 26 \tTraining Loss: 3.202440 \tValidation Loss: 3.455411 \tTime spent: 130.257896\n",
            "Epoch: 27 \tTraining Loss: 3.140415 \tValidation Loss: 3.447790 \tTime spent: 129.816271\n",
            "Epoch: 28 \tTraining Loss: 3.091728 \tValidation Loss: 3.519729 \tTime spent: 129.572514\n",
            "Epoch: 29 \tTraining Loss: 3.024566 \tValidation Loss: 3.274040 \tTime spent: 129.417658\n",
            "Epoch: 30 \tTraining Loss: 2.977969 \tValidation Loss: 3.335727 \tTime spent: 128.836734\n",
            "Epoch: 31 \tTraining Loss: 2.931730 \tValidation Loss: 3.218858 \tTime spent: 130.424248\n",
            "Epoch: 32 \tTraining Loss: 2.906142 \tValidation Loss: 3.330103 \tTime spent: 129.510643\n",
            "Epoch: 33 \tTraining Loss: 2.849912 \tValidation Loss: 3.194563 \tTime spent: 130.576742\n",
            "Epoch: 34 \tTraining Loss: 2.747374 \tValidation Loss: 3.144624 \tTime spent: 130.010350\n",
            "Epoch: 35 \tTraining Loss: 2.722228 \tValidation Loss: 2.962338 \tTime spent: 130.521055\n",
            "Epoch: 36 \tTraining Loss: 2.653181 \tValidation Loss: 3.024311 \tTime spent: 130.261105\n",
            "Epoch: 37 \tTraining Loss: 2.609327 \tValidation Loss: 3.023229 \tTime spent: 129.176926\n",
            "Epoch: 38 \tTraining Loss: 2.558965 \tValidation Loss: 3.060412 \tTime spent: 129.760553\n",
            "Epoch: 39 \tTraining Loss: 2.500774 \tValidation Loss: 3.002077 \tTime spent: 129.052651\n",
            "Epoch: 40 \tTraining Loss: 2.464750 \tValidation Loss: 2.804624 \tTime spent: 129.785126\n",
            "Epoch: 41 \tTraining Loss: 2.415187 \tValidation Loss: 2.876966 \tTime spent: 130.262614\n",
            "Epoch: 42 \tTraining Loss: 2.344941 \tValidation Loss: 2.778095 \tTime spent: 129.184477\n",
            "Epoch: 43 \tTraining Loss: 2.312219 \tValidation Loss: 2.907790 \tTime spent: 130.488075\n",
            "Epoch: 44 \tTraining Loss: 2.260278 \tValidation Loss: 2.866294 \tTime spent: 130.517292\n",
            "Epoch: 45 \tTraining Loss: 2.206356 \tValidation Loss: 2.596147 \tTime spent: 129.695257\n",
            "Epoch: 46 \tTraining Loss: 2.136479 \tValidation Loss: 2.725608 \tTime spent: 129.848752\n",
            "Epoch: 47 \tTraining Loss: 2.107859 \tValidation Loss: 2.897296 \tTime spent: 130.788744\n",
            "Epoch: 48 \tTraining Loss: 2.017842 \tValidation Loss: 2.507115 \tTime spent: 129.348285\n",
            "Epoch: 49 \tTraining Loss: 1.971102 \tValidation Loss: 2.725541 \tTime spent: 129.917142\n",
            "Epoch: 50 \tTraining Loss: 1.916467 \tValidation Loss: 2.621945 \tTime spent: 130.101559\n",
            "Epoch: 51 \tTraining Loss: 1.903286 \tValidation Loss: 2.562743 \tTime spent: 129.333818\n",
            "Epoch: 52 \tTraining Loss: 1.859710 \tValidation Loss: 2.504751 \tTime spent: 129.512653\n",
            "Epoch: 53 \tTraining Loss: 1.816486 \tValidation Loss: 2.627646 \tTime spent: 129.317094\n",
            "Epoch: 54 \tTraining Loss: 1.747430 \tValidation Loss: 2.485280 \tTime spent: 128.612646\n",
            "Epoch: 55 \tTraining Loss: 1.712781 \tValidation Loss: 2.584138 \tTime spent: 128.772283\n",
            "Epoch: 56 \tTraining Loss: 1.698636 \tValidation Loss: 2.599983 \tTime spent: 130.425049\n",
            "Epoch: 57 \tTraining Loss: 1.618849 \tValidation Loss: 2.327195 \tTime spent: 128.574709\n",
            "Epoch: 58 \tTraining Loss: 1.578877 \tValidation Loss: 2.374491 \tTime spent: 129.269139\n",
            "Epoch: 59 \tTraining Loss: 1.546307 \tValidation Loss: 2.443213 \tTime spent: 131.186707\n",
            "Epoch: 60 \tTraining Loss: 1.517805 \tValidation Loss: 2.452792 \tTime spent: 129.279516\n",
            "Epoch: 61 \tTraining Loss: 1.468545 \tValidation Loss: 2.180855 \tTime spent: 129.267118\n",
            "Epoch: 62 \tTraining Loss: 1.393563 \tValidation Loss: 2.519962 \tTime spent: 130.198827\n",
            "Epoch: 63 \tTraining Loss: 1.365306 \tValidation Loss: 2.408176 \tTime spent: 130.099004\n",
            "Epoch: 64 \tTraining Loss: 1.333263 \tValidation Loss: 2.465854 \tTime spent: 130.043190\n",
            "Epoch: 65 \tTraining Loss: 1.308791 \tValidation Loss: 2.656575 \tTime spent: 129.065341\n",
            "Epoch: 66 \tTraining Loss: 1.240903 \tValidation Loss: 2.450922 \tTime spent: 129.205071\n",
            "Epoch: 67 \tTraining Loss: 1.240796 \tValidation Loss: 2.643372 \tTime spent: 128.328193\n",
            "Epoch: 68 \tTraining Loss: 1.179646 \tValidation Loss: 2.367831 \tTime spent: 128.504406\n",
            "Epoch: 69 \tTraining Loss: 1.149799 \tValidation Loss: 2.381644 \tTime spent: 130.728886\n",
            "Epoch: 70 \tTraining Loss: 1.156644 \tValidation Loss: 2.318399 \tTime spent: 129.552758\n",
            "Epoch: 71 \tTraining Loss: 1.100739 \tValidation Loss: 2.342031 \tTime spent: 128.320843\n",
            "Epoch: 72 \tTraining Loss: 1.098278 \tValidation Loss: 2.257012 \tTime spent: 128.362419\n",
            "Epoch: 73 \tTraining Loss: 1.065462 \tValidation Loss: 2.444665 \tTime spent: 129.008100\n",
            "Epoch: 74 \tTraining Loss: 1.036690 \tValidation Loss: 2.246322 \tTime spent: 129.624690\n",
            "Epoch: 75 \tTraining Loss: 0.995080 \tValidation Loss: 2.284054 \tTime spent: 128.662244\n",
            "Epoch: 76 \tTraining Loss: 0.954171 \tValidation Loss: 2.390862 \tTime spent: 129.255829\n",
            "Epoch: 77 \tTraining Loss: 0.917823 \tValidation Loss: 2.387301 \tTime spent: 128.428633\n",
            "Epoch: 78 \tTraining Loss: 0.923395 \tValidation Loss: 2.442771 \tTime spent: 129.062320\n",
            "Epoch: 79 \tTraining Loss: 0.902741 \tValidation Loss: 2.525276 \tTime spent: 129.452237\n",
            "Epoch: 80 \tTraining Loss: 0.890202 \tValidation Loss: 2.309840 \tTime spent: 128.287215\n",
            "Epoch: 81 \tTraining Loss: 0.855367 \tValidation Loss: 2.214303 \tTime spent: 128.621040\n",
            "Epoch: 82 \tTraining Loss: 0.813817 \tValidation Loss: 2.506654 \tTime spent: 128.623029\n",
            "Epoch: 83 \tTraining Loss: 0.807899 \tValidation Loss: 2.368509 \tTime spent: 128.785048\n",
            "Epoch: 84 \tTraining Loss: 0.797968 \tValidation Loss: 2.318181 \tTime spent: 128.457255\n",
            "Epoch: 85 \tTraining Loss: 0.756420 \tValidation Loss: 2.310530 \tTime spent: 129.150194\n",
            "Epoch: 86 \tTraining Loss: 0.781842 \tValidation Loss: 2.616165 \tTime spent: 129.156075\n",
            "Epoch: 87 \tTraining Loss: 0.768369 \tValidation Loss: 2.576004 \tTime spent: 128.681864\n",
            "Epoch: 88 \tTraining Loss: 0.749239 \tValidation Loss: 2.658143 \tTime spent: 129.428118\n",
            "Epoch: 89 \tTraining Loss: 0.750678 \tValidation Loss: 2.425542 \tTime spent: 128.613217\n",
            "Epoch: 90 \tTraining Loss: 0.727419 \tValidation Loss: 2.348335 \tTime spent: 129.953575\n",
            "Epoch: 91 \tTraining Loss: 0.704362 \tValidation Loss: 2.401631 \tTime spent: 128.885557\n",
            "Epoch: 92 \tTraining Loss: 0.683889 \tValidation Loss: 2.349348 \tTime spent: 129.215585\n",
            "Epoch: 93 \tTraining Loss: 0.689129 \tValidation Loss: 2.479936 \tTime spent: 129.106262\n",
            "Epoch: 94 \tTraining Loss: 0.637794 \tValidation Loss: 2.775080 \tTime spent: 129.875645\n",
            "Epoch: 95 \tTraining Loss: 0.665867 \tValidation Loss: 2.602793 \tTime spent: 129.180991\n",
            "Epoch: 96 \tTraining Loss: 0.620834 \tValidation Loss: 2.399847 \tTime spent: 128.783720\n",
            "Epoch: 97 \tTraining Loss: 0.616904 \tValidation Loss: 2.649803 \tTime spent: 129.012171\n",
            "Epoch: 98 \tTraining Loss: 0.607190 \tValidation Loss: 2.451940 \tTime spent: 128.966626\n",
            "Epoch: 99 \tTraining Loss: 0.586693 \tValidation Loss: 2.335331 \tTime spent: 128.012849\n",
            "Epoch: 100 \tTraining Loss: 0.604087 \tValidation Loss: 2.486744 \tTime spent: 129.042835\n",
            "time spent:  3:35:45.794499\n",
            "Minimum trainig loss:  0.5866932272911072\n",
            "Minimum validation loss:  2.180854558944702\n"
          ],
          "name": "stdout"
        },
        {
          "output_type": "display_data",
          "data": {
            "image/png": "[encoded data removed]",
            "text/plain": [
              "<Figure size 432x288 with 1 Axes>"
            ]
          },
          "metadata": {
            "tags": [],
            "image/png": {
              "width": 362,
              "height": 248
            }
          }
        },
        {
          "output_type": "stream",
          "text": [
            "Test Loss: 2.188820\n",
            "\n",
            "Test Accuracy: 44% (373/836)\n",
            "\n",
            "\n"
          ],
          "name": "stdout"
        }
      ],
   "source": [
    "%matplotlib inline\n",
    "%config InlineBackend.figure_format = 'retina'\n",
    "from utils.preprocess import *\n",
    "from utils.resnet_model import *\n",
    "from utils.train import *\n",
    "from utils.simple_model import *\n",
    "import torch.optim as optim\n",
    "from PIL import ImageFile\n",
    "\n",
    "ImageFile.LOAD_TRUNCATED_IMAGES = True\n",
    "\n",
    "sometimes = lambda aug: iaa.Sometimes(0.5, aug)\n",
    "\n",
    "augmentations = [\n",
    "        [\n",
    "        sometimes(iaa.Crop(percent=(0, 0.45))),\n",
    "        iaa.Affine(rotate=(-20, 20), mode='symmetric')\n",
    "        ]\n",
    "]\n",
    "learning_rates = [\n",
    "                 0.0015\n",
    "                 ]\n",
    "optimizers = [\n",
    "             optim.Adam\n",
    "             ]\n",
    "models = [\n",
    "         resnet18()\n",
    "         ]\n",
    "         \n",
    "paths = {\n",
    "    'train_path' : train_path,\n",
    "    'validation_path' : validation_path,\n",
    "    'test_path' : test_path\n",
    "}\n",
    "\n",
    "\n",
    "hyperparameters_dictionary = {\n",
    "    'augmentations' : augmentations,\n",
    "    'learning_rates' : learning_rates,\n",
    "    'epochs' : 100,\n",
    "    'optimizers' : optimizers,\n",
    "    'models' : models\n",
    "}\n",
    "\n",
    "print_gpu()\n",
    "run_experiments(paths, hyperparameters_dictionary, model_file)\n",
    "\n",
    "\n"
   ]
  },
  {
   "cell_type": "code",
   "execution_count": null,
   "metadata": {
    "colab": {},
    "colab_type": "code",
    "id": "JIajAq0W3g08"
   },
   "outputs": [],
   "source": []
  }
 ],
 "metadata": {
  "accelerator": "GPU",
  "anaconda-cloud": {},
  "colab": {
   "collapsed_sections": [],
   "name": "best_scenario_replay.ipynb",
   "provenance": [
    {
     "file_id": "1OjCJi1WTxHyoX3PJv-O2nnwOTT2llm1K",
     "timestamp": 1586133248550
    },
    {
     "file_id": "1nDZaK8ZxAz8K8x1nvxH5hJxNrFdDGOGW",
     "timestamp": 1586132559362
    },
    {
     "file_id": "1CB8ottEi6O0V1byMpFFwPGAsDASBjZMB",
     "timestamp": 1586083613524
    },
    {
     "file_id": "1Z8yuY-OvTPNR_I39ExXUOetQgZCd5ai3",
     "timestamp": 1586083560447
    },
    {
     "file_id": "1CCtPCrvTO1eJTvBKDYBNh1qzbLulOgIB",
     "timestamp": 1586083192152
    },
    {
     "file_id": "1XEMq3W--Egp-IwHfHLUl8fooafAISsSq",
     "timestamp": 1586046109632
    },
    {
     "file_id": "1M6NnHno6mb6UmPwY3rLfVYIgx4r300qj",
     "timestamp": 1586045971599
    },
    {
     "file_id": "1nfhbSpamn1nTIQ94KZMjeAJvJQuUvQWH",
     "timestamp": 1586019294461
    },
    {
     "file_id": "1S5b4ZZBlAQH0-QI2rR3Klay6plHwlSG4",
     "timestamp": 1586019186582
    },
    {
     "file_id": "1x43TFVwxZ-RIkjvpxoh231Lvtt-ikN2C",
     "timestamp": 1586019059898
    },
    {
     "file_id": "18_yL6W-Q1P8P1xqcCJPCNjg_8OeZTD69",
     "timestamp": 1586005625719
    },
    {
     "file_id": "1r2_wvotCDm3k_r_TLNHFwiyqgwyV5KkQ",
     "timestamp": 1586005597098
    },
    {
     "file_id": "1x17ANn3WW9PJckaEQSlkio5gn7dkPN-k",
     "timestamp": 1586005574311
    },
    {
     "file_id": "1wrfznjw3XLiV6JfDZxRvB0FBT5wBDZ0I",
     "timestamp": 1586005511862
    },
    {
     "file_id": "1dOYwkMe0ADYqIypoTsfACJ0m1aC2wFkJ",
     "timestamp": 1585991244277
    },
    {
     "file_id": "1f9SevfjtTDJD6CO-HfNW-osiYvgrGJvN",
     "timestamp": 1585991217369
    },
    {
     "file_id": "1XWPqI_yXRmz4PenEhf7W2irFoa6HT6uF",
     "timestamp": 1585991195574
    },
    {
     "file_id": "1XNOEqHACPONOBz8ZN9L-aSYsuM0I2xJd",
     "timestamp": 1585991128475
    },
    {
     "file_id": "1E3y3-KvBsy9UapPVrGZypZT00YexjZbR",
     "timestamp": 1585955348971
    },
    {
     "file_id": "116DV5OYEC78n8Tdpt9Q7_MzL_TdLq6Qe",
     "timestamp": 1585955020650
    },
    {
     "file_id": "14GYMrkofK2E3cxEXO0Wa3eUO1nV6TOXr",
     "timestamp": 1585941706806
    },
    {
     "file_id": "1vcnE6D3-w6WNefC-orZ7W0KpV6HOmgnW",
     "timestamp": 1585781564679
    },
    {
     "file_id": "1CuKotTscUY4BCBXthHtT6SvrXJtC5f2I",
     "timestamp": 1585484980455
    },
    {
     "file_id": "1q5wJQ8TKeGV62hAt3Qj8gTaCOJkqUNgd",
     "timestamp": 1585323933479
    }
   ],
   "toc_visible": true
  },
  "kernelspec": {
   "display_name": "Python 3",
   "language": "python",
   "name": "python3"
  },
  "language_info": {
   "codemirror_mode": {
    "name": "ipython",
    "version": 3
   },
   "file_extension": ".py",
   "mimetype": "text/x-python",
   "name": "python",
   "nbconvert_exporter": "python",
   "pygments_lexer": "ipython3",
   "version": "3.7.6"
  }
 },
 "nbformat": 4,
 "nbformat_minor": 4
}
