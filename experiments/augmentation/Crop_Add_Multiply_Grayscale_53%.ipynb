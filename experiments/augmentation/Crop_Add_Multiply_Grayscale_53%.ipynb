{
 "cells": [
  {
   "cell_type": "code",
   "execution_count": 1,
   "metadata": {
    "colab": {
     "base_uri": "https://localhost:8080/",
     "height": 122
    },
    "colab_type": "code",
    "executionInfo": {
     "elapsed": 30090,
     "status": "ok",
     "timestamp": 1587682383528,
     "user": {
      "displayName": "Luis Martín",
      "photoUrl": "",
      "userId": "05136960784416304431"
     },
     "user_tz": -120
    },
    "id": "JXxOTx7DU-o4",
    "outputId": "35c9c40a-8109-4d9a-881f-158020b4922d"
   },
   "outputs": [
    {
     "name": "stdout",
     "output_type": "stream",
     "text": [
      "Go to this URL in a browser: https://accounts.google.com/o/oauth2/auth?client_id=947318989803-6bn6qk8qdgf4n4g3pfee6491hc0brc4i.apps.googleusercontent.com&redirect_uri=urn%3aietf%3awg%3aoauth%3a2.0%3aoob&response_type=code&scope=email%20https%3a%2f%2fwww.googleapis.com%2fauth%2fdocs.test%20https%3a%2f%2fwww.googleapis.com%2fauth%2fdrive%20https%3a%2f%2fwww.googleapis.com%2fauth%2fdrive.photos.readonly%20https%3a%2f%2fwww.googleapis.com%2fauth%2fpeopleapi.readonly\n",
      "\n",
      "Enter your authorization code:\n",
      "··········\n",
      "Mounted at /content/drive\n"
     ]
    }
   ],
   "source": [
    "from google.colab import drive\n",
    "drive.mount('/content/drive')"
   ]
  },
  {
   "cell_type": "code",
   "execution_count": null,
   "metadata": {
    "colab": {},
    "colab_type": "code",
    "id": "qkVY9R0tYZw3"
   },
   "outputs": [],
   "source": [
    "#%%capture\n",
    "#!wget -N https://s3-us-west-1.amazonaws.com/udacity-aind/dog-project/dogImages.zip\n",
    "#!unzip -o /content/dogImages.zip\n",
    "#!mv /content/dogImages /content/drive/My\\ Drive/dog-breeds/dog_images"
   ]
  },
  {
   "cell_type": "markdown",
   "metadata": {
    "colab_type": "text",
    "id": "SE3rFGLpoYhJ"
   },
   "source": [
    "# Configuration & utilities\n",
    "\n",
    "Here we define the configuration parameters, dependencies and utility functions needed for the experiment. You may only need to specify the 'experiment_description' value in the first line of code, and the paths identifying the project and the different datasets. "
   ]
  },
  {
   "cell_type": "code",
   "execution_count": 3,
   "metadata": {
    "colab": {
     "base_uri": "https://localhost:8080/",
     "height": 34
    },
    "colab_type": "code",
    "executionInfo": {
     "elapsed": 3036,
     "status": "ok",
     "timestamp": 1587682446392,
     "user": {
      "displayName": "Luis Martín",
      "photoUrl": "",
      "userId": "05136960784416304431"
     },
     "user_tz": -120
    },
    "id": "GbuFvy-OAzXp",
    "outputId": "f54cb665-705d-4bbd-85b5-22e423b34818"
   },
   "outputs": [
    {
     "name": "stdout",
     "output_type": "stream",
     "text": [
      "There are 8351 total dog images.\n"
     ]
    }
   ],
   "source": [
    "import numpy as np\n",
    "from glob import glob\n",
    "import sys\n",
    "\n",
    "experiment_description = 'best_scenario_replay'\n",
    "project_path = '/content/drive/My Drive/dog-breeds/'\n",
    "\n",
    "##################### DO NOT MODIFY ################################\n",
    "\n",
    "experiment_location = project_path + experiment_description\n",
    "escaped_exp_location = experiment_location.replace(\" \", \"\\\\ \")\n",
    "!mkdir $escaped_exp_location\n",
    "model_file = experiment_location + '/model_ ' + experiment_description\n",
    "output_file = experiment_location + '/' + experiment_description\n",
    "sys.path.append(project_path)\n",
    "##################### END: DO NOT MODIFY ###########################\n",
    "\n",
    "dog_files = np.array(glob(project_path + \"dog_images/*/*/*\"))\n",
    "print('There are %d total dog images.' % len(dog_files))\n",
    "train_path = project_path + 'dog_images/train'\n",
    "validation_path = project_path +'dog_images/valid'\n",
    "test_path = project_path +'dog_images/test'\n",
    "\n",
    "\n",
    "def print_gpu():\n",
    "  gpu_info = !nvidia-smi\n",
    "  gpu_info = '\\n'.join(gpu_info)\n",
    "  if gpu_info.find('failed') >= 0:\n",
    "    print('Select the Runtime → \"Change runtime type\" menu to enable a GPU accelerator, ')\n",
    "    print('and then re-execute this cell.')\n",
    "  else:\n",
    "    print(gpu_info) "
   ]
  },
  {
   "cell_type": "markdown",
   "metadata": {
    "colab_type": "text",
    "id": "SVQ7DTfXq7m4"
   },
   "source": [
    "# Experiment\n",
    "\n",
    "A lot of things here need to be separated:\n",
    "\n",
    " - Creation of dataset loaders\n",
    " - NN architecture\n",
    " - Hyperparameter dictionaries\n",
    " - Testing and Rebooting functions\n",
    " - Experiment loop\n",
    " - Visualization"
   ]
  },
  {
   "cell_type": "code",
   "execution_count": 4,
   "metadata": {
    "colab": {
     "base_uri": "https://localhost:8080/",
     "height": 1000
    },
    "colab_type": "code",
    "executionInfo": {
     "elapsed": 27554566,
     "status": "ok",
     "timestamp": 1587711569526,
     "user": {
      "displayName": "Luis Martín",
      "photoUrl": "",
      "userId": "05136960784416304431"
     },
     "user_tz": -120
    },
    "id": "ksid6BWZJlFO",
    "outputId": "8253066f-4632-46b8-909c-e94fc7edd920"
   },
   "outputs": [
    {
     "name": "stdout",
     "output_type": "stream",
     "text": [
      "ResNet(\n",
      "  (conv1): Sequential(\n",
      "    (0): Conv2d(3, 64, kernel_size=(3, 3), stride=(1, 1), padding=(1, 1), bias=False)\n",
      "    (1): BatchNorm2d(64, eps=1e-05, momentum=0.1, affine=True, track_running_stats=True)\n",
      "    (2): ReLU(inplace=True)\n",
      "  )\n",
      "  (conv2_x): Sequential(\n",
      "    (0): BasicBlock(\n",
      "      (residual_function): Sequential(\n",
      "        (0): Conv2d(64, 64, kernel_size=(3, 3), stride=(1, 1), padding=(1, 1), bias=False)\n",
      "        (1): BatchNorm2d(64, eps=1e-05, momentum=0.1, affine=True, track_running_stats=True)\n",
      "        (2): ReLU(inplace=True)\n",
      "        (3): Conv2d(64, 64, kernel_size=(3, 3), stride=(1, 1), padding=(1, 1), bias=False)\n",
      "        (4): BatchNorm2d(64, eps=1e-05, momentum=0.1, affine=True, track_running_stats=True)\n",
      "      )\n",
      "      (shortcut): Sequential()\n",
      "    )\n",
      "    (1): BasicBlock(\n",
      "      (residual_function): Sequential(\n",
      "        (0): Conv2d(64, 64, kernel_size=(3, 3), stride=(1, 1), padding=(1, 1), bias=False)\n",
      "        (1): BatchNorm2d(64, eps=1e-05, momentum=0.1, affine=True, track_running_stats=True)\n",
      "        (2): ReLU(inplace=True)\n",
      "        (3): Conv2d(64, 64, kernel_size=(3, 3), stride=(1, 1), padding=(1, 1), bias=False)\n",
      "        (4): BatchNorm2d(64, eps=1e-05, momentum=0.1, affine=True, track_running_stats=True)\n",
      "      )\n",
      "      (shortcut): Sequential()\n",
      "    )\n",
      "  )\n",
      "  (conv3_x): Sequential(\n",
      "    (0): BasicBlock(\n",
      "      (residual_function): Sequential(\n",
      "        (0): Conv2d(64, 128, kernel_size=(3, 3), stride=(2, 2), padding=(1, 1), bias=False)\n",
      "        (1): BatchNorm2d(128, eps=1e-05, momentum=0.1, affine=True, track_running_stats=True)\n",
      "        (2): ReLU(inplace=True)\n",
      "        (3): Conv2d(128, 128, kernel_size=(3, 3), stride=(1, 1), padding=(1, 1), bias=False)\n",
      "        (4): BatchNorm2d(128, eps=1e-05, momentum=0.1, affine=True, track_running_stats=True)\n",
      "      )\n",
      "      (shortcut): Sequential(\n",
      "        (0): Conv2d(64, 128, kernel_size=(1, 1), stride=(2, 2), bias=False)\n",
      "        (1): BatchNorm2d(128, eps=1e-05, momentum=0.1, affine=True, track_running_stats=True)\n",
      "      )\n",
      "    )\n",
      "    (1): BasicBlock(\n",
      "      (residual_function): Sequential(\n",
      "        (0): Conv2d(128, 128, kernel_size=(3, 3), stride=(1, 1), padding=(1, 1), bias=False)\n",
      "        (1): BatchNorm2d(128, eps=1e-05, momentum=0.1, affine=True, track_running_stats=True)\n",
      "        (2): ReLU(inplace=True)\n",
      "        (3): Conv2d(128, 128, kernel_size=(3, 3), stride=(1, 1), padding=(1, 1), bias=False)\n",
      "        (4): BatchNorm2d(128, eps=1e-05, momentum=0.1, affine=True, track_running_stats=True)\n",
      "      )\n",
      "      (shortcut): Sequential()\n",
      "    )\n",
      "  )\n",
      "  (conv4_x): Sequential(\n",
      "    (0): BasicBlock(\n",
      "      (residual_function): Sequential(\n",
      "        (0): Conv2d(128, 256, kernel_size=(3, 3), stride=(2, 2), padding=(1, 1), bias=False)\n",
      "        (1): BatchNorm2d(256, eps=1e-05, momentum=0.1, affine=True, track_running_stats=True)\n",
      "        (2): ReLU(inplace=True)\n",
      "        (3): Conv2d(256, 256, kernel_size=(3, 3), stride=(1, 1), padding=(1, 1), bias=False)\n",
      "        (4): BatchNorm2d(256, eps=1e-05, momentum=0.1, affine=True, track_running_stats=True)\n",
      "      )\n",
      "      (shortcut): Sequential(\n",
      "        (0): Conv2d(128, 256, kernel_size=(1, 1), stride=(2, 2), bias=False)\n",
      "        (1): BatchNorm2d(256, eps=1e-05, momentum=0.1, affine=True, track_running_stats=True)\n",
      "      )\n",
      "    )\n",
      "    (1): BasicBlock(\n",
      "      (residual_function): Sequential(\n",
      "        (0): Conv2d(256, 256, kernel_size=(3, 3), stride=(1, 1), padding=(1, 1), bias=False)\n",
      "        (1): BatchNorm2d(256, eps=1e-05, momentum=0.1, affine=True, track_running_stats=True)\n",
      "        (2): ReLU(inplace=True)\n",
      "        (3): Conv2d(256, 256, kernel_size=(3, 3), stride=(1, 1), padding=(1, 1), bias=False)\n",
      "        (4): BatchNorm2d(256, eps=1e-05, momentum=0.1, affine=True, track_running_stats=True)\n",
      "      )\n",
      "      (shortcut): Sequential()\n",
      "    )\n",
      "  )\n",
      "  (conv5_x): Sequential(\n",
      "    (0): BasicBlock(\n",
      "      (residual_function): Sequential(\n",
      "        (0): Conv2d(256, 512, kernel_size=(3, 3), stride=(2, 2), padding=(1, 1), bias=False)\n",
      "        (1): BatchNorm2d(512, eps=1e-05, momentum=0.1, affine=True, track_running_stats=True)\n",
      "        (2): ReLU(inplace=True)\n",
      "        (3): Conv2d(512, 512, kernel_size=(3, 3), stride=(1, 1), padding=(1, 1), bias=False)\n",
      "        (4): BatchNorm2d(512, eps=1e-05, momentum=0.1, affine=True, track_running_stats=True)\n",
      "      )\n",
      "      (shortcut): Sequential(\n",
      "        (0): Conv2d(256, 512, kernel_size=(1, 1), stride=(2, 2), bias=False)\n",
      "        (1): BatchNorm2d(512, eps=1e-05, momentum=0.1, affine=True, track_running_stats=True)\n",
      "      )\n",
      "    )\n",
      "    (1): BasicBlock(\n",
      "      (residual_function): Sequential(\n",
      "        (0): Conv2d(512, 512, kernel_size=(3, 3), stride=(1, 1), padding=(1, 1), bias=False)\n",
      "        (1): BatchNorm2d(512, eps=1e-05, momentum=0.1, affine=True, track_running_stats=True)\n",
      "        (2): ReLU(inplace=True)\n",
      "        (3): Conv2d(512, 512, kernel_size=(3, 3), stride=(1, 1), padding=(1, 1), bias=False)\n",
      "        (4): BatchNorm2d(512, eps=1e-05, momentum=0.1, affine=True, track_running_stats=True)\n",
      "      )\n",
      "      (shortcut): Sequential()\n",
      "    )\n",
      "  )\n",
      "  (avg_pool): AdaptiveAvgPool2d(output_size=(1, 1))\n",
      "  (fc): Linear(in_features=512, out_features=133, bias=True)\n",
      ")\n",
      "Sun Apr  5 01:15:57 2020       \n",
      "+-----------------------------------------------------------------------------+\n",
      "| NVIDIA-SMI 440.64.00    Driver Version: 418.67       CUDA Version: 10.1     |\n",
      "|-------------------------------+----------------------+----------------------+\n",
      "| GPU  Name        Persistence-M| Bus-Id        Disp.A | Volatile Uncorr. ECC |\n",
      "| Fan  Temp  Perf  Pwr:Usage/Cap|         Memory-Usage | GPU-Util  Compute M. |\n",
      "|===============================+======================+======================|\n",
      "|   0  Tesla P100-PCIE...  Off  | 00000000:00:04.0 Off |                    0 |\n",
      "| N/A   37C    P0    36W / 250W |    781MiB / 16280MiB |      0%      Default |\n",
      "+-------------------------------+----------------------+----------------------+\n",
      "                                                                               \n",
      "+-----------------------------------------------------------------------------+\n",
      "| Processes:                                                       GPU Memory |\n",
      "|  GPU       PID   Type   Process name                             Usage      |\n",
      "|=============================================================================|\n",
      "+-----------------------------------------------------------------------------+\n",
      "Adam (\n",
      "Parameter Group 0\n",
      "    amsgrad: False\n",
      "    betas: (0.9, 0.999)\n",
      "    eps: 1e-08\n",
      "    lr: 0.0015\n",
      "    weight_decay: 0\n",
      ")\n",
      "Epoch: 1 \tTraining Loss: 4.962232 \tValidation Loss: 5.106737 \tTime spent: 131.831071\n",
      "Epoch: 2 \tTraining Loss: 4.858939 \tValidation Loss: 4.818094 \tTime spent: 132.555065\n",
      "Epoch: 3 \tTraining Loss: 4.838587 \tValidation Loss: 4.800972 \tTime spent: 133.868359\n",
      "Epoch: 4 \tTraining Loss: 4.807405 \tValidation Loss: 8.882241 \tTime spent: 131.465307\n",
      "Epoch: 5 \tTraining Loss: 4.793574 \tValidation Loss: 4.777809 \tTime spent: 133.373154\n",
      "Epoch: 6 \tTraining Loss: 4.772777 \tValidation Loss: 4.719196 \tTime spent: 132.630698\n",
      "Epoch: 7 \tTraining Loss: 4.717478 \tValidation Loss: 4.688113 \tTime spent: 130.728814\n",
      "Epoch: 8 \tTraining Loss: 4.672704 \tValidation Loss: 4.624442 \tTime spent: 130.412958\n",
      "Epoch: 9 \tTraining Loss: 4.607482 \tValidation Loss: 4.616405 \tTime spent: 130.650815\n",
      "Epoch: 10 \tTraining Loss: 4.550465 \tValidation Loss: 4.473620 \tTime spent: 131.309298\n",
      "Epoch: 11 \tTraining Loss: 4.507133 \tValidation Loss: 4.459511 \tTime spent: 131.111883\n",
      "Epoch: 12 \tTraining Loss: 4.428335 \tValidation Loss: 4.584520 \tTime spent: 131.144033\n",
      "Epoch: 13 \tTraining Loss: 4.397472 \tValidation Loss: 4.325696 \tTime spent: 131.851170\n",
      "Epoch: 14 \tTraining Loss: 4.345259 \tValidation Loss: 4.203480 \tTime spent: 131.006400\n",
      "Epoch: 15 \tTraining Loss: 4.281895 \tValidation Loss: 4.234586 \tTime spent: 132.113906\n",
      "Epoch: 16 \tTraining Loss: 4.225862 \tValidation Loss: 4.305641 \tTime spent: 131.228529\n",
      "Epoch: 17 \tTraining Loss: 4.161149 \tValidation Loss: 4.041507 \tTime spent: 131.477973\n",
      "Epoch: 18 \tTraining Loss: 4.080794 \tValidation Loss: 3.984602 \tTime spent: 131.000762\n",
      "Epoch: 19 \tTraining Loss: 4.016043 \tValidation Loss: 5.480052 \tTime spent: 131.226475\n",
      "Epoch: 20 \tTraining Loss: 3.950521 \tValidation Loss: 3.917463 \tTime spent: 131.278880\n",
      "Epoch: 21 \tTraining Loss: 3.862236 \tValidation Loss: 4.087573 \tTime spent: 132.150935\n",
      "Epoch: 22 \tTraining Loss: 3.822995 \tValidation Loss: 4.205409 \tTime spent: 131.556783\n",
      "Epoch: 23 \tTraining Loss: 3.755773 \tValidation Loss: 4.051756 \tTime spent: 131.193624\n",
      "Epoch: 24 \tTraining Loss: 3.703624 \tValidation Loss: 4.054232 \tTime spent: 132.063966\n",
      "Epoch: 25 \tTraining Loss: 3.607106 \tValidation Loss: 3.725610 \tTime spent: 130.761816\n",
      "Epoch: 26 \tTraining Loss: 3.558678 \tValidation Loss: 3.685996 \tTime spent: 131.645549\n",
      "Epoch: 27 \tTraining Loss: 3.469239 \tValidation Loss: 4.023834 \tTime spent: 130.876263\n",
      "Epoch: 28 \tTraining Loss: 3.454529 \tValidation Loss: 3.582521 \tTime spent: 131.292265\n",
      "Epoch: 29 \tTraining Loss: 3.330871 \tValidation Loss: 3.370805 \tTime spent: 130.978678\n",
      "Epoch: 30 \tTraining Loss: 3.274071 \tValidation Loss: 3.337889 \tTime spent: 131.806574\n",
      "Epoch: 31 \tTraining Loss: 3.189064 \tValidation Loss: 3.173729 \tTime spent: 131.373403\n",
      "Epoch: 32 \tTraining Loss: 3.106817 \tValidation Loss: 3.168924 \tTime spent: 131.364411\n",
      "Epoch: 33 \tTraining Loss: 3.047311 \tValidation Loss: 3.301867 \tTime spent: 131.157228\n",
      "Epoch: 34 \tTraining Loss: 2.977236 \tValidation Loss: 3.089778 \tTime spent: 131.672520\n",
      "Epoch: 35 \tTraining Loss: 2.933624 \tValidation Loss: 3.225147 \tTime spent: 131.724616\n",
      "Epoch: 36 \tTraining Loss: 2.845746 \tValidation Loss: 2.958462 \tTime spent: 130.669663\n",
      "Epoch: 37 \tTraining Loss: 2.770793 \tValidation Loss: 3.114311 \tTime spent: 131.116134\n",
      "Epoch: 38 \tTraining Loss: 2.710960 \tValidation Loss: 3.015770 \tTime spent: 131.762154\n",
      "Epoch: 39 \tTraining Loss: 2.659545 \tValidation Loss: 2.787553 \tTime spent: 130.738490\n",
      "Epoch: 40 \tTraining Loss: 2.553765 \tValidation Loss: 2.807788 \tTime spent: 130.902167\n",
      "Epoch: 41 \tTraining Loss: 2.506546 \tValidation Loss: 2.596460 \tTime spent: 130.569446\n",
      "Epoch: 42 \tTraining Loss: 2.455477 \tValidation Loss: 2.907290 \tTime spent: 131.516543\n",
      "Epoch: 43 \tTraining Loss: 2.369592 \tValidation Loss: 2.526051 \tTime spent: 131.214456\n",
      "Epoch: 44 \tTraining Loss: 2.294373 \tValidation Loss: 2.692568 \tTime spent: 132.416595\n",
      "Epoch: 45 \tTraining Loss: 2.244766 \tValidation Loss: 2.853459 \tTime spent: 131.964634\n",
      "Epoch: 46 \tTraining Loss: 2.196582 \tValidation Loss: 2.908256 \tTime spent: 132.673395\n",
      "Epoch: 47 \tTraining Loss: 2.116808 \tValidation Loss: 2.630497 \tTime spent: 132.549562\n",
      "Epoch: 48 \tTraining Loss: 2.057522 \tValidation Loss: 2.509978 \tTime spent: 134.054374\n",
      "Epoch: 49 \tTraining Loss: 2.023748 \tValidation Loss: 2.410783 \tTime spent: 131.532477\n",
      "Epoch: 50 \tTraining Loss: 1.955239 \tValidation Loss: 2.780403 \tTime spent: 133.353406\n",
      "Epoch: 51 \tTraining Loss: 1.897867 \tValidation Loss: 2.540675 \tTime spent: 132.870404\n",
      "Epoch: 52 \tTraining Loss: 1.880518 \tValidation Loss: 2.910235 \tTime spent: 132.048984\n",
      "Epoch: 53 \tTraining Loss: 1.813858 \tValidation Loss: 2.221422 \tTime spent: 131.428171\n",
      "Epoch: 54 \tTraining Loss: 1.742943 \tValidation Loss: 2.414745 \tTime spent: 131.404535\n",
      "Epoch: 55 \tTraining Loss: 1.709944 \tValidation Loss: 2.297035 \tTime spent: 131.216672\n",
      "Epoch: 56 \tTraining Loss: 1.659044 \tValidation Loss: 2.282567 \tTime spent: 130.735099\n",
      "Epoch: 57 \tTraining Loss: 1.606060 \tValidation Loss: 2.558919 \tTime spent: 130.827323\n",
      "Epoch: 58 \tTraining Loss: 1.587476 \tValidation Loss: 2.272976 \tTime spent: 132.388108\n",
      "Epoch: 59 \tTraining Loss: 1.553047 \tValidation Loss: 2.789137 \tTime spent: 130.704525\n",
      "Epoch: 60 \tTraining Loss: 1.506049 \tValidation Loss: 2.677395 \tTime spent: 131.620342\n",
      "Epoch: 61 \tTraining Loss: 1.423112 \tValidation Loss: 2.640172 \tTime spent: 131.952974\n",
      "Epoch: 62 \tTraining Loss: 1.441810 \tValidation Loss: 2.360107 \tTime spent: 131.279885\n",
      "Epoch: 63 \tTraining Loss: 1.393334 \tValidation Loss: 2.432577 \tTime spent: 130.345215\n",
      "Epoch: 64 \tTraining Loss: 1.357764 \tValidation Loss: 2.675972 \tTime spent: 132.550203\n",
      "Epoch: 65 \tTraining Loss: 1.323197 \tValidation Loss: 2.986828 \tTime spent: 131.306422\n",
      "Epoch: 66 \tTraining Loss: 1.308060 \tValidation Loss: 2.356887 \tTime spent: 131.592403\n",
      "Epoch: 67 \tTraining Loss: 1.253975 \tValidation Loss: 2.669398 \tTime spent: 130.946918\n",
      "Epoch: 68 \tTraining Loss: 1.238543 \tValidation Loss: 2.239159 \tTime spent: 131.214813\n",
      "Epoch: 69 \tTraining Loss: 1.237512 \tValidation Loss: 2.748743 \tTime spent: 131.297365\n",
      "Epoch: 70 \tTraining Loss: 1.182801 \tValidation Loss: 2.632734 \tTime spent: 130.607858\n",
      "Epoch: 71 \tTraining Loss: 1.163170 \tValidation Loss: 2.178555 \tTime spent: 131.990023\n",
      "Epoch: 72 \tTraining Loss: 1.133042 \tValidation Loss: 3.100974 \tTime spent: 131.767463\n",
      "Epoch: 73 \tTraining Loss: 1.140032 \tValidation Loss: 2.761019 \tTime spent: 131.586040\n",
      "Epoch: 74 \tTraining Loss: 1.085809 \tValidation Loss: 2.586052 \tTime spent: 131.388156\n",
      "Epoch: 75 \tTraining Loss: 1.112491 \tValidation Loss: 2.710615 \tTime spent: 131.554670\n",
      "Epoch: 76 \tTraining Loss: 1.072379 \tValidation Loss: 2.290398 \tTime spent: 131.378308\n",
      "Epoch: 77 \tTraining Loss: 1.069912 \tValidation Loss: 3.632291 \tTime spent: 130.555231\n",
      "Epoch: 78 \tTraining Loss: 1.048191 \tValidation Loss: 3.511957 \tTime spent: 131.311372\n",
      "Epoch: 79 \tTraining Loss: 1.028752 \tValidation Loss: 2.874929 \tTime spent: 132.070913\n",
      "Epoch: 80 \tTraining Loss: 1.045929 \tValidation Loss: 2.498456 \tTime spent: 131.728693\n",
      "Epoch: 81 \tTraining Loss: 1.040375 \tValidation Loss: 2.493922 \tTime spent: 131.142781\n",
      "Epoch: 82 \tTraining Loss: 0.967596 \tValidation Loss: 2.202180 \tTime spent: 132.265199\n",
      "Epoch: 83 \tTraining Loss: 0.943804 \tValidation Loss: 2.465975 \tTime spent: 131.799751\n",
      "Epoch: 84 \tTraining Loss: 0.975975 \tValidation Loss: 2.830130 \tTime spent: 132.228354\n",
      "Epoch: 85 \tTraining Loss: 0.933981 \tValidation Loss: 2.925565 \tTime spent: 132.068840\n",
      "Epoch: 86 \tTraining Loss: 0.931889 \tValidation Loss: 2.250609 \tTime spent: 131.328802\n",
      "Epoch: 87 \tTraining Loss: 0.912611 \tValidation Loss: 3.006442 \tTime spent: 131.339026\n",
      "Epoch: 88 \tTraining Loss: 0.885802 \tValidation Loss: 3.766709 \tTime spent: 133.112180\n",
      "Epoch: 89 \tTraining Loss: 0.890151 \tValidation Loss: 4.011225 \tTime spent: 131.897375\n",
      "Epoch: 90 \tTraining Loss: 0.884574 \tValidation Loss: 2.993901 \tTime spent: 131.556289\n",
      "Epoch: 91 \tTraining Loss: 0.897543 \tValidation Loss: 2.407737 \tTime spent: 132.152053\n",
      "Epoch: 92 \tTraining Loss: 0.848341 \tValidation Loss: 2.334211 \tTime spent: 132.507179\n",
      "Epoch: 93 \tTraining Loss: 0.876850 \tValidation Loss: 2.348708 \tTime spent: 131.890914\n",
      "Epoch: 94 \tTraining Loss: 0.824962 \tValidation Loss: 2.219723 \tTime spent: 131.569077\n",
      "Epoch: 95 \tTraining Loss: 0.839054 \tValidation Loss: 2.129341 \tTime spent: 132.062754\n",
      "Epoch: 96 \tTraining Loss: 0.813603 \tValidation Loss: 2.556261 \tTime spent: 131.536851\n",
      "Epoch: 97 \tTraining Loss: 0.830062 \tValidation Loss: 2.615636 \tTime spent: 133.256773\n",
      "Epoch: 98 \tTraining Loss: 0.770840 \tValidation Loss: 2.717473 \tTime spent: 132.841425\n",
      "Epoch: 99 \tTraining Loss: 0.788934 \tValidation Loss: 2.497008 \tTime spent: 130.888941\n",
      "Epoch: 100 \tTraining Loss: 0.751837 \tValidation Loss: 2.303196 \tTime spent: 131.692094\n",
      "time spent:  3:39:25.640981\n",
      "Minimum trainig loss:  0.7518365979194641\n",
      "Minimum validation loss:  2.1293411254882812\n"
     ]
    },
    {
     "data": {
      "image/png": "[encoded data removed]",
      "text/plain": [
       "<Figure size 432x288 with 1 Axes>"
      ]
     },
     "metadata": {
      "image/png": {
       "height": 248,
       "width": 362
      },
      "tags": []
     },
     "output_type": "display_data"
    },
    {
     "name": "stdout",
     "output_type": "stream",
     "text": [
      "Test Loss: 1.876608\n",
      "\n",
      "Test Accuracy: 53% (450/836)\n",
      "\n",
      "\n"
     ]
    }
   ],
   "source": [
    "%matplotlib inline\n",
    "%config InlineBackend.figure_format = 'retina'\n",
    "from utils.preprocess import *\n",
    "from utils.resnet_model import *\n",
    "from utils.train import *\n",
    "from utils.simple_model import *\n",
    "import torch.optim as optim\n",
    "from PIL import ImageFile\n",
    "\n",
    "ImageFile.LOAD_TRUNCATED_IMAGES = True\n",
    "\n",
    "sometimes = lambda aug: iaa.Sometimes(0.5, aug)\n",
    "\n",
    "augmentations = [\n",
    "        [\n",
    "        sometimes(iaa.Crop(percent=(0, 0.45))),\n",
    "        iaa.Add((-10, 10), per_channel=0.5),\n",
    "        iaa.Multiply((0.5, 1.5), per_channel=0.5),\n",
    "        iaa.Grayscale(alpha=(0.0, 1.0))\n",
    "        ]\n",
    "]\n",
    "learning_rates = [\n",
    "                 0.0015\n",
    "                 ]\n",
    "optimizers = [\n",
    "             optim.Adam\n",
    "             ]\n",
    "models = [\n",
    "         resnet18()\n",
    "         ]\n",
    "         \n",
    "paths = {\n",
    "    'train_path' : train_path,\n",
    "    'validation_path' : validation_path,\n",
    "    'test_path' : test_path\n",
    "}\n",
    "\n",
    "\n",
    "hyperparameters_dictionary = {\n",
    "    'augmentations' : augmentations,\n",
    "    'learning_rates' : learning_rates,\n",
    "    'epochs' : 100,\n",
    "    'optimizers' : optimizers,\n",
    "    'models' : models\n",
    "}\n",
    "\n",
    "print_gpu()\n",
    "run_experiments(paths, hyperparameters_dictionary, model_file)\n",
    "\n",
    "\n"
   ]
  },
  {
   "cell_type": "code",
   "execution_count": null,
   "metadata": {
    "colab": {},
    "colab_type": "code",
    "id": "JIajAq0W3g08"
   },
   "outputs": [],
   "source": []
  }
 ],
 "metadata": {
  "accelerator": "GPU",
  "anaconda-cloud": {},
  "colab": {
   "collapsed_sections": [],
   "name": "best_scenario_replay.ipynb",
   "provenance": [
    {
     "file_id": "1OjCJi1WTxHyoX3PJv-O2nnwOTT2llm1K",
     "timestamp": 1586133248550
    },
    {
     "file_id": "1nDZaK8ZxAz8K8x1nvxH5hJxNrFdDGOGW",
     "timestamp": 1586132559362
    },
    {
     "file_id": "1CB8ottEi6O0V1byMpFFwPGAsDASBjZMB",
     "timestamp": 1586083613524
    },
    {
     "file_id": "1Z8yuY-OvTPNR_I39ExXUOetQgZCd5ai3",
     "timestamp": 1586083560447
    },
    {
     "file_id": "1CCtPCrvTO1eJTvBKDYBNh1qzbLulOgIB",
     "timestamp": 1586083192152
    },
    {
     "file_id": "1XEMq3W--Egp-IwHfHLUl8fooafAISsSq",
     "timestamp": 1586046109632
    },
    {
     "file_id": "1M6NnHno6mb6UmPwY3rLfVYIgx4r300qj",
     "timestamp": 1586045971599
    },
    {
     "file_id": "1nfhbSpamn1nTIQ94KZMjeAJvJQuUvQWH",
     "timestamp": 1586019294461
    },
    {
     "file_id": "1S5b4ZZBlAQH0-QI2rR3Klay6plHwlSG4",
     "timestamp": 1586019186582
    },
    {
     "file_id": "1x43TFVwxZ-RIkjvpxoh231Lvtt-ikN2C",
     "timestamp": 1586019059898
    },
    {
     "file_id": "18_yL6W-Q1P8P1xqcCJPCNjg_8OeZTD69",
     "timestamp": 1586005625719
    },
    {
     "file_id": "1r2_wvotCDm3k_r_TLNHFwiyqgwyV5KkQ",
     "timestamp": 1586005597098
    },
    {
     "file_id": "1x17ANn3WW9PJckaEQSlkio5gn7dkPN-k",
     "timestamp": 1586005574311
    },
    {
     "file_id": "1wrfznjw3XLiV6JfDZxRvB0FBT5wBDZ0I",
     "timestamp": 1586005511862
    },
    {
     "file_id": "1dOYwkMe0ADYqIypoTsfACJ0m1aC2wFkJ",
     "timestamp": 1585991244277
    },
    {
     "file_id": "1f9SevfjtTDJD6CO-HfNW-osiYvgrGJvN",
     "timestamp": 1585991217369
    },
    {
     "file_id": "1XWPqI_yXRmz4PenEhf7W2irFoa6HT6uF",
     "timestamp": 1585991195574
    },
    {
     "file_id": "1XNOEqHACPONOBz8ZN9L-aSYsuM0I2xJd",
     "timestamp": 1585991128475
    },
    {
     "file_id": "1E3y3-KvBsy9UapPVrGZypZT00YexjZbR",
     "timestamp": 1585955348971
    },
    {
     "file_id": "116DV5OYEC78n8Tdpt9Q7_MzL_TdLq6Qe",
     "timestamp": 1585955020650
    },
    {
     "file_id": "14GYMrkofK2E3cxEXO0Wa3eUO1nV6TOXr",
     "timestamp": 1585941706806
    },
    {
     "file_id": "1vcnE6D3-w6WNefC-orZ7W0KpV6HOmgnW",
     "timestamp": 1585781564679
    },
    {
     "file_id": "1CuKotTscUY4BCBXthHtT6SvrXJtC5f2I",
     "timestamp": 1585484980455
    },
    {
     "file_id": "1q5wJQ8TKeGV62hAt3Qj8gTaCOJkqUNgd",
     "timestamp": 1585323933479
    }
   ],
   "toc_visible": true
  },
  "kernelspec": {
   "display_name": "Python 3",
   "language": "python",
   "name": "python3"
  },
  "language_info": {
   "codemirror_mode": {
    "name": "ipython",
    "version": 3
   },
   "file_extension": ".py",
   "mimetype": "text/x-python",
   "name": "python",
   "nbconvert_exporter": "python",
   "pygments_lexer": "ipython3",
   "version": "3.7.6"
  }
 },
 "nbformat": 4,
 "nbformat_minor": 4
}
