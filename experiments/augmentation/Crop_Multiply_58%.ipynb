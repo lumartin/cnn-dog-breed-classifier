{
 "cells": [
  {
   "cell_type": "code",
   "execution_count": 1,
   "metadata": {
    "colab": {
     "base_uri": "https://localhost:8080/",
     "height": 122
    },
    "colab_type": "code",
    "executionInfo": {
     "elapsed": 30090,
     "status": "ok",
     "timestamp": 1587682383528,
     "user": {
      "displayName": "Luis Martín",
      "photoUrl": "",
      "userId": "05136960784416304431"
     },
     "user_tz": -120
    },
    "id": "JXxOTx7DU-o4",
    "outputId": "35c9c40a-8109-4d9a-881f-158020b4922d"
   },
   "outputs": [
    {
     "name": "stdout",
     "output_type": "stream",
     "text": [
      "Go to this URL in a browser: https://accounts.google.com/o/oauth2/auth?client_id=947318989803-6bn6qk8qdgf4n4g3pfee6491hc0brc4i.apps.googleusercontent.com&redirect_uri=urn%3aietf%3awg%3aoauth%3a2.0%3aoob&response_type=code&scope=email%20https%3a%2f%2fwww.googleapis.com%2fauth%2fdocs.test%20https%3a%2f%2fwww.googleapis.com%2fauth%2fdrive%20https%3a%2f%2fwww.googleapis.com%2fauth%2fdrive.photos.readonly%20https%3a%2f%2fwww.googleapis.com%2fauth%2fpeopleapi.readonly\n",
      "\n",
      "Enter your authorization code:\n",
      "··········\n",
      "Mounted at /content/drive\n"
     ]
    }
   ],
   "source": [
    "from google.colab import drive\n",
    "drive.mount('/content/drive')"
   ]
  },
  {
   "cell_type": "code",
   "execution_count": null,
   "metadata": {
    "colab": {},
    "colab_type": "code",
    "id": "qkVY9R0tYZw3"
   },
   "outputs": [],
   "source": [
    "#%%capture\n",
    "#!wget -N https://s3-us-west-1.amazonaws.com/udacity-aind/dog-project/dogImages.zip\n",
    "#!unzip -o /content/dogImages.zip\n",
    "#!mv /content/dogImages /content/drive/My\\ Drive/dog-breeds/dog_images"
   ]
  },
  {
   "cell_type": "markdown",
   "metadata": {
    "colab_type": "text",
    "id": "SE3rFGLpoYhJ"
   },
   "source": [
    "# Configuration & utilities\n",
    "\n",
    "Here we define the configuration parameters, dependencies and utility functions needed for the experiment. You may only need to specify the 'experiment_description' value in the first line of code, and the paths identifying the project and the different datasets. "
   ]
  },
  {
   "cell_type": "code",
   "execution_count": 3,
   "metadata": {
    "colab": {
     "base_uri": "https://localhost:8080/",
     "height": 34
    },
    "colab_type": "code",
    "executionInfo": {
     "elapsed": 3036,
     "status": "ok",
     "timestamp": 1587682446392,
     "user": {
      "displayName": "Luis Martín",
      "photoUrl": "",
      "userId": "05136960784416304431"
     },
     "user_tz": -120
    },
    "id": "GbuFvy-OAzXp",
    "outputId": "f54cb665-705d-4bbd-85b5-22e423b34818"
   },
   "outputs": [
    {
     "name": "stdout",
     "output_type": "stream",
     "text": [
      "There are 8351 total dog images.\n"
     ]
    }
   ],
   "source": [
    "import numpy as np\n",
    "from glob import glob\n",
    "import sys\n",
    "\n",
    "experiment_description = 'best_scenario_replay'\n",
    "project_path = '/content/drive/My Drive/dog-breeds/'\n",
    "\n",
    "##################### DO NOT MODIFY ################################\n",
    "\n",
    "experiment_location = project_path + experiment_description\n",
    "escaped_exp_location = experiment_location.replace(\" \", \"\\\\ \")\n",
    "!mkdir $escaped_exp_location\n",
    "model_file = experiment_location + '/model_ ' + experiment_description\n",
    "output_file = experiment_location + '/' + experiment_description\n",
    "sys.path.append(project_path)\n",
    "##################### END: DO NOT MODIFY ###########################\n",
    "\n",
    "dog_files = np.array(glob(project_path + \"dog_images/*/*/*\"))\n",
    "print('There are %d total dog images.' % len(dog_files))\n",
    "train_path = project_path + 'dog_images/train'\n",
    "validation_path = project_path +'dog_images/valid'\n",
    "test_path = project_path +'dog_images/test'\n",
    "\n",
    "\n",
    "def print_gpu():\n",
    "  gpu_info = !nvidia-smi\n",
    "  gpu_info = '\\n'.join(gpu_info)\n",
    "  if gpu_info.find('failed') >= 0:\n",
    "    print('Select the Runtime → \"Change runtime type\" menu to enable a GPU accelerator, ')\n",
    "    print('and then re-execute this cell.')\n",
    "  else:\n",
    "    print(gpu_info) "
   ]
  },
  {
   "cell_type": "markdown",
   "metadata": {
    "colab_type": "text",
    "id": "SVQ7DTfXq7m4"
   },
   "source": [
    "# Experiment\n",
    "\n",
    "A lot of things here need to be separated:\n",
    "\n",
    " - Creation of dataset loaders\n",
    " - NN architecture\n",
    " - Hyperparameter dictionaries\n",
    " - Testing and Rebooting functions\n",
    " - Experiment loop\n",
    " - Visualization"
   ]
  },
  {
   "cell_type": "code",
   "execution_count": 4,
   "metadata": {
    "colab": {
     "base_uri": "https://localhost:8080/",
     "height": 1000
    },
    "colab_type": "code",
    "executionInfo": {
     "elapsed": 27554566,
     "status": "ok",
     "timestamp": 1587711569526,
     "user": {
      "displayName": "Luis Martín",
      "photoUrl": "",
      "userId": "05136960784416304431"
     },
     "user_tz": -120
    },
    "id": "ksid6BWZJlFO",
    "outputId": "8253066f-4632-46b8-909c-e94fc7edd920"
   },
   "outputs": [
    {
     "name": "stdout",
     "output_type": "stream",
     "text": [
      "ResNet(\n",
      "  (conv1): Sequential(\n",
      "    (0): Conv2d(3, 64, kernel_size=(3, 3), stride=(1, 1), padding=(1, 1), bias=False)\n",
      "    (1): BatchNorm2d(64, eps=1e-05, momentum=0.1, affine=True, track_running_stats=True)\n",
      "    (2): ReLU(inplace=True)\n",
      "  )\n",
      "  (conv2_x): Sequential(\n",
      "    (0): BasicBlock(\n",
      "      (residual_function): Sequential(\n",
      "        (0): Conv2d(64, 64, kernel_size=(3, 3), stride=(1, 1), padding=(1, 1), bias=False)\n",
      "        (1): BatchNorm2d(64, eps=1e-05, momentum=0.1, affine=True, track_running_stats=True)\n",
      "        (2): ReLU(inplace=True)\n",
      "        (3): Conv2d(64, 64, kernel_size=(3, 3), stride=(1, 1), padding=(1, 1), bias=False)\n",
      "        (4): BatchNorm2d(64, eps=1e-05, momentum=0.1, affine=True, track_running_stats=True)\n",
      "      )\n",
      "      (shortcut): Sequential()\n",
      "    )\n",
      "    (1): BasicBlock(\n",
      "      (residual_function): Sequential(\n",
      "        (0): Conv2d(64, 64, kernel_size=(3, 3), stride=(1, 1), padding=(1, 1), bias=False)\n",
      "        (1): BatchNorm2d(64, eps=1e-05, momentum=0.1, affine=True, track_running_stats=True)\n",
      "        (2): ReLU(inplace=True)\n",
      "        (3): Conv2d(64, 64, kernel_size=(3, 3), stride=(1, 1), padding=(1, 1), bias=False)\n",
      "        (4): BatchNorm2d(64, eps=1e-05, momentum=0.1, affine=True, track_running_stats=True)\n",
      "      )\n",
      "      (shortcut): Sequential()\n",
      "    )\n",
      "  )\n",
      "  (conv3_x): Sequential(\n",
      "    (0): BasicBlock(\n",
      "      (residual_function): Sequential(\n",
      "        (0): Conv2d(64, 128, kernel_size=(3, 3), stride=(2, 2), padding=(1, 1), bias=False)\n",
      "        (1): BatchNorm2d(128, eps=1e-05, momentum=0.1, affine=True, track_running_stats=True)\n",
      "        (2): ReLU(inplace=True)\n",
      "        (3): Conv2d(128, 128, kernel_size=(3, 3), stride=(1, 1), padding=(1, 1), bias=False)\n",
      "        (4): BatchNorm2d(128, eps=1e-05, momentum=0.1, affine=True, track_running_stats=True)\n",
      "      )\n",
      "      (shortcut): Sequential(\n",
      "        (0): Conv2d(64, 128, kernel_size=(1, 1), stride=(2, 2), bias=False)\n",
      "        (1): BatchNorm2d(128, eps=1e-05, momentum=0.1, affine=True, track_running_stats=True)\n",
      "      )\n",
      "    )\n",
      "    (1): BasicBlock(\n",
      "      (residual_function): Sequential(\n",
      "        (0): Conv2d(128, 128, kernel_size=(3, 3), stride=(1, 1), padding=(1, 1), bias=False)\n",
      "        (1): BatchNorm2d(128, eps=1e-05, momentum=0.1, affine=True, track_running_stats=True)\n",
      "        (2): ReLU(inplace=True)\n",
      "        (3): Conv2d(128, 128, kernel_size=(3, 3), stride=(1, 1), padding=(1, 1), bias=False)\n",
      "        (4): BatchNorm2d(128, eps=1e-05, momentum=0.1, affine=True, track_running_stats=True)\n",
      "      )\n",
      "      (shortcut): Sequential()\n",
      "    )\n",
      "  )\n",
      "  (conv4_x): Sequential(\n",
      "    (0): BasicBlock(\n",
      "      (residual_function): Sequential(\n",
      "        (0): Conv2d(128, 256, kernel_size=(3, 3), stride=(2, 2), padding=(1, 1), bias=False)\n",
      "        (1): BatchNorm2d(256, eps=1e-05, momentum=0.1, affine=True, track_running_stats=True)\n",
      "        (2): ReLU(inplace=True)\n",
      "        (3): Conv2d(256, 256, kernel_size=(3, 3), stride=(1, 1), padding=(1, 1), bias=False)\n",
      "        (4): BatchNorm2d(256, eps=1e-05, momentum=0.1, affine=True, track_running_stats=True)\n",
      "      )\n",
      "      (shortcut): Sequential(\n",
      "        (0): Conv2d(128, 256, kernel_size=(1, 1), stride=(2, 2), bias=False)\n",
      "        (1): BatchNorm2d(256, eps=1e-05, momentum=0.1, affine=True, track_running_stats=True)\n",
      "      )\n",
      "    )\n",
      "    (1): BasicBlock(\n",
      "      (residual_function): Sequential(\n",
      "        (0): Conv2d(256, 256, kernel_size=(3, 3), stride=(1, 1), padding=(1, 1), bias=False)\n",
      "        (1): BatchNorm2d(256, eps=1e-05, momentum=0.1, affine=True, track_running_stats=True)\n",
      "        (2): ReLU(inplace=True)\n",
      "        (3): Conv2d(256, 256, kernel_size=(3, 3), stride=(1, 1), padding=(1, 1), bias=False)\n",
      "        (4): BatchNorm2d(256, eps=1e-05, momentum=0.1, affine=True, track_running_stats=True)\n",
      "      )\n",
      "      (shortcut): Sequential()\n",
      "    )\n",
      "  )\n",
      "  (conv5_x): Sequential(\n",
      "    (0): BasicBlock(\n",
      "      (residual_function): Sequential(\n",
      "        (0): Conv2d(256, 512, kernel_size=(3, 3), stride=(2, 2), padding=(1, 1), bias=False)\n",
      "        (1): BatchNorm2d(512, eps=1e-05, momentum=0.1, affine=True, track_running_stats=True)\n",
      "        (2): ReLU(inplace=True)\n",
      "        (3): Conv2d(512, 512, kernel_size=(3, 3), stride=(1, 1), padding=(1, 1), bias=False)\n",
      "        (4): BatchNorm2d(512, eps=1e-05, momentum=0.1, affine=True, track_running_stats=True)\n",
      "      )\n",
      "      (shortcut): Sequential(\n",
      "        (0): Conv2d(256, 512, kernel_size=(1, 1), stride=(2, 2), bias=False)\n",
      "        (1): BatchNorm2d(512, eps=1e-05, momentum=0.1, affine=True, track_running_stats=True)\n",
      "      )\n",
      "    )\n",
      "    (1): BasicBlock(\n",
      "      (residual_function): Sequential(\n",
      "        (0): Conv2d(512, 512, kernel_size=(3, 3), stride=(1, 1), padding=(1, 1), bias=False)\n",
      "        (1): BatchNorm2d(512, eps=1e-05, momentum=0.1, affine=True, track_running_stats=True)\n",
      "        (2): ReLU(inplace=True)\n",
      "        (3): Conv2d(512, 512, kernel_size=(3, 3), stride=(1, 1), padding=(1, 1), bias=False)\n",
      "        (4): BatchNorm2d(512, eps=1e-05, momentum=0.1, affine=True, track_running_stats=True)\n",
      "      )\n",
      "      (shortcut): Sequential()\n",
      "    )\n",
      "  )\n",
      "  (avg_pool): AdaptiveAvgPool2d(output_size=(1, 1))\n",
      "  (fc): Linear(in_features=512, out_features=133, bias=True)\n",
      ")\n",
      "Sat Apr  4 09:10:26 2020       \n",
      "+-----------------------------------------------------------------------------+\n",
      "| NVIDIA-SMI 440.64.00    Driver Version: 418.67       CUDA Version: 10.1     |\n",
      "|-------------------------------+----------------------+----------------------+\n",
      "| GPU  Name        Persistence-M| Bus-Id        Disp.A | Volatile Uncorr. ECC |\n",
      "| Fan  Temp  Perf  Pwr:Usage/Cap|         Memory-Usage | GPU-Util  Compute M. |\n",
      "|===============================+======================+======================|\n",
      "|   0  Tesla P100-PCIE...  Off  | 00000000:00:04.0 Off |                    0 |\n",
      "| N/A   35C    P0    31W / 250W |    781MiB / 16280MiB |      0%      Default |\n",
      "+-------------------------------+----------------------+----------------------+\n",
      "                                                                               \n",
      "+-----------------------------------------------------------------------------+\n",
      "| Processes:                                                       GPU Memory |\n",
      "|  GPU       PID   Type   Process name                             Usage      |\n",
      "|=============================================================================|\n",
      "+-----------------------------------------------------------------------------+\n",
      "Adam (\n",
      "Parameter Group 0\n",
      "    amsgrad: False\n",
      "    betas: (0.9, 0.999)\n",
      "    eps: 1e-08\n",
      "    lr: 0.0015\n",
      "    weight_decay: 0\n",
      ")\n",
      "Epoch: 1 \tTraining Loss: 4.969161 \tValidation Loss: 5.324576 \tTime spent: 128.551220\n",
      "Epoch: 2 \tTraining Loss: 4.836214 \tValidation Loss: 4.807710 \tTime spent: 128.601133\n",
      "Epoch: 3 \tTraining Loss: 4.806185 \tValidation Loss: 4.744500 \tTime spent: 128.130066\n",
      "Epoch: 4 \tTraining Loss: 4.773141 \tValidation Loss: 4.754300 \tTime spent: 127.910773\n",
      "Epoch: 5 \tTraining Loss: 4.747036 \tValidation Loss: 4.692548 \tTime spent: 128.497204\n",
      "Epoch: 6 \tTraining Loss: 4.730747 \tValidation Loss: 4.706240 \tTime spent: 128.963397\n",
      "Epoch: 7 \tTraining Loss: 4.700061 \tValidation Loss: 4.640221 \tTime spent: 128.390683\n",
      "Epoch: 8 \tTraining Loss: 4.652560 \tValidation Loss: 4.569025 \tTime spent: 127.766816\n",
      "Epoch: 9 \tTraining Loss: 4.601388 \tValidation Loss: 4.503967 \tTime spent: 128.286071\n",
      "Epoch: 10 \tTraining Loss: 4.527578 \tValidation Loss: 4.463609 \tTime spent: 127.836063\n",
      "Epoch: 11 \tTraining Loss: 4.437807 \tValidation Loss: 4.574192 \tTime spent: 129.274263\n",
      "Epoch: 12 \tTraining Loss: 4.386117 \tValidation Loss: 4.839225 \tTime spent: 128.546713\n",
      "Epoch: 13 \tTraining Loss: 4.304031 \tValidation Loss: 4.377745 \tTime spent: 128.400183\n",
      "Epoch: 14 \tTraining Loss: 4.226072 \tValidation Loss: 4.185338 \tTime spent: 128.027957\n",
      "Epoch: 15 \tTraining Loss: 4.166472 \tValidation Loss: 4.172275 \tTime spent: 128.218594\n",
      "Epoch: 16 \tTraining Loss: 4.111117 \tValidation Loss: 4.063359 \tTime spent: 127.914490\n",
      "Epoch: 17 \tTraining Loss: 4.018871 \tValidation Loss: 4.005965 \tTime spent: 128.641443\n",
      "Epoch: 18 \tTraining Loss: 3.956524 \tValidation Loss: 3.829347 \tTime spent: 128.272530\n",
      "Epoch: 19 \tTraining Loss: 3.864025 \tValidation Loss: 3.674120 \tTime spent: 129.101279\n",
      "Epoch: 20 \tTraining Loss: 3.781207 \tValidation Loss: 3.663482 \tTime spent: 129.128952\n",
      "Epoch: 21 \tTraining Loss: 3.709235 \tValidation Loss: 3.503743 \tTime spent: 127.066654\n",
      "Epoch: 22 \tTraining Loss: 3.622421 \tValidation Loss: 3.942868 \tTime spent: 128.449438\n",
      "Epoch: 23 \tTraining Loss: 3.563577 \tValidation Loss: 3.397095 \tTime spent: 127.911422\n",
      "Epoch: 24 \tTraining Loss: 3.501813 \tValidation Loss: 3.793468 \tTime spent: 128.598532\n",
      "Epoch: 25 \tTraining Loss: 3.414690 \tValidation Loss: 3.771630 \tTime spent: 128.178649\n",
      "Epoch: 26 \tTraining Loss: 3.306633 \tValidation Loss: 3.163626 \tTime spent: 127.699153\n",
      "Epoch: 27 \tTraining Loss: 3.281239 \tValidation Loss: 3.245756 \tTime spent: 128.145025\n",
      "Epoch: 28 \tTraining Loss: 3.210286 \tValidation Loss: 3.320976 \tTime spent: 127.484792\n",
      "Epoch: 29 \tTraining Loss: 3.109624 \tValidation Loss: 3.178401 \tTime spent: 128.189982\n",
      "Epoch: 30 \tTraining Loss: 3.057950 \tValidation Loss: 3.216243 \tTime spent: 128.697454\n",
      "Epoch: 31 \tTraining Loss: 3.006029 \tValidation Loss: 3.044791 \tTime spent: 128.220211\n",
      "Epoch: 32 \tTraining Loss: 2.893275 \tValidation Loss: 2.908042 \tTime spent: 127.858329\n",
      "Epoch: 33 \tTraining Loss: 2.824087 \tValidation Loss: 3.171909 \tTime spent: 128.330714\n",
      "Epoch: 34 \tTraining Loss: 2.787282 \tValidation Loss: 2.772413 \tTime spent: 127.854091\n",
      "Epoch: 35 \tTraining Loss: 2.689203 \tValidation Loss: 2.766311 \tTime spent: 128.887071\n",
      "Epoch: 36 \tTraining Loss: 2.631731 \tValidation Loss: 3.355853 \tTime spent: 128.298582\n",
      "Epoch: 37 \tTraining Loss: 2.580381 \tValidation Loss: 2.815034 \tTime spent: 127.878290\n",
      "Epoch: 38 \tTraining Loss: 2.501400 \tValidation Loss: 2.847981 \tTime spent: 129.067214\n",
      "Epoch: 39 \tTraining Loss: 2.452228 \tValidation Loss: 3.147245 \tTime spent: 128.199786\n",
      "Epoch: 40 \tTraining Loss: 2.374617 \tValidation Loss: 2.378479 \tTime spent: 128.489582\n",
      "Epoch: 41 \tTraining Loss: 2.294564 \tValidation Loss: 2.968794 \tTime spent: 128.153852\n",
      "Epoch: 42 \tTraining Loss: 2.246184 \tValidation Loss: 2.434385 \tTime spent: 128.691560\n",
      "Epoch: 43 \tTraining Loss: 2.181001 \tValidation Loss: 2.251231 \tTime spent: 128.020687\n",
      "Epoch: 44 \tTraining Loss: 2.134914 \tValidation Loss: 2.248115 \tTime spent: 128.686328\n",
      "Epoch: 45 \tTraining Loss: 2.067352 \tValidation Loss: 2.276750 \tTime spent: 128.592587\n",
      "Epoch: 46 \tTraining Loss: 2.006327 \tValidation Loss: 2.501387 \tTime spent: 127.948304\n",
      "Epoch: 47 \tTraining Loss: 1.936150 \tValidation Loss: 2.351143 \tTime spent: 127.888585\n",
      "Epoch: 48 \tTraining Loss: 1.894127 \tValidation Loss: 2.363640 \tTime spent: 127.731230\n",
      "Epoch: 49 \tTraining Loss: 1.832347 \tValidation Loss: 2.162600 \tTime spent: 127.928308\n",
      "Epoch: 50 \tTraining Loss: 1.787222 \tValidation Loss: 2.589068 \tTime spent: 129.212588\n",
      "Epoch: 51 \tTraining Loss: 1.729845 \tValidation Loss: 2.136251 \tTime spent: 127.663108\n",
      "Epoch: 52 \tTraining Loss: 1.700611 \tValidation Loss: 2.120751 \tTime spent: 127.856705\n",
      "Epoch: 53 \tTraining Loss: 1.609527 \tValidation Loss: 2.236030 \tTime spent: 128.237412\n",
      "Epoch: 54 \tTraining Loss: 1.628232 \tValidation Loss: 1.985856 \tTime spent: 128.131219\n",
      "Epoch: 55 \tTraining Loss: 1.600650 \tValidation Loss: 2.029898 \tTime spent: 127.923481\n",
      "Epoch: 56 \tTraining Loss: 1.549735 \tValidation Loss: 1.989561 \tTime spent: 128.462474\n",
      "Epoch: 57 \tTraining Loss: 1.477580 \tValidation Loss: 1.847909 \tTime spent: 128.485758\n",
      "Epoch: 58 \tTraining Loss: 1.428815 \tValidation Loss: 2.047621 \tTime spent: 128.382230\n",
      "Epoch: 59 \tTraining Loss: 1.423487 \tValidation Loss: 2.093748 \tTime spent: 127.696208\n",
      "Epoch: 60 \tTraining Loss: 1.377188 \tValidation Loss: 2.067940 \tTime spent: 128.417802\n",
      "Epoch: 61 \tTraining Loss: 1.337262 \tValidation Loss: 1.927890 \tTime spent: 128.171099\n",
      "Epoch: 62 \tTraining Loss: 1.298663 \tValidation Loss: 2.108748 \tTime spent: 129.307558\n",
      "Epoch: 63 \tTraining Loss: 1.259893 \tValidation Loss: 2.004272 \tTime spent: 128.628330\n",
      "Epoch: 64 \tTraining Loss: 1.242039 \tValidation Loss: 2.288809 \tTime spent: 128.833321\n",
      "Epoch: 65 \tTraining Loss: 1.209543 \tValidation Loss: 1.913081 \tTime spent: 128.215935\n",
      "Epoch: 66 \tTraining Loss: 1.171256 \tValidation Loss: 1.715919 \tTime spent: 127.996857\n",
      "Epoch: 67 \tTraining Loss: 1.166578 \tValidation Loss: 1.750314 \tTime spent: 128.679832\n",
      "Epoch: 68 \tTraining Loss: 1.096406 \tValidation Loss: 2.219044 \tTime spent: 128.155551\n",
      "Epoch: 69 \tTraining Loss: 1.110673 \tValidation Loss: 2.199041 \tTime spent: 128.067623\n",
      "Epoch: 70 \tTraining Loss: 1.071395 \tValidation Loss: 1.862432 \tTime spent: 128.973742\n",
      "Epoch: 71 \tTraining Loss: 1.063363 \tValidation Loss: 2.131899 \tTime spent: 128.347723\n",
      "Epoch: 72 \tTraining Loss: 1.012192 \tValidation Loss: 1.855449 \tTime spent: 128.198898\n",
      "Epoch: 73 \tTraining Loss: 1.018287 \tValidation Loss: 2.058259 \tTime spent: 129.291457\n",
      "Epoch: 74 \tTraining Loss: 1.004637 \tValidation Loss: 1.860810 \tTime spent: 128.609597\n",
      "Epoch: 75 \tTraining Loss: 0.964119 \tValidation Loss: 2.001407 \tTime spent: 128.432755\n",
      "Epoch: 76 \tTraining Loss: 0.971908 \tValidation Loss: 1.688686 \tTime spent: 128.757101\n",
      "Epoch: 77 \tTraining Loss: 0.946247 \tValidation Loss: 2.251163 \tTime spent: 128.622433\n",
      "Epoch: 78 \tTraining Loss: 0.931918 \tValidation Loss: 1.937642 \tTime spent: 128.144520\n",
      "Epoch: 79 \tTraining Loss: 0.912266 \tValidation Loss: 1.861761 \tTime spent: 129.105911\n",
      "Epoch: 80 \tTraining Loss: 0.887248 \tValidation Loss: 1.833870 \tTime spent: 128.065171\n",
      "Epoch: 81 \tTraining Loss: 0.891940 \tValidation Loss: 2.207907 \tTime spent: 128.899138\n",
      "Epoch: 82 \tTraining Loss: 0.849328 \tValidation Loss: 1.915018 \tTime spent: 128.605017\n",
      "Epoch: 83 \tTraining Loss: 0.837123 \tValidation Loss: 1.645373 \tTime spent: 128.610062\n",
      "Epoch: 84 \tTraining Loss: 0.849086 \tValidation Loss: 1.789620 \tTime spent: 129.127808\n",
      "Epoch: 85 \tTraining Loss: 0.821789 \tValidation Loss: 1.768530 \tTime spent: 127.992895\n",
      "Epoch: 86 \tTraining Loss: 0.811534 \tValidation Loss: 1.846145 \tTime spent: 128.597988\n",
      "Epoch: 87 \tTraining Loss: 0.801094 \tValidation Loss: 1.882446 \tTime spent: 128.687419\n",
      "Epoch: 88 \tTraining Loss: 0.791057 \tValidation Loss: 2.006407 \tTime spent: 128.975052\n",
      "Epoch: 89 \tTraining Loss: 0.790689 \tValidation Loss: 1.896162 \tTime spent: 129.024261\n",
      "Epoch: 90 \tTraining Loss: 0.788648 \tValidation Loss: 1.860816 \tTime spent: 128.019177\n",
      "Epoch: 91 \tTraining Loss: 0.767923 \tValidation Loss: 1.684001 \tTime spent: 128.589542\n",
      "Epoch: 92 \tTraining Loss: 0.764092 \tValidation Loss: 1.818120 \tTime spent: 128.569832\n",
      "Epoch: 93 \tTraining Loss: 0.766422 \tValidation Loss: 1.876288 \tTime spent: 128.747004\n",
      "Epoch: 94 \tTraining Loss: 0.738073 \tValidation Loss: 2.044342 \tTime spent: 128.214360\n",
      "Epoch: 95 \tTraining Loss: 0.752069 \tValidation Loss: 1.894515 \tTime spent: 128.199717\n",
      "Epoch: 96 \tTraining Loss: 0.707222 \tValidation Loss: 1.921791 \tTime spent: 127.813262\n",
      "Epoch: 97 \tTraining Loss: 0.695797 \tValidation Loss: 1.913900 \tTime spent: 129.293450\n",
      "Epoch: 98 \tTraining Loss: 0.693538 \tValidation Loss: 1.805611 \tTime spent: 128.011454\n",
      "Epoch: 99 \tTraining Loss: 0.684609 \tValidation Loss: 1.894672 \tTime spent: 129.324070\n",
      "Epoch: 100 \tTraining Loss: 0.705065 \tValidation Loss: 1.895492 \tTime spent: 128.850209\n",
      "time spent:  3:34:00.925216\n",
      "Minimum trainig loss:  0.684609055519104\n",
      "Minimum validation loss:  1.6453732252120972\n"
     ]
    },
    {
     "data": {
      "image/png": "[encoded data removed]",
      "text/plain": [
       "<Figure size 432x288 with 1 Axes>"
      ]
     },
     "metadata": {
      "image/png": {
       "height": 248,
       "width": 362
      },
      "tags": []
     },
     "output_type": "display_data"
    },
    {
     "name": "stdout",
     "output_type": "stream",
     "text": [
      "Test Loss: 1.574850\n",
      "\n",
      "Test Accuracy: 58% (492/836)\n",
      "\n",
      "\n"
     ]
    }
   ],
   "source": [
    "%matplotlib inline\n",
    "%config InlineBackend.figure_format = 'retina'\n",
    "from utils.preprocess import *\n",
    "from utils.resnet_model import *\n",
    "from utils.train import *\n",
    "from utils.simple_model import *\n",
    "import torch.optim as optim\n",
    "from PIL import ImageFile\n",
    "\n",
    "ImageFile.LOAD_TRUNCATED_IMAGES = True\n",
    "\n",
    "sometimes = lambda aug: iaa.Sometimes(0.5, aug)\n",
    "\n",
    "augmentations = [\n",
    "        [\n",
    "        sometimes(iaa.Crop(percent=(0, 0.45))),\n",
    "        iaa.Multiply((0.5, 1.5), per_channel=0.5)\n",
    "        ]\n",
    "]\n",
    "learning_rates = [\n",
    "                 0.0015\n",
    "                 ]\n",
    "optimizers = [\n",
    "             optim.Adam\n",
    "             ]\n",
    "models = [\n",
    "         resnet18()\n",
    "         ]\n",
    "         \n",
    "paths = {\n",
    "    'train_path' : train_path,\n",
    "    'validation_path' : validation_path,\n",
    "    'test_path' : test_path\n",
    "}\n",
    "\n",
    "\n",
    "hyperparameters_dictionary = {\n",
    "    'augmentations' : augmentations,\n",
    "    'learning_rates' : learning_rates,\n",
    "    'epochs' : 100,\n",
    "    'optimizers' : optimizers,\n",
    "    'models' : models\n",
    "}\n",
    "\n",
    "print_gpu()\n",
    "run_experiments(paths, hyperparameters_dictionary, model_file)\n",
    "\n",
    "\n"
   ]
  },
  {
   "cell_type": "code",
   "execution_count": null,
   "metadata": {
    "colab": {},
    "colab_type": "code",
    "id": "JIajAq0W3g08"
   },
   "outputs": [],
   "source": []
  }
 ],
 "metadata": {
  "accelerator": "GPU",
  "anaconda-cloud": {},
  "colab": {
   "collapsed_sections": [],
   "name": "best_scenario_replay.ipynb",
   "provenance": [
    {
     "file_id": "1OjCJi1WTxHyoX3PJv-O2nnwOTT2llm1K",
     "timestamp": 1586133248550
    },
    {
     "file_id": "1nDZaK8ZxAz8K8x1nvxH5hJxNrFdDGOGW",
     "timestamp": 1586132559362
    },
    {
     "file_id": "1CB8ottEi6O0V1byMpFFwPGAsDASBjZMB",
     "timestamp": 1586083613524
    },
    {
     "file_id": "1Z8yuY-OvTPNR_I39ExXUOetQgZCd5ai3",
     "timestamp": 1586083560447
    },
    {
     "file_id": "1CCtPCrvTO1eJTvBKDYBNh1qzbLulOgIB",
     "timestamp": 1586083192152
    },
    {
     "file_id": "1XEMq3W--Egp-IwHfHLUl8fooafAISsSq",
     "timestamp": 1586046109632
    },
    {
     "file_id": "1M6NnHno6mb6UmPwY3rLfVYIgx4r300qj",
     "timestamp": 1586045971599
    },
    {
     "file_id": "1nfhbSpamn1nTIQ94KZMjeAJvJQuUvQWH",
     "timestamp": 1586019294461
    },
    {
     "file_id": "1S5b4ZZBlAQH0-QI2rR3Klay6plHwlSG4",
     "timestamp": 1586019186582
    },
    {
     "file_id": "1x43TFVwxZ-RIkjvpxoh231Lvtt-ikN2C",
     "timestamp": 1586019059898
    },
    {
     "file_id": "18_yL6W-Q1P8P1xqcCJPCNjg_8OeZTD69",
     "timestamp": 1586005625719
    },
    {
     "file_id": "1r2_wvotCDm3k_r_TLNHFwiyqgwyV5KkQ",
     "timestamp": 1586005597098
    },
    {
     "file_id": "1x17ANn3WW9PJckaEQSlkio5gn7dkPN-k",
     "timestamp": 1586005574311
    },
    {
     "file_id": "1wrfznjw3XLiV6JfDZxRvB0FBT5wBDZ0I",
     "timestamp": 1586005511862
    },
    {
     "file_id": "1dOYwkMe0ADYqIypoTsfACJ0m1aC2wFkJ",
     "timestamp": 1585991244277
    },
    {
     "file_id": "1f9SevfjtTDJD6CO-HfNW-osiYvgrGJvN",
     "timestamp": 1585991217369
    },
    {
     "file_id": "1XWPqI_yXRmz4PenEhf7W2irFoa6HT6uF",
     "timestamp": 1585991195574
    },
    {
     "file_id": "1XNOEqHACPONOBz8ZN9L-aSYsuM0I2xJd",
     "timestamp": 1585991128475
    },
    {
     "file_id": "1E3y3-KvBsy9UapPVrGZypZT00YexjZbR",
     "timestamp": 1585955348971
    },
    {
     "file_id": "116DV5OYEC78n8Tdpt9Q7_MzL_TdLq6Qe",
     "timestamp": 1585955020650
    },
    {
     "file_id": "14GYMrkofK2E3cxEXO0Wa3eUO1nV6TOXr",
     "timestamp": 1585941706806
    },
    {
     "file_id": "1vcnE6D3-w6WNefC-orZ7W0KpV6HOmgnW",
     "timestamp": 1585781564679
    },
    {
     "file_id": "1CuKotTscUY4BCBXthHtT6SvrXJtC5f2I",
     "timestamp": 1585484980455
    },
    {
     "file_id": "1q5wJQ8TKeGV62hAt3Qj8gTaCOJkqUNgd",
     "timestamp": 1585323933479
    }
   ],
   "toc_visible": true
  },
  "kernelspec": {
   "display_name": "Python 3",
   "language": "python",
   "name": "python3"
  },
  "language_info": {
   "codemirror_mode": {
    "name": "ipython",
    "version": 3
   },
   "file_extension": ".py",
   "mimetype": "text/x-python",
   "name": "python",
   "nbconvert_exporter": "python",
   "pygments_lexer": "ipython3",
   "version": "3.7.6"
  }
 },
 "nbformat": 4,
 "nbformat_minor": 4
}
