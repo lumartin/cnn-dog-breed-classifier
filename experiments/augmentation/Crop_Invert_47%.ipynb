{
 "cells": [
  {
   "cell_type": "code",
   "execution_count": 1,
   "metadata": {
    "colab": {
     "base_uri": "https://localhost:8080/",
     "height": 122
    },
    "colab_type": "code",
    "executionInfo": {
     "elapsed": 30090,
     "status": "ok",
     "timestamp": 1587682383528,
     "user": {
      "displayName": "Luis Martín",
      "photoUrl": "",
      "userId": "05136960784416304431"
     },
     "user_tz": -120
    },
    "id": "JXxOTx7DU-o4",
    "outputId": "35c9c40a-8109-4d9a-881f-158020b4922d"
   },
   "outputs": [
    {
     "name": "stdout",
     "output_type": "stream",
     "text": [
      "Go to this URL in a browser: https://accounts.google.com/o/oauth2/auth?client_id=947318989803-6bn6qk8qdgf4n4g3pfee6491hc0brc4i.apps.googleusercontent.com&redirect_uri=urn%3aietf%3awg%3aoauth%3a2.0%3aoob&response_type=code&scope=email%20https%3a%2f%2fwww.googleapis.com%2fauth%2fdocs.test%20https%3a%2f%2fwww.googleapis.com%2fauth%2fdrive%20https%3a%2f%2fwww.googleapis.com%2fauth%2fdrive.photos.readonly%20https%3a%2f%2fwww.googleapis.com%2fauth%2fpeopleapi.readonly\n",
      "\n",
      "Enter your authorization code:\n",
      "··········\n",
      "Mounted at /content/drive\n"
     ]
    }
   ],
   "source": [
    "from google.colab import drive\n",
    "drive.mount('/content/drive')"
   ]
  },
  {
   "cell_type": "code",
   "execution_count": null,
   "metadata": {
    "colab": {},
    "colab_type": "code",
    "id": "qkVY9R0tYZw3"
   },
   "outputs": [],
   "source": [
    "#%%capture\n",
    "#!wget -N https://s3-us-west-1.amazonaws.com/udacity-aind/dog-project/dogImages.zip\n",
    "#!unzip -o /content/dogImages.zip\n",
    "#!mv /content/dogImages /content/drive/My\\ Drive/dog-breeds/dog_images"
   ]
  },
  {
   "cell_type": "markdown",
   "metadata": {
    "colab_type": "text",
    "id": "SE3rFGLpoYhJ"
   },
   "source": [
    "# Configuration & utilities\n",
    "\n",
    "Here we define the configuration parameters, dependencies and utility functions needed for the experiment. You may only need to specify the 'experiment_description' value in the first line of code, and the paths identifying the project and the different datasets. "
   ]
  },
  {
   "cell_type": "code",
   "execution_count": 3,
   "metadata": {
    "colab": {
     "base_uri": "https://localhost:8080/",
     "height": 34
    },
    "colab_type": "code",
    "executionInfo": {
     "elapsed": 3036,
     "status": "ok",
     "timestamp": 1587682446392,
     "user": {
      "displayName": "Luis Martín",
      "photoUrl": "",
      "userId": "05136960784416304431"
     },
     "user_tz": -120
    },
    "id": "GbuFvy-OAzXp",
    "outputId": "f54cb665-705d-4bbd-85b5-22e423b34818"
   },
   "outputs": [
    {
     "name": "stdout",
     "output_type": "stream",
     "text": [
      "There are 8351 total dog images.\n"
     ]
    }
   ],
   "source": [
    "import numpy as np\n",
    "from glob import glob\n",
    "import sys\n",
    "\n",
    "experiment_description = 'best_scenario_replay'\n",
    "project_path = '/content/drive/My Drive/dog-breeds/'\n",
    "\n",
    "##################### DO NOT MODIFY ################################\n",
    "\n",
    "experiment_location = project_path + experiment_description\n",
    "escaped_exp_location = experiment_location.replace(\" \", \"\\\\ \")\n",
    "!mkdir $escaped_exp_location\n",
    "model_file = experiment_location + '/model_ ' + experiment_description\n",
    "output_file = experiment_location + '/' + experiment_description\n",
    "sys.path.append(project_path)\n",
    "##################### END: DO NOT MODIFY ###########################\n",
    "\n",
    "dog_files = np.array(glob(project_path + \"dog_images/*/*/*\"))\n",
    "print('There are %d total dog images.' % len(dog_files))\n",
    "train_path = project_path + 'dog_images/train'\n",
    "validation_path = project_path +'dog_images/valid'\n",
    "test_path = project_path +'dog_images/test'\n",
    "\n",
    "\n",
    "def print_gpu():\n",
    "  gpu_info = !nvidia-smi\n",
    "  gpu_info = '\\n'.join(gpu_info)\n",
    "  if gpu_info.find('failed') >= 0:\n",
    "    print('Select the Runtime → \"Change runtime type\" menu to enable a GPU accelerator, ')\n",
    "    print('and then re-execute this cell.')\n",
    "  else:\n",
    "    print(gpu_info) "
   ]
  },
  {
   "cell_type": "markdown",
   "metadata": {
    "colab_type": "text",
    "id": "SVQ7DTfXq7m4"
   },
   "source": [
    "# Experiment\n",
    "\n",
    "A lot of things here need to be separated:\n",
    "\n",
    " - Creation of dataset loaders\n",
    " - NN architecture\n",
    " - Hyperparameter dictionaries\n",
    " - Testing and Rebooting functions\n",
    " - Experiment loop\n",
    " - Visualization"
   ]
  },
  {
   "cell_type": "code",
   "execution_count": 4,
   "metadata": {
    "colab": {
     "base_uri": "https://localhost:8080/",
     "height": 1000
    },
    "colab_type": "code",
    "executionInfo": {
     "elapsed": 27554566,
     "status": "ok",
     "timestamp": 1587711569526,
     "user": {
      "displayName": "Luis Martín",
      "photoUrl": "",
      "userId": "05136960784416304431"
     },
     "user_tz": -120
    },
    "id": "ksid6BWZJlFO",
    "outputId": "8253066f-4632-46b8-909c-e94fc7edd920"
   },
   "outputs": [
    {
     "name": "stdout",
     "output_type": "stream",
     "text": [
      "ResNet(\n",
      "  (conv1): Sequential(\n",
      "    (0): Conv2d(3, 64, kernel_size=(3, 3), stride=(1, 1), padding=(1, 1), bias=False)\n",
      "    (1): BatchNorm2d(64, eps=1e-05, momentum=0.1, affine=True, track_running_stats=True)\n",
      "    (2): ReLU(inplace=True)\n",
      "  )\n",
      "  (conv2_x): Sequential(\n",
      "    (0): BasicBlock(\n",
      "      (residual_function): Sequential(\n",
      "        (0): Conv2d(64, 64, kernel_size=(3, 3), stride=(1, 1), padding=(1, 1), bias=False)\n",
      "        (1): BatchNorm2d(64, eps=1e-05, momentum=0.1, affine=True, track_running_stats=True)\n",
      "        (2): ReLU(inplace=True)\n",
      "        (3): Conv2d(64, 64, kernel_size=(3, 3), stride=(1, 1), padding=(1, 1), bias=False)\n",
      "        (4): BatchNorm2d(64, eps=1e-05, momentum=0.1, affine=True, track_running_stats=True)\n",
      "      )\n",
      "      (shortcut): Sequential()\n",
      "    )\n",
      "    (1): BasicBlock(\n",
      "      (residual_function): Sequential(\n",
      "        (0): Conv2d(64, 64, kernel_size=(3, 3), stride=(1, 1), padding=(1, 1), bias=False)\n",
      "        (1): BatchNorm2d(64, eps=1e-05, momentum=0.1, affine=True, track_running_stats=True)\n",
      "        (2): ReLU(inplace=True)\n",
      "        (3): Conv2d(64, 64, kernel_size=(3, 3), stride=(1, 1), padding=(1, 1), bias=False)\n",
      "        (4): BatchNorm2d(64, eps=1e-05, momentum=0.1, affine=True, track_running_stats=True)\n",
      "      )\n",
      "      (shortcut): Sequential()\n",
      "    )\n",
      "  )\n",
      "  (conv3_x): Sequential(\n",
      "    (0): BasicBlock(\n",
      "      (residual_function): Sequential(\n",
      "        (0): Conv2d(64, 128, kernel_size=(3, 3), stride=(2, 2), padding=(1, 1), bias=False)\n",
      "        (1): BatchNorm2d(128, eps=1e-05, momentum=0.1, affine=True, track_running_stats=True)\n",
      "        (2): ReLU(inplace=True)\n",
      "        (3): Conv2d(128, 128, kernel_size=(3, 3), stride=(1, 1), padding=(1, 1), bias=False)\n",
      "        (4): BatchNorm2d(128, eps=1e-05, momentum=0.1, affine=True, track_running_stats=True)\n",
      "      )\n",
      "      (shortcut): Sequential(\n",
      "        (0): Conv2d(64, 128, kernel_size=(1, 1), stride=(2, 2), bias=False)\n",
      "        (1): BatchNorm2d(128, eps=1e-05, momentum=0.1, affine=True, track_running_stats=True)\n",
      "      )\n",
      "    )\n",
      "    (1): BasicBlock(\n",
      "      (residual_function): Sequential(\n",
      "        (0): Conv2d(128, 128, kernel_size=(3, 3), stride=(1, 1), padding=(1, 1), bias=False)\n",
      "        (1): BatchNorm2d(128, eps=1e-05, momentum=0.1, affine=True, track_running_stats=True)\n",
      "        (2): ReLU(inplace=True)\n",
      "        (3): Conv2d(128, 128, kernel_size=(3, 3), stride=(1, 1), padding=(1, 1), bias=False)\n",
      "        (4): BatchNorm2d(128, eps=1e-05, momentum=0.1, affine=True, track_running_stats=True)\n",
      "      )\n",
      "      (shortcut): Sequential()\n",
      "    )\n",
      "  )\n",
      "  (conv4_x): Sequential(\n",
      "    (0): BasicBlock(\n",
      "      (residual_function): Sequential(\n",
      "        (0): Conv2d(128, 256, kernel_size=(3, 3), stride=(2, 2), padding=(1, 1), bias=False)\n",
      "        (1): BatchNorm2d(256, eps=1e-05, momentum=0.1, affine=True, track_running_stats=True)\n",
      "        (2): ReLU(inplace=True)\n",
      "        (3): Conv2d(256, 256, kernel_size=(3, 3), stride=(1, 1), padding=(1, 1), bias=False)\n",
      "        (4): BatchNorm2d(256, eps=1e-05, momentum=0.1, affine=True, track_running_stats=True)\n",
      "      )\n",
      "      (shortcut): Sequential(\n",
      "        (0): Conv2d(128, 256, kernel_size=(1, 1), stride=(2, 2), bias=False)\n",
      "        (1): BatchNorm2d(256, eps=1e-05, momentum=0.1, affine=True, track_running_stats=True)\n",
      "      )\n",
      "    )\n",
      "    (1): BasicBlock(\n",
      "      (residual_function): Sequential(\n",
      "        (0): Conv2d(256, 256, kernel_size=(3, 3), stride=(1, 1), padding=(1, 1), bias=False)\n",
      "        (1): BatchNorm2d(256, eps=1e-05, momentum=0.1, affine=True, track_running_stats=True)\n",
      "        (2): ReLU(inplace=True)\n",
      "        (3): Conv2d(256, 256, kernel_size=(3, 3), stride=(1, 1), padding=(1, 1), bias=False)\n",
      "        (4): BatchNorm2d(256, eps=1e-05, momentum=0.1, affine=True, track_running_stats=True)\n",
      "      )\n",
      "      (shortcut): Sequential()\n",
      "    )\n",
      "  )\n",
      "  (conv5_x): Sequential(\n",
      "    (0): BasicBlock(\n",
      "      (residual_function): Sequential(\n",
      "        (0): Conv2d(256, 512, kernel_size=(3, 3), stride=(2, 2), padding=(1, 1), bias=False)\n",
      "        (1): BatchNorm2d(512, eps=1e-05, momentum=0.1, affine=True, track_running_stats=True)\n",
      "        (2): ReLU(inplace=True)\n",
      "        (3): Conv2d(512, 512, kernel_size=(3, 3), stride=(1, 1), padding=(1, 1), bias=False)\n",
      "        (4): BatchNorm2d(512, eps=1e-05, momentum=0.1, affine=True, track_running_stats=True)\n",
      "      )\n",
      "      (shortcut): Sequential(\n",
      "        (0): Conv2d(256, 512, kernel_size=(1, 1), stride=(2, 2), bias=False)\n",
      "        (1): BatchNorm2d(512, eps=1e-05, momentum=0.1, affine=True, track_running_stats=True)\n",
      "      )\n",
      "    )\n",
      "    (1): BasicBlock(\n",
      "      (residual_function): Sequential(\n",
      "        (0): Conv2d(512, 512, kernel_size=(3, 3), stride=(1, 1), padding=(1, 1), bias=False)\n",
      "        (1): BatchNorm2d(512, eps=1e-05, momentum=0.1, affine=True, track_running_stats=True)\n",
      "        (2): ReLU(inplace=True)\n",
      "        (3): Conv2d(512, 512, kernel_size=(3, 3), stride=(1, 1), padding=(1, 1), bias=False)\n",
      "        (4): BatchNorm2d(512, eps=1e-05, momentum=0.1, affine=True, track_running_stats=True)\n",
      "      )\n",
      "      (shortcut): Sequential()\n",
      "    )\n",
      "  )\n",
      "  (avg_pool): AdaptiveAvgPool2d(output_size=(1, 1))\n",
      "  (fc): Linear(in_features=512, out_features=133, bias=True)\n",
      ")\n",
      "Sat Apr  4 09:10:19 2020       \n",
      "+-----------------------------------------------------------------------------+\n",
      "| NVIDIA-SMI 440.64.00    Driver Version: 418.67       CUDA Version: 10.1     |\n",
      "|-------------------------------+----------------------+----------------------+\n",
      "| GPU  Name        Persistence-M| Bus-Id        Disp.A | Volatile Uncorr. ECC |\n",
      "| Fan  Temp  Perf  Pwr:Usage/Cap|         Memory-Usage | GPU-Util  Compute M. |\n",
      "|===============================+======================+======================|\n",
      "|   0  Tesla P100-PCIE...  Off  | 00000000:00:04.0 Off |                    0 |\n",
      "| N/A   35C    P0    32W / 250W |    781MiB / 16280MiB |      0%      Default |\n",
      "+-------------------------------+----------------------+----------------------+\n",
      "                                                                               \n",
      "+-----------------------------------------------------------------------------+\n",
      "| Processes:                                                       GPU Memory |\n",
      "|  GPU       PID   Type   Process name                             Usage      |\n",
      "|=============================================================================|\n",
      "+-----------------------------------------------------------------------------+\n",
      "Adam (\n",
      "Parameter Group 0\n",
      "    amsgrad: False\n",
      "    betas: (0.9, 0.999)\n",
      "    eps: 1e-08\n",
      "    lr: 0.0015\n",
      "    weight_decay: 0\n",
      ")\n",
      "Epoch: 1 \tTraining Loss: 4.930792 \tValidation Loss: 4.750521 \tTime spent: 127.878275\n",
      "Epoch: 2 \tTraining Loss: 4.737665 \tValidation Loss: 4.688342 \tTime spent: 127.771473\n",
      "Epoch: 3 \tTraining Loss: 4.668878 \tValidation Loss: 4.674536 \tTime spent: 128.243317\n",
      "Epoch: 4 \tTraining Loss: 4.614269 \tValidation Loss: 4.786885 \tTime spent: 127.518212\n",
      "Epoch: 5 \tTraining Loss: 4.569214 \tValidation Loss: 4.643527 \tTime spent: 127.355690\n",
      "Epoch: 6 \tTraining Loss: 4.521879 \tValidation Loss: 4.588542 \tTime spent: 127.713176\n",
      "Epoch: 7 \tTraining Loss: 4.452592 \tValidation Loss: 4.417855 \tTime spent: 128.323156\n",
      "Epoch: 8 \tTraining Loss: 4.364782 \tValidation Loss: 4.377637 \tTime spent: 128.271698\n",
      "Epoch: 9 \tTraining Loss: 4.271913 \tValidation Loss: 4.255836 \tTime spent: 127.361467\n",
      "Epoch: 10 \tTraining Loss: 4.186456 \tValidation Loss: 4.175661 \tTime spent: 126.872794\n",
      "Epoch: 11 \tTraining Loss: 4.130381 \tValidation Loss: 4.074410 \tTime spent: 127.702550\n",
      "Epoch: 12 \tTraining Loss: 4.067296 \tValidation Loss: 4.014231 \tTime spent: 127.677972\n",
      "Epoch: 13 \tTraining Loss: 3.990331 \tValidation Loss: 3.981665 \tTime spent: 128.289272\n",
      "Epoch: 14 \tTraining Loss: 3.943377 \tValidation Loss: 3.959510 \tTime spent: 128.006237\n",
      "Epoch: 15 \tTraining Loss: 3.866489 \tValidation Loss: 4.008012 \tTime spent: 128.190304\n",
      "Epoch: 16 \tTraining Loss: 3.834559 \tValidation Loss: 4.028834 \tTime spent: 127.876743\n",
      "Epoch: 17 \tTraining Loss: 3.767537 \tValidation Loss: 3.745550 \tTime spent: 127.889885\n",
      "Epoch: 18 \tTraining Loss: 3.723824 \tValidation Loss: 3.831693 \tTime spent: 128.282763\n",
      "Epoch: 19 \tTraining Loss: 3.670394 \tValidation Loss: 3.674125 \tTime spent: 128.239982\n",
      "Epoch: 20 \tTraining Loss: 3.636682 \tValidation Loss: 3.655891 \tTime spent: 127.627036\n",
      "Epoch: 21 \tTraining Loss: 3.579381 \tValidation Loss: 3.634814 \tTime spent: 126.894184\n",
      "Epoch: 22 \tTraining Loss: 3.521928 \tValidation Loss: 3.658123 \tTime spent: 127.592391\n",
      "Epoch: 23 \tTraining Loss: 3.459087 \tValidation Loss: 3.506412 \tTime spent: 127.696809\n",
      "Epoch: 24 \tTraining Loss: 3.382993 \tValidation Loss: 3.714608 \tTime spent: 128.323860\n",
      "Epoch: 25 \tTraining Loss: 3.330040 \tValidation Loss: 3.615597 \tTime spent: 128.094821\n",
      "Epoch: 26 \tTraining Loss: 3.310312 \tValidation Loss: 3.617533 \tTime spent: 127.399149\n",
      "Epoch: 27 \tTraining Loss: 3.252102 \tValidation Loss: 3.847590 \tTime spent: 127.832575\n",
      "Epoch: 28 \tTraining Loss: 3.223667 \tValidation Loss: 3.352648 \tTime spent: 127.814993\n",
      "Epoch: 29 \tTraining Loss: 3.141439 \tValidation Loss: 3.374400 \tTime spent: 129.007158\n",
      "Epoch: 30 \tTraining Loss: 3.117564 \tValidation Loss: 3.462132 \tTime spent: 127.808517\n",
      "Epoch: 31 \tTraining Loss: 3.043605 \tValidation Loss: 3.668196 \tTime spent: 127.743352\n",
      "Epoch: 32 \tTraining Loss: 3.009064 \tValidation Loss: 3.134794 \tTime spent: 127.235419\n",
      "Epoch: 33 \tTraining Loss: 2.962366 \tValidation Loss: 3.353552 \tTime spent: 127.873843\n",
      "Epoch: 34 \tTraining Loss: 2.928622 \tValidation Loss: 3.195912 \tTime spent: 127.532349\n",
      "Epoch: 35 \tTraining Loss: 2.887436 \tValidation Loss: 3.130159 \tTime spent: 126.878308\n",
      "Epoch: 36 \tTraining Loss: 2.817766 \tValidation Loss: 3.126412 \tTime spent: 127.114251\n",
      "Epoch: 37 \tTraining Loss: 2.796400 \tValidation Loss: 3.126791 \tTime spent: 127.470053\n",
      "Epoch: 38 \tTraining Loss: 2.727317 \tValidation Loss: 3.246939 \tTime spent: 128.132180\n",
      "Epoch: 39 \tTraining Loss: 2.646924 \tValidation Loss: 2.890638 \tTime spent: 127.225161\n",
      "Epoch: 40 \tTraining Loss: 2.616517 \tValidation Loss: 2.946946 \tTime spent: 127.970442\n",
      "Epoch: 41 \tTraining Loss: 2.599295 \tValidation Loss: 2.827770 \tTime spent: 127.132537\n",
      "Epoch: 42 \tTraining Loss: 2.500422 \tValidation Loss: 2.761686 \tTime spent: 126.993854\n",
      "Epoch: 43 \tTraining Loss: 2.429537 \tValidation Loss: 2.823187 \tTime spent: 127.288827\n",
      "Epoch: 44 \tTraining Loss: 2.419191 \tValidation Loss: 3.039847 \tTime spent: 127.147122\n",
      "Epoch: 45 \tTraining Loss: 2.365982 \tValidation Loss: 3.000359 \tTime spent: 127.594606\n",
      "Epoch: 46 \tTraining Loss: 2.302839 \tValidation Loss: 2.692292 \tTime spent: 126.722590\n",
      "Epoch: 47 \tTraining Loss: 2.236904 \tValidation Loss: 2.838566 \tTime spent: 128.196816\n",
      "Epoch: 48 \tTraining Loss: 2.209896 \tValidation Loss: 2.515943 \tTime spent: 127.356232\n",
      "Epoch: 49 \tTraining Loss: 2.140738 \tValidation Loss: 2.623259 \tTime spent: 128.258497\n",
      "Epoch: 50 \tTraining Loss: 2.092608 \tValidation Loss: 2.570669 \tTime spent: 127.346688\n",
      "Epoch: 51 \tTraining Loss: 2.062073 \tValidation Loss: 2.979060 \tTime spent: 127.419456\n",
      "Epoch: 52 \tTraining Loss: 1.967430 \tValidation Loss: 2.681287 \tTime spent: 126.592157\n",
      "Epoch: 53 \tTraining Loss: 1.965016 \tValidation Loss: 2.429704 \tTime spent: 126.989501\n",
      "Epoch: 54 \tTraining Loss: 1.853361 \tValidation Loss: 2.500535 \tTime spent: 127.615497\n",
      "Epoch: 55 \tTraining Loss: 1.806293 \tValidation Loss: 2.714559 \tTime spent: 127.558665\n",
      "Epoch: 56 \tTraining Loss: 1.784129 \tValidation Loss: 2.691118 \tTime spent: 127.765562\n",
      "Epoch: 57 \tTraining Loss: 1.716950 \tValidation Loss: 2.484846 \tTime spent: 127.178352\n",
      "Epoch: 58 \tTraining Loss: 1.700414 \tValidation Loss: 2.536598 \tTime spent: 127.113310\n",
      "Epoch: 59 \tTraining Loss: 1.630236 \tValidation Loss: 2.617832 \tTime spent: 128.265613\n",
      "Epoch: 60 \tTraining Loss: 1.579819 \tValidation Loss: 2.313522 \tTime spent: 128.441110\n",
      "Epoch: 61 \tTraining Loss: 1.523565 \tValidation Loss: 2.477338 \tTime spent: 127.531178\n",
      "Epoch: 62 \tTraining Loss: 1.504573 \tValidation Loss: 2.261679 \tTime spent: 126.649019\n",
      "Epoch: 63 \tTraining Loss: 1.455016 \tValidation Loss: 2.316015 \tTime spent: 127.416414\n",
      "Epoch: 64 \tTraining Loss: 1.406304 \tValidation Loss: 2.457275 \tTime spent: 127.053772\n",
      "Epoch: 65 \tTraining Loss: 1.402698 \tValidation Loss: 2.317261 \tTime spent: 127.762186\n",
      "Epoch: 66 \tTraining Loss: 1.363321 \tValidation Loss: 2.457754 \tTime spent: 128.187378\n",
      "Epoch: 67 \tTraining Loss: 1.308986 \tValidation Loss: 2.415156 \tTime spent: 127.006667\n",
      "Epoch: 68 \tTraining Loss: 1.267542 \tValidation Loss: 2.344551 \tTime spent: 127.233889\n",
      "Epoch: 69 \tTraining Loss: 1.188460 \tValidation Loss: 2.244835 \tTime spent: 127.647924\n",
      "Epoch: 70 \tTraining Loss: 1.225231 \tValidation Loss: 2.759712 \tTime spent: 127.140815\n",
      "Epoch: 71 \tTraining Loss: 1.164104 \tValidation Loss: 2.417627 \tTime spent: 127.287834\n",
      "Epoch: 72 \tTraining Loss: 1.157085 \tValidation Loss: 2.286342 \tTime spent: 128.470377\n",
      "Epoch: 73 \tTraining Loss: 1.137471 \tValidation Loss: 2.311405 \tTime spent: 127.556793\n",
      "Epoch: 74 \tTraining Loss: 1.082669 \tValidation Loss: 2.338629 \tTime spent: 127.960810\n",
      "Epoch: 75 \tTraining Loss: 1.054279 \tValidation Loss: 2.566269 \tTime spent: 127.826969\n",
      "Epoch: 76 \tTraining Loss: 1.060233 \tValidation Loss: 2.158808 \tTime spent: 127.943063\n",
      "Epoch: 77 \tTraining Loss: 1.006184 \tValidation Loss: 2.384780 \tTime spent: 128.321674\n",
      "Epoch: 78 \tTraining Loss: 1.007809 \tValidation Loss: 2.321561 \tTime spent: 129.130761\n",
      "Epoch: 79 \tTraining Loss: 0.981720 \tValidation Loss: 2.452897 \tTime spent: 127.717043\n",
      "Epoch: 80 \tTraining Loss: 0.976190 \tValidation Loss: 2.310847 \tTime spent: 128.605915\n",
      "Epoch: 81 \tTraining Loss: 0.942977 \tValidation Loss: 2.419401 \tTime spent: 128.576645\n",
      "Epoch: 82 \tTraining Loss: 0.941428 \tValidation Loss: 2.437509 \tTime spent: 127.896490\n",
      "Epoch: 83 \tTraining Loss: 0.929946 \tValidation Loss: 2.352635 \tTime spent: 127.490450\n",
      "Epoch: 84 \tTraining Loss: 0.913737 \tValidation Loss: 2.171472 \tTime spent: 128.327541\n",
      "Epoch: 85 \tTraining Loss: 0.879316 \tValidation Loss: 2.257182 \tTime spent: 128.149514\n",
      "Epoch: 86 \tTraining Loss: 0.853609 \tValidation Loss: 2.355975 \tTime spent: 128.082541\n",
      "Epoch: 87 \tTraining Loss: 0.876419 \tValidation Loss: 2.592067 \tTime spent: 127.618117\n",
      "Epoch: 88 \tTraining Loss: 0.821702 \tValidation Loss: 2.400103 \tTime spent: 127.786373\n",
      "Epoch: 89 \tTraining Loss: 0.825670 \tValidation Loss: 2.345192 \tTime spent: 127.067573\n",
      "Epoch: 90 \tTraining Loss: 0.798335 \tValidation Loss: 2.379730 \tTime spent: 128.315641\n",
      "Epoch: 91 \tTraining Loss: 0.744598 \tValidation Loss: 2.340623 \tTime spent: 128.072085\n",
      "Epoch: 92 \tTraining Loss: 0.777507 \tValidation Loss: 2.370585 \tTime spent: 127.745761\n",
      "Epoch: 93 \tTraining Loss: 0.798176 \tValidation Loss: 2.354276 \tTime spent: 128.562882\n",
      "Epoch: 94 \tTraining Loss: 0.785684 \tValidation Loss: 2.508360 \tTime spent: 127.466611\n",
      "Epoch: 95 \tTraining Loss: 0.788576 \tValidation Loss: 2.299166 \tTime spent: 128.449111\n",
      "Epoch: 96 \tTraining Loss: 0.747814 \tValidation Loss: 2.237027 \tTime spent: 128.353904\n",
      "Epoch: 97 \tTraining Loss: 0.721022 \tValidation Loss: 2.563448 \tTime spent: 127.847656\n",
      "Epoch: 98 \tTraining Loss: 0.728142 \tValidation Loss: 2.456331 \tTime spent: 127.851291\n",
      "Epoch: 99 \tTraining Loss: 0.715278 \tValidation Loss: 2.699616 \tTime spent: 128.426573\n",
      "Epoch: 100 \tTraining Loss: 0.700815 \tValidation Loss: 2.361356 \tTime spent: 128.276261\n",
      "time spent:  3:32:56.417019\n",
      "Minimum trainig loss:  0.7008154988288879\n",
      "Minimum validation loss:  2.1588082313537598\n"
     ]
    },
    {
     "data": {
      "image/png": "[encoded data removed]",
      "text/plain": [
       "<Figure size 432x288 with 1 Axes>"
      ]
     },
     "metadata": {
      "image/png": {
       "height": 248,
       "width": 362
      },
      "tags": []
     },
     "output_type": "display_data"
    },
    {
     "name": "stdout",
     "output_type": "stream",
     "text": [
      "Test Loss: 2.123769\n",
      "\n",
      "Test Accuracy: 47% (394/836)\n",
      "\n",
      "\n"
     ]
    }
   ],
   "source": [
    "%matplotlib inline\n",
    "%config InlineBackend.figure_format = 'retina'\n",
    "from utils.preprocess import *\n",
    "from utils.resnet_model import *\n",
    "from utils.train import *\n",
    "from utils.simple_model import *\n",
    "import torch.optim as optim\n",
    "from PIL import ImageFile\n",
    "\n",
    "ImageFile.LOAD_TRUNCATED_IMAGES = True\n",
    "\n",
    "sometimes = lambda aug: iaa.Sometimes(0.5, aug)\n",
    "\n",
    "augmentations = [\n",
    "        [\n",
    "        sometimes(iaa.Crop(percent=(0, 0.45))),\n",
    "        iaa.Invert(0.05, per_channel=True)\n",
    "        ]\n",
    "]\n",
    "learning_rates = [\n",
    "                 0.0015\n",
    "                 ]\n",
    "optimizers = [\n",
    "             optim.Adam\n",
    "             ]\n",
    "models = [\n",
    "         resnet18()\n",
    "         ]\n",
    "         \n",
    "paths = {\n",
    "    'train_path' : train_path,\n",
    "    'validation_path' : validation_path,\n",
    "    'test_path' : test_path\n",
    "}\n",
    "\n",
    "\n",
    "hyperparameters_dictionary = {\n",
    "    'augmentations' : augmentations,\n",
    "    'learning_rates' : learning_rates,\n",
    "    'epochs' : 100,\n",
    "    'optimizers' : optimizers,\n",
    "    'models' : models\n",
    "}\n",
    "\n",
    "print_gpu()\n",
    "run_experiments(paths, hyperparameters_dictionary, model_file)\n",
    "\n",
    "\n"
   ]
  },
  {
   "cell_type": "code",
   "execution_count": null,
   "metadata": {
    "colab": {},
    "colab_type": "code",
    "id": "JIajAq0W3g08"
   },
   "outputs": [],
   "source": []
  }
 ],
 "metadata": {
  "accelerator": "GPU",
  "anaconda-cloud": {},
  "colab": {
   "collapsed_sections": [],
   "name": "best_scenario_replay.ipynb",
   "provenance": [
    {
     "file_id": "1OjCJi1WTxHyoX3PJv-O2nnwOTT2llm1K",
     "timestamp": 1586133248550
    },
    {
     "file_id": "1nDZaK8ZxAz8K8x1nvxH5hJxNrFdDGOGW",
     "timestamp": 1586132559362
    },
    {
     "file_id": "1CB8ottEi6O0V1byMpFFwPGAsDASBjZMB",
     "timestamp": 1586083613524
    },
    {
     "file_id": "1Z8yuY-OvTPNR_I39ExXUOetQgZCd5ai3",
     "timestamp": 1586083560447
    },
    {
     "file_id": "1CCtPCrvTO1eJTvBKDYBNh1qzbLulOgIB",
     "timestamp": 1586083192152
    },
    {
     "file_id": "1XEMq3W--Egp-IwHfHLUl8fooafAISsSq",
     "timestamp": 1586046109632
    },
    {
     "file_id": "1M6NnHno6mb6UmPwY3rLfVYIgx4r300qj",
     "timestamp": 1586045971599
    },
    {
     "file_id": "1nfhbSpamn1nTIQ94KZMjeAJvJQuUvQWH",
     "timestamp": 1586019294461
    },
    {
     "file_id": "1S5b4ZZBlAQH0-QI2rR3Klay6plHwlSG4",
     "timestamp": 1586019186582
    },
    {
     "file_id": "1x43TFVwxZ-RIkjvpxoh231Lvtt-ikN2C",
     "timestamp": 1586019059898
    },
    {
     "file_id": "18_yL6W-Q1P8P1xqcCJPCNjg_8OeZTD69",
     "timestamp": 1586005625719
    },
    {
     "file_id": "1r2_wvotCDm3k_r_TLNHFwiyqgwyV5KkQ",
     "timestamp": 1586005597098
    },
    {
     "file_id": "1x17ANn3WW9PJckaEQSlkio5gn7dkPN-k",
     "timestamp": 1586005574311
    },
    {
     "file_id": "1wrfznjw3XLiV6JfDZxRvB0FBT5wBDZ0I",
     "timestamp": 1586005511862
    },
    {
     "file_id": "1dOYwkMe0ADYqIypoTsfACJ0m1aC2wFkJ",
     "timestamp": 1585991244277
    },
    {
     "file_id": "1f9SevfjtTDJD6CO-HfNW-osiYvgrGJvN",
     "timestamp": 1585991217369
    },
    {
     "file_id": "1XWPqI_yXRmz4PenEhf7W2irFoa6HT6uF",
     "timestamp": 1585991195574
    },
    {
     "file_id": "1XNOEqHACPONOBz8ZN9L-aSYsuM0I2xJd",
     "timestamp": 1585991128475
    },
    {
     "file_id": "1E3y3-KvBsy9UapPVrGZypZT00YexjZbR",
     "timestamp": 1585955348971
    },
    {
     "file_id": "116DV5OYEC78n8Tdpt9Q7_MzL_TdLq6Qe",
     "timestamp": 1585955020650
    },
    {
     "file_id": "14GYMrkofK2E3cxEXO0Wa3eUO1nV6TOXr",
     "timestamp": 1585941706806
    },
    {
     "file_id": "1vcnE6D3-w6WNefC-orZ7W0KpV6HOmgnW",
     "timestamp": 1585781564679
    },
    {
     "file_id": "1CuKotTscUY4BCBXthHtT6SvrXJtC5f2I",
     "timestamp": 1585484980455
    },
    {
     "file_id": "1q5wJQ8TKeGV62hAt3Qj8gTaCOJkqUNgd",
     "timestamp": 1585323933479
    }
   ],
   "toc_visible": true
  },
  "kernelspec": {
   "display_name": "Python 3",
   "language": "python",
   "name": "python3"
  },
  "language_info": {
   "codemirror_mode": {
    "name": "ipython",
    "version": 3
   },
   "file_extension": ".py",
   "mimetype": "text/x-python",
   "name": "python",
   "nbconvert_exporter": "python",
   "pygments_lexer": "ipython3",
   "version": "3.7.6"
  }
 },
 "nbformat": 4,
 "nbformat_minor": 4
}
