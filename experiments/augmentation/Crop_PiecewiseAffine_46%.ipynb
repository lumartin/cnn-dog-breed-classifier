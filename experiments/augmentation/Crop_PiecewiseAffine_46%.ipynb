{
 "cells": [
  {
   "cell_type": "code",
   "execution_count": 1,
   "metadata": {
    "colab": {
     "base_uri": "https://localhost:8080/",
     "height": 122
    },
    "colab_type": "code",
    "executionInfo": {
     "elapsed": 30090,
     "status": "ok",
     "timestamp": 1587682383528,
     "user": {
      "displayName": "Luis Martín",
      "photoUrl": "",
      "userId": "05136960784416304431"
     },
     "user_tz": -120
    },
    "id": "JXxOTx7DU-o4",
    "outputId": "35c9c40a-8109-4d9a-881f-158020b4922d"
   },
   "outputs": [
    {
     "name": "stdout",
     "output_type": "stream",
     "text": [
      "Go to this URL in a browser: https://accounts.google.com/o/oauth2/auth?client_id=947318989803-6bn6qk8qdgf4n4g3pfee6491hc0brc4i.apps.googleusercontent.com&redirect_uri=urn%3aietf%3awg%3aoauth%3a2.0%3aoob&response_type=code&scope=email%20https%3a%2f%2fwww.googleapis.com%2fauth%2fdocs.test%20https%3a%2f%2fwww.googleapis.com%2fauth%2fdrive%20https%3a%2f%2fwww.googleapis.com%2fauth%2fdrive.photos.readonly%20https%3a%2f%2fwww.googleapis.com%2fauth%2fpeopleapi.readonly\n",
      "\n",
      "Enter your authorization code:\n",
      "··········\n",
      "Mounted at /content/drive\n"
     ]
    }
   ],
   "source": [
    "from google.colab import drive\n",
    "drive.mount('/content/drive')"
   ]
  },
  {
   "cell_type": "code",
   "execution_count": null,
   "metadata": {
    "colab": {},
    "colab_type": "code",
    "id": "qkVY9R0tYZw3"
   },
   "outputs": [],
   "source": [
    "#%%capture\n",
    "#!wget -N https://s3-us-west-1.amazonaws.com/udacity-aind/dog-project/dogImages.zip\n",
    "#!unzip -o /content/dogImages.zip\n",
    "#!mv /content/dogImages /content/drive/My\\ Drive/dog-breeds/dog_images"
   ]
  },
  {
   "cell_type": "markdown",
   "metadata": {
    "colab_type": "text",
    "id": "SE3rFGLpoYhJ"
   },
   "source": [
    "# Configuration & utilities\n",
    "\n",
    "Here we define the configuration parameters, dependencies and utility functions needed for the experiment. You may only need to specify the 'experiment_description' value in the first line of code, and the paths identifying the project and the different datasets. "
   ]
  },
  {
   "cell_type": "code",
   "execution_count": 3,
   "metadata": {
    "colab": {
     "base_uri": "https://localhost:8080/",
     "height": 34
    },
    "colab_type": "code",
    "executionInfo": {
     "elapsed": 3036,
     "status": "ok",
     "timestamp": 1587682446392,
     "user": {
      "displayName": "Luis Martín",
      "photoUrl": "",
      "userId": "05136960784416304431"
     },
     "user_tz": -120
    },
    "id": "GbuFvy-OAzXp",
    "outputId": "f54cb665-705d-4bbd-85b5-22e423b34818"
   },
   "outputs": [
    {
     "name": "stdout",
     "output_type": "stream",
     "text": [
      "There are 8351 total dog images.\n"
     ]
    }
   ],
   "source": [
    "import numpy as np\n",
    "from glob import glob\n",
    "import sys\n",
    "\n",
    "experiment_description = 'best_scenario_replay'\n",
    "project_path = '/content/drive/My Drive/dog-breeds/'\n",
    "\n",
    "##################### DO NOT MODIFY ################################\n",
    "\n",
    "experiment_location = project_path + experiment_description\n",
    "escaped_exp_location = experiment_location.replace(\" \", \"\\\\ \")\n",
    "!mkdir $escaped_exp_location\n",
    "model_file = experiment_location + '/model_ ' + experiment_description\n",
    "output_file = experiment_location + '/' + experiment_description\n",
    "sys.path.append(project_path)\n",
    "##################### END: DO NOT MODIFY ###########################\n",
    "\n",
    "dog_files = np.array(glob(project_path + \"dog_images/*/*/*\"))\n",
    "print('There are %d total dog images.' % len(dog_files))\n",
    "train_path = project_path + 'dog_images/train'\n",
    "validation_path = project_path +'dog_images/valid'\n",
    "test_path = project_path +'dog_images/test'\n",
    "\n",
    "\n",
    "def print_gpu():\n",
    "  gpu_info = !nvidia-smi\n",
    "  gpu_info = '\\n'.join(gpu_info)\n",
    "  if gpu_info.find('failed') >= 0:\n",
    "    print('Select the Runtime → \"Change runtime type\" menu to enable a GPU accelerator, ')\n",
    "    print('and then re-execute this cell.')\n",
    "  else:\n",
    "    print(gpu_info) "
   ]
  },
  {
   "cell_type": "markdown",
   "metadata": {
    "colab_type": "text",
    "id": "SVQ7DTfXq7m4"
   },
   "source": [
    "# Experiment\n",
    "\n",
    "A lot of things here need to be separated:\n",
    "\n",
    " - Creation of dataset loaders\n",
    " - NN architecture\n",
    " - Hyperparameter dictionaries\n",
    " - Testing and Rebooting functions\n",
    " - Experiment loop\n",
    " - Visualization"
   ]
  },
  {
   "cell_type": "code",
   "execution_count": 4,
   "metadata": {
    "colab": {
     "base_uri": "https://localhost:8080/",
     "height": 1000
    },
    "colab_type": "code",
    "executionInfo": {
     "elapsed": 27554566,
     "status": "ok",
     "timestamp": 1587711569526,
     "user": {
      "displayName": "Luis Martín",
      "photoUrl": "",
      "userId": "05136960784416304431"
     },
     "user_tz": -120
    },
    "id": "ksid6BWZJlFO",
    "outputId": "8253066f-4632-46b8-909c-e94fc7edd920"
   },
   "outputs": [
    {
     "name": "stdout",
     "output_type": "stream",
     "text": [
      "ResNet(\n",
      "  (conv1): Sequential(\n",
      "    (0): Conv2d(3, 64, kernel_size=(3, 3), stride=(1, 1), padding=(1, 1), bias=False)\n",
      "    (1): BatchNorm2d(64, eps=1e-05, momentum=0.1, affine=True, track_running_stats=True)\n",
      "    (2): ReLU(inplace=True)\n",
      "  )\n",
      "  (conv2_x): Sequential(\n",
      "    (0): BasicBlock(\n",
      "      (residual_function): Sequential(\n",
      "        (0): Conv2d(64, 64, kernel_size=(3, 3), stride=(1, 1), padding=(1, 1), bias=False)\n",
      "        (1): BatchNorm2d(64, eps=1e-05, momentum=0.1, affine=True, track_running_stats=True)\n",
      "        (2): ReLU(inplace=True)\n",
      "        (3): Conv2d(64, 64, kernel_size=(3, 3), stride=(1, 1), padding=(1, 1), bias=False)\n",
      "        (4): BatchNorm2d(64, eps=1e-05, momentum=0.1, affine=True, track_running_stats=True)\n",
      "      )\n",
      "      (shortcut): Sequential()\n",
      "    )\n",
      "    (1): BasicBlock(\n",
      "      (residual_function): Sequential(\n",
      "        (0): Conv2d(64, 64, kernel_size=(3, 3), stride=(1, 1), padding=(1, 1), bias=False)\n",
      "        (1): BatchNorm2d(64, eps=1e-05, momentum=0.1, affine=True, track_running_stats=True)\n",
      "        (2): ReLU(inplace=True)\n",
      "        (3): Conv2d(64, 64, kernel_size=(3, 3), stride=(1, 1), padding=(1, 1), bias=False)\n",
      "        (4): BatchNorm2d(64, eps=1e-05, momentum=0.1, affine=True, track_running_stats=True)\n",
      "      )\n",
      "      (shortcut): Sequential()\n",
      "    )\n",
      "  )\n",
      "  (conv3_x): Sequential(\n",
      "    (0): BasicBlock(\n",
      "      (residual_function): Sequential(\n",
      "        (0): Conv2d(64, 128, kernel_size=(3, 3), stride=(2, 2), padding=(1, 1), bias=False)\n",
      "        (1): BatchNorm2d(128, eps=1e-05, momentum=0.1, affine=True, track_running_stats=True)\n",
      "        (2): ReLU(inplace=True)\n",
      "        (3): Conv2d(128, 128, kernel_size=(3, 3), stride=(1, 1), padding=(1, 1), bias=False)\n",
      "        (4): BatchNorm2d(128, eps=1e-05, momentum=0.1, affine=True, track_running_stats=True)\n",
      "      )\n",
      "      (shortcut): Sequential(\n",
      "        (0): Conv2d(64, 128, kernel_size=(1, 1), stride=(2, 2), bias=False)\n",
      "        (1): BatchNorm2d(128, eps=1e-05, momentum=0.1, affine=True, track_running_stats=True)\n",
      "      )\n",
      "    )\n",
      "    (1): BasicBlock(\n",
      "      (residual_function): Sequential(\n",
      "        (0): Conv2d(128, 128, kernel_size=(3, 3), stride=(1, 1), padding=(1, 1), bias=False)\n",
      "        (1): BatchNorm2d(128, eps=1e-05, momentum=0.1, affine=True, track_running_stats=True)\n",
      "        (2): ReLU(inplace=True)\n",
      "        (3): Conv2d(128, 128, kernel_size=(3, 3), stride=(1, 1), padding=(1, 1), bias=False)\n",
      "        (4): BatchNorm2d(128, eps=1e-05, momentum=0.1, affine=True, track_running_stats=True)\n",
      "      )\n",
      "      (shortcut): Sequential()\n",
      "    )\n",
      "  )\n",
      "  (conv4_x): Sequential(\n",
      "    (0): BasicBlock(\n",
      "      (residual_function): Sequential(\n",
      "        (0): Conv2d(128, 256, kernel_size=(3, 3), stride=(2, 2), padding=(1, 1), bias=False)\n",
      "        (1): BatchNorm2d(256, eps=1e-05, momentum=0.1, affine=True, track_running_stats=True)\n",
      "        (2): ReLU(inplace=True)\n",
      "        (3): Conv2d(256, 256, kernel_size=(3, 3), stride=(1, 1), padding=(1, 1), bias=False)\n",
      "        (4): BatchNorm2d(256, eps=1e-05, momentum=0.1, affine=True, track_running_stats=True)\n",
      "      )\n",
      "      (shortcut): Sequential(\n",
      "        (0): Conv2d(128, 256, kernel_size=(1, 1), stride=(2, 2), bias=False)\n",
      "        (1): BatchNorm2d(256, eps=1e-05, momentum=0.1, affine=True, track_running_stats=True)\n",
      "      )\n",
      "    )\n",
      "    (1): BasicBlock(\n",
      "      (residual_function): Sequential(\n",
      "        (0): Conv2d(256, 256, kernel_size=(3, 3), stride=(1, 1), padding=(1, 1), bias=False)\n",
      "        (1): BatchNorm2d(256, eps=1e-05, momentum=0.1, affine=True, track_running_stats=True)\n",
      "        (2): ReLU(inplace=True)\n",
      "        (3): Conv2d(256, 256, kernel_size=(3, 3), stride=(1, 1), padding=(1, 1), bias=False)\n",
      "        (4): BatchNorm2d(256, eps=1e-05, momentum=0.1, affine=True, track_running_stats=True)\n",
      "      )\n",
      "      (shortcut): Sequential()\n",
      "    )\n",
      "  )\n",
      "  (conv5_x): Sequential(\n",
      "    (0): BasicBlock(\n",
      "      (residual_function): Sequential(\n",
      "        (0): Conv2d(256, 512, kernel_size=(3, 3), stride=(2, 2), padding=(1, 1), bias=False)\n",
      "        (1): BatchNorm2d(512, eps=1e-05, momentum=0.1, affine=True, track_running_stats=True)\n",
      "        (2): ReLU(inplace=True)\n",
      "        (3): Conv2d(512, 512, kernel_size=(3, 3), stride=(1, 1), padding=(1, 1), bias=False)\n",
      "        (4): BatchNorm2d(512, eps=1e-05, momentum=0.1, affine=True, track_running_stats=True)\n",
      "      )\n",
      "      (shortcut): Sequential(\n",
      "        (0): Conv2d(256, 512, kernel_size=(1, 1), stride=(2, 2), bias=False)\n",
      "        (1): BatchNorm2d(512, eps=1e-05, momentum=0.1, affine=True, track_running_stats=True)\n",
      "      )\n",
      "    )\n",
      "    (1): BasicBlock(\n",
      "      (residual_function): Sequential(\n",
      "        (0): Conv2d(512, 512, kernel_size=(3, 3), stride=(1, 1), padding=(1, 1), bias=False)\n",
      "        (1): BatchNorm2d(512, eps=1e-05, momentum=0.1, affine=True, track_running_stats=True)\n",
      "        (2): ReLU(inplace=True)\n",
      "        (3): Conv2d(512, 512, kernel_size=(3, 3), stride=(1, 1), padding=(1, 1), bias=False)\n",
      "        (4): BatchNorm2d(512, eps=1e-05, momentum=0.1, affine=True, track_running_stats=True)\n",
      "      )\n",
      "      (shortcut): Sequential()\n",
      "    )\n",
      "  )\n",
      "  (avg_pool): AdaptiveAvgPool2d(output_size=(1, 1))\n",
      "  (fc): Linear(in_features=512, out_features=133, bias=True)\n",
      ")\n",
      "Sat Apr  4 20:35:20 2020       \n",
      "+-----------------------------------------------------------------------------+\n",
      "| NVIDIA-SMI 440.64.00    Driver Version: 418.67       CUDA Version: 10.1     |\n",
      "|-------------------------------+----------------------+----------------------+\n",
      "| GPU  Name        Persistence-M| Bus-Id        Disp.A | Volatile Uncorr. ECC |\n",
      "| Fan  Temp  Perf  Pwr:Usage/Cap|         Memory-Usage | GPU-Util  Compute M. |\n",
      "|===============================+======================+======================|\n",
      "|   0  Tesla P100-PCIE...  Off  | 00000000:00:04.0 Off |                    0 |\n",
      "| N/A   36C    P0    32W / 250W |    781MiB / 16280MiB |      0%      Default |\n",
      "+-------------------------------+----------------------+----------------------+\n",
      "                                                                               \n",
      "+-----------------------------------------------------------------------------+\n",
      "| Processes:                                                       GPU Memory |\n",
      "|  GPU       PID   Type   Process name                             Usage      |\n",
      "|=============================================================================|\n",
      "+-----------------------------------------------------------------------------+\n",
      "Adam (\n",
      "Parameter Group 0\n",
      "    amsgrad: False\n",
      "    betas: (0.9, 0.999)\n",
      "    eps: 1e-08\n",
      "    lr: 0.0015\n",
      "    weight_decay: 0\n",
      ")\n",
      "Epoch: 1 \tTraining Loss: 4.889048 \tValidation Loss: 4.811027 \tTime spent: 312.601462\n",
      "Epoch: 2 \tTraining Loss: 4.660752 \tValidation Loss: 4.974927 \tTime spent: 312.770018\n",
      "Epoch: 3 \tTraining Loss: 4.593460 \tValidation Loss: 4.665462 \tTime spent: 310.114560\n",
      "Epoch: 4 \tTraining Loss: 4.536084 \tValidation Loss: 4.641092 \tTime spent: 308.537619\n",
      "Epoch: 5 \tTraining Loss: 4.460329 \tValidation Loss: 4.738426 \tTime spent: 304.582726\n",
      "Epoch: 6 \tTraining Loss: 4.393894 \tValidation Loss: 4.388098 \tTime spent: 304.317084\n",
      "Epoch: 7 \tTraining Loss: 4.292981 \tValidation Loss: 4.367233 \tTime spent: 306.680805\n",
      "Epoch: 8 \tTraining Loss: 4.213612 \tValidation Loss: 4.533437 \tTime spent: 305.979572\n",
      "Epoch: 9 \tTraining Loss: 4.135509 \tValidation Loss: 4.190107 \tTime spent: 309.075408\n",
      "Epoch: 10 \tTraining Loss: 4.047760 \tValidation Loss: 4.401136 \tTime spent: 310.659342\n",
      "Epoch: 11 \tTraining Loss: 3.964675 \tValidation Loss: 4.122437 \tTime spent: 306.241422\n",
      "Epoch: 12 \tTraining Loss: 3.883736 \tValidation Loss: 3.940369 \tTime spent: 305.926208\n",
      "Epoch: 13 \tTraining Loss: 3.810547 \tValidation Loss: 4.012016 \tTime spent: 304.202407\n",
      "Epoch: 14 \tTraining Loss: 3.752377 \tValidation Loss: 4.494751 \tTime spent: 303.121095\n",
      "Epoch: 15 \tTraining Loss: 3.686401 \tValidation Loss: 3.952458 \tTime spent: 301.847631\n",
      "Epoch: 16 \tTraining Loss: 3.634777 \tValidation Loss: 3.779232 \tTime spent: 306.814999\n",
      "Epoch: 17 \tTraining Loss: 3.560489 \tValidation Loss: 3.806309 \tTime spent: 306.521553\n",
      "Epoch: 18 \tTraining Loss: 3.511124 \tValidation Loss: 3.615498 \tTime spent: 302.405262\n",
      "Epoch: 19 \tTraining Loss: 3.440125 \tValidation Loss: 3.567965 \tTime spent: 304.553735\n",
      "Epoch: 20 \tTraining Loss: 3.421866 \tValidation Loss: 3.599539 \tTime spent: 304.356310\n",
      "Epoch: 21 \tTraining Loss: 3.352648 \tValidation Loss: 3.633659 \tTime spent: 304.698212\n",
      "Epoch: 22 \tTraining Loss: 3.271104 \tValidation Loss: 3.643686 \tTime spent: 302.383132\n",
      "Epoch: 23 \tTraining Loss: 3.218278 \tValidation Loss: 3.431979 \tTime spent: 300.229023\n",
      "Epoch: 24 \tTraining Loss: 3.183118 \tValidation Loss: 3.367305 \tTime spent: 301.202009\n",
      "Epoch: 25 \tTraining Loss: 3.103054 \tValidation Loss: 3.637559 \tTime spent: 303.892417\n",
      "Epoch: 26 \tTraining Loss: 3.058249 \tValidation Loss: 3.403848 \tTime spent: 300.291669\n",
      "Epoch: 27 \tTraining Loss: 2.997645 \tValidation Loss: 3.274014 \tTime spent: 300.305342\n",
      "Epoch: 28 \tTraining Loss: 2.947891 \tValidation Loss: 3.258094 \tTime spent: 299.472413\n",
      "Epoch: 29 \tTraining Loss: 2.899293 \tValidation Loss: 3.241202 \tTime spent: 303.011716\n",
      "Epoch: 30 \tTraining Loss: 2.818188 \tValidation Loss: 3.090535 \tTime spent: 299.958589\n",
      "Epoch: 31 \tTraining Loss: 2.777845 \tValidation Loss: 3.177862 \tTime spent: 300.180065\n",
      "Epoch: 32 \tTraining Loss: 2.748718 \tValidation Loss: 3.377367 \tTime spent: 302.711994\n",
      "Epoch: 33 \tTraining Loss: 2.676108 \tValidation Loss: 3.305432 \tTime spent: 299.646786\n",
      "Epoch: 34 \tTraining Loss: 2.623113 \tValidation Loss: 3.060851 \tTime spent: 299.293458\n",
      "Epoch: 35 \tTraining Loss: 2.578367 \tValidation Loss: 2.991806 \tTime spent: 301.299784\n",
      "Epoch: 36 \tTraining Loss: 2.507715 \tValidation Loss: 2.994404 \tTime spent: 301.897435\n",
      "Epoch: 37 \tTraining Loss: 2.473176 \tValidation Loss: 2.821041 \tTime spent: 298.749038\n",
      "Epoch: 38 \tTraining Loss: 2.413400 \tValidation Loss: 2.911694 \tTime spent: 300.042915\n",
      "Epoch: 39 \tTraining Loss: 2.341744 \tValidation Loss: 2.894408 \tTime spent: 300.890867\n",
      "Epoch: 40 \tTraining Loss: 2.293229 \tValidation Loss: 2.786821 \tTime spent: 302.538418\n",
      "Epoch: 41 \tTraining Loss: 2.243427 \tValidation Loss: 3.421385 \tTime spent: 301.541113\n",
      "Epoch: 42 \tTraining Loss: 2.172734 \tValidation Loss: 2.599652 \tTime spent: 301.718638\n",
      "Epoch: 43 \tTraining Loss: 2.106104 \tValidation Loss: 2.621044 \tTime spent: 301.873843\n",
      "Epoch: 44 \tTraining Loss: 2.064924 \tValidation Loss: 2.802649 \tTime spent: 298.820515\n",
      "Epoch: 45 \tTraining Loss: 2.024831 \tValidation Loss: 2.905055 \tTime spent: 300.481760\n",
      "Epoch: 46 \tTraining Loss: 1.958926 \tValidation Loss: 2.760679 \tTime spent: 298.726418\n",
      "Epoch: 47 \tTraining Loss: 1.906239 \tValidation Loss: 2.684288 \tTime spent: 302.130072\n",
      "Epoch: 48 \tTraining Loss: 1.848109 \tValidation Loss: 2.743956 \tTime spent: 302.037438\n",
      "Epoch: 49 \tTraining Loss: 1.798972 \tValidation Loss: 2.402002 \tTime spent: 300.937847\n",
      "Epoch: 50 \tTraining Loss: 1.725974 \tValidation Loss: 2.626128 \tTime spent: 300.377705\n",
      "Epoch: 51 \tTraining Loss: 1.681106 \tValidation Loss: 2.456511 \tTime spent: 302.258443\n",
      "Epoch: 52 \tTraining Loss: 1.637738 \tValidation Loss: 2.356359 \tTime spent: 296.684068\n",
      "Epoch: 53 \tTraining Loss: 1.584382 \tValidation Loss: 2.381494 \tTime spent: 300.878780\n",
      "Epoch: 54 \tTraining Loss: 1.557819 \tValidation Loss: 2.375488 \tTime spent: 301.990912\n",
      "Epoch: 55 \tTraining Loss: 1.545893 \tValidation Loss: 2.408452 \tTime spent: 301.732898\n",
      "Epoch: 56 \tTraining Loss: 1.488195 \tValidation Loss: 2.239655 \tTime spent: 298.687318\n",
      "Epoch: 57 \tTraining Loss: 1.428146 \tValidation Loss: 2.489825 \tTime spent: 298.635211\n",
      "Epoch: 58 \tTraining Loss: 1.392619 \tValidation Loss: 2.137991 \tTime spent: 303.914811\n",
      "Epoch: 59 \tTraining Loss: 1.323098 \tValidation Loss: 2.466526 \tTime spent: 302.115559\n",
      "Epoch: 60 \tTraining Loss: 1.297131 \tValidation Loss: 2.386712 \tTime spent: 298.129040\n",
      "Epoch: 61 \tTraining Loss: 1.275998 \tValidation Loss: 2.293807 \tTime spent: 297.935431\n",
      "Epoch: 62 \tTraining Loss: 1.253906 \tValidation Loss: 2.428473 \tTime spent: 301.828053\n",
      "Epoch: 63 \tTraining Loss: 1.217087 \tValidation Loss: 2.493427 \tTime spent: 301.675822\n",
      "Epoch: 64 \tTraining Loss: 1.212382 \tValidation Loss: 2.339460 \tTime spent: 300.829943\n",
      "Epoch: 65 \tTraining Loss: 1.122930 \tValidation Loss: 2.433415 \tTime spent: 303.607596\n",
      "Epoch: 66 \tTraining Loss: 1.098780 \tValidation Loss: 2.288146 \tTime spent: 297.964163\n",
      "Epoch: 67 \tTraining Loss: 1.044537 \tValidation Loss: 2.344893 \tTime spent: 301.576278\n",
      "Epoch: 68 \tTraining Loss: 1.041810 \tValidation Loss: 2.290636 \tTime spent: 301.179267\n",
      "Epoch: 69 \tTraining Loss: 1.002178 \tValidation Loss: 2.213661 \tTime spent: 298.514287\n",
      "Epoch: 70 \tTraining Loss: 0.998060 \tValidation Loss: 2.368714 \tTime spent: 297.730434\n",
      "Epoch: 71 \tTraining Loss: 0.999002 \tValidation Loss: 2.273911 \tTime spent: 299.459602\n",
      "Epoch: 72 \tTraining Loss: 0.934716 \tValidation Loss: 2.214417 \tTime spent: 297.138688\n",
      "Epoch: 73 \tTraining Loss: 0.924623 \tValidation Loss: 2.239957 \tTime spent: 300.603743\n",
      "Epoch: 74 \tTraining Loss: 0.886512 \tValidation Loss: 2.187455 \tTime spent: 301.136299\n",
      "Epoch: 75 \tTraining Loss: 0.866112 \tValidation Loss: 2.261209 \tTime spent: 297.633888\n",
      "Epoch: 76 \tTraining Loss: 0.848052 \tValidation Loss: 2.330476 \tTime spent: 302.137540\n",
      "Epoch: 77 \tTraining Loss: 0.840304 \tValidation Loss: 2.384078 \tTime spent: 302.677927\n",
      "Epoch: 78 \tTraining Loss: 0.823089 \tValidation Loss: 2.520044 \tTime spent: 301.770532\n",
      "Epoch: 79 \tTraining Loss: 0.819901 \tValidation Loss: 2.724804 \tTime spent: 301.113767\n",
      "Epoch: 80 \tTraining Loss: 0.792745 \tValidation Loss: 2.321102 \tTime spent: 300.412590\n",
      "Epoch: 81 \tTraining Loss: 0.763375 \tValidation Loss: 2.257915 \tTime spent: 301.631861\n",
      "Epoch: 82 \tTraining Loss: 0.747902 \tValidation Loss: 2.297763 \tTime spent: 303.090268\n",
      "Epoch: 83 \tTraining Loss: 0.718198 \tValidation Loss: 2.389377 \tTime spent: 299.690037\n",
      "Epoch: 84 \tTraining Loss: 0.710026 \tValidation Loss: 2.367416 \tTime spent: 303.133298\n",
      "Epoch: 85 \tTraining Loss: 0.722310 \tValidation Loss: 2.283890 \tTime spent: 298.238453\n",
      "Epoch: 86 \tTraining Loss: 0.707436 \tValidation Loss: 2.554707 \tTime spent: 311.824234\n",
      "Epoch: 87 \tTraining Loss: 0.667413 \tValidation Loss: 2.263482 \tTime spent: 310.187430\n",
      "Epoch: 88 \tTraining Loss: 0.680623 \tValidation Loss: 2.483958 \tTime spent: 311.334769\n",
      "Epoch: 89 \tTraining Loss: 0.677884 \tValidation Loss: 2.219415 \tTime spent: 306.275056\n",
      "Epoch: 90 \tTraining Loss: 0.673078 \tValidation Loss: 2.500027 \tTime spent: 304.332269\n",
      "Epoch: 91 \tTraining Loss: 0.624268 \tValidation Loss: 2.383072 \tTime spent: 304.554392\n",
      "Epoch: 92 \tTraining Loss: 0.645698 \tValidation Loss: 2.213094 \tTime spent: 306.099751\n",
      "Epoch: 93 \tTraining Loss: 0.624263 \tValidation Loss: 2.423635 \tTime spent: 307.846215\n",
      "Epoch: 94 \tTraining Loss: 0.607491 \tValidation Loss: 2.321380 \tTime spent: 311.485974\n",
      "Epoch: 95 \tTraining Loss: 0.595140 \tValidation Loss: 2.286453 \tTime spent: 310.217933\n",
      "Epoch: 96 \tTraining Loss: 0.595766 \tValidation Loss: 2.652033 \tTime spent: 310.500906\n",
      "Epoch: 97 \tTraining Loss: 0.556985 \tValidation Loss: 2.495936 \tTime spent: 310.817787\n",
      "Epoch: 98 \tTraining Loss: 0.596676 \tValidation Loss: 2.304636 \tTime spent: 310.512410\n",
      "Epoch: 99 \tTraining Loss: 0.561122 \tValidation Loss: 2.540735 \tTime spent: 309.161132\n",
      "Epoch: 100 \tTraining Loss: 0.575175 \tValidation Loss: 2.460747 \tTime spent: 305.928311\n",
      "time spent:  8:25:13.022437\n",
      "Minimum trainig loss:  0.5569854974746704\n",
      "Minimum validation loss:  2.137990951538086\n"
     ]
    },
    {
     "data": {
      "image/png": "[encoded data removed]",
      "text/plain": [
       "<Figure size 432x288 with 1 Axes>"
      ]
     },
     "metadata": {
      "image/png": {
       "height": 248,
       "width": 362
      },
      "tags": []
     },
     "output_type": "display_data"
    },
    {
     "name": "stdout",
     "output_type": "stream",
     "text": [
      "Test Loss: 2.152018\n",
      "\n",
      "Test Accuracy: 46% (386/836)\n",
      "\n",
      "\n"
     ]
    }
   ],
   "source": [
    "%matplotlib inline\n",
    "%config InlineBackend.figure_format = 'retina'\n",
    "from utils.preprocess import *\n",
    "from utils.resnet_model import *\n",
    "from utils.train import *\n",
    "from utils.simple_model import *\n",
    "import torch.optim as optim\n",
    "from PIL import ImageFile\n",
    "\n",
    "ImageFile.LOAD_TRUNCATED_IMAGES = True\n",
    "\n",
    "sometimes = lambda aug: iaa.Sometimes(0.5, aug)\n",
    "\n",
    "augmentations = [\n",
    "        [\n",
    "        sometimes(iaa.Crop(percent=(0, 0.45))),\n",
    "        sometimes(iaa.PiecewiseAffine(scale=(0.01, 0.05)))\n",
    "        ]\n",
    "]\n",
    "learning_rates = [\n",
    "                 0.0015\n",
    "                 ]\n",
    "optimizers = [\n",
    "             optim.Adam\n",
    "             ]\n",
    "models = [\n",
    "         resnet18()\n",
    "         ]\n",
    "         \n",
    "paths = {\n",
    "    'train_path' : train_path,\n",
    "    'validation_path' : validation_path,\n",
    "    'test_path' : test_path\n",
    "}\n",
    "\n",
    "\n",
    "hyperparameters_dictionary = {\n",
    "    'augmentations' : augmentations,\n",
    "    'learning_rates' : learning_rates,\n",
    "    'epochs' : 100,\n",
    "    'optimizers' : optimizers,\n",
    "    'models' : models\n",
    "}\n",
    "\n",
    "print_gpu()\n",
    "run_experiments(paths, hyperparameters_dictionary, model_file)\n",
    "\n",
    "\n"
   ]
  },
  {
   "cell_type": "code",
   "execution_count": null,
   "metadata": {
    "colab": {},
    "colab_type": "code",
    "id": "JIajAq0W3g08"
   },
   "outputs": [],
   "source": []
  }
 ],
 "metadata": {
  "accelerator": "GPU",
  "anaconda-cloud": {},
  "colab": {
   "collapsed_sections": [],
   "name": "best_scenario_replay.ipynb",
   "provenance": [
    {
     "file_id": "1OjCJi1WTxHyoX3PJv-O2nnwOTT2llm1K",
     "timestamp": 1586133248550
    },
    {
     "file_id": "1nDZaK8ZxAz8K8x1nvxH5hJxNrFdDGOGW",
     "timestamp": 1586132559362
    },
    {
     "file_id": "1CB8ottEi6O0V1byMpFFwPGAsDASBjZMB",
     "timestamp": 1586083613524
    },
    {
     "file_id": "1Z8yuY-OvTPNR_I39ExXUOetQgZCd5ai3",
     "timestamp": 1586083560447
    },
    {
     "file_id": "1CCtPCrvTO1eJTvBKDYBNh1qzbLulOgIB",
     "timestamp": 1586083192152
    },
    {
     "file_id": "1XEMq3W--Egp-IwHfHLUl8fooafAISsSq",
     "timestamp": 1586046109632
    },
    {
     "file_id": "1M6NnHno6mb6UmPwY3rLfVYIgx4r300qj",
     "timestamp": 1586045971599
    },
    {
     "file_id": "1nfhbSpamn1nTIQ94KZMjeAJvJQuUvQWH",
     "timestamp": 1586019294461
    },
    {
     "file_id": "1S5b4ZZBlAQH0-QI2rR3Klay6plHwlSG4",
     "timestamp": 1586019186582
    },
    {
     "file_id": "1x43TFVwxZ-RIkjvpxoh231Lvtt-ikN2C",
     "timestamp": 1586019059898
    },
    {
     "file_id": "18_yL6W-Q1P8P1xqcCJPCNjg_8OeZTD69",
     "timestamp": 1586005625719
    },
    {
     "file_id": "1r2_wvotCDm3k_r_TLNHFwiyqgwyV5KkQ",
     "timestamp": 1586005597098
    },
    {
     "file_id": "1x17ANn3WW9PJckaEQSlkio5gn7dkPN-k",
     "timestamp": 1586005574311
    },
    {
     "file_id": "1wrfznjw3XLiV6JfDZxRvB0FBT5wBDZ0I",
     "timestamp": 1586005511862
    },
    {
     "file_id": "1dOYwkMe0ADYqIypoTsfACJ0m1aC2wFkJ",
     "timestamp": 1585991244277
    },
    {
     "file_id": "1f9SevfjtTDJD6CO-HfNW-osiYvgrGJvN",
     "timestamp": 1585991217369
    },
    {
     "file_id": "1XWPqI_yXRmz4PenEhf7W2irFoa6HT6uF",
     "timestamp": 1585991195574
    },
    {
     "file_id": "1XNOEqHACPONOBz8ZN9L-aSYsuM0I2xJd",
     "timestamp": 1585991128475
    },
    {
     "file_id": "1E3y3-KvBsy9UapPVrGZypZT00YexjZbR",
     "timestamp": 1585955348971
    },
    {
     "file_id": "116DV5OYEC78n8Tdpt9Q7_MzL_TdLq6Qe",
     "timestamp": 1585955020650
    },
    {
     "file_id": "14GYMrkofK2E3cxEXO0Wa3eUO1nV6TOXr",
     "timestamp": 1585941706806
    },
    {
     "file_id": "1vcnE6D3-w6WNefC-orZ7W0KpV6HOmgnW",
     "timestamp": 1585781564679
    },
    {
     "file_id": "1CuKotTscUY4BCBXthHtT6SvrXJtC5f2I",
     "timestamp": 1585484980455
    },
    {
     "file_id": "1q5wJQ8TKeGV62hAt3Qj8gTaCOJkqUNgd",
     "timestamp": 1585323933479
    }
   ],
   "toc_visible": true
  },
  "kernelspec": {
   "display_name": "Python 3",
   "language": "python",
   "name": "python3"
  },
  "language_info": {
   "codemirror_mode": {
    "name": "ipython",
    "version": 3
   },
   "file_extension": ".py",
   "mimetype": "text/x-python",
   "name": "python",
   "nbconvert_exporter": "python",
   "pygments_lexer": "ipython3",
   "version": "3.7.6"
  }
 },
 "nbformat": 4,
 "nbformat_minor": 4
}
