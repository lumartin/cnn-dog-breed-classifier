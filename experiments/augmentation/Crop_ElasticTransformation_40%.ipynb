{
 "cells": [
  {
   "cell_type": "code",
   "execution_count": 1,
   "metadata": {
    "colab": {
     "base_uri": "https://localhost:8080/",
     "height": 122
    },
    "colab_type": "code",
    "executionInfo": {
     "elapsed": 30090,
     "status": "ok",
     "timestamp": 1587682383528,
     "user": {
      "displayName": "Luis Martín",
      "photoUrl": "",
      "userId": "05136960784416304431"
     },
     "user_tz": -120
    },
    "id": "JXxOTx7DU-o4",
    "outputId": "35c9c40a-8109-4d9a-881f-158020b4922d"
   },
   "outputs": [
    {
     "name": "stdout",
     "output_type": "stream",
     "text": [
      "Go to this URL in a browser: https://accounts.google.com/o/oauth2/auth?client_id=947318989803-6bn6qk8qdgf4n4g3pfee6491hc0brc4i.apps.googleusercontent.com&redirect_uri=urn%3aietf%3awg%3aoauth%3a2.0%3aoob&response_type=code&scope=email%20https%3a%2f%2fwww.googleapis.com%2fauth%2fdocs.test%20https%3a%2f%2fwww.googleapis.com%2fauth%2fdrive%20https%3a%2f%2fwww.googleapis.com%2fauth%2fdrive.photos.readonly%20https%3a%2f%2fwww.googleapis.com%2fauth%2fpeopleapi.readonly\n",
      "\n",
      "Enter your authorization code:\n",
      "··········\n",
      "Mounted at /content/drive\n"
     ]
    }
   ],
   "source": [
    "from google.colab import drive\n",
    "drive.mount('/content/drive')"
   ]
  },
  {
   "cell_type": "code",
   "execution_count": null,
   "metadata": {
    "colab": {},
    "colab_type": "code",
    "id": "qkVY9R0tYZw3"
   },
   "outputs": [],
   "source": [
    "#%%capture\n",
    "#!wget -N https://s3-us-west-1.amazonaws.com/udacity-aind/dog-project/dogImages.zip\n",
    "#!unzip -o /content/dogImages.zip\n",
    "#!mv /content/dogImages /content/drive/My\\ Drive/dog-breeds/dog_images"
   ]
  },
  {
   "cell_type": "markdown",
   "metadata": {
    "colab_type": "text",
    "id": "SE3rFGLpoYhJ"
   },
   "source": [
    "# Configuration & utilities\n",
    "\n",
    "Here we define the configuration parameters, dependencies and utility functions needed for the experiment. You may only need to specify the 'experiment_description' value in the first line of code, and the paths identifying the project and the different datasets. "
   ]
  },
  {
   "cell_type": "code",
   "execution_count": 3,
   "metadata": {
    "colab": {
     "base_uri": "https://localhost:8080/",
     "height": 34
    },
    "colab_type": "code",
    "executionInfo": {
     "elapsed": 3036,
     "status": "ok",
     "timestamp": 1587682446392,
     "user": {
      "displayName": "Luis Martín",
      "photoUrl": "",
      "userId": "05136960784416304431"
     },
     "user_tz": -120
    },
    "id": "GbuFvy-OAzXp",
    "outputId": "f54cb665-705d-4bbd-85b5-22e423b34818"
   },
   "outputs": [
    {
     "name": "stdout",
     "output_type": "stream",
     "text": [
      "There are 8351 total dog images.\n"
     ]
    }
   ],
   "source": [
    "import numpy as np\n",
    "from glob import glob\n",
    "import sys\n",
    "\n",
    "experiment_description = 'best_scenario_replay'\n",
    "project_path = '/content/drive/My Drive/dog-breeds/'\n",
    "\n",
    "##################### DO NOT MODIFY ################################\n",
    "\n",
    "experiment_location = project_path + experiment_description\n",
    "escaped_exp_location = experiment_location.replace(\" \", \"\\\\ \")\n",
    "!mkdir $escaped_exp_location\n",
    "model_file = experiment_location + '/model_ ' + experiment_description\n",
    "output_file = experiment_location + '/' + experiment_description\n",
    "sys.path.append(project_path)\n",
    "##################### END: DO NOT MODIFY ###########################\n",
    "\n",
    "dog_files = np.array(glob(project_path + \"dog_images/*/*/*\"))\n",
    "print('There are %d total dog images.' % len(dog_files))\n",
    "train_path = project_path + 'dog_images/train'\n",
    "validation_path = project_path +'dog_images/valid'\n",
    "test_path = project_path +'dog_images/test'\n",
    "\n",
    "\n",
    "def print_gpu():\n",
    "  gpu_info = !nvidia-smi\n",
    "  gpu_info = '\\n'.join(gpu_info)\n",
    "  if gpu_info.find('failed') >= 0:\n",
    "    print('Select the Runtime → \"Change runtime type\" menu to enable a GPU accelerator, ')\n",
    "    print('and then re-execute this cell.')\n",
    "  else:\n",
    "    print(gpu_info) "
   ]
  },
  {
   "cell_type": "markdown",
   "metadata": {
    "colab_type": "text",
    "id": "SVQ7DTfXq7m4"
   },
   "source": [
    "# Experiment\n",
    "\n",
    "A lot of things here need to be separated:\n",
    "\n",
    " - Creation of dataset loaders\n",
    " - NN architecture\n",
    " - Hyperparameter dictionaries\n",
    " - Testing and Rebooting functions\n",
    " - Experiment loop\n",
    " - Visualization"
   ]
  },
  {
   "cell_type": "code",
   "execution_count": 4,
   "metadata": {
    "colab": {
     "base_uri": "https://localhost:8080/",
     "height": 1000
    },
    "colab_type": "code",
    "executionInfo": {
     "elapsed": 27554566,
     "status": "ok",
     "timestamp": 1587711569526,
     "user": {
      "displayName": "Luis Martín",
      "photoUrl": "",
      "userId": "05136960784416304431"
     },
     "user_tz": -120
    },
    "id": "ksid6BWZJlFO",
    "outputId": "8253066f-4632-46b8-909c-e94fc7edd920"
   },
   "outputs": [
    {
     "name": "stdout",
     "output_type": "stream",
     "text": [
      "ResNet(\n",
      "  (conv1): Sequential(\n",
      "    (0): Conv2d(3, 64, kernel_size=(3, 3), stride=(1, 1), padding=(1, 1), bias=False)\n",
      "    (1): BatchNorm2d(64, eps=1e-05, momentum=0.1, affine=True, track_running_stats=True)\n",
      "    (2): ReLU(inplace=True)\n",
      "  )\n",
      "  (conv2_x): Sequential(\n",
      "    (0): BasicBlock(\n",
      "      (residual_function): Sequential(\n",
      "        (0): Conv2d(64, 64, kernel_size=(3, 3), stride=(1, 1), padding=(1, 1), bias=False)\n",
      "        (1): BatchNorm2d(64, eps=1e-05, momentum=0.1, affine=True, track_running_stats=True)\n",
      "        (2): ReLU(inplace=True)\n",
      "        (3): Conv2d(64, 64, kernel_size=(3, 3), stride=(1, 1), padding=(1, 1), bias=False)\n",
      "        (4): BatchNorm2d(64, eps=1e-05, momentum=0.1, affine=True, track_running_stats=True)\n",
      "      )\n",
      "      (shortcut): Sequential()\n",
      "    )\n",
      "    (1): BasicBlock(\n",
      "      (residual_function): Sequential(\n",
      "        (0): Conv2d(64, 64, kernel_size=(3, 3), stride=(1, 1), padding=(1, 1), bias=False)\n",
      "        (1): BatchNorm2d(64, eps=1e-05, momentum=0.1, affine=True, track_running_stats=True)\n",
      "        (2): ReLU(inplace=True)\n",
      "        (3): Conv2d(64, 64, kernel_size=(3, 3), stride=(1, 1), padding=(1, 1), bias=False)\n",
      "        (4): BatchNorm2d(64, eps=1e-05, momentum=0.1, affine=True, track_running_stats=True)\n",
      "      )\n",
      "      (shortcut): Sequential()\n",
      "    )\n",
      "  )\n",
      "  (conv3_x): Sequential(\n",
      "    (0): BasicBlock(\n",
      "      (residual_function): Sequential(\n",
      "        (0): Conv2d(64, 128, kernel_size=(3, 3), stride=(2, 2), padding=(1, 1), bias=False)\n",
      "        (1): BatchNorm2d(128, eps=1e-05, momentum=0.1, affine=True, track_running_stats=True)\n",
      "        (2): ReLU(inplace=True)\n",
      "        (3): Conv2d(128, 128, kernel_size=(3, 3), stride=(1, 1), padding=(1, 1), bias=False)\n",
      "        (4): BatchNorm2d(128, eps=1e-05, momentum=0.1, affine=True, track_running_stats=True)\n",
      "      )\n",
      "      (shortcut): Sequential(\n",
      "        (0): Conv2d(64, 128, kernel_size=(1, 1), stride=(2, 2), bias=False)\n",
      "        (1): BatchNorm2d(128, eps=1e-05, momentum=0.1, affine=True, track_running_stats=True)\n",
      "      )\n",
      "    )\n",
      "    (1): BasicBlock(\n",
      "      (residual_function): Sequential(\n",
      "        (0): Conv2d(128, 128, kernel_size=(3, 3), stride=(1, 1), padding=(1, 1), bias=False)\n",
      "        (1): BatchNorm2d(128, eps=1e-05, momentum=0.1, affine=True, track_running_stats=True)\n",
      "        (2): ReLU(inplace=True)\n",
      "        (3): Conv2d(128, 128, kernel_size=(3, 3), stride=(1, 1), padding=(1, 1), bias=False)\n",
      "        (4): BatchNorm2d(128, eps=1e-05, momentum=0.1, affine=True, track_running_stats=True)\n",
      "      )\n",
      "      (shortcut): Sequential()\n",
      "    )\n",
      "  )\n",
      "  (conv4_x): Sequential(\n",
      "    (0): BasicBlock(\n",
      "      (residual_function): Sequential(\n",
      "        (0): Conv2d(128, 256, kernel_size=(3, 3), stride=(2, 2), padding=(1, 1), bias=False)\n",
      "        (1): BatchNorm2d(256, eps=1e-05, momentum=0.1, affine=True, track_running_stats=True)\n",
      "        (2): ReLU(inplace=True)\n",
      "        (3): Conv2d(256, 256, kernel_size=(3, 3), stride=(1, 1), padding=(1, 1), bias=False)\n",
      "        (4): BatchNorm2d(256, eps=1e-05, momentum=0.1, affine=True, track_running_stats=True)\n",
      "      )\n",
      "      (shortcut): Sequential(\n",
      "        (0): Conv2d(128, 256, kernel_size=(1, 1), stride=(2, 2), bias=False)\n",
      "        (1): BatchNorm2d(256, eps=1e-05, momentum=0.1, affine=True, track_running_stats=True)\n",
      "      )\n",
      "    )\n",
      "    (1): BasicBlock(\n",
      "      (residual_function): Sequential(\n",
      "        (0): Conv2d(256, 256, kernel_size=(3, 3), stride=(1, 1), padding=(1, 1), bias=False)\n",
      "        (1): BatchNorm2d(256, eps=1e-05, momentum=0.1, affine=True, track_running_stats=True)\n",
      "        (2): ReLU(inplace=True)\n",
      "        (3): Conv2d(256, 256, kernel_size=(3, 3), stride=(1, 1), padding=(1, 1), bias=False)\n",
      "        (4): BatchNorm2d(256, eps=1e-05, momentum=0.1, affine=True, track_running_stats=True)\n",
      "      )\n",
      "      (shortcut): Sequential()\n",
      "    )\n",
      "  )\n",
      "  (conv5_x): Sequential(\n",
      "    (0): BasicBlock(\n",
      "      (residual_function): Sequential(\n",
      "        (0): Conv2d(256, 512, kernel_size=(3, 3), stride=(2, 2), padding=(1, 1), bias=False)\n",
      "        (1): BatchNorm2d(512, eps=1e-05, momentum=0.1, affine=True, track_running_stats=True)\n",
      "        (2): ReLU(inplace=True)\n",
      "        (3): Conv2d(512, 512, kernel_size=(3, 3), stride=(1, 1), padding=(1, 1), bias=False)\n",
      "        (4): BatchNorm2d(512, eps=1e-05, momentum=0.1, affine=True, track_running_stats=True)\n",
      "      )\n",
      "      (shortcut): Sequential(\n",
      "        (0): Conv2d(256, 512, kernel_size=(1, 1), stride=(2, 2), bias=False)\n",
      "        (1): BatchNorm2d(512, eps=1e-05, momentum=0.1, affine=True, track_running_stats=True)\n",
      "      )\n",
      "    )\n",
      "    (1): BasicBlock(\n",
      "      (residual_function): Sequential(\n",
      "        (0): Conv2d(512, 512, kernel_size=(3, 3), stride=(1, 1), padding=(1, 1), bias=False)\n",
      "        (1): BatchNorm2d(512, eps=1e-05, momentum=0.1, affine=True, track_running_stats=True)\n",
      "        (2): ReLU(inplace=True)\n",
      "        (3): Conv2d(512, 512, kernel_size=(3, 3), stride=(1, 1), padding=(1, 1), bias=False)\n",
      "        (4): BatchNorm2d(512, eps=1e-05, momentum=0.1, affine=True, track_running_stats=True)\n",
      "      )\n",
      "      (shortcut): Sequential()\n",
      "    )\n",
      "  )\n",
      "  (avg_pool): AdaptiveAvgPool2d(output_size=(1, 1))\n",
      "  (fc): Linear(in_features=512, out_features=133, bias=True)\n",
      ")\n",
      "Sat Apr  4 13:11:37 2020       \n",
      "+-----------------------------------------------------------------------------+\n",
      "| NVIDIA-SMI 440.64.00    Driver Version: 418.67       CUDA Version: 10.1     |\n",
      "|-------------------------------+----------------------+----------------------+\n",
      "| GPU  Name        Persistence-M| Bus-Id        Disp.A | Volatile Uncorr. ECC |\n",
      "| Fan  Temp  Perf  Pwr:Usage/Cap|         Memory-Usage | GPU-Util  Compute M. |\n",
      "|===============================+======================+======================|\n",
      "|   0  Tesla P100-PCIE...  Off  | 00000000:00:04.0 Off |                    0 |\n",
      "| N/A   36C    P0    31W / 250W |    781MiB / 16280MiB |      0%      Default |\n",
      "+-------------------------------+----------------------+----------------------+\n",
      "                                                                               \n",
      "+-----------------------------------------------------------------------------+\n",
      "| Processes:                                                       GPU Memory |\n",
      "|  GPU       PID   Type   Process name                             Usage      |\n",
      "|=============================================================================|\n",
      "+-----------------------------------------------------------------------------+\n",
      "Adam (\n",
      "Parameter Group 0\n",
      "    amsgrad: False\n",
      "    betas: (0.9, 0.999)\n",
      "    eps: 1e-08\n",
      "    lr: 0.0015\n",
      "    weight_decay: 0\n",
      ")\n",
      "Epoch: 1 \tTraining Loss: 4.890936 \tValidation Loss: 5.179543 \tTime spent: 130.186413\n",
      "Epoch: 2 \tTraining Loss: 4.674778 \tValidation Loss: 4.687050 \tTime spent: 130.867058\n",
      "Epoch: 3 \tTraining Loss: 4.588611 \tValidation Loss: 4.755355 \tTime spent: 129.798130\n",
      "Epoch: 4 \tTraining Loss: 4.521985 \tValidation Loss: 4.582308 \tTime spent: 129.912259\n",
      "Epoch: 5 \tTraining Loss: 4.443942 \tValidation Loss: 4.835739 \tTime spent: 129.681387\n",
      "Epoch: 6 \tTraining Loss: 4.404266 \tValidation Loss: 4.414190 \tTime spent: 130.018800\n",
      "Epoch: 7 \tTraining Loss: 4.332622 \tValidation Loss: 4.434015 \tTime spent: 130.231994\n",
      "Epoch: 8 \tTraining Loss: 4.259585 \tValidation Loss: 4.370615 \tTime spent: 129.430852\n",
      "Epoch: 9 \tTraining Loss: 4.170900 \tValidation Loss: 4.392735 \tTime spent: 129.947369\n",
      "Epoch: 10 \tTraining Loss: 4.089231 \tValidation Loss: 4.228695 \tTime spent: 130.603849\n",
      "Epoch: 11 \tTraining Loss: 4.050549 \tValidation Loss: 4.183946 \tTime spent: 130.170733\n",
      "Epoch: 12 \tTraining Loss: 3.946144 \tValidation Loss: 4.171707 \tTime spent: 129.741467\n",
      "Epoch: 13 \tTraining Loss: 3.897270 \tValidation Loss: 4.352359 \tTime spent: 129.730939\n",
      "Epoch: 14 \tTraining Loss: 3.831133 \tValidation Loss: 3.927744 \tTime spent: 130.211669\n",
      "Epoch: 15 \tTraining Loss: 3.770572 \tValidation Loss: 4.230432 \tTime spent: 131.155735\n",
      "Epoch: 16 \tTraining Loss: 3.706640 \tValidation Loss: 3.902848 \tTime spent: 128.996841\n",
      "Epoch: 17 \tTraining Loss: 3.658446 \tValidation Loss: 3.800670 \tTime spent: 129.152069\n",
      "Epoch: 18 \tTraining Loss: 3.589780 \tValidation Loss: 3.641514 \tTime spent: 129.010272\n",
      "Epoch: 19 \tTraining Loss: 3.533432 \tValidation Loss: 3.784441 \tTime spent: 129.068233\n",
      "Epoch: 20 \tTraining Loss: 3.491877 \tValidation Loss: 3.665812 \tTime spent: 129.044925\n",
      "Epoch: 21 \tTraining Loss: 3.416223 \tValidation Loss: 3.597021 \tTime spent: 128.839955\n",
      "Epoch: 22 \tTraining Loss: 3.381933 \tValidation Loss: 3.783846 \tTime spent: 129.209780\n",
      "Epoch: 23 \tTraining Loss: 3.312571 \tValidation Loss: 3.736118 \tTime spent: 129.867507\n",
      "Epoch: 24 \tTraining Loss: 3.275280 \tValidation Loss: 3.802377 \tTime spent: 128.666424\n",
      "Epoch: 25 \tTraining Loss: 3.218565 \tValidation Loss: 3.647902 \tTime spent: 129.881717\n",
      "Epoch: 26 \tTraining Loss: 3.167765 \tValidation Loss: 3.542335 \tTime spent: 128.919814\n",
      "Epoch: 27 \tTraining Loss: 3.090407 \tValidation Loss: 3.396975 \tTime spent: 129.668709\n",
      "Epoch: 28 \tTraining Loss: 3.050744 \tValidation Loss: 3.402760 \tTime spent: 129.836609\n",
      "Epoch: 29 \tTraining Loss: 2.999231 \tValidation Loss: 3.422425 \tTime spent: 129.356887\n",
      "Epoch: 30 \tTraining Loss: 2.967820 \tValidation Loss: 3.419326 \tTime spent: 129.783909\n",
      "Epoch: 31 \tTraining Loss: 2.905368 \tValidation Loss: 3.319299 \tTime spent: 129.344784\n",
      "Epoch: 32 \tTraining Loss: 2.862242 \tValidation Loss: 3.887362 \tTime spent: 128.694306\n",
      "Epoch: 33 \tTraining Loss: 2.851038 \tValidation Loss: 3.216524 \tTime spent: 129.502721\n",
      "Epoch: 34 \tTraining Loss: 2.783265 \tValidation Loss: 3.316601 \tTime spent: 129.544264\n",
      "Epoch: 35 \tTraining Loss: 2.726786 \tValidation Loss: 3.221038 \tTime spent: 129.213113\n",
      "Epoch: 36 \tTraining Loss: 2.702464 \tValidation Loss: 3.253861 \tTime spent: 128.918628\n",
      "Epoch: 37 \tTraining Loss: 2.611167 \tValidation Loss: 3.211173 \tTime spent: 130.470063\n",
      "Epoch: 38 \tTraining Loss: 2.601557 \tValidation Loss: 3.229799 \tTime spent: 129.028706\n",
      "Epoch: 39 \tTraining Loss: 2.536836 \tValidation Loss: 3.126172 \tTime spent: 129.075025\n",
      "Epoch: 40 \tTraining Loss: 2.487533 \tValidation Loss: 3.007519 \tTime spent: 129.213691\n",
      "Epoch: 41 \tTraining Loss: 2.426625 \tValidation Loss: 3.254782 \tTime spent: 130.152250\n",
      "Epoch: 42 \tTraining Loss: 2.399201 \tValidation Loss: 2.903351 \tTime spent: 129.282387\n",
      "Epoch: 43 \tTraining Loss: 2.336319 \tValidation Loss: 2.913723 \tTime spent: 129.139837\n",
      "Epoch: 44 \tTraining Loss: 2.294625 \tValidation Loss: 2.884663 \tTime spent: 128.677724\n",
      "Epoch: 45 \tTraining Loss: 2.203476 \tValidation Loss: 3.216657 \tTime spent: 128.270405\n",
      "Epoch: 46 \tTraining Loss: 2.181289 \tValidation Loss: 3.236659 \tTime spent: 128.963724\n",
      "Epoch: 47 \tTraining Loss: 2.116408 \tValidation Loss: 3.128683 \tTime spent: 128.936697\n",
      "Epoch: 48 \tTraining Loss: 2.061715 \tValidation Loss: 2.921438 \tTime spent: 129.305416\n",
      "Epoch: 49 \tTraining Loss: 2.037938 \tValidation Loss: 2.810590 \tTime spent: 129.310132\n",
      "Epoch: 50 \tTraining Loss: 1.986703 \tValidation Loss: 2.824293 \tTime spent: 129.563841\n",
      "Epoch: 51 \tTraining Loss: 1.964382 \tValidation Loss: 2.910979 \tTime spent: 128.715818\n",
      "Epoch: 52 \tTraining Loss: 1.873776 \tValidation Loss: 2.812233 \tTime spent: 129.209861\n",
      "Epoch: 53 \tTraining Loss: 1.832570 \tValidation Loss: 2.700070 \tTime spent: 128.904894\n",
      "Epoch: 54 \tTraining Loss: 1.788835 \tValidation Loss: 2.914775 \tTime spent: 129.196890\n",
      "Epoch: 55 \tTraining Loss: 1.730442 \tValidation Loss: 2.752787 \tTime spent: 128.897803\n",
      "Epoch: 56 \tTraining Loss: 1.665799 \tValidation Loss: 2.940867 \tTime spent: 130.531187\n",
      "Epoch: 57 \tTraining Loss: 1.624491 \tValidation Loss: 2.661343 \tTime spent: 129.432141\n",
      "Epoch: 58 \tTraining Loss: 1.557557 \tValidation Loss: 2.808284 \tTime spent: 128.902883\n",
      "Epoch: 59 \tTraining Loss: 1.539377 \tValidation Loss: 2.734514 \tTime spent: 130.081506\n",
      "Epoch: 60 \tTraining Loss: 1.479733 \tValidation Loss: 2.706574 \tTime spent: 130.320533\n",
      "Epoch: 61 \tTraining Loss: 1.462771 \tValidation Loss: 2.819826 \tTime spent: 129.386631\n",
      "Epoch: 62 \tTraining Loss: 1.399557 \tValidation Loss: 2.709700 \tTime spent: 128.707819\n",
      "Epoch: 63 \tTraining Loss: 1.343301 \tValidation Loss: 2.773103 \tTime spent: 129.091073\n",
      "Epoch: 64 \tTraining Loss: 1.347855 \tValidation Loss: 2.745247 \tTime spent: 129.473935\n",
      "Epoch: 65 \tTraining Loss: 1.269308 \tValidation Loss: 2.790003 \tTime spent: 128.939012\n",
      "Epoch: 66 \tTraining Loss: 1.276891 \tValidation Loss: 3.094996 \tTime spent: 128.934160\n",
      "Epoch: 67 \tTraining Loss: 1.213429 \tValidation Loss: 2.645564 \tTime spent: 130.435885\n",
      "Epoch: 68 \tTraining Loss: 1.193641 \tValidation Loss: 2.695868 \tTime spent: 129.584728\n",
      "Epoch: 69 \tTraining Loss: 1.176899 \tValidation Loss: 2.560019 \tTime spent: 130.201796\n",
      "Epoch: 70 \tTraining Loss: 1.117063 \tValidation Loss: 2.675315 \tTime spent: 129.115470\n",
      "Epoch: 71 \tTraining Loss: 1.109936 \tValidation Loss: 2.651547 \tTime spent: 129.046201\n",
      "Epoch: 72 \tTraining Loss: 1.050062 \tValidation Loss: 3.081210 \tTime spent: 129.773092\n",
      "Epoch: 73 \tTraining Loss: 1.056599 \tValidation Loss: 2.673840 \tTime spent: 128.850083\n",
      "Epoch: 74 \tTraining Loss: 0.988729 \tValidation Loss: 2.580129 \tTime spent: 128.333840\n",
      "Epoch: 75 \tTraining Loss: 1.003298 \tValidation Loss: 2.878382 \tTime spent: 130.498432\n",
      "Epoch: 76 \tTraining Loss: 0.964969 \tValidation Loss: 2.655716 \tTime spent: 128.619850\n",
      "Epoch: 77 \tTraining Loss: 0.967053 \tValidation Loss: 2.742997 \tTime spent: 130.174791\n",
      "Epoch: 78 \tTraining Loss: 0.913953 \tValidation Loss: 2.720561 \tTime spent: 128.574674\n",
      "Epoch: 79 \tTraining Loss: 0.885988 \tValidation Loss: 2.938887 \tTime spent: 129.710222\n",
      "Epoch: 80 \tTraining Loss: 0.864064 \tValidation Loss: 2.926267 \tTime spent: 129.039993\n",
      "Epoch: 81 \tTraining Loss: 0.834010 \tValidation Loss: 2.779957 \tTime spent: 129.454144\n",
      "Epoch: 82 \tTraining Loss: 0.832834 \tValidation Loss: 2.806862 \tTime spent: 128.498843\n",
      "Epoch: 83 \tTraining Loss: 0.800978 \tValidation Loss: 2.992297 \tTime spent: 129.121532\n",
      "Epoch: 84 \tTraining Loss: 0.774927 \tValidation Loss: 2.725626 \tTime spent: 130.792230\n",
      "Epoch: 85 \tTraining Loss: 0.804916 \tValidation Loss: 2.564392 \tTime spent: 129.287033\n",
      "Epoch: 86 \tTraining Loss: 0.752540 \tValidation Loss: 2.691762 \tTime spent: 129.735626\n",
      "Epoch: 87 \tTraining Loss: 0.768807 \tValidation Loss: 2.917750 \tTime spent: 128.911933\n",
      "Epoch: 88 \tTraining Loss: 0.745604 \tValidation Loss: 3.026132 \tTime spent: 130.316066\n",
      "Epoch: 89 \tTraining Loss: 0.732884 \tValidation Loss: 2.706709 \tTime spent: 129.064645\n",
      "Epoch: 90 \tTraining Loss: 0.728585 \tValidation Loss: 2.969940 \tTime spent: 129.568383\n",
      "Epoch: 91 \tTraining Loss: 0.671900 \tValidation Loss: 2.855583 \tTime spent: 129.931700\n",
      "Epoch: 92 \tTraining Loss: 0.672737 \tValidation Loss: 2.720253 \tTime spent: 130.129526\n",
      "Epoch: 93 \tTraining Loss: 0.662377 \tValidation Loss: 2.921762 \tTime spent: 130.070179\n",
      "Epoch: 94 \tTraining Loss: 0.689106 \tValidation Loss: 2.845895 \tTime spent: 129.783696\n",
      "Epoch: 95 \tTraining Loss: 0.670717 \tValidation Loss: 2.938303 \tTime spent: 128.832415\n",
      "Epoch: 96 \tTraining Loss: 0.626968 \tValidation Loss: 3.186363 \tTime spent: 129.294856\n",
      "Epoch: 97 \tTraining Loss: 0.645879 \tValidation Loss: 2.736154 \tTime spent: 129.741734\n",
      "Epoch: 98 \tTraining Loss: 0.646625 \tValidation Loss: 2.944923 \tTime spent: 129.618142\n",
      "Epoch: 99 \tTraining Loss: 0.625294 \tValidation Loss: 2.713297 \tTime spent: 129.934091\n",
      "Epoch: 100 \tTraining Loss: 0.578383 \tValidation Loss: 2.903410 \tTime spent: 129.394459\n",
      "time spent:  3:35:49.421438\n",
      "Minimum trainig loss:  0.5783833265304565\n",
      "Minimum validation loss:  2.560019016265869\n"
     ]
    },
    {
     "data": {
      "image/png": "[encoded data removed]",
      "text/plain": [
       "<Figure size 432x288 with 1 Axes>"
      ]
     },
     "metadata": {
      "image/png": {
       "height": 248,
       "width": 362
      },
      "tags": []
     },
     "output_type": "display_data"
    },
    {
     "name": "stdout",
     "output_type": "stream",
     "text": [
      "Test Loss: 2.454370\n",
      "\n",
      "Test Accuracy: 40% (338/836)\n",
      "\n",
      "\n"
     ]
    }
   ],
   "source": [
    "%matplotlib inline\n",
    "%config InlineBackend.figure_format = 'retina'\n",
    "from utils.preprocess import *\n",
    "from utils.resnet_model import *\n",
    "from utils.train import *\n",
    "from utils.simple_model import *\n",
    "import torch.optim as optim\n",
    "from PIL import ImageFile\n",
    "\n",
    "ImageFile.LOAD_TRUNCATED_IMAGES = True\n",
    "\n",
    "sometimes = lambda aug: iaa.Sometimes(0.5, aug)\n",
    "\n",
    "augmentations = [\n",
    "        [\n",
    "        sometimes(iaa.Crop(percent=(0, 0.45))),\n",
    "        sometimes(iaa.ElasticTransformation(alpha=(0.5, 3.5), sigma=0.25))\n",
    "        ]\n",
    "]\n",
    "learning_rates = [\n",
    "                 0.0015\n",
    "                 ]\n",
    "optimizers = [\n",
    "             optim.Adam\n",
    "             ]\n",
    "models = [\n",
    "         resnet18()\n",
    "         ]\n",
    "         \n",
    "paths = {\n",
    "    'train_path' : train_path,\n",
    "    'validation_path' : validation_path,\n",
    "    'test_path' : test_path\n",
    "}\n",
    "\n",
    "\n",
    "hyperparameters_dictionary = {\n",
    "    'augmentations' : augmentations,\n",
    "    'learning_rates' : learning_rates,\n",
    "    'epochs' : 100,\n",
    "    'optimizers' : optimizers,\n",
    "    'models' : models\n",
    "}\n",
    "\n",
    "print_gpu()\n",
    "run_experiments(paths, hyperparameters_dictionary, model_file)\n",
    "\n",
    "\n"
   ]
  },
  {
   "cell_type": "code",
   "execution_count": null,
   "metadata": {
    "colab": {},
    "colab_type": "code",
    "id": "JIajAq0W3g08"
   },
   "outputs": [],
   "source": []
  }
 ],
 "metadata": {
  "accelerator": "GPU",
  "anaconda-cloud": {},
  "colab": {
   "collapsed_sections": [],
   "name": "best_scenario_replay.ipynb",
   "provenance": [
    {
     "file_id": "1OjCJi1WTxHyoX3PJv-O2nnwOTT2llm1K",
     "timestamp": 1586133248550
    },
    {
     "file_id": "1nDZaK8ZxAz8K8x1nvxH5hJxNrFdDGOGW",
     "timestamp": 1586132559362
    },
    {
     "file_id": "1CB8ottEi6O0V1byMpFFwPGAsDASBjZMB",
     "timestamp": 1586083613524
    },
    {
     "file_id": "1Z8yuY-OvTPNR_I39ExXUOetQgZCd5ai3",
     "timestamp": 1586083560447
    },
    {
     "file_id": "1CCtPCrvTO1eJTvBKDYBNh1qzbLulOgIB",
     "timestamp": 1586083192152
    },
    {
     "file_id": "1XEMq3W--Egp-IwHfHLUl8fooafAISsSq",
     "timestamp": 1586046109632
    },
    {
     "file_id": "1M6NnHno6mb6UmPwY3rLfVYIgx4r300qj",
     "timestamp": 1586045971599
    },
    {
     "file_id": "1nfhbSpamn1nTIQ94KZMjeAJvJQuUvQWH",
     "timestamp": 1586019294461
    },
    {
     "file_id": "1S5b4ZZBlAQH0-QI2rR3Klay6plHwlSG4",
     "timestamp": 1586019186582
    },
    {
     "file_id": "1x43TFVwxZ-RIkjvpxoh231Lvtt-ikN2C",
     "timestamp": 1586019059898
    },
    {
     "file_id": "18_yL6W-Q1P8P1xqcCJPCNjg_8OeZTD69",
     "timestamp": 1586005625719
    },
    {
     "file_id": "1r2_wvotCDm3k_r_TLNHFwiyqgwyV5KkQ",
     "timestamp": 1586005597098
    },
    {
     "file_id": "1x17ANn3WW9PJckaEQSlkio5gn7dkPN-k",
     "timestamp": 1586005574311
    },
    {
     "file_id": "1wrfznjw3XLiV6JfDZxRvB0FBT5wBDZ0I",
     "timestamp": 1586005511862
    },
    {
     "file_id": "1dOYwkMe0ADYqIypoTsfACJ0m1aC2wFkJ",
     "timestamp": 1585991244277
    },
    {
     "file_id": "1f9SevfjtTDJD6CO-HfNW-osiYvgrGJvN",
     "timestamp": 1585991217369
    },
    {
     "file_id": "1XWPqI_yXRmz4PenEhf7W2irFoa6HT6uF",
     "timestamp": 1585991195574
    },
    {
     "file_id": "1XNOEqHACPONOBz8ZN9L-aSYsuM0I2xJd",
     "timestamp": 1585991128475
    },
    {
     "file_id": "1E3y3-KvBsy9UapPVrGZypZT00YexjZbR",
     "timestamp": 1585955348971
    },
    {
     "file_id": "116DV5OYEC78n8Tdpt9Q7_MzL_TdLq6Qe",
     "timestamp": 1585955020650
    },
    {
     "file_id": "14GYMrkofK2E3cxEXO0Wa3eUO1nV6TOXr",
     "timestamp": 1585941706806
    },
    {
     "file_id": "1vcnE6D3-w6WNefC-orZ7W0KpV6HOmgnW",
     "timestamp": 1585781564679
    },
    {
     "file_id": "1CuKotTscUY4BCBXthHtT6SvrXJtC5f2I",
     "timestamp": 1585484980455
    },
    {
     "file_id": "1q5wJQ8TKeGV62hAt3Qj8gTaCOJkqUNgd",
     "timestamp": 1585323933479
    }
   ],
   "toc_visible": true
  },
  "kernelspec": {
   "display_name": "Python 3",
   "language": "python",
   "name": "python3"
  },
  "language_info": {
   "codemirror_mode": {
    "name": "ipython",
    "version": 3
   },
   "file_extension": ".py",
   "mimetype": "text/x-python",
   "name": "python",
   "nbconvert_exporter": "python",
   "pygments_lexer": "ipython3",
   "version": "3.7.6"
  }
 },
 "nbformat": 4,
 "nbformat_minor": 4
}
