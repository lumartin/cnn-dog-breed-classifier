{
 "cells": [
  {
   "cell_type": "code",
   "execution_count": 1,
   "metadata": {
    "colab": {
     "base_uri": "https://localhost:8080/",
     "height": 122
    },
    "colab_type": "code",
    "executionInfo": {
     "elapsed": 30090,
     "status": "ok",
     "timestamp": 1587682383528,
     "user": {
      "displayName": "Luis Martín",
      "photoUrl": "",
      "userId": "05136960784416304431"
     },
     "user_tz": -120
    },
    "id": "JXxOTx7DU-o4",
    "outputId": "35c9c40a-8109-4d9a-881f-158020b4922d"
   },
   "outputs": [
    {
     "name": "stdout",
     "output_type": "stream",
     "text": [
      "Go to this URL in a browser: https://accounts.google.com/o/oauth2/auth?client_id=947318989803-6bn6qk8qdgf4n4g3pfee6491hc0brc4i.apps.googleusercontent.com&redirect_uri=urn%3aietf%3awg%3aoauth%3a2.0%3aoob&response_type=code&scope=email%20https%3a%2f%2fwww.googleapis.com%2fauth%2fdocs.test%20https%3a%2f%2fwww.googleapis.com%2fauth%2fdrive%20https%3a%2f%2fwww.googleapis.com%2fauth%2fdrive.photos.readonly%20https%3a%2f%2fwww.googleapis.com%2fauth%2fpeopleapi.readonly\n",
      "\n",
      "Enter your authorization code:\n",
      "··········\n",
      "Mounted at /content/drive\n"
     ]
    }
   ],
   "source": [
    "from google.colab import drive\n",
    "drive.mount('/content/drive')"
   ]
  },
  {
   "cell_type": "code",
   "execution_count": null,
   "metadata": {
    "colab": {},
    "colab_type": "code",
    "id": "qkVY9R0tYZw3"
   },
   "outputs": [],
   "source": [
    "#%%capture\n",
    "#!wget -N https://s3-us-west-1.amazonaws.com/udacity-aind/dog-project/dogImages.zip\n",
    "#!unzip -o /content/dogImages.zip\n",
    "#!mv /content/dogImages /content/drive/My\\ Drive/dog-breeds/dog_images"
   ]
  },
  {
   "cell_type": "markdown",
   "metadata": {
    "colab_type": "text",
    "id": "SE3rFGLpoYhJ"
   },
   "source": [
    "# Configuration & utilities\n",
    "\n",
    "Here we define the configuration parameters, dependencies and utility functions needed for the experiment. You may only need to specify the 'experiment_description' value in the first line of code, and the paths identifying the project and the different datasets. "
   ]
  },
  {
   "cell_type": "code",
   "execution_count": 3,
   "metadata": {
    "colab": {
     "base_uri": "https://localhost:8080/",
     "height": 34
    },
    "colab_type": "code",
    "executionInfo": {
     "elapsed": 3036,
     "status": "ok",
     "timestamp": 1587682446392,
     "user": {
      "displayName": "Luis Martín",
      "photoUrl": "",
      "userId": "05136960784416304431"
     },
     "user_tz": -120
    },
    "id": "GbuFvy-OAzXp",
    "outputId": "f54cb665-705d-4bbd-85b5-22e423b34818"
   },
   "outputs": [
    {
     "name": "stdout",
     "output_type": "stream",
     "text": [
      "There are 8351 total dog images.\n"
     ]
    }
   ],
   "source": [
    "import numpy as np\n",
    "from glob import glob\n",
    "import sys\n",
    "\n",
    "experiment_description = 'best_scenario_replay'\n",
    "project_path = '/content/drive/My Drive/dog-breeds/'\n",
    "\n",
    "##################### DO NOT MODIFY ################################\n",
    "\n",
    "experiment_location = project_path + experiment_description\n",
    "escaped_exp_location = experiment_location.replace(\" \", \"\\\\ \")\n",
    "!mkdir $escaped_exp_location\n",
    "model_file = experiment_location + '/model_ ' + experiment_description\n",
    "output_file = experiment_location + '/' + experiment_description\n",
    "sys.path.append(project_path)\n",
    "##################### END: DO NOT MODIFY ###########################\n",
    "\n",
    "dog_files = np.array(glob(project_path + \"dog_images/*/*/*\"))\n",
    "print('There are %d total dog images.' % len(dog_files))\n",
    "train_path = project_path + 'dog_images/train'\n",
    "validation_path = project_path +'dog_images/valid'\n",
    "test_path = project_path +'dog_images/test'\n",
    "\n",
    "\n",
    "def print_gpu():\n",
    "  gpu_info = !nvidia-smi\n",
    "  gpu_info = '\\n'.join(gpu_info)\n",
    "  if gpu_info.find('failed') >= 0:\n",
    "    print('Select the Runtime → \"Change runtime type\" menu to enable a GPU accelerator, ')\n",
    "    print('and then re-execute this cell.')\n",
    "  else:\n",
    "    print(gpu_info) "
   ]
  },
  {
   "cell_type": "markdown",
   "metadata": {
    "colab_type": "text",
    "id": "SVQ7DTfXq7m4"
   },
   "source": [
    "# Experiment\n",
    "\n",
    "A lot of things here need to be separated:\n",
    "\n",
    " - Creation of dataset loaders\n",
    " - NN architecture\n",
    " - Hyperparameter dictionaries\n",
    " - Testing and Rebooting functions\n",
    " - Experiment loop\n",
    " - Visualization"
   ]
  },
  {
   "cell_type": "code",
   "execution_count": 4,
   "metadata": {
    "colab": {
     "base_uri": "https://localhost:8080/",
     "height": 1000
    },
    "colab_type": "code",
    "executionInfo": {
     "elapsed": 27554566,
     "status": "ok",
     "timestamp": 1587711569526,
     "user": {
      "displayName": "Luis Martín",
      "photoUrl": "",
      "userId": "05136960784416304431"
     },
     "user_tz": -120
    },
    "id": "ksid6BWZJlFO",
    "outputId": "8253066f-4632-46b8-909c-e94fc7edd920"
   },
   "outputs": [
        {
          "output_type": "stream",
          "text": [
            "ResNet(\n",
            "  (conv1): Sequential(\n",
            "    (0): Conv2d(3, 64, kernel_size=(3, 3), stride=(1, 1), padding=(1, 1), bias=False)\n",
            "    (1): BatchNorm2d(64, eps=1e-05, momentum=0.1, affine=True, track_running_stats=True)\n",
            "    (2): ReLU(inplace=True)\n",
            "  )\n",
            "  (conv2_x): Sequential(\n",
            "    (0): BasicBlock(\n",
            "      (residual_function): Sequential(\n",
            "        (0): Conv2d(64, 64, kernel_size=(3, 3), stride=(1, 1), padding=(1, 1), bias=False)\n",
            "        (1): BatchNorm2d(64, eps=1e-05, momentum=0.1, affine=True, track_running_stats=True)\n",
            "        (2): ReLU(inplace=True)\n",
            "        (3): Conv2d(64, 64, kernel_size=(3, 3), stride=(1, 1), padding=(1, 1), bias=False)\n",
            "        (4): BatchNorm2d(64, eps=1e-05, momentum=0.1, affine=True, track_running_stats=True)\n",
            "      )\n",
            "      (shortcut): Sequential()\n",
            "    )\n",
            "    (1): BasicBlock(\n",
            "      (residual_function): Sequential(\n",
            "        (0): Conv2d(64, 64, kernel_size=(3, 3), stride=(1, 1), padding=(1, 1), bias=False)\n",
            "        (1): BatchNorm2d(64, eps=1e-05, momentum=0.1, affine=True, track_running_stats=True)\n",
            "        (2): ReLU(inplace=True)\n",
            "        (3): Conv2d(64, 64, kernel_size=(3, 3), stride=(1, 1), padding=(1, 1), bias=False)\n",
            "        (4): BatchNorm2d(64, eps=1e-05, momentum=0.1, affine=True, track_running_stats=True)\n",
            "      )\n",
            "      (shortcut): Sequential()\n",
            "    )\n",
            "  )\n",
            "  (conv3_x): Sequential(\n",
            "    (0): BasicBlock(\n",
            "      (residual_function): Sequential(\n",
            "        (0): Conv2d(64, 128, kernel_size=(3, 3), stride=(2, 2), padding=(1, 1), bias=False)\n",
            "        (1): BatchNorm2d(128, eps=1e-05, momentum=0.1, affine=True, track_running_stats=True)\n",
            "        (2): ReLU(inplace=True)\n",
            "        (3): Conv2d(128, 128, kernel_size=(3, 3), stride=(1, 1), padding=(1, 1), bias=False)\n",
            "        (4): BatchNorm2d(128, eps=1e-05, momentum=0.1, affine=True, track_running_stats=True)\n",
            "      )\n",
            "      (shortcut): Sequential(\n",
            "        (0): Conv2d(64, 128, kernel_size=(1, 1), stride=(2, 2), bias=False)\n",
            "        (1): BatchNorm2d(128, eps=1e-05, momentum=0.1, affine=True, track_running_stats=True)\n",
            "      )\n",
            "    )\n",
            "    (1): BasicBlock(\n",
            "      (residual_function): Sequential(\n",
            "        (0): Conv2d(128, 128, kernel_size=(3, 3), stride=(1, 1), padding=(1, 1), bias=False)\n",
            "        (1): BatchNorm2d(128, eps=1e-05, momentum=0.1, affine=True, track_running_stats=True)\n",
            "        (2): ReLU(inplace=True)\n",
            "        (3): Conv2d(128, 128, kernel_size=(3, 3), stride=(1, 1), padding=(1, 1), bias=False)\n",
            "        (4): BatchNorm2d(128, eps=1e-05, momentum=0.1, affine=True, track_running_stats=True)\n",
            "      )\n",
            "      (shortcut): Sequential()\n",
            "    )\n",
            "  )\n",
            "  (conv4_x): Sequential(\n",
            "    (0): BasicBlock(\n",
            "      (residual_function): Sequential(\n",
            "        (0): Conv2d(128, 256, kernel_size=(3, 3), stride=(2, 2), padding=(1, 1), bias=False)\n",
            "        (1): BatchNorm2d(256, eps=1e-05, momentum=0.1, affine=True, track_running_stats=True)\n",
            "        (2): ReLU(inplace=True)\n",
            "        (3): Conv2d(256, 256, kernel_size=(3, 3), stride=(1, 1), padding=(1, 1), bias=False)\n",
            "        (4): BatchNorm2d(256, eps=1e-05, momentum=0.1, affine=True, track_running_stats=True)\n",
            "      )\n",
            "      (shortcut): Sequential(\n",
            "        (0): Conv2d(128, 256, kernel_size=(1, 1), stride=(2, 2), bias=False)\n",
            "        (1): BatchNorm2d(256, eps=1e-05, momentum=0.1, affine=True, track_running_stats=True)\n",
            "      )\n",
            "    )\n",
            "    (1): BasicBlock(\n",
            "      (residual_function): Sequential(\n",
            "        (0): Conv2d(256, 256, kernel_size=(3, 3), stride=(1, 1), padding=(1, 1), bias=False)\n",
            "        (1): BatchNorm2d(256, eps=1e-05, momentum=0.1, affine=True, track_running_stats=True)\n",
            "        (2): ReLU(inplace=True)\n",
            "        (3): Conv2d(256, 256, kernel_size=(3, 3), stride=(1, 1), padding=(1, 1), bias=False)\n",
            "        (4): BatchNorm2d(256, eps=1e-05, momentum=0.1, affine=True, track_running_stats=True)\n",
            "      )\n",
            "      (shortcut): Sequential()\n",
            "    )\n",
            "  )\n",
            "  (conv5_x): Sequential(\n",
            "    (0): BasicBlock(\n",
            "      (residual_function): Sequential(\n",
            "        (0): Conv2d(256, 512, kernel_size=(3, 3), stride=(2, 2), padding=(1, 1), bias=False)\n",
            "        (1): BatchNorm2d(512, eps=1e-05, momentum=0.1, affine=True, track_running_stats=True)\n",
            "        (2): ReLU(inplace=True)\n",
            "        (3): Conv2d(512, 512, kernel_size=(3, 3), stride=(1, 1), padding=(1, 1), bias=False)\n",
            "        (4): BatchNorm2d(512, eps=1e-05, momentum=0.1, affine=True, track_running_stats=True)\n",
            "      )\n",
            "      (shortcut): Sequential(\n",
            "        (0): Conv2d(256, 512, kernel_size=(1, 1), stride=(2, 2), bias=False)\n",
            "        (1): BatchNorm2d(512, eps=1e-05, momentum=0.1, affine=True, track_running_stats=True)\n",
            "      )\n",
            "    )\n",
            "    (1): BasicBlock(\n",
            "      (residual_function): Sequential(\n",
            "        (0): Conv2d(512, 512, kernel_size=(3, 3), stride=(1, 1), padding=(1, 1), bias=False)\n",
            "        (1): BatchNorm2d(512, eps=1e-05, momentum=0.1, affine=True, track_running_stats=True)\n",
            "        (2): ReLU(inplace=True)\n",
            "        (3): Conv2d(512, 512, kernel_size=(3, 3), stride=(1, 1), padding=(1, 1), bias=False)\n",
            "        (4): BatchNorm2d(512, eps=1e-05, momentum=0.1, affine=True, track_running_stats=True)\n",
            "      )\n",
            "      (shortcut): Sequential()\n",
            "    )\n",
            "  )\n",
            "  (avg_pool): AdaptiveAvgPool2d(output_size=(1, 1))\n",
            "  (fc): Linear(in_features=512, out_features=133, bias=True)\n",
            ")\n",
            "Sat Apr  4 09:10:23 2020       \n",
            "+-----------------------------------------------------------------------------+\n",
            "| NVIDIA-SMI 440.64.00    Driver Version: 418.67       CUDA Version: 10.1     |\n",
            "|-------------------------------+----------------------+----------------------+\n",
            "| GPU  Name        Persistence-M| Bus-Id        Disp.A | Volatile Uncorr. ECC |\n",
            "| Fan  Temp  Perf  Pwr:Usage/Cap|         Memory-Usage | GPU-Util  Compute M. |\n",
            "|===============================+======================+======================|\n",
            "|   0  Tesla P100-PCIE...  Off  | 00000000:00:04.0 Off |                    0 |\n",
            "| N/A   39C    P0    30W / 250W |    781MiB / 16280MiB |      0%      Default |\n",
            "+-------------------------------+----------------------+----------------------+\n",
            "                                                                               \n",
            "+-----------------------------------------------------------------------------+\n",
            "| Processes:                                                       GPU Memory |\n",
            "|  GPU       PID   Type   Process name                             Usage      |\n",
            "|=============================================================================|\n",
            "+-----------------------------------------------------------------------------+\n",
            "Adam (\n",
            "Parameter Group 0\n",
            "    amsgrad: False\n",
            "    betas: (0.9, 0.999)\n",
            "    eps: 1e-08\n",
            "    lr: 0.0015\n",
            "    weight_decay: 0\n",
            ")\n",
            "Epoch: 1 \tTraining Loss: 4.900251 \tValidation Loss: 4.822386 \tTime spent: 129.448819\n",
            "Epoch: 2 \tTraining Loss: 4.710379 \tValidation Loss: 4.892991 \tTime spent: 129.356043\n",
            "Epoch: 3 \tTraining Loss: 4.604701 \tValidation Loss: 4.804045 \tTime spent: 130.443745\n",
            "Epoch: 4 \tTraining Loss: 4.555992 \tValidation Loss: 4.710313 \tTime spent: 130.304517\n",
            "Epoch: 5 \tTraining Loss: 4.499082 \tValidation Loss: 4.525071 \tTime spent: 131.125028\n",
            "Epoch: 6 \tTraining Loss: 4.429280 \tValidation Loss: 4.959219 \tTime spent: 129.445297\n",
            "Epoch: 7 \tTraining Loss: 4.348044 \tValidation Loss: 4.312445 \tTime spent: 130.848115\n",
            "Epoch: 8 \tTraining Loss: 4.259126 \tValidation Loss: 4.344801 \tTime spent: 130.075382\n",
            "Epoch: 9 \tTraining Loss: 4.169453 \tValidation Loss: 4.217399 \tTime spent: 129.628371\n",
            "Epoch: 10 \tTraining Loss: 4.087651 \tValidation Loss: 4.386737 \tTime spent: 129.543934\n",
            "Epoch: 11 \tTraining Loss: 4.011616 \tValidation Loss: 4.186042 \tTime spent: 129.515741\n",
            "Epoch: 12 \tTraining Loss: 3.949003 \tValidation Loss: 4.169241 \tTime spent: 130.749438\n",
            "Epoch: 13 \tTraining Loss: 3.867393 \tValidation Loss: 3.999462 \tTime spent: 130.464767\n",
            "Epoch: 14 \tTraining Loss: 3.822110 \tValidation Loss: 3.837023 \tTime spent: 130.510420\n",
            "Epoch: 15 \tTraining Loss: 3.728742 \tValidation Loss: 3.933739 \tTime spent: 129.596916\n",
            "Epoch: 16 \tTraining Loss: 3.693319 \tValidation Loss: 3.919700 \tTime spent: 129.380136\n",
            "Epoch: 17 \tTraining Loss: 3.589350 \tValidation Loss: 4.099900 \tTime spent: 130.109936\n",
            "Epoch: 18 \tTraining Loss: 3.571404 \tValidation Loss: 3.698757 \tTime spent: 131.053985\n",
            "Epoch: 19 \tTraining Loss: 3.486207 \tValidation Loss: 3.672280 \tTime spent: 131.036074\n",
            "Epoch: 20 \tTraining Loss: 3.428318 \tValidation Loss: 3.835673 \tTime spent: 130.150589\n",
            "Epoch: 21 \tTraining Loss: 3.361512 \tValidation Loss: 3.710386 \tTime spent: 130.808401\n",
            "Epoch: 22 \tTraining Loss: 3.337727 \tValidation Loss: 3.723383 \tTime spent: 129.117821\n",
            "Epoch: 23 \tTraining Loss: 3.256297 \tValidation Loss: 3.609753 \tTime spent: 129.422282\n",
            "Epoch: 24 \tTraining Loss: 3.210273 \tValidation Loss: 3.436508 \tTime spent: 129.022776\n",
            "Epoch: 25 \tTraining Loss: 3.158683 \tValidation Loss: 3.301984 \tTime spent: 128.912956\n",
            "Epoch: 26 \tTraining Loss: 3.083733 \tValidation Loss: 3.561893 \tTime spent: 131.442123\n",
            "Epoch: 27 \tTraining Loss: 3.017629 \tValidation Loss: 3.750513 \tTime spent: 130.906432\n",
            "Epoch: 28 \tTraining Loss: 2.972060 \tValidation Loss: 3.169256 \tTime spent: 130.281175\n",
            "Epoch: 29 \tTraining Loss: 2.903812 \tValidation Loss: 3.240713 \tTime spent: 129.173248\n",
            "Epoch: 30 \tTraining Loss: 2.866932 \tValidation Loss: 3.134321 \tTime spent: 128.620148\n",
            "Epoch: 31 \tTraining Loss: 2.776337 \tValidation Loss: 3.570875 \tTime spent: 130.632850\n",
            "Epoch: 32 \tTraining Loss: 2.715226 \tValidation Loss: 3.193322 \tTime spent: 130.043513\n",
            "Epoch: 33 \tTraining Loss: 2.666749 \tValidation Loss: 3.023793 \tTime spent: 129.633195\n",
            "Epoch: 34 \tTraining Loss: 2.603723 \tValidation Loss: 2.776043 \tTime spent: 128.856746\n",
            "Epoch: 35 \tTraining Loss: 2.528584 \tValidation Loss: 3.018522 \tTime spent: 130.750287\n",
            "Epoch: 36 \tTraining Loss: 2.494643 \tValidation Loss: 2.822811 \tTime spent: 130.240703\n",
            "Epoch: 37 \tTraining Loss: 2.403804 \tValidation Loss: 2.980361 \tTime spent: 130.997291\n",
            "Epoch: 38 \tTraining Loss: 2.343676 \tValidation Loss: 2.861395 \tTime spent: 129.269555\n",
            "Epoch: 39 \tTraining Loss: 2.274630 \tValidation Loss: 2.890749 \tTime spent: 130.559454\n",
            "Epoch: 40 \tTraining Loss: 2.215643 \tValidation Loss: 2.994138 \tTime spent: 130.961462\n",
            "Epoch: 41 \tTraining Loss: 2.171436 \tValidation Loss: 2.629672 \tTime spent: 130.110427\n",
            "Epoch: 42 \tTraining Loss: 2.095944 \tValidation Loss: 2.539085 \tTime spent: 131.418226\n",
            "Epoch: 43 \tTraining Loss: 2.030399 \tValidation Loss: 2.647418 \tTime spent: 131.732318\n",
            "Epoch: 44 \tTraining Loss: 2.004028 \tValidation Loss: 2.422701 \tTime spent: 130.903291\n",
            "Epoch: 45 \tTraining Loss: 1.941717 \tValidation Loss: 2.423689 \tTime spent: 132.181209\n",
            "Epoch: 46 \tTraining Loss: 1.880239 \tValidation Loss: 2.510623 \tTime spent: 131.232497\n",
            "Epoch: 47 \tTraining Loss: 1.792146 \tValidation Loss: 2.419948 \tTime spent: 130.387408\n",
            "Epoch: 48 \tTraining Loss: 1.747734 \tValidation Loss: 2.417352 \tTime spent: 131.258871\n",
            "Epoch: 49 \tTraining Loss: 1.710862 \tValidation Loss: 2.436815 \tTime spent: 130.869102\n",
            "Epoch: 50 \tTraining Loss: 1.648704 \tValidation Loss: 2.340561 \tTime spent: 130.834628\n",
            "Epoch: 51 \tTraining Loss: 1.621827 \tValidation Loss: 2.232474 \tTime spent: 131.370547\n",
            "Epoch: 52 \tTraining Loss: 1.551875 \tValidation Loss: 2.389446 \tTime spent: 129.648951\n",
            "Epoch: 53 \tTraining Loss: 1.481350 \tValidation Loss: 2.010911 \tTime spent: 129.920817\n",
            "Epoch: 54 \tTraining Loss: 1.463272 \tValidation Loss: 2.470166 \tTime spent: 130.884963\n",
            "Epoch: 55 \tTraining Loss: 1.444682 \tValidation Loss: 2.489720 \tTime spent: 131.158057\n",
            "Epoch: 56 \tTraining Loss: 1.366969 \tValidation Loss: 2.132123 \tTime spent: 131.615977\n",
            "Epoch: 57 \tTraining Loss: 1.312714 \tValidation Loss: 1.981659 \tTime spent: 130.184225\n",
            "Epoch: 58 \tTraining Loss: 1.271093 \tValidation Loss: 2.094731 \tTime spent: 132.336836\n",
            "Epoch: 59 \tTraining Loss: 1.231223 \tValidation Loss: 2.322157 \tTime spent: 130.794561\n",
            "Epoch: 60 \tTraining Loss: 1.222769 \tValidation Loss: 2.280712 \tTime spent: 130.110639\n",
            "Epoch: 61 \tTraining Loss: 1.200514 \tValidation Loss: 2.323015 \tTime spent: 130.321034\n",
            "Epoch: 62 \tTraining Loss: 1.158380 \tValidation Loss: 2.205860 \tTime spent: 129.952416\n",
            "Epoch: 63 \tTraining Loss: 1.105106 \tValidation Loss: 1.990468 \tTime spent: 132.296767\n",
            "Epoch: 64 \tTraining Loss: 1.071348 \tValidation Loss: 2.243227 \tTime spent: 129.927141\n",
            "Epoch: 65 \tTraining Loss: 1.049492 \tValidation Loss: 2.449863 \tTime spent: 130.463289\n",
            "Epoch: 66 \tTraining Loss: 1.043119 \tValidation Loss: 2.270162 \tTime spent: 130.688471\n",
            "Epoch: 67 \tTraining Loss: 0.995546 \tValidation Loss: 2.533639 \tTime spent: 130.206621\n",
            "Epoch: 68 \tTraining Loss: 0.993799 \tValidation Loss: 2.156576 \tTime spent: 131.648027\n",
            "Epoch: 69 \tTraining Loss: 0.981993 \tValidation Loss: 2.136905 \tTime spent: 130.898857\n",
            "Epoch: 70 \tTraining Loss: 0.936920 \tValidation Loss: 2.132191 \tTime spent: 130.896220\n",
            "Epoch: 71 \tTraining Loss: 0.909902 \tValidation Loss: 2.190542 \tTime spent: 131.351470\n",
            "Epoch: 72 \tTraining Loss: 0.895879 \tValidation Loss: 2.317089 \tTime spent: 131.005166\n",
            "Epoch: 73 \tTraining Loss: 0.874124 \tValidation Loss: 2.123780 \tTime spent: 131.846701\n",
            "Epoch: 74 \tTraining Loss: 0.842753 \tValidation Loss: 2.167973 \tTime spent: 131.311532\n",
            "Epoch: 75 \tTraining Loss: 0.853663 \tValidation Loss: 2.284092 \tTime spent: 130.951981\n",
            "Epoch: 76 \tTraining Loss: 0.836296 \tValidation Loss: 2.079803 \tTime spent: 129.803035\n",
            "Epoch: 77 \tTraining Loss: 0.800507 \tValidation Loss: 2.188915 \tTime spent: 131.785632\n",
            "Epoch: 78 \tTraining Loss: 0.776504 \tValidation Loss: 2.202904 \tTime spent: 130.885056\n",
            "Epoch: 79 \tTraining Loss: 0.763055 \tValidation Loss: 2.140486 \tTime spent: 130.211051\n",
            "Epoch: 80 \tTraining Loss: 0.771444 \tValidation Loss: 2.153338 \tTime spent: 129.656980\n",
            "Epoch: 81 \tTraining Loss: 0.778574 \tValidation Loss: 2.172236 \tTime spent: 129.804284\n",
            "Epoch: 82 \tTraining Loss: 0.751227 \tValidation Loss: 2.361332 \tTime spent: 130.341504\n",
            "Epoch: 83 \tTraining Loss: 0.723445 \tValidation Loss: 2.275281 \tTime spent: 130.769695\n",
            "Epoch: 84 \tTraining Loss: 0.707887 \tValidation Loss: 2.030958 \tTime spent: 130.215890\n",
            "Epoch: 85 \tTraining Loss: 0.684103 \tValidation Loss: 2.295299 \tTime spent: 130.731367\n",
            "Epoch: 86 \tTraining Loss: 0.695936 \tValidation Loss: 2.276983 \tTime spent: 130.249830\n",
            "Epoch: 87 \tTraining Loss: 0.676774 \tValidation Loss: 2.495777 \tTime spent: 131.682997\n",
            "Epoch: 88 \tTraining Loss: 0.691911 \tValidation Loss: 2.155290 \tTime spent: 131.532596\n",
            "Epoch: 89 \tTraining Loss: 0.650018 \tValidation Loss: 2.254213 \tTime spent: 130.025779\n",
            "Epoch: 90 \tTraining Loss: 0.646054 \tValidation Loss: 2.204691 \tTime spent: 130.533557\n",
            "Epoch: 91 \tTraining Loss: 0.658701 \tValidation Loss: 2.377821 \tTime spent: 130.542435\n",
            "Epoch: 92 \tTraining Loss: 0.633405 \tValidation Loss: 2.157594 \tTime spent: 131.359959\n",
            "Epoch: 93 \tTraining Loss: 0.619430 \tValidation Loss: 2.156227 \tTime spent: 130.710647\n",
            "Epoch: 94 \tTraining Loss: 0.632311 \tValidation Loss: 2.330957 \tTime spent: 130.321151\n",
            "Epoch: 95 \tTraining Loss: 0.598851 \tValidation Loss: 2.149989 \tTime spent: 131.078173\n",
            "Epoch: 96 \tTraining Loss: 0.603479 \tValidation Loss: 2.187552 \tTime spent: 131.315941\n",
            "Epoch: 97 \tTraining Loss: 0.592273 \tValidation Loss: 2.483957 \tTime spent: 131.031752\n",
            "Epoch: 98 \tTraining Loss: 0.583657 \tValidation Loss: 2.388388 \tTime spent: 129.876634\n",
            "Epoch: 99 \tTraining Loss: 0.546081 \tValidation Loss: 2.128310 \tTime spent: 130.181039\n",
            "Epoch: 100 \tTraining Loss: 0.557611 \tValidation Loss: 2.019887 \tTime spent: 130.479401\n",
            "time spent:  3:37:32.206281\n",
            "Minimum trainig loss:  0.5460805892944336\n",
            "Minimum validation loss:  1.9816585779190063\n"
          ],
          "name": "stdout"
        },
        {
          "output_type": "display_data",
          "data": {
            "image/png": "[encoded data removed]",
            "text/plain": [
              "<Figure size 432x288 with 1 Axes>"
            ]
          },
          "metadata": {
            "tags": [],
            "image/png": {
              "width": 362,
              "height": 248
            }
          }
        },
        {
          "output_type": "stream",
          "text": [
            "Test Loss: 2.016611\n",
            "\n",
            "Test Accuracy: 49% (414/836)\n",
            "\n",
            "\n"
          ],
          "name": "stdout"
        }
      ],
   "source": [
    "%matplotlib inline\n",
    "%config InlineBackend.figure_format = 'retina'\n",
    "from utils.preprocess import *\n",
    "from utils.resnet_model import *\n",
    "from utils.train import *\n",
    "from utils.simple_model import *\n",
    "import torch.optim as optim\n",
    "from PIL import ImageFile\n",
    "\n",
    "ImageFile.LOAD_TRUNCATED_IMAGES = True\n",
    "\n",
    "sometimes = lambda aug: iaa.Sometimes(0.5, aug)\n",
    "\n",
    "augmentations = [\n",
    "        [\n",
    "        sometimes(iaa.Crop(percent=(0, 0.45))),\n",
    "        iaa.Add((-10, 10), per_channel=0.5)\n",
    "        ]\n",
    "]\n",
    "learning_rates = [\n",
    "                 0.0015\n",
    "                 ]\n",
    "optimizers = [\n",
    "             optim.Adam\n",
    "             ]\n",
    "models = [\n",
    "         resnet18()\n",
    "         ]\n",
    "         \n",
    "paths = {\n",
    "    'train_path' : train_path,\n",
    "    'validation_path' : validation_path,\n",
    "    'test_path' : test_path\n",
    "}\n",
    "\n",
    "\n",
    "hyperparameters_dictionary = {\n",
    "    'augmentations' : augmentations,\n",
    "    'learning_rates' : learning_rates,\n",
    "    'epochs' : 100,\n",
    "    'optimizers' : optimizers,\n",
    "    'models' : models\n",
    "}\n",
    "\n",
    "print_gpu()\n",
    "run_experiments(paths, hyperparameters_dictionary, model_file)\n",
    "\n",
    "\n"
   ]
  },
  {
   "cell_type": "code",
   "execution_count": null,
   "metadata": {
    "colab": {},
    "colab_type": "code",
    "id": "JIajAq0W3g08"
   },
   "outputs": [],
   "source": []
  }
 ],
 "metadata": {
  "accelerator": "GPU",
  "anaconda-cloud": {},
  "colab": {
   "collapsed_sections": [],
   "name": "best_scenario_replay.ipynb",
   "provenance": [
    {
     "file_id": "1OjCJi1WTxHyoX3PJv-O2nnwOTT2llm1K",
     "timestamp": 1586133248550
    },
    {
     "file_id": "1nDZaK8ZxAz8K8x1nvxH5hJxNrFdDGOGW",
     "timestamp": 1586132559362
    },
    {
     "file_id": "1CB8ottEi6O0V1byMpFFwPGAsDASBjZMB",
     "timestamp": 1586083613524
    },
    {
     "file_id": "1Z8yuY-OvTPNR_I39ExXUOetQgZCd5ai3",
     "timestamp": 1586083560447
    },
    {
     "file_id": "1CCtPCrvTO1eJTvBKDYBNh1qzbLulOgIB",
     "timestamp": 1586083192152
    },
    {
     "file_id": "1XEMq3W--Egp-IwHfHLUl8fooafAISsSq",
     "timestamp": 1586046109632
    },
    {
     "file_id": "1M6NnHno6mb6UmPwY3rLfVYIgx4r300qj",
     "timestamp": 1586045971599
    },
    {
     "file_id": "1nfhbSpamn1nTIQ94KZMjeAJvJQuUvQWH",
     "timestamp": 1586019294461
    },
    {
     "file_id": "1S5b4ZZBlAQH0-QI2rR3Klay6plHwlSG4",
     "timestamp": 1586019186582
    },
    {
     "file_id": "1x43TFVwxZ-RIkjvpxoh231Lvtt-ikN2C",
     "timestamp": 1586019059898
    },
    {
     "file_id": "18_yL6W-Q1P8P1xqcCJPCNjg_8OeZTD69",
     "timestamp": 1586005625719
    },
    {
     "file_id": "1r2_wvotCDm3k_r_TLNHFwiyqgwyV5KkQ",
     "timestamp": 1586005597098
    },
    {
     "file_id": "1x17ANn3WW9PJckaEQSlkio5gn7dkPN-k",
     "timestamp": 1586005574311
    },
    {
     "file_id": "1wrfznjw3XLiV6JfDZxRvB0FBT5wBDZ0I",
     "timestamp": 1586005511862
    },
    {
     "file_id": "1dOYwkMe0ADYqIypoTsfACJ0m1aC2wFkJ",
     "timestamp": 1585991244277
    },
    {
     "file_id": "1f9SevfjtTDJD6CO-HfNW-osiYvgrGJvN",
     "timestamp": 1585991217369
    },
    {
     "file_id": "1XWPqI_yXRmz4PenEhf7W2irFoa6HT6uF",
     "timestamp": 1585991195574
    },
    {
     "file_id": "1XNOEqHACPONOBz8ZN9L-aSYsuM0I2xJd",
     "timestamp": 1585991128475
    },
    {
     "file_id": "1E3y3-KvBsy9UapPVrGZypZT00YexjZbR",
     "timestamp": 1585955348971
    },
    {
     "file_id": "116DV5OYEC78n8Tdpt9Q7_MzL_TdLq6Qe",
     "timestamp": 1585955020650
    },
    {
     "file_id": "14GYMrkofK2E3cxEXO0Wa3eUO1nV6TOXr",
     "timestamp": 1585941706806
    },
    {
     "file_id": "1vcnE6D3-w6WNefC-orZ7W0KpV6HOmgnW",
     "timestamp": 1585781564679
    },
    {
     "file_id": "1CuKotTscUY4BCBXthHtT6SvrXJtC5f2I",
     "timestamp": 1585484980455
    },
    {
     "file_id": "1q5wJQ8TKeGV62hAt3Qj8gTaCOJkqUNgd",
     "timestamp": 1585323933479
    }
   ],
   "toc_visible": true
  },
  "kernelspec": {
   "display_name": "Python 3",
   "language": "python",
   "name": "python3"
  },
  "language_info": {
   "codemirror_mode": {
    "name": "ipython",
    "version": 3
   },
   "file_extension": ".py",
   "mimetype": "text/x-python",
   "name": "python",
   "nbconvert_exporter": "python",
   "pygments_lexer": "ipython3",
   "version": "3.7.6"
  }
 },
 "nbformat": 4,
 "nbformat_minor": 4
}
