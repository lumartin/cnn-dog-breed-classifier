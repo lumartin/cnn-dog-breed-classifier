{
 "cells": [
  {
   "cell_type": "code",
   "execution_count": 1,
   "metadata": {
    "colab": {
     "base_uri": "https://localhost:8080/",
     "height": 122
    },
    "colab_type": "code",
    "executionInfo": {
     "elapsed": 30090,
     "status": "ok",
     "timestamp": 1587682383528,
     "user": {
      "displayName": "Luis Martín",
      "photoUrl": "",
      "userId": "05136960784416304431"
     },
     "user_tz": -120
    },
    "id": "JXxOTx7DU-o4",
    "outputId": "35c9c40a-8109-4d9a-881f-158020b4922d"
   },
   "outputs": [
    {
     "name": "stdout",
     "output_type": "stream",
     "text": [
      "Go to this URL in a browser: https://accounts.google.com/o/oauth2/auth?client_id=947318989803-6bn6qk8qdgf4n4g3pfee6491hc0brc4i.apps.googleusercontent.com&redirect_uri=urn%3aietf%3awg%3aoauth%3a2.0%3aoob&response_type=code&scope=email%20https%3a%2f%2fwww.googleapis.com%2fauth%2fdocs.test%20https%3a%2f%2fwww.googleapis.com%2fauth%2fdrive%20https%3a%2f%2fwww.googleapis.com%2fauth%2fdrive.photos.readonly%20https%3a%2f%2fwww.googleapis.com%2fauth%2fpeopleapi.readonly\n",
      "\n",
      "Enter your authorization code:\n",
      "··········\n",
      "Mounted at /content/drive\n"
     ]
    }
   ],
   "source": [
    "from google.colab import drive\n",
    "drive.mount('/content/drive')"
   ]
  },
  {
   "cell_type": "code",
   "execution_count": null,
   "metadata": {
    "colab": {},
    "colab_type": "code",
    "id": "qkVY9R0tYZw3"
   },
   "outputs": [],
   "source": [
    "#%%capture\n",
    "#!wget -N https://s3-us-west-1.amazonaws.com/udacity-aind/dog-project/dogImages.zip\n",
    "#!unzip -o /content/dogImages.zip\n",
    "#!mv /content/dogImages /content/drive/My\\ Drive/dog-breeds/dog_images"
   ]
  },
  {
   "cell_type": "markdown",
   "metadata": {
    "colab_type": "text",
    "id": "SE3rFGLpoYhJ"
   },
   "source": [
    "# Configuration & utilities\n",
    "\n",
    "Here we define the configuration parameters, dependencies and utility functions needed for the experiment. You may only need to specify the 'experiment_description' value in the first line of code, and the paths identifying the project and the different datasets. "
   ]
  },
  {
   "cell_type": "code",
   "execution_count": 3,
   "metadata": {
    "colab": {
     "base_uri": "https://localhost:8080/",
     "height": 34
    },
    "colab_type": "code",
    "executionInfo": {
     "elapsed": 3036,
     "status": "ok",
     "timestamp": 1587682446392,
     "user": {
      "displayName": "Luis Martín",
      "photoUrl": "",
      "userId": "05136960784416304431"
     },
     "user_tz": -120
    },
    "id": "GbuFvy-OAzXp",
    "outputId": "f54cb665-705d-4bbd-85b5-22e423b34818"
   },
   "outputs": [
    {
     "name": "stdout",
     "output_type": "stream",
     "text": [
      "There are 8351 total dog images.\n"
     ]
    }
   ],
   "source": [
    "import numpy as np\n",
    "from glob import glob\n",
    "import sys\n",
    "\n",
    "experiment_description = 'best_scenario_replay'\n",
    "project_path = '/content/drive/My Drive/dog-breeds/'\n",
    "\n",
    "##################### DO NOT MODIFY ################################\n",
    "\n",
    "experiment_location = project_path + experiment_description\n",
    "escaped_exp_location = experiment_location.replace(\" \", \"\\\\ \")\n",
    "!mkdir $escaped_exp_location\n",
    "model_file = experiment_location + '/model_ ' + experiment_description\n",
    "output_file = experiment_location + '/' + experiment_description\n",
    "sys.path.append(project_path)\n",
    "##################### END: DO NOT MODIFY ###########################\n",
    "\n",
    "dog_files = np.array(glob(project_path + \"dog_images/*/*/*\"))\n",
    "print('There are %d total dog images.' % len(dog_files))\n",
    "train_path = project_path + 'dog_images/train'\n",
    "validation_path = project_path +'dog_images/valid'\n",
    "test_path = project_path +'dog_images/test'\n",
    "\n",
    "\n",
    "def print_gpu():\n",
    "  gpu_info = !nvidia-smi\n",
    "  gpu_info = '\\n'.join(gpu_info)\n",
    "  if gpu_info.find('failed') >= 0:\n",
    "    print('Select the Runtime → \"Change runtime type\" menu to enable a GPU accelerator, ')\n",
    "    print('and then re-execute this cell.')\n",
    "  else:\n",
    "    print(gpu_info) "
   ]
  },
  {
   "cell_type": "markdown",
   "metadata": {
    "colab_type": "text",
    "id": "SVQ7DTfXq7m4"
   },
   "source": [
    "# Experiment\n",
    "\n",
    "A lot of things here need to be separated:\n",
    "\n",
    " - Creation of dataset loaders\n",
    " - NN architecture\n",
    " - Hyperparameter dictionaries\n",
    " - Testing and Rebooting functions\n",
    " - Experiment loop\n",
    " - Visualization"
   ]
  },
  {
   "cell_type": "code",
   "execution_count": 4,
   "metadata": {
    "colab": {
     "base_uri": "https://localhost:8080/",
     "height": 1000
    },
    "colab_type": "code",
    "executionInfo": {
     "elapsed": 27554566,
     "status": "ok",
     "timestamp": 1587711569526,
     "user": {
      "displayName": "Luis Martín",
      "photoUrl": "",
      "userId": "05136960784416304431"
     },
     "user_tz": -120
    },
    "id": "ksid6BWZJlFO",
    "outputId": "8253066f-4632-46b8-909c-e94fc7edd920"
   },
   "outputs": [
    {
     "name": "stdout",
     "output_type": "stream",
     "text": [
      "ResNet(\n",
      "  (conv1): Sequential(\n",
      "    (0): Conv2d(3, 64, kernel_size=(3, 3), stride=(1, 1), padding=(1, 1), bias=False)\n",
      "    (1): BatchNorm2d(64, eps=1e-05, momentum=0.1, affine=True, track_running_stats=True)\n",
      "    (2): ReLU(inplace=True)\n",
      "  )\n",
      "  (conv2_x): Sequential(\n",
      "    (0): BasicBlock(\n",
      "      (residual_function): Sequential(\n",
      "        (0): Conv2d(64, 64, kernel_size=(3, 3), stride=(1, 1), padding=(1, 1), bias=False)\n",
      "        (1): BatchNorm2d(64, eps=1e-05, momentum=0.1, affine=True, track_running_stats=True)\n",
      "        (2): ReLU(inplace=True)\n",
      "        (3): Conv2d(64, 64, kernel_size=(3, 3), stride=(1, 1), padding=(1, 1), bias=False)\n",
      "        (4): BatchNorm2d(64, eps=1e-05, momentum=0.1, affine=True, track_running_stats=True)\n",
      "      )\n",
      "      (shortcut): Sequential()\n",
      "    )\n",
      "    (1): BasicBlock(\n",
      "      (residual_function): Sequential(\n",
      "        (0): Conv2d(64, 64, kernel_size=(3, 3), stride=(1, 1), padding=(1, 1), bias=False)\n",
      "        (1): BatchNorm2d(64, eps=1e-05, momentum=0.1, affine=True, track_running_stats=True)\n",
      "        (2): ReLU(inplace=True)\n",
      "        (3): Conv2d(64, 64, kernel_size=(3, 3), stride=(1, 1), padding=(1, 1), bias=False)\n",
      "        (4): BatchNorm2d(64, eps=1e-05, momentum=0.1, affine=True, track_running_stats=True)\n",
      "      )\n",
      "      (shortcut): Sequential()\n",
      "    )\n",
      "  )\n",
      "  (conv3_x): Sequential(\n",
      "    (0): BasicBlock(\n",
      "      (residual_function): Sequential(\n",
      "        (0): Conv2d(64, 128, kernel_size=(3, 3), stride=(2, 2), padding=(1, 1), bias=False)\n",
      "        (1): BatchNorm2d(128, eps=1e-05, momentum=0.1, affine=True, track_running_stats=True)\n",
      "        (2): ReLU(inplace=True)\n",
      "        (3): Conv2d(128, 128, kernel_size=(3, 3), stride=(1, 1), padding=(1, 1), bias=False)\n",
      "        (4): BatchNorm2d(128, eps=1e-05, momentum=0.1, affine=True, track_running_stats=True)\n",
      "      )\n",
      "      (shortcut): Sequential(\n",
      "        (0): Conv2d(64, 128, kernel_size=(1, 1), stride=(2, 2), bias=False)\n",
      "        (1): BatchNorm2d(128, eps=1e-05, momentum=0.1, affine=True, track_running_stats=True)\n",
      "      )\n",
      "    )\n",
      "    (1): BasicBlock(\n",
      "      (residual_function): Sequential(\n",
      "        (0): Conv2d(128, 128, kernel_size=(3, 3), stride=(1, 1), padding=(1, 1), bias=False)\n",
      "        (1): BatchNorm2d(128, eps=1e-05, momentum=0.1, affine=True, track_running_stats=True)\n",
      "        (2): ReLU(inplace=True)\n",
      "        (3): Conv2d(128, 128, kernel_size=(3, 3), stride=(1, 1), padding=(1, 1), bias=False)\n",
      "        (4): BatchNorm2d(128, eps=1e-05, momentum=0.1, affine=True, track_running_stats=True)\n",
      "      )\n",
      "      (shortcut): Sequential()\n",
      "    )\n",
      "  )\n",
      "  (conv4_x): Sequential(\n",
      "    (0): BasicBlock(\n",
      "      (residual_function): Sequential(\n",
      "        (0): Conv2d(128, 256, kernel_size=(3, 3), stride=(2, 2), padding=(1, 1), bias=False)\n",
      "        (1): BatchNorm2d(256, eps=1e-05, momentum=0.1, affine=True, track_running_stats=True)\n",
      "        (2): ReLU(inplace=True)\n",
      "        (3): Conv2d(256, 256, kernel_size=(3, 3), stride=(1, 1), padding=(1, 1), bias=False)\n",
      "        (4): BatchNorm2d(256, eps=1e-05, momentum=0.1, affine=True, track_running_stats=True)\n",
      "      )\n",
      "      (shortcut): Sequential(\n",
      "        (0): Conv2d(128, 256, kernel_size=(1, 1), stride=(2, 2), bias=False)\n",
      "        (1): BatchNorm2d(256, eps=1e-05, momentum=0.1, affine=True, track_running_stats=True)\n",
      "      )\n",
      "    )\n",
      "    (1): BasicBlock(\n",
      "      (residual_function): Sequential(\n",
      "        (0): Conv2d(256, 256, kernel_size=(3, 3), stride=(1, 1), padding=(1, 1), bias=False)\n",
      "        (1): BatchNorm2d(256, eps=1e-05, momentum=0.1, affine=True, track_running_stats=True)\n",
      "        (2): ReLU(inplace=True)\n",
      "        (3): Conv2d(256, 256, kernel_size=(3, 3), stride=(1, 1), padding=(1, 1), bias=False)\n",
      "        (4): BatchNorm2d(256, eps=1e-05, momentum=0.1, affine=True, track_running_stats=True)\n",
      "      )\n",
      "      (shortcut): Sequential()\n",
      "    )\n",
      "  )\n",
      "  (conv5_x): Sequential(\n",
      "    (0): BasicBlock(\n",
      "      (residual_function): Sequential(\n",
      "        (0): Conv2d(256, 512, kernel_size=(3, 3), stride=(2, 2), padding=(1, 1), bias=False)\n",
      "        (1): BatchNorm2d(512, eps=1e-05, momentum=0.1, affine=True, track_running_stats=True)\n",
      "        (2): ReLU(inplace=True)\n",
      "        (3): Conv2d(512, 512, kernel_size=(3, 3), stride=(1, 1), padding=(1, 1), bias=False)\n",
      "        (4): BatchNorm2d(512, eps=1e-05, momentum=0.1, affine=True, track_running_stats=True)\n",
      "      )\n",
      "      (shortcut): Sequential(\n",
      "        (0): Conv2d(256, 512, kernel_size=(1, 1), stride=(2, 2), bias=False)\n",
      "        (1): BatchNorm2d(512, eps=1e-05, momentum=0.1, affine=True, track_running_stats=True)\n",
      "      )\n",
      "    )\n",
      "    (1): BasicBlock(\n",
      "      (residual_function): Sequential(\n",
      "        (0): Conv2d(512, 512, kernel_size=(3, 3), stride=(1, 1), padding=(1, 1), bias=False)\n",
      "        (1): BatchNorm2d(512, eps=1e-05, momentum=0.1, affine=True, track_running_stats=True)\n",
      "        (2): ReLU(inplace=True)\n",
      "        (3): Conv2d(512, 512, kernel_size=(3, 3), stride=(1, 1), padding=(1, 1), bias=False)\n",
      "        (4): BatchNorm2d(512, eps=1e-05, momentum=0.1, affine=True, track_running_stats=True)\n",
      "      )\n",
      "      (shortcut): Sequential()\n",
      "    )\n",
      "  )\n",
      "  (avg_pool): AdaptiveAvgPool2d(output_size=(1, 1))\n",
      "  (fc): Linear(in_features=512, out_features=133, bias=True)\n",
      ")\n",
      "Sat Apr  4 13:12:34 2020       \n",
      "+-----------------------------------------------------------------------------+\n",
      "| NVIDIA-SMI 440.64.00    Driver Version: 418.67       CUDA Version: 10.1     |\n",
      "|-------------------------------+----------------------+----------------------+\n",
      "| GPU  Name        Persistence-M| Bus-Id        Disp.A | Volatile Uncorr. ECC |\n",
      "| Fan  Temp  Perf  Pwr:Usage/Cap|         Memory-Usage | GPU-Util  Compute M. |\n",
      "|===============================+======================+======================|\n",
      "|   0  Tesla P100-PCIE...  Off  | 00000000:00:04.0 Off |                    0 |\n",
      "| N/A   30C    P0    31W / 250W |    825MiB / 16280MiB |      0%      Default |\n",
      "+-------------------------------+----------------------+----------------------+\n",
      "                                                                               \n",
      "+-----------------------------------------------------------------------------+\n",
      "| Processes:                                                       GPU Memory |\n",
      "|  GPU       PID   Type   Process name                             Usage      |\n",
      "|=============================================================================|\n",
      "+-----------------------------------------------------------------------------+\n",
      "Adam (\n",
      "Parameter Group 0\n",
      "    amsgrad: False\n",
      "    betas: (0.9, 0.999)\n",
      "    eps: 1e-08\n",
      "    lr: 0.0015\n",
      "    weight_decay: 0\n",
      ")\n",
      "Epoch: 1 \tTraining Loss: 4.909853 \tValidation Loss: 4.960707 \tTime spent: 127.546904\n",
      "Epoch: 2 \tTraining Loss: 4.665630 \tValidation Loss: 4.695928 \tTime spent: 127.921148\n",
      "Epoch: 3 \tTraining Loss: 4.571518 \tValidation Loss: 4.655721 \tTime spent: 127.581187\n",
      "Epoch: 4 \tTraining Loss: 4.503113 \tValidation Loss: 4.542680 \tTime spent: 127.608008\n",
      "Epoch: 5 \tTraining Loss: 4.444072 \tValidation Loss: 4.485342 \tTime spent: 128.038686\n",
      "Epoch: 6 \tTraining Loss: 4.387372 \tValidation Loss: 4.443907 \tTime spent: 128.205073\n",
      "Epoch: 7 \tTraining Loss: 4.318413 \tValidation Loss: 4.406410 \tTime spent: 127.543462\n",
      "Epoch: 8 \tTraining Loss: 4.233140 \tValidation Loss: 4.454513 \tTime spent: 127.108562\n",
      "Epoch: 9 \tTraining Loss: 4.156199 \tValidation Loss: 4.370087 \tTime spent: 127.822628\n",
      "Epoch: 10 \tTraining Loss: 4.090749 \tValidation Loss: 4.227971 \tTime spent: 127.610775\n",
      "Epoch: 11 \tTraining Loss: 4.000526 \tValidation Loss: 4.081586 \tTime spent: 128.895524\n",
      "Epoch: 12 \tTraining Loss: 3.944561 \tValidation Loss: 4.734440 \tTime spent: 128.240324\n",
      "Epoch: 13 \tTraining Loss: 3.907528 \tValidation Loss: 3.992404 \tTime spent: 128.865105\n",
      "Epoch: 14 \tTraining Loss: 3.814281 \tValidation Loss: 4.048976 \tTime spent: 128.770703\n",
      "Epoch: 15 \tTraining Loss: 3.756687 \tValidation Loss: 4.090982 \tTime spent: 129.042282\n",
      "Epoch: 16 \tTraining Loss: 3.690141 \tValidation Loss: 3.847487 \tTime spent: 128.561516\n",
      "Epoch: 17 \tTraining Loss: 3.645852 \tValidation Loss: 3.936344 \tTime spent: 128.539549\n",
      "Epoch: 18 \tTraining Loss: 3.611191 \tValidation Loss: 3.918432 \tTime spent: 128.809351\n",
      "Epoch: 19 \tTraining Loss: 3.544007 \tValidation Loss: 3.693688 \tTime spent: 127.694307\n",
      "Epoch: 20 \tTraining Loss: 3.475197 \tValidation Loss: 3.796722 \tTime spent: 128.070915\n",
      "Epoch: 21 \tTraining Loss: 3.434988 \tValidation Loss: 3.650857 \tTime spent: 128.163455\n",
      "Epoch: 22 \tTraining Loss: 3.354115 \tValidation Loss: 3.549491 \tTime spent: 128.212563\n",
      "Epoch: 23 \tTraining Loss: 3.332098 \tValidation Loss: 3.773205 \tTime spent: 127.487238\n",
      "Epoch: 24 \tTraining Loss: 3.265746 \tValidation Loss: 3.431920 \tTime spent: 127.788079\n",
      "Epoch: 25 \tTraining Loss: 3.188165 \tValidation Loss: 3.591777 \tTime spent: 129.060119\n",
      "Epoch: 26 \tTraining Loss: 3.123926 \tValidation Loss: 3.431830 \tTime spent: 129.030964\n",
      "Epoch: 27 \tTraining Loss: 3.094648 \tValidation Loss: 3.325972 \tTime spent: 128.347212\n",
      "Epoch: 28 \tTraining Loss: 3.029035 \tValidation Loss: 3.312435 \tTime spent: 128.932469\n",
      "Epoch: 29 \tTraining Loss: 2.984590 \tValidation Loss: 3.427867 \tTime spent: 129.711836\n",
      "Epoch: 30 \tTraining Loss: 2.918534 \tValidation Loss: 3.338174 \tTime spent: 128.790527\n",
      "Epoch: 31 \tTraining Loss: 2.858040 \tValidation Loss: 3.698073 \tTime spent: 128.033442\n",
      "Epoch: 32 \tTraining Loss: 2.833838 \tValidation Loss: 3.110247 \tTime spent: 128.319109\n",
      "Epoch: 33 \tTraining Loss: 2.737560 \tValidation Loss: 3.219892 \tTime spent: 128.256036\n",
      "Epoch: 34 \tTraining Loss: 2.681531 \tValidation Loss: 3.254328 \tTime spent: 129.414515\n",
      "Epoch: 35 \tTraining Loss: 2.647656 \tValidation Loss: 3.018831 \tTime spent: 129.028803\n",
      "Epoch: 36 \tTraining Loss: 2.587518 \tValidation Loss: 3.184984 \tTime spent: 128.309761\n",
      "Epoch: 37 \tTraining Loss: 2.535245 \tValidation Loss: 3.054882 \tTime spent: 128.645015\n",
      "Epoch: 38 \tTraining Loss: 2.490386 \tValidation Loss: 3.190938 \tTime spent: 128.597324\n",
      "Epoch: 39 \tTraining Loss: 2.411183 \tValidation Loss: 3.003919 \tTime spent: 128.315386\n",
      "Epoch: 40 \tTraining Loss: 2.346931 \tValidation Loss: 2.978948 \tTime spent: 127.163080\n",
      "Epoch: 41 \tTraining Loss: 2.271116 \tValidation Loss: 2.885563 \tTime spent: 128.102950\n",
      "Epoch: 42 \tTraining Loss: 2.213405 \tValidation Loss: 2.891856 \tTime spent: 128.240207\n",
      "Epoch: 43 \tTraining Loss: 2.170963 \tValidation Loss: 2.762827 \tTime spent: 127.700486\n",
      "Epoch: 44 \tTraining Loss: 2.100336 \tValidation Loss: 2.779758 \tTime spent: 128.658576\n",
      "Epoch: 45 \tTraining Loss: 2.038749 \tValidation Loss: 2.941405 \tTime spent: 127.418435\n",
      "Epoch: 46 \tTraining Loss: 1.968663 \tValidation Loss: 3.259394 \tTime spent: 127.536163\n",
      "Epoch: 47 \tTraining Loss: 1.942353 \tValidation Loss: 3.052157 \tTime spent: 127.850003\n",
      "Epoch: 48 \tTraining Loss: 1.881169 \tValidation Loss: 2.888966 \tTime spent: 127.860676\n",
      "Epoch: 49 \tTraining Loss: 1.783334 \tValidation Loss: 2.987321 \tTime spent: 128.100534\n",
      "Epoch: 50 \tTraining Loss: 1.748205 \tValidation Loss: 2.841881 \tTime spent: 128.456637\n",
      "Epoch: 51 \tTraining Loss: 1.689536 \tValidation Loss: 2.614911 \tTime spent: 128.241185\n",
      "Epoch: 52 \tTraining Loss: 1.663251 \tValidation Loss: 2.583232 \tTime spent: 127.551025\n",
      "Epoch: 53 \tTraining Loss: 1.606777 \tValidation Loss: 2.825898 \tTime spent: 128.173581\n",
      "Epoch: 54 \tTraining Loss: 1.537056 \tValidation Loss: 2.791236 \tTime spent: 127.447225\n",
      "Epoch: 55 \tTraining Loss: 1.481472 \tValidation Loss: 2.778095 \tTime spent: 127.579901\n",
      "Epoch: 56 \tTraining Loss: 1.457555 \tValidation Loss: 2.328380 \tTime spent: 127.393183\n",
      "Epoch: 57 \tTraining Loss: 1.404625 \tValidation Loss: 2.468256 \tTime spent: 127.848774\n",
      "Epoch: 58 \tTraining Loss: 1.378239 \tValidation Loss: 2.580951 \tTime spent: 128.238322\n",
      "Epoch: 59 \tTraining Loss: 1.313984 \tValidation Loss: 2.745829 \tTime spent: 128.063278\n",
      "Epoch: 60 \tTraining Loss: 1.271430 \tValidation Loss: 2.618102 \tTime spent: 128.487263\n",
      "Epoch: 61 \tTraining Loss: 1.235277 \tValidation Loss: 2.617283 \tTime spent: 128.644605\n",
      "Epoch: 62 \tTraining Loss: 1.191770 \tValidation Loss: 2.908085 \tTime spent: 128.247392\n",
      "Epoch: 63 \tTraining Loss: 1.142076 \tValidation Loss: 2.411752 \tTime spent: 127.139198\n",
      "Epoch: 64 \tTraining Loss: 1.126325 \tValidation Loss: 2.623652 \tTime spent: 127.525823\n",
      "Epoch: 65 \tTraining Loss: 1.098169 \tValidation Loss: 2.563684 \tTime spent: 127.870723\n",
      "Epoch: 66 \tTraining Loss: 1.026158 \tValidation Loss: 2.710189 \tTime spent: 128.407972\n",
      "Epoch: 67 \tTraining Loss: 1.030170 \tValidation Loss: 2.640663 \tTime spent: 128.112854\n",
      "Epoch: 68 \tTraining Loss: 0.975194 \tValidation Loss: 2.707484 \tTime spent: 127.847377\n",
      "Epoch: 69 \tTraining Loss: 0.948374 \tValidation Loss: 2.667582 \tTime spent: 127.569788\n",
      "Epoch: 70 \tTraining Loss: 0.949993 \tValidation Loss: 2.450520 \tTime spent: 127.618378\n",
      "Epoch: 71 \tTraining Loss: 0.910758 \tValidation Loss: 2.588788 \tTime spent: 128.180866\n",
      "Epoch: 72 \tTraining Loss: 0.893524 \tValidation Loss: 2.563841 \tTime spent: 127.313031\n",
      "Epoch: 73 \tTraining Loss: 0.862775 \tValidation Loss: 2.426131 \tTime spent: 128.055268\n",
      "Epoch: 74 \tTraining Loss: 0.846185 \tValidation Loss: 2.531450 \tTime spent: 128.314077\n",
      "Epoch: 75 \tTraining Loss: 0.829477 \tValidation Loss: 2.631830 \tTime spent: 127.555436\n",
      "Epoch: 76 \tTraining Loss: 0.787579 \tValidation Loss: 2.776297 \tTime spent: 127.516752\n",
      "Epoch: 77 \tTraining Loss: 0.784193 \tValidation Loss: 2.594016 \tTime spent: 127.561352\n",
      "Epoch: 78 \tTraining Loss: 0.763008 \tValidation Loss: 2.731885 \tTime spent: 127.492043\n",
      "Epoch: 79 \tTraining Loss: 0.748761 \tValidation Loss: 2.695745 \tTime spent: 127.475404\n",
      "Epoch: 80 \tTraining Loss: 0.746999 \tValidation Loss: 2.460533 \tTime spent: 127.636036\n",
      "Epoch: 81 \tTraining Loss: 0.717163 \tValidation Loss: 2.685877 \tTime spent: 127.940058\n",
      "Epoch: 82 \tTraining Loss: 0.699357 \tValidation Loss: 2.518902 \tTime spent: 127.424879\n",
      "Epoch: 83 \tTraining Loss: 0.691565 \tValidation Loss: 2.627828 \tTime spent: 127.835005\n",
      "Epoch: 84 \tTraining Loss: 0.669469 \tValidation Loss: 2.864891 \tTime spent: 127.794059\n",
      "Epoch: 85 \tTraining Loss: 0.664480 \tValidation Loss: 2.579425 \tTime spent: 127.689306\n",
      "Epoch: 86 \tTraining Loss: 0.639034 \tValidation Loss: 2.627695 \tTime spent: 128.001901\n",
      "Epoch: 87 \tTraining Loss: 0.626926 \tValidation Loss: 2.505263 \tTime spent: 128.029616\n",
      "Epoch: 88 \tTraining Loss: 0.630854 \tValidation Loss: 2.419571 \tTime spent: 128.323662\n",
      "Epoch: 89 \tTraining Loss: 0.615028 \tValidation Loss: 2.790296 \tTime spent: 127.696098\n",
      "Epoch: 90 \tTraining Loss: 0.607214 \tValidation Loss: 2.557611 \tTime spent: 127.937909\n",
      "Epoch: 91 \tTraining Loss: 0.607519 \tValidation Loss: 2.716807 \tTime spent: 128.504112\n",
      "Epoch: 92 \tTraining Loss: 0.571537 \tValidation Loss: 2.479442 \tTime spent: 128.521821\n",
      "Epoch: 93 \tTraining Loss: 0.566547 \tValidation Loss: 2.763487 \tTime spent: 128.062234\n",
      "Epoch: 94 \tTraining Loss: 0.582010 \tValidation Loss: 2.597486 \tTime spent: 127.275821\n",
      "Epoch: 95 \tTraining Loss: 0.534324 \tValidation Loss: 2.540855 \tTime spent: 127.370656\n",
      "Epoch: 96 \tTraining Loss: 0.546248 \tValidation Loss: 2.679506 \tTime spent: 127.302378\n",
      "Epoch: 97 \tTraining Loss: 0.537631 \tValidation Loss: 2.705429 \tTime spent: 128.110295\n",
      "Epoch: 98 \tTraining Loss: 0.531100 \tValidation Loss: 2.692080 \tTime spent: 127.813339\n",
      "Epoch: 99 \tTraining Loss: 0.542437 \tValidation Loss: 2.726739 \tTime spent: 128.168693\n",
      "Epoch: 100 \tTraining Loss: 0.522602 \tValidation Loss: 2.619588 \tTime spent: 127.459811\n",
      "time spent:  3:33:26.162517\n",
      "Minimum trainig loss:  0.5226016640663147\n",
      "Minimum validation loss:  2.3283801078796387\n"
     ]
    },
    {
     "data": {
      "image/png": "[encoded data removed]",
      "text/plain": [
       "<Figure size 432x288 with 1 Axes>"
      ]
     },
     "metadata": {
      "image/png": {
       "height": 248,
       "width": 362
      },
      "tags": []
     },
     "output_type": "display_data"
    },
    {
     "name": "stdout",
     "output_type": "stream",
     "text": [
      "Test Loss: 2.292300\n",
      "\n",
      "Test Accuracy: 41% (349/836)\n",
      "\n",
      "\n"
     ]
    }
   ],
   "source": [
    "%matplotlib inline\n",
    "%config InlineBackend.figure_format = 'retina'\n",
    "from utils.preprocess import *\n",
    "from utils.resnet_model import *\n",
    "from utils.train import *\n",
    "from utils.simple_model import *\n",
    "import torch.optim as optim\n",
    "from PIL import ImageFile\n",
    "\n",
    "ImageFile.LOAD_TRUNCATED_IMAGES = True\n",
    "\n",
    "sometimes = lambda aug: iaa.Sometimes(0.5, aug)\n",
    "\n",
    "augmentations = [\n",
    "        [\n",
    "        sometimes(iaa.Crop(percent=(0, 0.45))),\n",
    "        iaa.Sometimes(0.25,iaa.OneOf([iaa.Dropout(p=(0, 0.1)),\n",
    "                                      iaa.CoarseDropout(0.1, \n",
    "                                      size_percent=0.5)]))\n",
    "        ]\n",
    "]\n",
    "learning_rates = [\n",
    "                 0.0015\n",
    "                 ]\n",
    "optimizers = [\n",
    "             optim.Adam\n",
    "             ]\n",
    "models = [\n",
    "         resnet18()\n",
    "         ]\n",
    "         \n",
    "paths = {\n",
    "    'train_path' : train_path,\n",
    "    'validation_path' : validation_path,\n",
    "    'test_path' : test_path\n",
    "}\n",
    "\n",
    "\n",
    "hyperparameters_dictionary = {\n",
    "    'augmentations' : augmentations,\n",
    "    'learning_rates' : learning_rates,\n",
    "    'epochs' : 100,\n",
    "    'optimizers' : optimizers,\n",
    "    'models' : models\n",
    "}\n",
    "\n",
    "print_gpu()\n",
    "run_experiments(paths, hyperparameters_dictionary, model_file)\n",
    "\n",
    "\n"
   ]
  },
  {
   "cell_type": "code",
   "execution_count": null,
   "metadata": {
    "colab": {},
    "colab_type": "code",
    "id": "JIajAq0W3g08"
   },
   "outputs": [],
   "source": []
  }
 ],
 "metadata": {
  "accelerator": "GPU",
  "anaconda-cloud": {},
  "colab": {
   "collapsed_sections": [],
   "name": "best_scenario_replay.ipynb",
   "provenance": [
    {
     "file_id": "1OjCJi1WTxHyoX3PJv-O2nnwOTT2llm1K",
     "timestamp": 1586133248550
    },
    {
     "file_id": "1nDZaK8ZxAz8K8x1nvxH5hJxNrFdDGOGW",
     "timestamp": 1586132559362
    },
    {
     "file_id": "1CB8ottEi6O0V1byMpFFwPGAsDASBjZMB",
     "timestamp": 1586083613524
    },
    {
     "file_id": "1Z8yuY-OvTPNR_I39ExXUOetQgZCd5ai3",
     "timestamp": 1586083560447
    },
    {
     "file_id": "1CCtPCrvTO1eJTvBKDYBNh1qzbLulOgIB",
     "timestamp": 1586083192152
    },
    {
     "file_id": "1XEMq3W--Egp-IwHfHLUl8fooafAISsSq",
     "timestamp": 1586046109632
    },
    {
     "file_id": "1M6NnHno6mb6UmPwY3rLfVYIgx4r300qj",
     "timestamp": 1586045971599
    },
    {
     "file_id": "1nfhbSpamn1nTIQ94KZMjeAJvJQuUvQWH",
     "timestamp": 1586019294461
    },
    {
     "file_id": "1S5b4ZZBlAQH0-QI2rR3Klay6plHwlSG4",
     "timestamp": 1586019186582
    },
    {
     "file_id": "1x43TFVwxZ-RIkjvpxoh231Lvtt-ikN2C",
     "timestamp": 1586019059898
    },
    {
     "file_id": "18_yL6W-Q1P8P1xqcCJPCNjg_8OeZTD69",
     "timestamp": 1586005625719
    },
    {
     "file_id": "1r2_wvotCDm3k_r_TLNHFwiyqgwyV5KkQ",
     "timestamp": 1586005597098
    },
    {
     "file_id": "1x17ANn3WW9PJckaEQSlkio5gn7dkPN-k",
     "timestamp": 1586005574311
    },
    {
     "file_id": "1wrfznjw3XLiV6JfDZxRvB0FBT5wBDZ0I",
     "timestamp": 1586005511862
    },
    {
     "file_id": "1dOYwkMe0ADYqIypoTsfACJ0m1aC2wFkJ",
     "timestamp": 1585991244277
    },
    {
     "file_id": "1f9SevfjtTDJD6CO-HfNW-osiYvgrGJvN",
     "timestamp": 1585991217369
    },
    {
     "file_id": "1XWPqI_yXRmz4PenEhf7W2irFoa6HT6uF",
     "timestamp": 1585991195574
    },
    {
     "file_id": "1XNOEqHACPONOBz8ZN9L-aSYsuM0I2xJd",
     "timestamp": 1585991128475
    },
    {
     "file_id": "1E3y3-KvBsy9UapPVrGZypZT00YexjZbR",
     "timestamp": 1585955348971
    },
    {
     "file_id": "116DV5OYEC78n8Tdpt9Q7_MzL_TdLq6Qe",
     "timestamp": 1585955020650
    },
    {
     "file_id": "14GYMrkofK2E3cxEXO0Wa3eUO1nV6TOXr",
     "timestamp": 1585941706806
    },
    {
     "file_id": "1vcnE6D3-w6WNefC-orZ7W0KpV6HOmgnW",
     "timestamp": 1585781564679
    },
    {
     "file_id": "1CuKotTscUY4BCBXthHtT6SvrXJtC5f2I",
     "timestamp": 1585484980455
    },
    {
     "file_id": "1q5wJQ8TKeGV62hAt3Qj8gTaCOJkqUNgd",
     "timestamp": 1585323933479
    }
   ],
   "toc_visible": true
  },
  "kernelspec": {
   "display_name": "Python 3",
   "language": "python",
   "name": "python3"
  },
  "language_info": {
   "codemirror_mode": {
    "name": "ipython",
    "version": 3
   },
   "file_extension": ".py",
   "mimetype": "text/x-python",
   "name": "python",
   "nbconvert_exporter": "python",
   "pygments_lexer": "ipython3",
   "version": "3.7.6"
  }
 },
 "nbformat": 4,
 "nbformat_minor": 4
}
