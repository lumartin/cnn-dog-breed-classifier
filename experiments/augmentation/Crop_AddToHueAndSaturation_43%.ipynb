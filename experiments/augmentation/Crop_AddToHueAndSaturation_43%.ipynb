{
 "cells": [
  {
   "cell_type": "code",
   "execution_count": 1,
   "metadata": {
    "colab": {
     "base_uri": "https://localhost:8080/",
     "height": 122
    },
    "colab_type": "code",
    "executionInfo": {
     "elapsed": 30090,
     "status": "ok",
     "timestamp": 1587682383528,
     "user": {
      "displayName": "Luis Martín",
      "photoUrl": "",
      "userId": "05136960784416304431"
     },
     "user_tz": -120
    },
    "id": "JXxOTx7DU-o4",
    "outputId": "35c9c40a-8109-4d9a-881f-158020b4922d"
   },
   "outputs": [
    {
     "name": "stdout",
     "output_type": "stream",
     "text": [
      "Go to this URL in a browser: https://accounts.google.com/o/oauth2/auth?client_id=947318989803-6bn6qk8qdgf4n4g3pfee6491hc0brc4i.apps.googleusercontent.com&redirect_uri=urn%3aietf%3awg%3aoauth%3a2.0%3aoob&response_type=code&scope=email%20https%3a%2f%2fwww.googleapis.com%2fauth%2fdocs.test%20https%3a%2f%2fwww.googleapis.com%2fauth%2fdrive%20https%3a%2f%2fwww.googleapis.com%2fauth%2fdrive.photos.readonly%20https%3a%2f%2fwww.googleapis.com%2fauth%2fpeopleapi.readonly\n",
      "\n",
      "Enter your authorization code:\n",
      "··········\n",
      "Mounted at /content/drive\n"
     ]
    }
   ],
   "source": [
    "from google.colab import drive\n",
    "drive.mount('/content/drive')"
   ]
  },
  {
   "cell_type": "code",
   "execution_count": null,
   "metadata": {
    "colab": {},
    "colab_type": "code",
    "id": "qkVY9R0tYZw3"
   },
   "outputs": [],
   "source": [
    "#%%capture\n",
    "#!wget -N https://s3-us-west-1.amazonaws.com/udacity-aind/dog-project/dogImages.zip\n",
    "#!unzip -o /content/dogImages.zip\n",
    "#!mv /content/dogImages /content/drive/My\\ Drive/dog-breeds/dog_images"
   ]
  },
  {
   "cell_type": "markdown",
   "metadata": {
    "colab_type": "text",
    "id": "SE3rFGLpoYhJ"
   },
   "source": [
    "# Configuration & utilities\n",
    "\n",
    "Here we define the configuration parameters, dependencies and utility functions needed for the experiment. You may only need to specify the 'experiment_description' value in the first line of code, and the paths identifying the project and the different datasets. "
   ]
  },
  {
   "cell_type": "code",
   "execution_count": 3,
   "metadata": {
    "colab": {
     "base_uri": "https://localhost:8080/",
     "height": 34
    },
    "colab_type": "code",
    "executionInfo": {
     "elapsed": 3036,
     "status": "ok",
     "timestamp": 1587682446392,
     "user": {
      "displayName": "Luis Martín",
      "photoUrl": "",
      "userId": "05136960784416304431"
     },
     "user_tz": -120
    },
    "id": "GbuFvy-OAzXp",
    "outputId": "f54cb665-705d-4bbd-85b5-22e423b34818"
   },
   "outputs": [
    {
     "name": "stdout",
     "output_type": "stream",
     "text": [
      "There are 8351 total dog images.\n"
     ]
    }
   ],
   "source": [
    "import numpy as np\n",
    "from glob import glob\n",
    "import sys\n",
    "\n",
    "experiment_description = 'best_scenario_replay'\n",
    "project_path = '/content/drive/My Drive/dog-breeds/'\n",
    "\n",
    "##################### DO NOT MODIFY ################################\n",
    "\n",
    "experiment_location = project_path + experiment_description\n",
    "escaped_exp_location = experiment_location.replace(\" \", \"\\\\ \")\n",
    "!mkdir $escaped_exp_location\n",
    "model_file = experiment_location + '/model_ ' + experiment_description\n",
    "output_file = experiment_location + '/' + experiment_description\n",
    "sys.path.append(project_path)\n",
    "##################### END: DO NOT MODIFY ###########################\n",
    "\n",
    "dog_files = np.array(glob(project_path + \"dog_images/*/*/*\"))\n",
    "print('There are %d total dog images.' % len(dog_files))\n",
    "train_path = project_path + 'dog_images/train'\n",
    "validation_path = project_path +'dog_images/valid'\n",
    "test_path = project_path +'dog_images/test'\n",
    "\n",
    "\n",
    "def print_gpu():\n",
    "  gpu_info = !nvidia-smi\n",
    "  gpu_info = '\\n'.join(gpu_info)\n",
    "  if gpu_info.find('failed') >= 0:\n",
    "    print('Select the Runtime → \"Change runtime type\" menu to enable a GPU accelerator, ')\n",
    "    print('and then re-execute this cell.')\n",
    "  else:\n",
    "    print(gpu_info) "
   ]
  },
  {
   "cell_type": "markdown",
   "metadata": {
    "colab_type": "text",
    "id": "SVQ7DTfXq7m4"
   },
   "source": [
    "# Experiment\n",
    "\n",
    "A lot of things here need to be separated:\n",
    "\n",
    " - Creation of dataset loaders\n",
    " - NN architecture\n",
    " - Hyperparameter dictionaries\n",
    " - Testing and Rebooting functions\n",
    " - Experiment loop\n",
    " - Visualization"
   ]
  },
  {
   "cell_type": "code",
   "execution_count": 4,
   "metadata": {
    "colab": {
     "base_uri": "https://localhost:8080/",
     "height": 1000
    },
    "colab_type": "code",
    "executionInfo": {
     "elapsed": 27554566,
     "status": "ok",
     "timestamp": 1587711569526,
     "user": {
      "displayName": "Luis Martín",
      "photoUrl": "",
      "userId": "05136960784416304431"
     },
     "user_tz": -120
    },
    "id": "ksid6BWZJlFO",
    "outputId": "8253066f-4632-46b8-909c-e94fc7edd920"
   },
   "outputs": [
        {
          "output_type": "stream",
          "text": [
            "ResNet(\n",
            "  (conv1): Sequential(\n",
            "    (0): Conv2d(3, 64, kernel_size=(3, 3), stride=(1, 1), padding=(1, 1), bias=False)\n",
            "    (1): BatchNorm2d(64, eps=1e-05, momentum=0.1, affine=True, track_running_stats=True)\n",
            "    (2): ReLU(inplace=True)\n",
            "  )\n",
            "  (conv2_x): Sequential(\n",
            "    (0): BasicBlock(\n",
            "      (residual_function): Sequential(\n",
            "        (0): Conv2d(64, 64, kernel_size=(3, 3), stride=(1, 1), padding=(1, 1), bias=False)\n",
            "        (1): BatchNorm2d(64, eps=1e-05, momentum=0.1, affine=True, track_running_stats=True)\n",
            "        (2): ReLU(inplace=True)\n",
            "        (3): Conv2d(64, 64, kernel_size=(3, 3), stride=(1, 1), padding=(1, 1), bias=False)\n",
            "        (4): BatchNorm2d(64, eps=1e-05, momentum=0.1, affine=True, track_running_stats=True)\n",
            "      )\n",
            "      (shortcut): Sequential()\n",
            "    )\n",
            "    (1): BasicBlock(\n",
            "      (residual_function): Sequential(\n",
            "        (0): Conv2d(64, 64, kernel_size=(3, 3), stride=(1, 1), padding=(1, 1), bias=False)\n",
            "        (1): BatchNorm2d(64, eps=1e-05, momentum=0.1, affine=True, track_running_stats=True)\n",
            "        (2): ReLU(inplace=True)\n",
            "        (3): Conv2d(64, 64, kernel_size=(3, 3), stride=(1, 1), padding=(1, 1), bias=False)\n",
            "        (4): BatchNorm2d(64, eps=1e-05, momentum=0.1, affine=True, track_running_stats=True)\n",
            "      )\n",
            "      (shortcut): Sequential()\n",
            "    )\n",
            "  )\n",
            "  (conv3_x): Sequential(\n",
            "    (0): BasicBlock(\n",
            "      (residual_function): Sequential(\n",
            "        (0): Conv2d(64, 128, kernel_size=(3, 3), stride=(2, 2), padding=(1, 1), bias=False)\n",
            "        (1): BatchNorm2d(128, eps=1e-05, momentum=0.1, affine=True, track_running_stats=True)\n",
            "        (2): ReLU(inplace=True)\n",
            "        (3): Conv2d(128, 128, kernel_size=(3, 3), stride=(1, 1), padding=(1, 1), bias=False)\n",
            "        (4): BatchNorm2d(128, eps=1e-05, momentum=0.1, affine=True, track_running_stats=True)\n",
            "      )\n",
            "      (shortcut): Sequential(\n",
            "        (0): Conv2d(64, 128, kernel_size=(1, 1), stride=(2, 2), bias=False)\n",
            "        (1): BatchNorm2d(128, eps=1e-05, momentum=0.1, affine=True, track_running_stats=True)\n",
            "      )\n",
            "    )\n",
            "    (1): BasicBlock(\n",
            "      (residual_function): Sequential(\n",
            "        (0): Conv2d(128, 128, kernel_size=(3, 3), stride=(1, 1), padding=(1, 1), bias=False)\n",
            "        (1): BatchNorm2d(128, eps=1e-05, momentum=0.1, affine=True, track_running_stats=True)\n",
            "        (2): ReLU(inplace=True)\n",
            "        (3): Conv2d(128, 128, kernel_size=(3, 3), stride=(1, 1), padding=(1, 1), bias=False)\n",
            "        (4): BatchNorm2d(128, eps=1e-05, momentum=0.1, affine=True, track_running_stats=True)\n",
            "      )\n",
            "      (shortcut): Sequential()\n",
            "    )\n",
            "  )\n",
            "  (conv4_x): Sequential(\n",
            "    (0): BasicBlock(\n",
            "      (residual_function): Sequential(\n",
            "        (0): Conv2d(128, 256, kernel_size=(3, 3), stride=(2, 2), padding=(1, 1), bias=False)\n",
            "        (1): BatchNorm2d(256, eps=1e-05, momentum=0.1, affine=True, track_running_stats=True)\n",
            "        (2): ReLU(inplace=True)\n",
            "        (3): Conv2d(256, 256, kernel_size=(3, 3), stride=(1, 1), padding=(1, 1), bias=False)\n",
            "        (4): BatchNorm2d(256, eps=1e-05, momentum=0.1, affine=True, track_running_stats=True)\n",
            "      )\n",
            "      (shortcut): Sequential(\n",
            "        (0): Conv2d(128, 256, kernel_size=(1, 1), stride=(2, 2), bias=False)\n",
            "        (1): BatchNorm2d(256, eps=1e-05, momentum=0.1, affine=True, track_running_stats=True)\n",
            "      )\n",
            "    )\n",
            "    (1): BasicBlock(\n",
            "      (residual_function): Sequential(\n",
            "        (0): Conv2d(256, 256, kernel_size=(3, 3), stride=(1, 1), padding=(1, 1), bias=False)\n",
            "        (1): BatchNorm2d(256, eps=1e-05, momentum=0.1, affine=True, track_running_stats=True)\n",
            "        (2): ReLU(inplace=True)\n",
            "        (3): Conv2d(256, 256, kernel_size=(3, 3), stride=(1, 1), padding=(1, 1), bias=False)\n",
            "        (4): BatchNorm2d(256, eps=1e-05, momentum=0.1, affine=True, track_running_stats=True)\n",
            "      )\n",
            "      (shortcut): Sequential()\n",
            "    )\n",
            "  )\n",
            "  (conv5_x): Sequential(\n",
            "    (0): BasicBlock(\n",
            "      (residual_function): Sequential(\n",
            "        (0): Conv2d(256, 512, kernel_size=(3, 3), stride=(2, 2), padding=(1, 1), bias=False)\n",
            "        (1): BatchNorm2d(512, eps=1e-05, momentum=0.1, affine=True, track_running_stats=True)\n",
            "        (2): ReLU(inplace=True)\n",
            "        (3): Conv2d(512, 512, kernel_size=(3, 3), stride=(1, 1), padding=(1, 1), bias=False)\n",
            "        (4): BatchNorm2d(512, eps=1e-05, momentum=0.1, affine=True, track_running_stats=True)\n",
            "      )\n",
            "      (shortcut): Sequential(\n",
            "        (0): Conv2d(256, 512, kernel_size=(1, 1), stride=(2, 2), bias=False)\n",
            "        (1): BatchNorm2d(512, eps=1e-05, momentum=0.1, affine=True, track_running_stats=True)\n",
            "      )\n",
            "    )\n",
            "    (1): BasicBlock(\n",
            "      (residual_function): Sequential(\n",
            "        (0): Conv2d(512, 512, kernel_size=(3, 3), stride=(1, 1), padding=(1, 1), bias=False)\n",
            "        (1): BatchNorm2d(512, eps=1e-05, momentum=0.1, affine=True, track_running_stats=True)\n",
            "        (2): ReLU(inplace=True)\n",
            "        (3): Conv2d(512, 512, kernel_size=(3, 3), stride=(1, 1), padding=(1, 1), bias=False)\n",
            "        (4): BatchNorm2d(512, eps=1e-05, momentum=0.1, affine=True, track_running_stats=True)\n",
            "      )\n",
            "      (shortcut): Sequential()\n",
            "    )\n",
            "  )\n",
            "  (avg_pool): AdaptiveAvgPool2d(output_size=(1, 1))\n",
            "  (fc): Linear(in_features=512, out_features=133, bias=True)\n",
            ")\n",
            "Sat Apr  4 20:35:41 2020       \n",
            "+-----------------------------------------------------------------------------+\n",
            "| NVIDIA-SMI 440.64.00    Driver Version: 418.67       CUDA Version: 10.1     |\n",
            "|-------------------------------+----------------------+----------------------+\n",
            "| GPU  Name        Persistence-M| Bus-Id        Disp.A | Volatile Uncorr. ECC |\n",
            "| Fan  Temp  Perf  Pwr:Usage/Cap|         Memory-Usage | GPU-Util  Compute M. |\n",
            "|===============================+======================+======================|\n",
            "|   0  Tesla P100-PCIE...  Off  | 00000000:00:04.0 Off |                    0 |\n",
            "| N/A   38C    P0    32W / 250W |    781MiB / 16280MiB |      0%      Default |\n",
            "+-------------------------------+----------------------+----------------------+\n",
            "                                                                               \n",
            "+-----------------------------------------------------------------------------+\n",
            "| Processes:                                                       GPU Memory |\n",
            "|  GPU       PID   Type   Process name                             Usage      |\n",
            "|=============================================================================|\n",
            "+-----------------------------------------------------------------------------+\n",
            "Adam (\n",
            "Parameter Group 0\n",
            "    amsgrad: False\n",
            "    betas: (0.9, 0.999)\n",
            "    eps: 1e-08\n",
            "    lr: 0.0015\n",
            "    weight_decay: 0\n",
            ")\n",
            "Epoch: 1 \tTraining Loss: 4.885897 \tValidation Loss: 5.182070 \tTime spent: 131.130208\n",
            "Epoch: 2 \tTraining Loss: 4.701430 \tValidation Loss: 4.682164 \tTime spent: 129.316592\n",
            "Epoch: 3 \tTraining Loss: 4.603738 \tValidation Loss: 4.612015 \tTime spent: 130.045286\n",
            "Epoch: 4 \tTraining Loss: 4.547019 \tValidation Loss: 4.609988 \tTime spent: 131.317387\n",
            "Epoch: 5 \tTraining Loss: 4.475844 \tValidation Loss: 4.874210 \tTime spent: 129.479246\n",
            "Epoch: 6 \tTraining Loss: 4.418964 \tValidation Loss: 4.688048 \tTime spent: 129.236822\n",
            "Epoch: 7 \tTraining Loss: 4.352404 \tValidation Loss: 4.608716 \tTime spent: 128.788416\n",
            "Epoch: 8 \tTraining Loss: 4.267269 \tValidation Loss: 4.440921 \tTime spent: 130.232015\n",
            "Epoch: 9 \tTraining Loss: 4.172120 \tValidation Loss: 4.388000 \tTime spent: 129.037129\n",
            "Epoch: 10 \tTraining Loss: 4.081689 \tValidation Loss: 4.069098 \tTime spent: 129.669338\n",
            "Epoch: 11 \tTraining Loss: 3.996976 \tValidation Loss: 4.824125 \tTime spent: 129.808593\n",
            "Epoch: 12 \tTraining Loss: 3.928158 \tValidation Loss: 4.490569 \tTime spent: 128.489488\n",
            "Epoch: 13 \tTraining Loss: 3.854864 \tValidation Loss: 4.186871 \tTime spent: 129.106322\n",
            "Epoch: 14 \tTraining Loss: 3.780156 \tValidation Loss: 3.828736 \tTime spent: 129.882318\n",
            "Epoch: 15 \tTraining Loss: 3.707760 \tValidation Loss: 3.859803 \tTime spent: 128.340882\n",
            "Epoch: 16 \tTraining Loss: 3.635099 \tValidation Loss: 3.907087 \tTime spent: 129.568180\n",
            "Epoch: 17 \tTraining Loss: 3.576173 \tValidation Loss: 3.978129 \tTime spent: 128.673601\n",
            "Epoch: 18 \tTraining Loss: 3.518080 \tValidation Loss: 3.946987 \tTime spent: 129.538159\n",
            "Epoch: 19 \tTraining Loss: 3.471773 \tValidation Loss: 3.820804 \tTime spent: 128.712166\n",
            "Epoch: 20 \tTraining Loss: 3.394057 \tValidation Loss: 4.108516 \tTime spent: 128.790359\n",
            "Epoch: 21 \tTraining Loss: 3.334914 \tValidation Loss: 4.019047 \tTime spent: 129.359911\n",
            "Epoch: 22 \tTraining Loss: 3.292485 \tValidation Loss: 3.772326 \tTime spent: 129.181818\n",
            "Epoch: 23 \tTraining Loss: 3.233177 \tValidation Loss: 3.767596 \tTime spent: 129.260185\n",
            "Epoch: 24 \tTraining Loss: 3.188185 \tValidation Loss: 3.575102 \tTime spent: 128.938976\n",
            "Epoch: 25 \tTraining Loss: 3.114187 \tValidation Loss: 3.439610 \tTime spent: 128.494148\n",
            "Epoch: 26 \tTraining Loss: 3.067482 \tValidation Loss: 3.399156 \tTime spent: 129.335125\n",
            "Epoch: 27 \tTraining Loss: 2.991644 \tValidation Loss: 3.303780 \tTime spent: 128.702266\n",
            "Epoch: 28 \tTraining Loss: 2.961024 \tValidation Loss: 4.014974 \tTime spent: 130.177924\n",
            "Epoch: 29 \tTraining Loss: 2.877887 \tValidation Loss: 3.404749 \tTime spent: 129.536873\n",
            "Epoch: 30 \tTraining Loss: 2.837669 \tValidation Loss: 3.135895 \tTime spent: 130.119231\n",
            "Epoch: 31 \tTraining Loss: 2.778095 \tValidation Loss: 3.104110 \tTime spent: 128.764692\n",
            "Epoch: 32 \tTraining Loss: 2.758608 \tValidation Loss: 3.505211 \tTime spent: 128.973981\n",
            "Epoch: 33 \tTraining Loss: 2.682431 \tValidation Loss: 3.203111 \tTime spent: 128.887001\n",
            "Epoch: 34 \tTraining Loss: 2.639069 \tValidation Loss: 3.092949 \tTime spent: 128.782103\n",
            "Epoch: 35 \tTraining Loss: 2.557009 \tValidation Loss: 3.094671 \tTime spent: 128.520837\n",
            "Epoch: 36 \tTraining Loss: 2.507695 \tValidation Loss: 2.886357 \tTime spent: 130.119496\n",
            "Epoch: 37 \tTraining Loss: 2.448733 \tValidation Loss: 3.220387 \tTime spent: 129.130427\n",
            "Epoch: 38 \tTraining Loss: 2.383780 \tValidation Loss: 2.927916 \tTime spent: 128.881160\n",
            "Epoch: 39 \tTraining Loss: 2.332233 \tValidation Loss: 2.684156 \tTime spent: 128.420295\n",
            "Epoch: 40 \tTraining Loss: 2.268013 \tValidation Loss: 2.744054 \tTime spent: 129.204122\n",
            "Epoch: 41 \tTraining Loss: 2.208097 \tValidation Loss: 2.787221 \tTime spent: 128.412397\n",
            "Epoch: 42 \tTraining Loss: 2.154510 \tValidation Loss: 2.700909 \tTime spent: 129.482100\n",
            "Epoch: 43 \tTraining Loss: 2.095949 \tValidation Loss: 2.781809 \tTime spent: 129.113835\n",
            "Epoch: 44 \tTraining Loss: 2.039166 \tValidation Loss: 2.814342 \tTime spent: 129.094166\n",
            "Epoch: 45 \tTraining Loss: 1.995312 \tValidation Loss: 2.905507 \tTime spent: 128.750024\n",
            "Epoch: 46 \tTraining Loss: 1.908421 \tValidation Loss: 2.582906 \tTime spent: 129.797934\n",
            "Epoch: 47 \tTraining Loss: 1.874458 \tValidation Loss: 3.016538 \tTime spent: 129.350166\n",
            "Epoch: 48 \tTraining Loss: 1.790120 \tValidation Loss: 2.755064 \tTime spent: 128.286319\n",
            "Epoch: 49 \tTraining Loss: 1.765528 \tValidation Loss: 2.770685 \tTime spent: 128.644550\n",
            "Epoch: 50 \tTraining Loss: 1.729977 \tValidation Loss: 2.800601 \tTime spent: 129.253006\n",
            "Epoch: 51 \tTraining Loss: 1.652819 \tValidation Loss: 2.366035 \tTime spent: 129.257294\n",
            "Epoch: 52 \tTraining Loss: 1.609768 \tValidation Loss: 2.380668 \tTime spent: 128.108824\n",
            "Epoch: 53 \tTraining Loss: 1.546264 \tValidation Loss: 2.677177 \tTime spent: 128.689316\n",
            "Epoch: 54 \tTraining Loss: 1.513488 \tValidation Loss: 2.504861 \tTime spent: 128.931360\n",
            "Epoch: 55 \tTraining Loss: 1.471541 \tValidation Loss: 2.264455 \tTime spent: 128.856576\n",
            "Epoch: 56 \tTraining Loss: 1.387410 \tValidation Loss: 2.322165 \tTime spent: 129.189527\n",
            "Epoch: 57 \tTraining Loss: 1.392061 \tValidation Loss: 2.368823 \tTime spent: 129.430235\n",
            "Epoch: 58 \tTraining Loss: 1.289274 \tValidation Loss: 2.376581 \tTime spent: 128.467347\n",
            "Epoch: 59 \tTraining Loss: 1.319407 \tValidation Loss: 2.175889 \tTime spent: 128.934620\n",
            "Epoch: 60 \tTraining Loss: 1.265509 \tValidation Loss: 2.312167 \tTime spent: 128.620494\n",
            "Epoch: 61 \tTraining Loss: 1.263565 \tValidation Loss: 2.836626 \tTime spent: 128.907749\n",
            "Epoch: 62 \tTraining Loss: 1.202606 \tValidation Loss: 2.233904 \tTime spent: 128.568827\n",
            "Epoch: 63 \tTraining Loss: 1.160751 \tValidation Loss: 2.387975 \tTime spent: 129.305100\n",
            "Epoch: 64 \tTraining Loss: 1.143062 \tValidation Loss: 2.326919 \tTime spent: 129.211098\n",
            "Epoch: 65 \tTraining Loss: 1.095629 \tValidation Loss: 2.520142 \tTime spent: 129.587866\n",
            "Epoch: 66 \tTraining Loss: 1.087131 \tValidation Loss: 2.441249 \tTime spent: 129.278374\n",
            "Epoch: 67 \tTraining Loss: 1.025614 \tValidation Loss: 2.318220 \tTime spent: 129.371485\n",
            "Epoch: 68 \tTraining Loss: 1.038185 \tValidation Loss: 2.498596 \tTime spent: 129.801011\n",
            "Epoch: 69 \tTraining Loss: 0.999579 \tValidation Loss: 2.419240 \tTime spent: 130.080383\n",
            "Epoch: 70 \tTraining Loss: 0.985856 \tValidation Loss: 2.516518 \tTime spent: 128.760184\n",
            "Epoch: 71 \tTraining Loss: 0.942056 \tValidation Loss: 2.518670 \tTime spent: 129.048143\n",
            "Epoch: 72 \tTraining Loss: 0.937966 \tValidation Loss: 2.350042 \tTime spent: 128.650011\n",
            "Epoch: 73 \tTraining Loss: 0.894632 \tValidation Loss: 2.497776 \tTime spent: 129.917993\n",
            "Epoch: 74 \tTraining Loss: 0.897189 \tValidation Loss: 2.370873 \tTime spent: 129.839489\n",
            "Epoch: 75 \tTraining Loss: 0.861994 \tValidation Loss: 2.362318 \tTime spent: 129.559707\n",
            "Epoch: 76 \tTraining Loss: 0.848152 \tValidation Loss: 2.636428 \tTime spent: 128.986403\n",
            "Epoch: 77 \tTraining Loss: 0.797284 \tValidation Loss: 2.288489 \tTime spent: 129.000415\n",
            "Epoch: 78 \tTraining Loss: 0.804716 \tValidation Loss: 2.984392 \tTime spent: 129.044565\n",
            "Epoch: 79 \tTraining Loss: 0.785733 \tValidation Loss: 2.532854 \tTime spent: 129.564514\n",
            "Epoch: 80 \tTraining Loss: 0.774265 \tValidation Loss: 2.473260 \tTime spent: 129.679047\n",
            "Epoch: 81 \tTraining Loss: 0.800048 \tValidation Loss: 2.497754 \tTime spent: 129.860687\n",
            "Epoch: 82 \tTraining Loss: 0.767525 \tValidation Loss: 2.320043 \tTime spent: 129.456265\n",
            "Epoch: 83 \tTraining Loss: 0.750849 \tValidation Loss: 2.546162 \tTime spent: 130.155290\n",
            "Epoch: 84 \tTraining Loss: 0.747856 \tValidation Loss: 2.522212 \tTime spent: 129.433310\n",
            "Epoch: 85 \tTraining Loss: 0.724210 \tValidation Loss: 2.330729 \tTime spent: 130.385888\n",
            "Epoch: 86 \tTraining Loss: 0.691818 \tValidation Loss: 2.630128 \tTime spent: 129.461133\n",
            "Epoch: 87 \tTraining Loss: 0.670923 \tValidation Loss: 2.524029 \tTime spent: 129.192414\n",
            "Epoch: 88 \tTraining Loss: 0.679155 \tValidation Loss: 2.216818 \tTime spent: 129.648301\n",
            "Epoch: 89 \tTraining Loss: 0.671076 \tValidation Loss: 2.573583 \tTime spent: 130.520353\n",
            "Epoch: 90 \tTraining Loss: 0.665901 \tValidation Loss: 2.290920 \tTime spent: 129.189422\n",
            "Epoch: 91 \tTraining Loss: 0.667017 \tValidation Loss: 2.374811 \tTime spent: 129.096817\n",
            "Epoch: 92 \tTraining Loss: 0.649436 \tValidation Loss: 2.452030 \tTime spent: 129.360754\n",
            "Epoch: 93 \tTraining Loss: 0.634081 \tValidation Loss: 2.456237 \tTime spent: 129.105888\n",
            "Epoch: 94 \tTraining Loss: 0.633029 \tValidation Loss: 2.376623 \tTime spent: 128.359782\n",
            "Epoch: 95 \tTraining Loss: 0.628531 \tValidation Loss: 2.385128 \tTime spent: 128.823500\n",
            "Epoch: 96 \tTraining Loss: 0.616017 \tValidation Loss: 2.374923 \tTime spent: 128.997541\n",
            "Epoch: 97 \tTraining Loss: 0.621329 \tValidation Loss: 2.492100 \tTime spent: 129.057002\n",
            "Epoch: 98 \tTraining Loss: 0.604075 \tValidation Loss: 2.341342 \tTime spent: 128.268045\n",
            "Epoch: 99 \tTraining Loss: 0.599654 \tValidation Loss: 2.548572 \tTime spent: 129.902115\n",
            "Epoch: 100 \tTraining Loss: 0.570641 \tValidation Loss: 2.512777 \tTime spent: 128.789444\n",
            "time spent:  3:35:25.417716\n",
            "Minimum trainig loss:  0.5706412196159363\n",
            "Minimum validation loss:  2.175889015197754\n"
          ],
          "name": "stdout"
        },
        {
          "output_type": "display_data",
          "data": {
            "image/png": "[encoded data removed]",
            "text/plain": [
              "<Figure size 432x288 with 1 Axes>"
            ]
          },
          "metadata": {
            "tags": [],
            "image/png": {
              "width": 362,
              "height": 248
            }
          }
        },
        {
          "output_type": "stream",
          "text": [
            "Test Loss: 2.250086\n",
            "\n",
            "Test Accuracy: 43% (363/836)\n",
            "\n",
            "\n"
          ],
          "name": "stdout"
        }
      ],
   "source": [
    "%matplotlib inline\n",
    "%config InlineBackend.figure_format = 'retina'\n",
    "from utils.preprocess import *\n",
    "from utils.resnet_model import *\n",
    "from utils.train import *\n",
    "from utils.simple_model import *\n",
    "import torch.optim as optim\n",
    "from PIL import ImageFile\n",
    "\n",
    "ImageFile.LOAD_TRUNCATED_IMAGES = True\n",
    "\n",
    "sometimes = lambda aug: iaa.Sometimes(0.5, aug)\n",
    "\n",
    "augmentations = [\n",
    "        [\n",
    "        sometimes(iaa.Crop(percent=(0, 0.45))),\n",
    "        iaa.AddToHueAndSaturation(value=(-10, 10), per_channel=True)\n",
    "        ]\n",
    "]\n",
    "learning_rates = [\n",
    "                 0.0015\n",
    "                 ]\n",
    "optimizers = [\n",
    "             optim.Adam\n",
    "             ]\n",
    "models = [\n",
    "         resnet18()\n",
    "         ]\n",
    "         \n",
    "paths = {\n",
    "    'train_path' : train_path,\n",
    "    'validation_path' : validation_path,\n",
    "    'test_path' : test_path\n",
    "}\n",
    "\n",
    "\n",
    "hyperparameters_dictionary = {\n",
    "    'augmentations' : augmentations,\n",
    "    'learning_rates' : learning_rates,\n",
    "    'epochs' : 100,\n",
    "    'optimizers' : optimizers,\n",
    "    'models' : models\n",
    "}\n",
    "\n",
    "print_gpu()\n",
    "run_experiments(paths, hyperparameters_dictionary, model_file)\n",
    "\n",
    "\n"
   ]
  },
  {
   "cell_type": "code",
   "execution_count": null,
   "metadata": {
    "colab": {},
    "colab_type": "code",
    "id": "JIajAq0W3g08"
   },
   "outputs": [],
   "source": []
  }
 ],
 "metadata": {
  "accelerator": "GPU",
  "anaconda-cloud": {},
  "colab": {
   "collapsed_sections": [],
   "name": "best_scenario_replay.ipynb",
   "provenance": [
    {
     "file_id": "1OjCJi1WTxHyoX3PJv-O2nnwOTT2llm1K",
     "timestamp": 1586133248550
    },
    {
     "file_id": "1nDZaK8ZxAz8K8x1nvxH5hJxNrFdDGOGW",
     "timestamp": 1586132559362
    },
    {
     "file_id": "1CB8ottEi6O0V1byMpFFwPGAsDASBjZMB",
     "timestamp": 1586083613524
    },
    {
     "file_id": "1Z8yuY-OvTPNR_I39ExXUOetQgZCd5ai3",
     "timestamp": 1586083560447
    },
    {
     "file_id": "1CCtPCrvTO1eJTvBKDYBNh1qzbLulOgIB",
     "timestamp": 1586083192152
    },
    {
     "file_id": "1XEMq3W--Egp-IwHfHLUl8fooafAISsSq",
     "timestamp": 1586046109632
    },
    {
     "file_id": "1M6NnHno6mb6UmPwY3rLfVYIgx4r300qj",
     "timestamp": 1586045971599
    },
    {
     "file_id": "1nfhbSpamn1nTIQ94KZMjeAJvJQuUvQWH",
     "timestamp": 1586019294461
    },
    {
     "file_id": "1S5b4ZZBlAQH0-QI2rR3Klay6plHwlSG4",
     "timestamp": 1586019186582
    },
    {
     "file_id": "1x43TFVwxZ-RIkjvpxoh231Lvtt-ikN2C",
     "timestamp": 1586019059898
    },
    {
     "file_id": "18_yL6W-Q1P8P1xqcCJPCNjg_8OeZTD69",
     "timestamp": 1586005625719
    },
    {
     "file_id": "1r2_wvotCDm3k_r_TLNHFwiyqgwyV5KkQ",
     "timestamp": 1586005597098
    },
    {
     "file_id": "1x17ANn3WW9PJckaEQSlkio5gn7dkPN-k",
     "timestamp": 1586005574311
    },
    {
     "file_id": "1wrfznjw3XLiV6JfDZxRvB0FBT5wBDZ0I",
     "timestamp": 1586005511862
    },
    {
     "file_id": "1dOYwkMe0ADYqIypoTsfACJ0m1aC2wFkJ",
     "timestamp": 1585991244277
    },
    {
     "file_id": "1f9SevfjtTDJD6CO-HfNW-osiYvgrGJvN",
     "timestamp": 1585991217369
    },
    {
     "file_id": "1XWPqI_yXRmz4PenEhf7W2irFoa6HT6uF",
     "timestamp": 1585991195574
    },
    {
     "file_id": "1XNOEqHACPONOBz8ZN9L-aSYsuM0I2xJd",
     "timestamp": 1585991128475
    },
    {
     "file_id": "1E3y3-KvBsy9UapPVrGZypZT00YexjZbR",
     "timestamp": 1585955348971
    },
    {
     "file_id": "116DV5OYEC78n8Tdpt9Q7_MzL_TdLq6Qe",
     "timestamp": 1585955020650
    },
    {
     "file_id": "14GYMrkofK2E3cxEXO0Wa3eUO1nV6TOXr",
     "timestamp": 1585941706806
    },
    {
     "file_id": "1vcnE6D3-w6WNefC-orZ7W0KpV6HOmgnW",
     "timestamp": 1585781564679
    },
    {
     "file_id": "1CuKotTscUY4BCBXthHtT6SvrXJtC5f2I",
     "timestamp": 1585484980455
    },
    {
     "file_id": "1q5wJQ8TKeGV62hAt3Qj8gTaCOJkqUNgd",
     "timestamp": 1585323933479
    }
   ],
   "toc_visible": true
  },
  "kernelspec": {
   "display_name": "Python 3",
   "language": "python",
   "name": "python3"
  },
  "language_info": {
   "codemirror_mode": {
    "name": "ipython",
    "version": 3
   },
   "file_extension": ".py",
   "mimetype": "text/x-python",
   "name": "python",
   "nbconvert_exporter": "python",
   "pygments_lexer": "ipython3",
   "version": "3.7.6"
  }
 },
 "nbformat": 4,
 "nbformat_minor": 4
}
