{
 "cells": [
  {
   "cell_type": "code",
   "execution_count": 1,
   "metadata": {
    "colab": {
     "base_uri": "https://localhost:8080/",
     "height": 122
    },
    "colab_type": "code",
    "executionInfo": {
     "elapsed": 30090,
     "status": "ok",
     "timestamp": 1587682383528,
     "user": {
      "displayName": "Luis Martín",
      "photoUrl": "",
      "userId": "05136960784416304431"
     },
     "user_tz": -120
    },
    "id": "JXxOTx7DU-o4",
    "outputId": "35c9c40a-8109-4d9a-881f-158020b4922d"
   },
   "outputs": [
    {
     "name": "stdout",
     "output_type": "stream",
     "text": [
      "Go to this URL in a browser: https://accounts.google.com/o/oauth2/auth?client_id=947318989803-6bn6qk8qdgf4n4g3pfee6491hc0brc4i.apps.googleusercontent.com&redirect_uri=urn%3aietf%3awg%3aoauth%3a2.0%3aoob&response_type=code&scope=email%20https%3a%2f%2fwww.googleapis.com%2fauth%2fdocs.test%20https%3a%2f%2fwww.googleapis.com%2fauth%2fdrive%20https%3a%2f%2fwww.googleapis.com%2fauth%2fdrive.photos.readonly%20https%3a%2f%2fwww.googleapis.com%2fauth%2fpeopleapi.readonly\n",
      "\n",
      "Enter your authorization code:\n",
      "··········\n",
      "Mounted at /content/drive\n"
     ]
    }
   ],
   "source": [
    "from google.colab import drive\n",
    "drive.mount('/content/drive')"
   ]
  },
  {
   "cell_type": "code",
   "execution_count": null,
   "metadata": {
    "colab": {},
    "colab_type": "code",
    "id": "qkVY9R0tYZw3"
   },
   "outputs": [],
   "source": [
    "#%%capture\n",
    "#!wget -N https://s3-us-west-1.amazonaws.com/udacity-aind/dog-project/dogImages.zip\n",
    "#!unzip -o /content/dogImages.zip\n",
    "#!mv /content/dogImages /content/drive/My\\ Drive/dog-breeds/dog_images"
   ]
  },
  {
   "cell_type": "markdown",
   "metadata": {
    "colab_type": "text",
    "id": "SE3rFGLpoYhJ"
   },
   "source": [
    "# Configuration & utilities\n",
    "\n",
    "Here we define the configuration parameters, dependencies and utility functions needed for the experiment. You may only need to specify the 'experiment_description' value in the first line of code, and the paths identifying the project and the different datasets. "
   ]
  },
  {
   "cell_type": "code",
   "execution_count": 3,
   "metadata": {
    "colab": {
     "base_uri": "https://localhost:8080/",
     "height": 34
    },
    "colab_type": "code",
    "executionInfo": {
     "elapsed": 3036,
     "status": "ok",
     "timestamp": 1587682446392,
     "user": {
      "displayName": "Luis Martín",
      "photoUrl": "",
      "userId": "05136960784416304431"
     },
     "user_tz": -120
    },
    "id": "GbuFvy-OAzXp",
    "outputId": "f54cb665-705d-4bbd-85b5-22e423b34818"
   },
   "outputs": [
    {
     "name": "stdout",
     "output_type": "stream",
     "text": [
      "There are 8351 total dog images.\n"
     ]
    }
   ],
   "source": [
    "import numpy as np\n",
    "from glob import glob\n",
    "import sys\n",
    "\n",
    "experiment_description = 'best_scenario_replay'\n",
    "project_path = '/content/drive/My Drive/dog-breeds/'\n",
    "\n",
    "##################### DO NOT MODIFY ################################\n",
    "\n",
    "experiment_location = project_path + experiment_description\n",
    "escaped_exp_location = experiment_location.replace(\" \", \"\\\\ \")\n",
    "!mkdir $escaped_exp_location\n",
    "model_file = experiment_location + '/model_ ' + experiment_description\n",
    "output_file = experiment_location + '/' + experiment_description\n",
    "sys.path.append(project_path)\n",
    "##################### END: DO NOT MODIFY ###########################\n",
    "\n",
    "dog_files = np.array(glob(project_path + \"dog_images/*/*/*\"))\n",
    "print('There are %d total dog images.' % len(dog_files))\n",
    "train_path = project_path + 'dog_images/train'\n",
    "validation_path = project_path +'dog_images/valid'\n",
    "test_path = project_path +'dog_images/test'\n",
    "\n",
    "\n",
    "def print_gpu():\n",
    "  gpu_info = !nvidia-smi\n",
    "  gpu_info = '\\n'.join(gpu_info)\n",
    "  if gpu_info.find('failed') >= 0:\n",
    "    print('Select the Runtime → \"Change runtime type\" menu to enable a GPU accelerator, ')\n",
    "    print('and then re-execute this cell.')\n",
    "  else:\n",
    "    print(gpu_info) "
   ]
  },
  {
   "cell_type": "markdown",
   "metadata": {
    "colab_type": "text",
    "id": "SVQ7DTfXq7m4"
   },
   "source": [
    "# Experiment\n",
    "\n",
    "A lot of things here need to be separated:\n",
    "\n",
    " - Creation of dataset loaders\n",
    " - NN architecture\n",
    " - Hyperparameter dictionaries\n",
    " - Testing and Rebooting functions\n",
    " - Experiment loop\n",
    " - Visualization"
   ]
  },
  {
   "cell_type": "code",
   "execution_count": 4,
   "metadata": {
    "colab": {
     "base_uri": "https://localhost:8080/",
     "height": 1000
    },
    "colab_type": "code",
    "executionInfo": {
     "elapsed": 27554566,
     "status": "ok",
     "timestamp": 1587711569526,
     "user": {
      "displayName": "Luis Martín",
      "photoUrl": "",
      "userId": "05136960784416304431"
     },
     "user_tz": -120
    },
    "id": "ksid6BWZJlFO",
    "outputId": "8253066f-4632-46b8-909c-e94fc7edd920"
   },
   "outputs": [
    {
     "name": "stdout",
     "output_type": "stream",
     "text": [
      "ResNet(\n",
      "  (conv1): Sequential(\n",
      "    (0): Conv2d(3, 64, kernel_size=(3, 3), stride=(1, 1), padding=(1, 1), bias=False)\n",
      "    (1): BatchNorm2d(64, eps=1e-05, momentum=0.1, affine=True, track_running_stats=True)\n",
      "    (2): ReLU(inplace=True)\n",
      "  )\n",
      "  (conv2_x): Sequential(\n",
      "    (0): BasicBlock(\n",
      "      (residual_function): Sequential(\n",
      "        (0): Conv2d(64, 64, kernel_size=(3, 3), stride=(1, 1), padding=(1, 1), bias=False)\n",
      "        (1): BatchNorm2d(64, eps=1e-05, momentum=0.1, affine=True, track_running_stats=True)\n",
      "        (2): ReLU(inplace=True)\n",
      "        (3): Conv2d(64, 64, kernel_size=(3, 3), stride=(1, 1), padding=(1, 1), bias=False)\n",
      "        (4): BatchNorm2d(64, eps=1e-05, momentum=0.1, affine=True, track_running_stats=True)\n",
      "      )\n",
      "      (shortcut): Sequential()\n",
      "    )\n",
      "    (1): BasicBlock(\n",
      "      (residual_function): Sequential(\n",
      "        (0): Conv2d(64, 64, kernel_size=(3, 3), stride=(1, 1), padding=(1, 1), bias=False)\n",
      "        (1): BatchNorm2d(64, eps=1e-05, momentum=0.1, affine=True, track_running_stats=True)\n",
      "        (2): ReLU(inplace=True)\n",
      "        (3): Conv2d(64, 64, kernel_size=(3, 3), stride=(1, 1), padding=(1, 1), bias=False)\n",
      "        (4): BatchNorm2d(64, eps=1e-05, momentum=0.1, affine=True, track_running_stats=True)\n",
      "      )\n",
      "      (shortcut): Sequential()\n",
      "    )\n",
      "  )\n",
      "  (conv3_x): Sequential(\n",
      "    (0): BasicBlock(\n",
      "      (residual_function): Sequential(\n",
      "        (0): Conv2d(64, 128, kernel_size=(3, 3), stride=(2, 2), padding=(1, 1), bias=False)\n",
      "        (1): BatchNorm2d(128, eps=1e-05, momentum=0.1, affine=True, track_running_stats=True)\n",
      "        (2): ReLU(inplace=True)\n",
      "        (3): Conv2d(128, 128, kernel_size=(3, 3), stride=(1, 1), padding=(1, 1), bias=False)\n",
      "        (4): BatchNorm2d(128, eps=1e-05, momentum=0.1, affine=True, track_running_stats=True)\n",
      "      )\n",
      "      (shortcut): Sequential(\n",
      "        (0): Conv2d(64, 128, kernel_size=(1, 1), stride=(2, 2), bias=False)\n",
      "        (1): BatchNorm2d(128, eps=1e-05, momentum=0.1, affine=True, track_running_stats=True)\n",
      "      )\n",
      "    )\n",
      "    (1): BasicBlock(\n",
      "      (residual_function): Sequential(\n",
      "        (0): Conv2d(128, 128, kernel_size=(3, 3), stride=(1, 1), padding=(1, 1), bias=False)\n",
      "        (1): BatchNorm2d(128, eps=1e-05, momentum=0.1, affine=True, track_running_stats=True)\n",
      "        (2): ReLU(inplace=True)\n",
      "        (3): Conv2d(128, 128, kernel_size=(3, 3), stride=(1, 1), padding=(1, 1), bias=False)\n",
      "        (4): BatchNorm2d(128, eps=1e-05, momentum=0.1, affine=True, track_running_stats=True)\n",
      "      )\n",
      "      (shortcut): Sequential()\n",
      "    )\n",
      "  )\n",
      "  (conv4_x): Sequential(\n",
      "    (0): BasicBlock(\n",
      "      (residual_function): Sequential(\n",
      "        (0): Conv2d(128, 256, kernel_size=(3, 3), stride=(2, 2), padding=(1, 1), bias=False)\n",
      "        (1): BatchNorm2d(256, eps=1e-05, momentum=0.1, affine=True, track_running_stats=True)\n",
      "        (2): ReLU(inplace=True)\n",
      "        (3): Conv2d(256, 256, kernel_size=(3, 3), stride=(1, 1), padding=(1, 1), bias=False)\n",
      "        (4): BatchNorm2d(256, eps=1e-05, momentum=0.1, affine=True, track_running_stats=True)\n",
      "      )\n",
      "      (shortcut): Sequential(\n",
      "        (0): Conv2d(128, 256, kernel_size=(1, 1), stride=(2, 2), bias=False)\n",
      "        (1): BatchNorm2d(256, eps=1e-05, momentum=0.1, affine=True, track_running_stats=True)\n",
      "      )\n",
      "    )\n",
      "    (1): BasicBlock(\n",
      "      (residual_function): Sequential(\n",
      "        (0): Conv2d(256, 256, kernel_size=(3, 3), stride=(1, 1), padding=(1, 1), bias=False)\n",
      "        (1): BatchNorm2d(256, eps=1e-05, momentum=0.1, affine=True, track_running_stats=True)\n",
      "        (2): ReLU(inplace=True)\n",
      "        (3): Conv2d(256, 256, kernel_size=(3, 3), stride=(1, 1), padding=(1, 1), bias=False)\n",
      "        (4): BatchNorm2d(256, eps=1e-05, momentum=0.1, affine=True, track_running_stats=True)\n",
      "      )\n",
      "      (shortcut): Sequential()\n",
      "    )\n",
      "  )\n",
      "  (conv5_x): Sequential(\n",
      "    (0): BasicBlock(\n",
      "      (residual_function): Sequential(\n",
      "        (0): Conv2d(256, 512, kernel_size=(3, 3), stride=(2, 2), padding=(1, 1), bias=False)\n",
      "        (1): BatchNorm2d(512, eps=1e-05, momentum=0.1, affine=True, track_running_stats=True)\n",
      "        (2): ReLU(inplace=True)\n",
      "        (3): Conv2d(512, 512, kernel_size=(3, 3), stride=(1, 1), padding=(1, 1), bias=False)\n",
      "        (4): BatchNorm2d(512, eps=1e-05, momentum=0.1, affine=True, track_running_stats=True)\n",
      "      )\n",
      "      (shortcut): Sequential(\n",
      "        (0): Conv2d(256, 512, kernel_size=(1, 1), stride=(2, 2), bias=False)\n",
      "        (1): BatchNorm2d(512, eps=1e-05, momentum=0.1, affine=True, track_running_stats=True)\n",
      "      )\n",
      "    )\n",
      "    (1): BasicBlock(\n",
      "      (residual_function): Sequential(\n",
      "        (0): Conv2d(512, 512, kernel_size=(3, 3), stride=(1, 1), padding=(1, 1), bias=False)\n",
      "        (1): BatchNorm2d(512, eps=1e-05, momentum=0.1, affine=True, track_running_stats=True)\n",
      "        (2): ReLU(inplace=True)\n",
      "        (3): Conv2d(512, 512, kernel_size=(3, 3), stride=(1, 1), padding=(1, 1), bias=False)\n",
      "        (4): BatchNorm2d(512, eps=1e-05, momentum=0.1, affine=True, track_running_stats=True)\n",
      "      )\n",
      "      (shortcut): Sequential()\n",
      "    )\n",
      "  )\n",
      "  (avg_pool): AdaptiveAvgPool2d(output_size=(1, 1))\n",
      "  (fc): Linear(in_features=512, out_features=133, bias=True)\n",
      ")\n",
      "Sat Apr  4 13:11:35 2020       \n",
      "+-----------------------------------------------------------------------------+\n",
      "| NVIDIA-SMI 440.64.00    Driver Version: 418.67       CUDA Version: 10.1     |\n",
      "|-------------------------------+----------------------+----------------------+\n",
      "| GPU  Name        Persistence-M| Bus-Id        Disp.A | Volatile Uncorr. ECC |\n",
      "| Fan  Temp  Perf  Pwr:Usage/Cap|         Memory-Usage | GPU-Util  Compute M. |\n",
      "|===============================+======================+======================|\n",
      "|   0  Tesla P100-PCIE...  Off  | 00000000:00:04.0 Off |                    0 |\n",
      "| N/A   34C    P0    32W / 250W |    781MiB / 16280MiB |      0%      Default |\n",
      "+-------------------------------+----------------------+----------------------+\n",
      "                                                                               \n",
      "+-----------------------------------------------------------------------------+\n",
      "| Processes:                                                       GPU Memory |\n",
      "|  GPU       PID   Type   Process name                             Usage      |\n",
      "|=============================================================================|\n",
      "+-----------------------------------------------------------------------------+\n",
      "Adam (\n",
      "Parameter Group 0\n",
      "    amsgrad: False\n",
      "    betas: (0.9, 0.999)\n",
      "    eps: 1e-08\n",
      "    lr: 0.0015\n",
      "    weight_decay: 0\n",
      ")\n",
      "Epoch: 1 \tTraining Loss: 4.922978 \tValidation Loss: 6.585996 \tTime spent: 129.353192\n",
      "Epoch: 2 \tTraining Loss: 4.783386 \tValidation Loss: 5.604588 \tTime spent: 130.243167\n",
      "Epoch: 3 \tTraining Loss: 4.700594 \tValidation Loss: 4.844874 \tTime spent: 129.932826\n",
      "Epoch: 4 \tTraining Loss: 4.631669 \tValidation Loss: 4.772357 \tTime spent: 130.127141\n",
      "Epoch: 5 \tTraining Loss: 4.567246 \tValidation Loss: 4.743650 \tTime spent: 129.920779\n",
      "Epoch: 6 \tTraining Loss: 4.556548 \tValidation Loss: 4.690271 \tTime spent: 129.896513\n",
      "Epoch: 7 \tTraining Loss: 4.467422 \tValidation Loss: 4.815442 \tTime spent: 128.838754\n",
      "Epoch: 8 \tTraining Loss: 4.406687 \tValidation Loss: 4.476052 \tTime spent: 129.940461\n",
      "Epoch: 9 \tTraining Loss: 4.337453 \tValidation Loss: 4.971437 \tTime spent: 128.748598\n",
      "Epoch: 10 \tTraining Loss: 4.267134 \tValidation Loss: 4.591355 \tTime spent: 128.710695\n",
      "Epoch: 11 \tTraining Loss: 4.210283 \tValidation Loss: 4.239993 \tTime spent: 129.063866\n",
      "Epoch: 12 \tTraining Loss: 4.133995 \tValidation Loss: 4.428059 \tTime spent: 128.502949\n",
      "Epoch: 13 \tTraining Loss: 4.115037 \tValidation Loss: 4.319912 \tTime spent: 128.712018\n",
      "Epoch: 14 \tTraining Loss: 4.033730 \tValidation Loss: 4.206291 \tTime spent: 128.294826\n",
      "Epoch: 15 \tTraining Loss: 3.980880 \tValidation Loss: 4.607790 \tTime spent: 129.126719\n",
      "Epoch: 16 \tTraining Loss: 3.901999 \tValidation Loss: 4.276006 \tTime spent: 129.102418\n",
      "Epoch: 17 \tTraining Loss: 3.837457 \tValidation Loss: 4.151099 \tTime spent: 129.061585\n",
      "Epoch: 18 \tTraining Loss: 3.778382 \tValidation Loss: 4.001669 \tTime spent: 128.769816\n",
      "Epoch: 19 \tTraining Loss: 3.712123 \tValidation Loss: 3.809974 \tTime spent: 129.018014\n",
      "Epoch: 20 \tTraining Loss: 3.657838 \tValidation Loss: 3.914170 \tTime spent: 128.629148\n",
      "Epoch: 21 \tTraining Loss: 3.591002 \tValidation Loss: 3.747277 \tTime spent: 129.158243\n",
      "Epoch: 22 \tTraining Loss: 3.493150 \tValidation Loss: 4.096986 \tTime spent: 128.865919\n",
      "Epoch: 23 \tTraining Loss: 3.475814 \tValidation Loss: 3.604246 \tTime spent: 129.381060\n",
      "Epoch: 24 \tTraining Loss: 3.418647 \tValidation Loss: 3.642298 \tTime spent: 128.966492\n",
      "Epoch: 25 \tTraining Loss: 3.334859 \tValidation Loss: 3.716587 \tTime spent: 128.646168\n",
      "Epoch: 26 \tTraining Loss: 3.270341 \tValidation Loss: 3.481468 \tTime spent: 129.879524\n",
      "Epoch: 27 \tTraining Loss: 3.231661 \tValidation Loss: 3.869334 \tTime spent: 129.661316\n",
      "Epoch: 28 \tTraining Loss: 3.143072 \tValidation Loss: 3.866867 \tTime spent: 128.503800\n",
      "Epoch: 29 \tTraining Loss: 3.072283 \tValidation Loss: 3.992686 \tTime spent: 129.088253\n",
      "Epoch: 30 \tTraining Loss: 3.030958 \tValidation Loss: 3.194609 \tTime spent: 128.551292\n",
      "Epoch: 31 \tTraining Loss: 2.953973 \tValidation Loss: 3.270504 \tTime spent: 129.806527\n",
      "Epoch: 32 \tTraining Loss: 2.907482 \tValidation Loss: 3.444592 \tTime spent: 128.807535\n",
      "Epoch: 33 \tTraining Loss: 2.848580 \tValidation Loss: 3.229219 \tTime spent: 129.661882\n",
      "Epoch: 34 \tTraining Loss: 2.745798 \tValidation Loss: 3.012400 \tTime spent: 128.781646\n",
      "Epoch: 35 \tTraining Loss: 2.682130 \tValidation Loss: 3.089256 \tTime spent: 128.370977\n",
      "Epoch: 36 \tTraining Loss: 2.622016 \tValidation Loss: 3.044316 \tTime spent: 129.201138\n",
      "Epoch: 37 \tTraining Loss: 2.546498 \tValidation Loss: 3.284744 \tTime spent: 128.673457\n",
      "Epoch: 38 \tTraining Loss: 2.489732 \tValidation Loss: 2.877631 \tTime spent: 128.965945\n",
      "Epoch: 39 \tTraining Loss: 2.419354 \tValidation Loss: 2.710416 \tTime spent: 128.866241\n",
      "Epoch: 40 \tTraining Loss: 2.373966 \tValidation Loss: 2.877143 \tTime spent: 129.082830\n",
      "Epoch: 41 \tTraining Loss: 2.291362 \tValidation Loss: 2.860710 \tTime spent: 129.521912\n",
      "Epoch: 42 \tTraining Loss: 2.235096 \tValidation Loss: 2.792597 \tTime spent: 129.848856\n",
      "Epoch: 43 \tTraining Loss: 2.183662 \tValidation Loss: 2.594576 \tTime spent: 129.323181\n",
      "Epoch: 44 \tTraining Loss: 2.098951 \tValidation Loss: 2.556410 \tTime spent: 128.897719\n",
      "Epoch: 45 \tTraining Loss: 2.049424 \tValidation Loss: 2.612488 \tTime spent: 129.161413\n",
      "Epoch: 46 \tTraining Loss: 1.996080 \tValidation Loss: 2.309025 \tTime spent: 128.844222\n",
      "Epoch: 47 \tTraining Loss: 1.940936 \tValidation Loss: 2.600018 \tTime spent: 128.989408\n",
      "Epoch: 48 \tTraining Loss: 1.907354 \tValidation Loss: 2.683128 \tTime spent: 128.419345\n",
      "Epoch: 49 \tTraining Loss: 1.866829 \tValidation Loss: 2.251341 \tTime spent: 130.267178\n",
      "Epoch: 50 \tTraining Loss: 1.781828 \tValidation Loss: 2.562651 \tTime spent: 129.956818\n",
      "Epoch: 51 \tTraining Loss: 1.743804 \tValidation Loss: 2.307492 \tTime spent: 130.031717\n",
      "Epoch: 52 \tTraining Loss: 1.705130 \tValidation Loss: 2.301375 \tTime spent: 129.928868\n",
      "Epoch: 53 \tTraining Loss: 1.654517 \tValidation Loss: 2.303566 \tTime spent: 128.786090\n",
      "Epoch: 54 \tTraining Loss: 1.623021 \tValidation Loss: 2.166990 \tTime spent: 129.455220\n",
      "Epoch: 55 \tTraining Loss: 1.566549 \tValidation Loss: 2.349555 \tTime spent: 129.101399\n",
      "Epoch: 56 \tTraining Loss: 1.492207 \tValidation Loss: 2.321422 \tTime spent: 129.880071\n",
      "Epoch: 57 \tTraining Loss: 1.466821 \tValidation Loss: 1.901118 \tTime spent: 130.077785\n",
      "Epoch: 58 \tTraining Loss: 1.435982 \tValidation Loss: 2.012534 \tTime spent: 128.429047\n",
      "Epoch: 59 \tTraining Loss: 1.393744 \tValidation Loss: 2.075015 \tTime spent: 128.694273\n",
      "Epoch: 60 \tTraining Loss: 1.352588 \tValidation Loss: 2.064552 \tTime spent: 128.846831\n",
      "Epoch: 61 \tTraining Loss: 1.303142 \tValidation Loss: 2.261889 \tTime spent: 129.217636\n",
      "Epoch: 62 \tTraining Loss: 1.292318 \tValidation Loss: 2.162220 \tTime spent: 129.973212\n",
      "Epoch: 63 \tTraining Loss: 1.254659 \tValidation Loss: 2.481795 \tTime spent: 129.538561\n",
      "Epoch: 64 \tTraining Loss: 1.206906 \tValidation Loss: 2.251355 \tTime spent: 129.763933\n",
      "Epoch: 65 \tTraining Loss: 1.207990 \tValidation Loss: 1.970243 \tTime spent: 129.497514\n",
      "Epoch: 66 \tTraining Loss: 1.178005 \tValidation Loss: 1.954620 \tTime spent: 129.598134\n",
      "Epoch: 67 \tTraining Loss: 1.123140 \tValidation Loss: 2.208553 \tTime spent: 128.833510\n",
      "Epoch: 68 \tTraining Loss: 1.119748 \tValidation Loss: 2.173361 \tTime spent: 129.853579\n",
      "Epoch: 69 \tTraining Loss: 1.087431 \tValidation Loss: 2.193815 \tTime spent: 129.428782\n",
      "Epoch: 70 \tTraining Loss: 1.062314 \tValidation Loss: 1.970883 \tTime spent: 129.412406\n",
      "Epoch: 71 \tTraining Loss: 1.017219 \tValidation Loss: 2.152565 \tTime spent: 130.076136\n",
      "Epoch: 72 \tTraining Loss: 1.029934 \tValidation Loss: 2.122630 \tTime spent: 128.882642\n",
      "Epoch: 73 \tTraining Loss: 1.014207 \tValidation Loss: 2.084504 \tTime spent: 129.216037\n",
      "Epoch: 74 \tTraining Loss: 1.002074 \tValidation Loss: 2.086928 \tTime spent: 129.752465\n",
      "Epoch: 75 \tTraining Loss: 0.956722 \tValidation Loss: 2.170740 \tTime spent: 128.785561\n",
      "Epoch: 76 \tTraining Loss: 0.928452 \tValidation Loss: 1.998527 \tTime spent: 129.535656\n",
      "Epoch: 77 \tTraining Loss: 0.901772 \tValidation Loss: 2.050711 \tTime spent: 128.783794\n",
      "Epoch: 78 \tTraining Loss: 0.924460 \tValidation Loss: 2.070349 \tTime spent: 128.827190\n",
      "Epoch: 79 \tTraining Loss: 0.875597 \tValidation Loss: 2.195118 \tTime spent: 129.104373\n",
      "Epoch: 80 \tTraining Loss: 0.870220 \tValidation Loss: 2.002901 \tTime spent: 129.268170\n",
      "Epoch: 81 \tTraining Loss: 0.871021 \tValidation Loss: 2.069817 \tTime spent: 129.187557\n",
      "Epoch: 82 \tTraining Loss: 0.829653 \tValidation Loss: 2.211910 \tTime spent: 129.436565\n",
      "Epoch: 83 \tTraining Loss: 0.833010 \tValidation Loss: 1.969659 \tTime spent: 128.957193\n",
      "Epoch: 84 \tTraining Loss: 0.827611 \tValidation Loss: 2.176655 \tTime spent: 129.480529\n",
      "Epoch: 85 \tTraining Loss: 0.823356 \tValidation Loss: 2.045529 \tTime spent: 129.514022\n",
      "Epoch: 86 \tTraining Loss: 0.784094 \tValidation Loss: 2.290907 \tTime spent: 129.013388\n",
      "Epoch: 87 \tTraining Loss: 0.770895 \tValidation Loss: 1.993554 \tTime spent: 128.908492\n",
      "Epoch: 88 \tTraining Loss: 0.784105 \tValidation Loss: 2.064566 \tTime spent: 128.811836\n",
      "Epoch: 89 \tTraining Loss: 0.737091 \tValidation Loss: 2.037230 \tTime spent: 129.046367\n",
      "Epoch: 90 \tTraining Loss: 0.731529 \tValidation Loss: 2.047904 \tTime spent: 128.835960\n",
      "Epoch: 91 \tTraining Loss: 0.746380 \tValidation Loss: 2.136571 \tTime spent: 128.684816\n",
      "Epoch: 92 \tTraining Loss: 0.748483 \tValidation Loss: 2.057301 \tTime spent: 129.636932\n",
      "Epoch: 93 \tTraining Loss: 0.713514 \tValidation Loss: 1.946645 \tTime spent: 128.737530\n",
      "Epoch: 94 \tTraining Loss: 0.729650 \tValidation Loss: 2.163018 \tTime spent: 129.243918\n",
      "Epoch: 95 \tTraining Loss: 0.682442 \tValidation Loss: 2.323173 \tTime spent: 130.722124\n",
      "Epoch: 96 \tTraining Loss: 0.693578 \tValidation Loss: 2.319946 \tTime spent: 129.737546\n",
      "Epoch: 97 \tTraining Loss: 0.704441 \tValidation Loss: 2.294192 \tTime spent: 130.937831\n",
      "Epoch: 98 \tTraining Loss: 0.660036 \tValidation Loss: 2.094880 \tTime spent: 130.277225\n",
      "Epoch: 99 \tTraining Loss: 0.651742 \tValidation Loss: 1.918607 \tTime spent: 131.028196\n",
      "Epoch: 100 \tTraining Loss: 0.680224 \tValidation Loss: 2.147185 \tTime spent: 130.864951\n",
      "time spent:  3:35:31.355132\n",
      "Minimum trainig loss:  0.6517424583435059\n",
      "Minimum validation loss:  1.9011183977127075\n"
     ]
    },
    {
     "data": {
      "image/png": "[encoded data removed]",
      "text/plain": [
       "<Figure size 432x288 with 1 Axes>"
      ]
     },
     "metadata": {
      "image/png": {
       "height": 248,
       "width": 362
      },
      "tags": []
     },
     "output_type": "display_data"
    },
    {
     "name": "stdout",
     "output_type": "stream",
     "text": [
      "Test Loss: 1.937640\n",
      "\n",
      "Test Accuracy: 48% (409/836)\n",
      "\n",
      "\n"
     ]
    }
   ],
   "source": [
    "%matplotlib inline\n",
    "%config InlineBackend.figure_format = 'retina'\n",
    "from utils.preprocess import *\n",
    "from utils.resnet_model import *\n",
    "from utils.train import *\n",
    "from utils.simple_model import *\n",
    "import torch.optim as optim\n",
    "from PIL import ImageFile\n",
    "\n",
    "ImageFile.LOAD_TRUNCATED_IMAGES = True\n",
    "\n",
    "sometimes = lambda aug: iaa.Sometimes(0.5, aug)\n",
    "\n",
    "augmentations = [\n",
    "        [\n",
    "        sometimes(iaa.Crop(percent=(0, 0.45))),\n",
    "        iaa.Grayscale(alpha=(0.0, 1.0))\n",
    "        ]\n",
    "]\n",
    "learning_rates = [\n",
    "                 0.0015\n",
    "                 ]\n",
    "optimizers = [\n",
    "             optim.Adam\n",
    "             ]\n",
    "models = [\n",
    "         resnet18()\n",
    "         ]\n",
    "         \n",
    "paths = {\n",
    "    'train_path' : train_path,\n",
    "    'validation_path' : validation_path,\n",
    "    'test_path' : test_path\n",
    "}\n",
    "\n",
    "\n",
    "hyperparameters_dictionary = {\n",
    "    'augmentations' : augmentations,\n",
    "    'learning_rates' : learning_rates,\n",
    "    'epochs' : 100,\n",
    "    'optimizers' : optimizers,\n",
    "    'models' : models\n",
    "}\n",
    "\n",
    "print_gpu()\n",
    "run_experiments(paths, hyperparameters_dictionary, model_file)\n",
    "\n",
    "\n"
   ]
  },
  {
   "cell_type": "code",
   "execution_count": null,
   "metadata": {
    "colab": {},
    "colab_type": "code",
    "id": "JIajAq0W3g08"
   },
   "outputs": [],
   "source": []
  }
 ],
 "metadata": {
  "accelerator": "GPU",
  "anaconda-cloud": {},
  "colab": {
   "collapsed_sections": [],
   "name": "best_scenario_replay.ipynb",
   "provenance": [
    {
     "file_id": "1OjCJi1WTxHyoX3PJv-O2nnwOTT2llm1K",
     "timestamp": 1586133248550
    },
    {
     "file_id": "1nDZaK8ZxAz8K8x1nvxH5hJxNrFdDGOGW",
     "timestamp": 1586132559362
    },
    {
     "file_id": "1CB8ottEi6O0V1byMpFFwPGAsDASBjZMB",
     "timestamp": 1586083613524
    },
    {
     "file_id": "1Z8yuY-OvTPNR_I39ExXUOetQgZCd5ai3",
     "timestamp": 1586083560447
    },
    {
     "file_id": "1CCtPCrvTO1eJTvBKDYBNh1qzbLulOgIB",
     "timestamp": 1586083192152
    },
    {
     "file_id": "1XEMq3W--Egp-IwHfHLUl8fooafAISsSq",
     "timestamp": 1586046109632
    },
    {
     "file_id": "1M6NnHno6mb6UmPwY3rLfVYIgx4r300qj",
     "timestamp": 1586045971599
    },
    {
     "file_id": "1nfhbSpamn1nTIQ94KZMjeAJvJQuUvQWH",
     "timestamp": 1586019294461
    },
    {
     "file_id": "1S5b4ZZBlAQH0-QI2rR3Klay6plHwlSG4",
     "timestamp": 1586019186582
    },
    {
     "file_id": "1x43TFVwxZ-RIkjvpxoh231Lvtt-ikN2C",
     "timestamp": 1586019059898
    },
    {
     "file_id": "18_yL6W-Q1P8P1xqcCJPCNjg_8OeZTD69",
     "timestamp": 1586005625719
    },
    {
     "file_id": "1r2_wvotCDm3k_r_TLNHFwiyqgwyV5KkQ",
     "timestamp": 1586005597098
    },
    {
     "file_id": "1x17ANn3WW9PJckaEQSlkio5gn7dkPN-k",
     "timestamp": 1586005574311
    },
    {
     "file_id": "1wrfznjw3XLiV6JfDZxRvB0FBT5wBDZ0I",
     "timestamp": 1586005511862
    },
    {
     "file_id": "1dOYwkMe0ADYqIypoTsfACJ0m1aC2wFkJ",
     "timestamp": 1585991244277
    },
    {
     "file_id": "1f9SevfjtTDJD6CO-HfNW-osiYvgrGJvN",
     "timestamp": 1585991217369
    },
    {
     "file_id": "1XWPqI_yXRmz4PenEhf7W2irFoa6HT6uF",
     "timestamp": 1585991195574
    },
    {
     "file_id": "1XNOEqHACPONOBz8ZN9L-aSYsuM0I2xJd",
     "timestamp": 1585991128475
    },
    {
     "file_id": "1E3y3-KvBsy9UapPVrGZypZT00YexjZbR",
     "timestamp": 1585955348971
    },
    {
     "file_id": "116DV5OYEC78n8Tdpt9Q7_MzL_TdLq6Qe",
     "timestamp": 1585955020650
    },
    {
     "file_id": "14GYMrkofK2E3cxEXO0Wa3eUO1nV6TOXr",
     "timestamp": 1585941706806
    },
    {
     "file_id": "1vcnE6D3-w6WNefC-orZ7W0KpV6HOmgnW",
     "timestamp": 1585781564679
    },
    {
     "file_id": "1CuKotTscUY4BCBXthHtT6SvrXJtC5f2I",
     "timestamp": 1585484980455
    },
    {
     "file_id": "1q5wJQ8TKeGV62hAt3Qj8gTaCOJkqUNgd",
     "timestamp": 1585323933479
    }
   ],
   "toc_visible": true
  },
  "kernelspec": {
   "display_name": "Python 3",
   "language": "python",
   "name": "python3"
  },
  "language_info": {
   "codemirror_mode": {
    "name": "ipython",
    "version": 3
   },
   "file_extension": ".py",
   "mimetype": "text/x-python",
   "name": "python",
   "nbconvert_exporter": "python",
   "pygments_lexer": "ipython3",
   "version": "3.7.6"
  }
 },
 "nbformat": 4,
 "nbformat_minor": 4
}
