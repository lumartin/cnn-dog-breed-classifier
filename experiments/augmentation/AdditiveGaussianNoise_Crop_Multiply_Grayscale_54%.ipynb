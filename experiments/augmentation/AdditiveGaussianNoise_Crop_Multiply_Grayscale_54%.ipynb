{
 "cells": [
  {
   "cell_type": "code",
   "execution_count": 1,
   "metadata": {
    "colab": {
     "base_uri": "https://localhost:8080/",
     "height": 122
    },
    "colab_type": "code",
    "executionInfo": {
     "elapsed": 30090,
     "status": "ok",
     "timestamp": 1587682383528,
     "user": {
      "displayName": "Luis Martín",
      "photoUrl": "",
      "userId": "05136960784416304431"
     },
     "user_tz": -120
    },
    "id": "JXxOTx7DU-o4",
    "outputId": "35c9c40a-8109-4d9a-881f-158020b4922d"
   },
   "outputs": [
    {
     "name": "stdout",
     "output_type": "stream",
     "text": [
      "Go to this URL in a browser: https://accounts.google.com/o/oauth2/auth?client_id=947318989803-6bn6qk8qdgf4n4g3pfee6491hc0brc4i.apps.googleusercontent.com&redirect_uri=urn%3aietf%3awg%3aoauth%3a2.0%3aoob&response_type=code&scope=email%20https%3a%2f%2fwww.googleapis.com%2fauth%2fdocs.test%20https%3a%2f%2fwww.googleapis.com%2fauth%2fdrive%20https%3a%2f%2fwww.googleapis.com%2fauth%2fdrive.photos.readonly%20https%3a%2f%2fwww.googleapis.com%2fauth%2fpeopleapi.readonly\n",
      "\n",
      "Enter your authorization code:\n",
      "··········\n",
      "Mounted at /content/drive\n"
     ]
    }
   ],
   "source": [
    "from google.colab import drive\n",
    "drive.mount('/content/drive')"
   ]
  },
  {
   "cell_type": "code",
   "execution_count": null,
   "metadata": {
    "colab": {},
    "colab_type": "code",
    "id": "qkVY9R0tYZw3"
   },
   "outputs": [],
   "source": [
    "#%%capture\n",
    "#!wget -N https://s3-us-west-1.amazonaws.com/udacity-aind/dog-project/dogImages.zip\n",
    "#!unzip -o /content/dogImages.zip\n",
    "#!mv /content/dogImages /content/drive/My\\ Drive/dog-breeds/dog_images"
   ]
  },
  {
   "cell_type": "markdown",
   "metadata": {
    "colab_type": "text",
    "id": "SE3rFGLpoYhJ"
   },
   "source": [
    "# Configuration & utilities\n",
    "\n",
    "Here we define the configuration parameters, dependencies and utility functions needed for the experiment. You may only need to specify the 'experiment_description' value in the first line of code, and the paths identifying the project and the different datasets. "
   ]
  },
  {
   "cell_type": "code",
   "execution_count": 3,
   "metadata": {
    "colab": {
     "base_uri": "https://localhost:8080/",
     "height": 34
    },
    "colab_type": "code",
    "executionInfo": {
     "elapsed": 3036,
     "status": "ok",
     "timestamp": 1587682446392,
     "user": {
      "displayName": "Luis Martín",
      "photoUrl": "",
      "userId": "05136960784416304431"
     },
     "user_tz": -120
    },
    "id": "GbuFvy-OAzXp",
    "outputId": "f54cb665-705d-4bbd-85b5-22e423b34818"
   },
   "outputs": [
    {
     "name": "stdout",
     "output_type": "stream",
     "text": [
      "There are 8351 total dog images.\n"
     ]
    }
   ],
   "source": [
    "import numpy as np\n",
    "from glob import glob\n",
    "import sys\n",
    "\n",
    "experiment_description = 'best_scenario_replay'\n",
    "project_path = '/content/drive/My Drive/dog-breeds/'\n",
    "\n",
    "##################### DO NOT MODIFY ################################\n",
    "\n",
    "experiment_location = project_path + experiment_description\n",
    "escaped_exp_location = experiment_location.replace(\" \", \"\\\\ \")\n",
    "!mkdir $escaped_exp_location\n",
    "model_file = experiment_location + '/model_ ' + experiment_description\n",
    "output_file = experiment_location + '/' + experiment_description\n",
    "sys.path.append(project_path)\n",
    "##################### END: DO NOT MODIFY ###########################\n",
    "\n",
    "dog_files = np.array(glob(project_path + \"dog_images/*/*/*\"))\n",
    "print('There are %d total dog images.' % len(dog_files))\n",
    "train_path = project_path + 'dog_images/train'\n",
    "validation_path = project_path +'dog_images/valid'\n",
    "test_path = project_path +'dog_images/test'\n",
    "\n",
    "\n",
    "def print_gpu():\n",
    "  gpu_info = !nvidia-smi\n",
    "  gpu_info = '\\n'.join(gpu_info)\n",
    "  if gpu_info.find('failed') >= 0:\n",
    "    print('Select the Runtime → \"Change runtime type\" menu to enable a GPU accelerator, ')\n",
    "    print('and then re-execute this cell.')\n",
    "  else:\n",
    "    print(gpu_info) "
   ]
  },
  {
   "cell_type": "markdown",
   "metadata": {
    "colab_type": "text",
    "id": "SVQ7DTfXq7m4"
   },
   "source": [
    "# Experiment\n",
    "\n",
    "A lot of things here need to be separated:\n",
    "\n",
    " - Creation of dataset loaders\n",
    " - NN architecture\n",
    " - Hyperparameter dictionaries\n",
    " - Testing and Rebooting functions\n",
    " - Experiment loop\n",
    " - Visualization"
   ]
  },
  {
   "cell_type": "code",
   "execution_count": 4,
   "metadata": {
    "colab": {
     "base_uri": "https://localhost:8080/",
     "height": 1000
    },
    "colab_type": "code",
    "executionInfo": {
     "elapsed": 27554566,
     "status": "ok",
     "timestamp": 1587711569526,
     "user": {
      "displayName": "Luis Martín",
      "photoUrl": "",
      "userId": "05136960784416304431"
     },
     "user_tz": -120
    },
    "id": "ksid6BWZJlFO",
    "outputId": "8253066f-4632-46b8-909c-e94fc7edd920"
   },
   "outputs": [
    {
     "name": "stdout",
     "output_type": "stream",
     "text": [
      "ResNet(\n",
      "  (conv1): Sequential(\n",
      "    (0): Conv2d(3, 64, kernel_size=(3, 3), stride=(1, 1), padding=(1, 1), bias=False)\n",
      "    (1): BatchNorm2d(64, eps=1e-05, momentum=0.1, affine=True, track_running_stats=True)\n",
      "    (2): ReLU(inplace=True)\n",
      "  )\n",
      "  (conv2_x): Sequential(\n",
      "    (0): BasicBlock(\n",
      "      (residual_function): Sequential(\n",
      "        (0): Conv2d(64, 64, kernel_size=(3, 3), stride=(1, 1), padding=(1, 1), bias=False)\n",
      "        (1): BatchNorm2d(64, eps=1e-05, momentum=0.1, affine=True, track_running_stats=True)\n",
      "        (2): ReLU(inplace=True)\n",
      "        (3): Conv2d(64, 64, kernel_size=(3, 3), stride=(1, 1), padding=(1, 1), bias=False)\n",
      "        (4): BatchNorm2d(64, eps=1e-05, momentum=0.1, affine=True, track_running_stats=True)\n",
      "      )\n",
      "      (shortcut): Sequential()\n",
      "    )\n",
      "    (1): BasicBlock(\n",
      "      (residual_function): Sequential(\n",
      "        (0): Conv2d(64, 64, kernel_size=(3, 3), stride=(1, 1), padding=(1, 1), bias=False)\n",
      "        (1): BatchNorm2d(64, eps=1e-05, momentum=0.1, affine=True, track_running_stats=True)\n",
      "        (2): ReLU(inplace=True)\n",
      "        (3): Conv2d(64, 64, kernel_size=(3, 3), stride=(1, 1), padding=(1, 1), bias=False)\n",
      "        (4): BatchNorm2d(64, eps=1e-05, momentum=0.1, affine=True, track_running_stats=True)\n",
      "      )\n",
      "      (shortcut): Sequential()\n",
      "    )\n",
      "  )\n",
      "  (conv3_x): Sequential(\n",
      "    (0): BasicBlock(\n",
      "      (residual_function): Sequential(\n",
      "        (0): Conv2d(64, 128, kernel_size=(3, 3), stride=(2, 2), padding=(1, 1), bias=False)\n",
      "        (1): BatchNorm2d(128, eps=1e-05, momentum=0.1, affine=True, track_running_stats=True)\n",
      "        (2): ReLU(inplace=True)\n",
      "        (3): Conv2d(128, 128, kernel_size=(3, 3), stride=(1, 1), padding=(1, 1), bias=False)\n",
      "        (4): BatchNorm2d(128, eps=1e-05, momentum=0.1, affine=True, track_running_stats=True)\n",
      "      )\n",
      "      (shortcut): Sequential(\n",
      "        (0): Conv2d(64, 128, kernel_size=(1, 1), stride=(2, 2), bias=False)\n",
      "        (1): BatchNorm2d(128, eps=1e-05, momentum=0.1, affine=True, track_running_stats=True)\n",
      "      )\n",
      "    )\n",
      "    (1): BasicBlock(\n",
      "      (residual_function): Sequential(\n",
      "        (0): Conv2d(128, 128, kernel_size=(3, 3), stride=(1, 1), padding=(1, 1), bias=False)\n",
      "        (1): BatchNorm2d(128, eps=1e-05, momentum=0.1, affine=True, track_running_stats=True)\n",
      "        (2): ReLU(inplace=True)\n",
      "        (3): Conv2d(128, 128, kernel_size=(3, 3), stride=(1, 1), padding=(1, 1), bias=False)\n",
      "        (4): BatchNorm2d(128, eps=1e-05, momentum=0.1, affine=True, track_running_stats=True)\n",
      "      )\n",
      "      (shortcut): Sequential()\n",
      "    )\n",
      "  )\n",
      "  (conv4_x): Sequential(\n",
      "    (0): BasicBlock(\n",
      "      (residual_function): Sequential(\n",
      "        (0): Conv2d(128, 256, kernel_size=(3, 3), stride=(2, 2), padding=(1, 1), bias=False)\n",
      "        (1): BatchNorm2d(256, eps=1e-05, momentum=0.1, affine=True, track_running_stats=True)\n",
      "        (2): ReLU(inplace=True)\n",
      "        (3): Conv2d(256, 256, kernel_size=(3, 3), stride=(1, 1), padding=(1, 1), bias=False)\n",
      "        (4): BatchNorm2d(256, eps=1e-05, momentum=0.1, affine=True, track_running_stats=True)\n",
      "      )\n",
      "      (shortcut): Sequential(\n",
      "        (0): Conv2d(128, 256, kernel_size=(1, 1), stride=(2, 2), bias=False)\n",
      "        (1): BatchNorm2d(256, eps=1e-05, momentum=0.1, affine=True, track_running_stats=True)\n",
      "      )\n",
      "    )\n",
      "    (1): BasicBlock(\n",
      "      (residual_function): Sequential(\n",
      "        (0): Conv2d(256, 256, kernel_size=(3, 3), stride=(1, 1), padding=(1, 1), bias=False)\n",
      "        (1): BatchNorm2d(256, eps=1e-05, momentum=0.1, affine=True, track_running_stats=True)\n",
      "        (2): ReLU(inplace=True)\n",
      "        (3): Conv2d(256, 256, kernel_size=(3, 3), stride=(1, 1), padding=(1, 1), bias=False)\n",
      "        (4): BatchNorm2d(256, eps=1e-05, momentum=0.1, affine=True, track_running_stats=True)\n",
      "      )\n",
      "      (shortcut): Sequential()\n",
      "    )\n",
      "  )\n",
      "  (conv5_x): Sequential(\n",
      "    (0): BasicBlock(\n",
      "      (residual_function): Sequential(\n",
      "        (0): Conv2d(256, 512, kernel_size=(3, 3), stride=(2, 2), padding=(1, 1), bias=False)\n",
      "        (1): BatchNorm2d(512, eps=1e-05, momentum=0.1, affine=True, track_running_stats=True)\n",
      "        (2): ReLU(inplace=True)\n",
      "        (3): Conv2d(512, 512, kernel_size=(3, 3), stride=(1, 1), padding=(1, 1), bias=False)\n",
      "        (4): BatchNorm2d(512, eps=1e-05, momentum=0.1, affine=True, track_running_stats=True)\n",
      "      )\n",
      "      (shortcut): Sequential(\n",
      "        (0): Conv2d(256, 512, kernel_size=(1, 1), stride=(2, 2), bias=False)\n",
      "        (1): BatchNorm2d(512, eps=1e-05, momentum=0.1, affine=True, track_running_stats=True)\n",
      "      )\n",
      "    )\n",
      "    (1): BasicBlock(\n",
      "      (residual_function): Sequential(\n",
      "        (0): Conv2d(512, 512, kernel_size=(3, 3), stride=(1, 1), padding=(1, 1), bias=False)\n",
      "        (1): BatchNorm2d(512, eps=1e-05, momentum=0.1, affine=True, track_running_stats=True)\n",
      "        (2): ReLU(inplace=True)\n",
      "        (3): Conv2d(512, 512, kernel_size=(3, 3), stride=(1, 1), padding=(1, 1), bias=False)\n",
      "        (4): BatchNorm2d(512, eps=1e-05, momentum=0.1, affine=True, track_running_stats=True)\n",
      "      )\n",
      "      (shortcut): Sequential()\n",
      "    )\n",
      "  )\n",
      "  (avg_pool): AdaptiveAvgPool2d(output_size=(1, 1))\n",
      "  (fc): Linear(in_features=512, out_features=133, bias=True)\n",
      ")\n",
      "Sat Apr  4 20:36:19 2020       \n",
      "+-----------------------------------------------------------------------------+\n",
      "| NVIDIA-SMI 440.64.00    Driver Version: 418.67       CUDA Version: 10.1     |\n",
      "|-------------------------------+----------------------+----------------------+\n",
      "| GPU  Name        Persistence-M| Bus-Id        Disp.A | Volatile Uncorr. ECC |\n",
      "| Fan  Temp  Perf  Pwr:Usage/Cap|         Memory-Usage | GPU-Util  Compute M. |\n",
      "|===============================+======================+======================|\n",
      "|   0  Tesla P100-PCIE...  Off  | 00000000:00:04.0 Off |                    0 |\n",
      "| N/A   43C    P0    34W / 250W |    781MiB / 16280MiB |      0%      Default |\n",
      "+-------------------------------+----------------------+----------------------+\n",
      "                                                                               \n",
      "+-----------------------------------------------------------------------------+\n",
      "| Processes:                                                       GPU Memory |\n",
      "|  GPU       PID   Type   Process name                             Usage      |\n",
      "|=============================================================================|\n",
      "+-----------------------------------------------------------------------------+\n",
      "Adam (\n",
      "Parameter Group 0\n",
      "    amsgrad: False\n",
      "    betas: (0.9, 0.999)\n",
      "    eps: 1e-08\n",
      "    lr: 0.0015\n",
      "    weight_decay: 0\n",
      ")\n",
      "Epoch: 1 \tTraining Loss: 4.974237 \tValidation Loss: 4.885571 \tTime spent: 161.441659\n",
      "Epoch: 2 \tTraining Loss: 4.848742 \tValidation Loss: 7.191057 \tTime spent: 165.756252\n",
      "Epoch: 3 \tTraining Loss: 4.820234 \tValidation Loss: 4.792128 \tTime spent: 160.737065\n",
      "Epoch: 4 \tTraining Loss: 4.803886 \tValidation Loss: 5.805864 \tTime spent: 161.837831\n",
      "Epoch: 5 \tTraining Loss: 4.774911 \tValidation Loss: 4.744560 \tTime spent: 161.644130\n",
      "Epoch: 6 \tTraining Loss: 4.748221 \tValidation Loss: 5.237177 \tTime spent: 164.761787\n",
      "Epoch: 7 \tTraining Loss: 4.706644 \tValidation Loss: 4.723443 \tTime spent: 160.806313\n",
      "Epoch: 8 \tTraining Loss: 4.662359 \tValidation Loss: 4.836448 \tTime spent: 161.004268\n",
      "Epoch: 9 \tTraining Loss: 4.631021 \tValidation Loss: 4.600377 \tTime spent: 161.685738\n",
      "Epoch: 10 \tTraining Loss: 4.544989 \tValidation Loss: 4.479195 \tTime spent: 164.649005\n",
      "Epoch: 11 \tTraining Loss: 4.477539 \tValidation Loss: 4.519539 \tTime spent: 163.642707\n",
      "Epoch: 12 \tTraining Loss: 4.438138 \tValidation Loss: 4.601410 \tTime spent: 162.807870\n",
      "Epoch: 13 \tTraining Loss: 4.400290 \tValidation Loss: 4.589129 \tTime spent: 164.981900\n",
      "Epoch: 14 \tTraining Loss: 4.336424 \tValidation Loss: 4.194131 \tTime spent: 164.037438\n",
      "Epoch: 15 \tTraining Loss: 4.273591 \tValidation Loss: 4.309893 \tTime spent: 166.760769\n",
      "Epoch: 16 \tTraining Loss: 4.243906 \tValidation Loss: 4.062097 \tTime spent: 162.713980\n",
      "Epoch: 17 \tTraining Loss: 4.202492 \tValidation Loss: 4.914749 \tTime spent: 168.664310\n",
      "Epoch: 18 \tTraining Loss: 4.131941 \tValidation Loss: 4.284114 \tTime spent: 161.085987\n",
      "Epoch: 19 \tTraining Loss: 4.050417 \tValidation Loss: 4.009150 \tTime spent: 166.356234\n",
      "Epoch: 20 \tTraining Loss: 4.003598 \tValidation Loss: 3.929081 \tTime spent: 165.068856\n",
      "Epoch: 21 \tTraining Loss: 3.946790 \tValidation Loss: 4.181253 \tTime spent: 166.073010\n",
      "Epoch: 22 \tTraining Loss: 3.889271 \tValidation Loss: 3.921925 \tTime spent: 165.345343\n",
      "Epoch: 23 \tTraining Loss: 3.836952 \tValidation Loss: 3.718672 \tTime spent: 156.896090\n",
      "Epoch: 24 \tTraining Loss: 3.797203 \tValidation Loss: 3.890376 \tTime spent: 159.616139\n",
      "Epoch: 25 \tTraining Loss: 3.725904 \tValidation Loss: 3.885822 \tTime spent: 163.606801\n",
      "Epoch: 26 \tTraining Loss: 3.680873 \tValidation Loss: 3.634719 \tTime spent: 166.130270\n",
      "Epoch: 27 \tTraining Loss: 3.597832 \tValidation Loss: 3.630774 \tTime spent: 158.425607\n",
      "Epoch: 28 \tTraining Loss: 3.575161 \tValidation Loss: 3.666403 \tTime spent: 164.417279\n",
      "Epoch: 29 \tTraining Loss: 3.518070 \tValidation Loss: 3.409301 \tTime spent: 163.689995\n",
      "Epoch: 30 \tTraining Loss: 3.432880 \tValidation Loss: 3.690536 \tTime spent: 161.690066\n",
      "Epoch: 31 \tTraining Loss: 3.381400 \tValidation Loss: 3.476187 \tTime spent: 168.241017\n",
      "Epoch: 32 \tTraining Loss: 3.335148 \tValidation Loss: 3.314763 \tTime spent: 161.826033\n",
      "Epoch: 33 \tTraining Loss: 3.260699 \tValidation Loss: 3.523127 \tTime spent: 164.599072\n",
      "Epoch: 34 \tTraining Loss: 3.192916 \tValidation Loss: 3.225393 \tTime spent: 161.292733\n",
      "Epoch: 35 \tTraining Loss: 3.133911 \tValidation Loss: 3.474260 \tTime spent: 168.721158\n",
      "Epoch: 36 \tTraining Loss: 3.060359 \tValidation Loss: 3.222577 \tTime spent: 171.485970\n",
      "Epoch: 37 \tTraining Loss: 2.984789 \tValidation Loss: 3.090015 \tTime spent: 163.174890\n",
      "Epoch: 38 \tTraining Loss: 2.952817 \tValidation Loss: 3.090522 \tTime spent: 168.272964\n",
      "Epoch: 39 \tTraining Loss: 2.852324 \tValidation Loss: 2.877060 \tTime spent: 163.026675\n",
      "Epoch: 40 \tTraining Loss: 2.796451 \tValidation Loss: 2.807721 \tTime spent: 162.042423\n",
      "Epoch: 41 \tTraining Loss: 2.734257 \tValidation Loss: 2.761194 \tTime spent: 166.155431\n",
      "Epoch: 42 \tTraining Loss: 2.683514 \tValidation Loss: 2.772867 \tTime spent: 162.813586\n",
      "Epoch: 43 \tTraining Loss: 2.611439 \tValidation Loss: 2.601583 \tTime spent: 165.192647\n",
      "Epoch: 44 \tTraining Loss: 2.503783 \tValidation Loss: 2.465639 \tTime spent: 163.015614\n",
      "Epoch: 45 \tTraining Loss: 2.430220 \tValidation Loss: 2.739994 \tTime spent: 164.704483\n",
      "Epoch: 46 \tTraining Loss: 2.418191 \tValidation Loss: 2.627481 \tTime spent: 164.638857\n",
      "Epoch: 47 \tTraining Loss: 2.365429 \tValidation Loss: 2.788901 \tTime spent: 163.942566\n",
      "Epoch: 48 \tTraining Loss: 2.283969 \tValidation Loss: 2.558557 \tTime spent: 161.434976\n",
      "Epoch: 49 \tTraining Loss: 2.248237 \tValidation Loss: 2.433972 \tTime spent: 161.988525\n",
      "Epoch: 50 \tTraining Loss: 2.182617 \tValidation Loss: 2.595154 \tTime spent: 163.381979\n",
      "Epoch: 51 \tTraining Loss: 2.118769 \tValidation Loss: 2.238672 \tTime spent: 161.964294\n",
      "Epoch: 52 \tTraining Loss: 2.085312 \tValidation Loss: 2.633852 \tTime spent: 162.978955\n",
      "Epoch: 53 \tTraining Loss: 2.026481 \tValidation Loss: 2.366943 \tTime spent: 166.163080\n",
      "Epoch: 54 \tTraining Loss: 1.978597 \tValidation Loss: 2.595421 \tTime spent: 165.757612\n",
      "Epoch: 55 \tTraining Loss: 1.920293 \tValidation Loss: 2.478788 \tTime spent: 164.910443\n",
      "Epoch: 56 \tTraining Loss: 1.880245 \tValidation Loss: 2.067804 \tTime spent: 164.611509\n",
      "Epoch: 57 \tTraining Loss: 1.826711 \tValidation Loss: 2.138397 \tTime spent: 165.859675\n",
      "Epoch: 58 \tTraining Loss: 1.754617 \tValidation Loss: 2.415529 \tTime spent: 165.052663\n",
      "Epoch: 59 \tTraining Loss: 1.731371 \tValidation Loss: 2.162527 \tTime spent: 169.513161\n",
      "Epoch: 60 \tTraining Loss: 1.704482 \tValidation Loss: 2.332754 \tTime spent: 168.815896\n",
      "Epoch: 61 \tTraining Loss: 1.646401 \tValidation Loss: 2.290474 \tTime spent: 165.304493\n",
      "Epoch: 62 \tTraining Loss: 1.626229 \tValidation Loss: 1.979471 \tTime spent: 159.402746\n",
      "Epoch: 63 \tTraining Loss: 1.570768 \tValidation Loss: 2.005172 \tTime spent: 166.752125\n",
      "Epoch: 64 \tTraining Loss: 1.529498 \tValidation Loss: 2.196182 \tTime spent: 168.061364\n",
      "Epoch: 65 \tTraining Loss: 1.500817 \tValidation Loss: 2.179288 \tTime spent: 163.867377\n",
      "Epoch: 66 \tTraining Loss: 1.487682 \tValidation Loss: 2.087306 \tTime spent: 160.737692\n",
      "Epoch: 67 \tTraining Loss: 1.440194 \tValidation Loss: 2.102913 \tTime spent: 166.176920\n",
      "Epoch: 68 \tTraining Loss: 1.439616 \tValidation Loss: 2.046440 \tTime spent: 160.637679\n",
      "Epoch: 69 \tTraining Loss: 1.388285 \tValidation Loss: 2.315075 \tTime spent: 165.930695\n",
      "Epoch: 70 \tTraining Loss: 1.371957 \tValidation Loss: 2.012873 \tTime spent: 162.506690\n",
      "Epoch: 71 \tTraining Loss: 1.316650 \tValidation Loss: 2.284926 \tTime spent: 163.304859\n",
      "Epoch: 72 \tTraining Loss: 1.345650 \tValidation Loss: 1.903202 \tTime spent: 167.464748\n",
      "Epoch: 73 \tTraining Loss: 1.303259 \tValidation Loss: 2.169439 \tTime spent: 164.666838\n",
      "Epoch: 74 \tTraining Loss: 1.263197 \tValidation Loss: 2.588695 \tTime spent: 164.078791\n",
      "Epoch: 75 \tTraining Loss: 1.238843 \tValidation Loss: 2.020888 \tTime spent: 163.465834\n",
      "Epoch: 76 \tTraining Loss: 1.186487 \tValidation Loss: 2.102991 \tTime spent: 165.869545\n",
      "Epoch: 77 \tTraining Loss: 1.182706 \tValidation Loss: 1.982947 \tTime spent: 165.558418\n",
      "Epoch: 78 \tTraining Loss: 1.179444 \tValidation Loss: 1.853690 \tTime spent: 164.020798\n",
      "Epoch: 79 \tTraining Loss: 1.158229 \tValidation Loss: 1.978292 \tTime spent: 165.337072\n",
      "Epoch: 80 \tTraining Loss: 1.138259 \tValidation Loss: 1.897365 \tTime spent: 170.218853\n",
      "Epoch: 81 \tTraining Loss: 1.110456 \tValidation Loss: 2.049383 \tTime spent: 168.806836\n",
      "Epoch: 82 \tTraining Loss: 1.102276 \tValidation Loss: 1.939047 \tTime spent: 160.684188\n",
      "Epoch: 83 \tTraining Loss: 1.111851 \tValidation Loss: 2.155118 \tTime spent: 169.522055\n",
      "Epoch: 84 \tTraining Loss: 1.086453 \tValidation Loss: 1.969891 \tTime spent: 167.568233\n",
      "Epoch: 85 \tTraining Loss: 1.073171 \tValidation Loss: 2.230375 \tTime spent: 159.755662\n",
      "Epoch: 86 \tTraining Loss: 1.047091 \tValidation Loss: 1.785554 \tTime spent: 163.476421\n",
      "Epoch: 87 \tTraining Loss: 1.051242 \tValidation Loss: 1.834972 \tTime spent: 167.068888\n",
      "Epoch: 88 \tTraining Loss: 1.003374 \tValidation Loss: 1.840840 \tTime spent: 165.817916\n",
      "Epoch: 89 \tTraining Loss: 1.002395 \tValidation Loss: 1.745804 \tTime spent: 164.700171\n",
      "Epoch: 90 \tTraining Loss: 0.988424 \tValidation Loss: 2.110119 \tTime spent: 168.039427\n",
      "Epoch: 91 \tTraining Loss: 1.010657 \tValidation Loss: 1.905972 \tTime spent: 168.285346\n",
      "Epoch: 92 \tTraining Loss: 0.963680 \tValidation Loss: 2.010269 \tTime spent: 161.947323\n",
      "Epoch: 93 \tTraining Loss: 0.968802 \tValidation Loss: 2.176618 \tTime spent: 167.289989\n",
      "Epoch: 94 \tTraining Loss: 0.980350 \tValidation Loss: 1.882423 \tTime spent: 161.452587\n",
      "Epoch: 95 \tTraining Loss: 0.932146 \tValidation Loss: 2.340805 \tTime spent: 168.249089\n",
      "Epoch: 96 \tTraining Loss: 0.945687 \tValidation Loss: 1.819968 \tTime spent: 167.574632\n",
      "Epoch: 97 \tTraining Loss: 0.930453 \tValidation Loss: 1.820439 \tTime spent: 165.033535\n",
      "Epoch: 98 \tTraining Loss: 0.937778 \tValidation Loss: 1.899536 \tTime spent: 165.922903\n",
      "Epoch: 99 \tTraining Loss: 0.901499 \tValidation Loss: 1.780484 \tTime spent: 164.678023\n",
      "Epoch: 100 \tTraining Loss: 0.908452 \tValidation Loss: 1.808845 \tTime spent: 159.190865\n",
      "time spent:  4:34:02.430320\n",
      "Minimum trainig loss:  0.901499330997467\n",
      "Minimum validation loss:  1.7458038330078125\n"
     ]
    },
    {
     "data": {
      "image/png": "[encoded data removed]",
      "text/plain": [
       "<Figure size 432x288 with 1 Axes>"
      ]
     },
     "metadata": {
      "image/png": {
       "height": 248,
       "width": 362
      },
      "tags": []
     },
     "output_type": "display_data"
    },
    {
     "name": "stdout",
     "output_type": "stream",
     "text": [
      "Test Loss: 1.860252\n",
      "\n",
      "Test Accuracy: 54% (455/836)\n",
      "\n",
      "\n"
     ]
    }
   ],
   "source": [
    "%matplotlib inline\n",
    "%config InlineBackend.figure_format = 'retina'\n",
    "from utils.preprocess import *\n",
    "from utils.resnet_model import *\n",
    "from utils.train import *\n",
    "from utils.simple_model import *\n",
    "import torch.optim as optim\n",
    "from PIL import ImageFile\n",
    "\n",
    "ImageFile.LOAD_TRUNCATED_IMAGES = True\n",
    "\n",
    "sometimes = lambda aug: iaa.Sometimes(0.5, aug)\n",
    "\n",
    "augmentations = [\n",
    "        [\n",
    "        iaa.AdditiveGaussianNoise(loc=0, scale=(0.0, 0.05*255), per_channel=0.5),\n",
    "        sometimes(iaa.Crop(percent=(0, 0.45))),\n",
    "        iaa.Multiply((0.5, 1.5), per_channel=0.5),\n",
    "        iaa.Grayscale(alpha=(0.0, 1.0))\n",
    "        ]\n",
    "]\n",
    "learning_rates = [\n",
    "                 0.0015\n",
    "                 ]\n",
    "optimizers = [\n",
    "             optim.Adam\n",
    "             ]\n",
    "models = [\n",
    "         resnet18()\n",
    "         ]\n",
    "         \n",
    "paths = {\n",
    "    'train_path' : train_path,\n",
    "    'validation_path' : validation_path,\n",
    "    'test_path' : test_path\n",
    "}\n",
    "\n",
    "\n",
    "hyperparameters_dictionary = {\n",
    "    'augmentations' : augmentations,\n",
    "    'learning_rates' : learning_rates,\n",
    "    'epochs' : 100,\n",
    "    'optimizers' : optimizers,\n",
    "    'models' : models\n",
    "}\n",
    "\n",
    "print_gpu()\n",
    "run_experiments(paths, hyperparameters_dictionary, model_file)\n",
    "\n",
    "\n"
   ]
  },
  {
   "cell_type": "code",
   "execution_count": null,
   "metadata": {
    "colab": {},
    "colab_type": "code",
    "id": "JIajAq0W3g08"
   },
   "outputs": [],
   "source": []
  }
 ],
 "metadata": {
  "accelerator": "GPU",
  "anaconda-cloud": {},
  "colab": {
   "collapsed_sections": [],
   "name": "best_scenario_replay.ipynb",
   "provenance": [
    {
     "file_id": "1OjCJi1WTxHyoX3PJv-O2nnwOTT2llm1K",
     "timestamp": 1586133248550
    },
    {
     "file_id": "1nDZaK8ZxAz8K8x1nvxH5hJxNrFdDGOGW",
     "timestamp": 1586132559362
    },
    {
     "file_id": "1CB8ottEi6O0V1byMpFFwPGAsDASBjZMB",
     "timestamp": 1586083613524
    },
    {
     "file_id": "1Z8yuY-OvTPNR_I39ExXUOetQgZCd5ai3",
     "timestamp": 1586083560447
    },
    {
     "file_id": "1CCtPCrvTO1eJTvBKDYBNh1qzbLulOgIB",
     "timestamp": 1586083192152
    },
    {
     "file_id": "1XEMq3W--Egp-IwHfHLUl8fooafAISsSq",
     "timestamp": 1586046109632
    },
    {
     "file_id": "1M6NnHno6mb6UmPwY3rLfVYIgx4r300qj",
     "timestamp": 1586045971599
    },
    {
     "file_id": "1nfhbSpamn1nTIQ94KZMjeAJvJQuUvQWH",
     "timestamp": 1586019294461
    },
    {
     "file_id": "1S5b4ZZBlAQH0-QI2rR3Klay6plHwlSG4",
     "timestamp": 1586019186582
    },
    {
     "file_id": "1x43TFVwxZ-RIkjvpxoh231Lvtt-ikN2C",
     "timestamp": 1586019059898
    },
    {
     "file_id": "18_yL6W-Q1P8P1xqcCJPCNjg_8OeZTD69",
     "timestamp": 1586005625719
    },
    {
     "file_id": "1r2_wvotCDm3k_r_TLNHFwiyqgwyV5KkQ",
     "timestamp": 1586005597098
    },
    {
     "file_id": "1x17ANn3WW9PJckaEQSlkio5gn7dkPN-k",
     "timestamp": 1586005574311
    },
    {
     "file_id": "1wrfznjw3XLiV6JfDZxRvB0FBT5wBDZ0I",
     "timestamp": 1586005511862
    },
    {
     "file_id": "1dOYwkMe0ADYqIypoTsfACJ0m1aC2wFkJ",
     "timestamp": 1585991244277
    },
    {
     "file_id": "1f9SevfjtTDJD6CO-HfNW-osiYvgrGJvN",
     "timestamp": 1585991217369
    },
    {
     "file_id": "1XWPqI_yXRmz4PenEhf7W2irFoa6HT6uF",
     "timestamp": 1585991195574
    },
    {
     "file_id": "1XNOEqHACPONOBz8ZN9L-aSYsuM0I2xJd",
     "timestamp": 1585991128475
    },
    {
     "file_id": "1E3y3-KvBsy9UapPVrGZypZT00YexjZbR",
     "timestamp": 1585955348971
    },
    {
     "file_id": "116DV5OYEC78n8Tdpt9Q7_MzL_TdLq6Qe",
     "timestamp": 1585955020650
    },
    {
     "file_id": "14GYMrkofK2E3cxEXO0Wa3eUO1nV6TOXr",
     "timestamp": 1585941706806
    },
    {
     "file_id": "1vcnE6D3-w6WNefC-orZ7W0KpV6HOmgnW",
     "timestamp": 1585781564679
    },
    {
     "file_id": "1CuKotTscUY4BCBXthHtT6SvrXJtC5f2I",
     "timestamp": 1585484980455
    },
    {
     "file_id": "1q5wJQ8TKeGV62hAt3Qj8gTaCOJkqUNgd",
     "timestamp": 1585323933479
    }
   ],
   "toc_visible": true
  },
  "kernelspec": {
   "display_name": "Python 3",
   "language": "python",
   "name": "python3"
  },
  "language_info": {
   "codemirror_mode": {
    "name": "ipython",
    "version": 3
   },
   "file_extension": ".py",
   "mimetype": "text/x-python",
   "name": "python",
   "nbconvert_exporter": "python",
   "pygments_lexer": "ipython3",
   "version": "3.7.6"
  }
 },
 "nbformat": 4,
 "nbformat_minor": 4
}
