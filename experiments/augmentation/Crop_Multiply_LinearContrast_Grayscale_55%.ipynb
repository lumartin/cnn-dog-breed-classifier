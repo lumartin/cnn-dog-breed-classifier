{
 "cells": [
  {
   "cell_type": "code",
   "execution_count": 1,
   "metadata": {
    "colab": {
     "base_uri": "https://localhost:8080/",
     "height": 122
    },
    "colab_type": "code",
    "executionInfo": {
     "elapsed": 30090,
     "status": "ok",
     "timestamp": 1587682383528,
     "user": {
      "displayName": "Luis Martín",
      "photoUrl": "",
      "userId": "05136960784416304431"
     },
     "user_tz": -120
    },
    "id": "JXxOTx7DU-o4",
    "outputId": "35c9c40a-8109-4d9a-881f-158020b4922d"
   },
   "outputs": [
    {
     "name": "stdout",
     "output_type": "stream",
     "text": [
      "Go to this URL in a browser: https://accounts.google.com/o/oauth2/auth?client_id=947318989803-6bn6qk8qdgf4n4g3pfee6491hc0brc4i.apps.googleusercontent.com&redirect_uri=urn%3aietf%3awg%3aoauth%3a2.0%3aoob&response_type=code&scope=email%20https%3a%2f%2fwww.googleapis.com%2fauth%2fdocs.test%20https%3a%2f%2fwww.googleapis.com%2fauth%2fdrive%20https%3a%2f%2fwww.googleapis.com%2fauth%2fdrive.photos.readonly%20https%3a%2f%2fwww.googleapis.com%2fauth%2fpeopleapi.readonly\n",
      "\n",
      "Enter your authorization code:\n",
      "··········\n",
      "Mounted at /content/drive\n"
     ]
    }
   ],
   "source": [
    "from google.colab import drive\n",
    "drive.mount('/content/drive')"
   ]
  },
  {
   "cell_type": "code",
   "execution_count": null,
   "metadata": {
    "colab": {},
    "colab_type": "code",
    "id": "qkVY9R0tYZw3"
   },
   "outputs": [],
   "source": [
    "#%%capture\n",
    "#!wget -N https://s3-us-west-1.amazonaws.com/udacity-aind/dog-project/dogImages.zip\n",
    "#!unzip -o /content/dogImages.zip\n",
    "#!mv /content/dogImages /content/drive/My\\ Drive/dog-breeds/dog_images"
   ]
  },
  {
   "cell_type": "markdown",
   "metadata": {
    "colab_type": "text",
    "id": "SE3rFGLpoYhJ"
   },
   "source": [
    "# Configuration & utilities\n",
    "\n",
    "Here we define the configuration parameters, dependencies and utility functions needed for the experiment. You may only need to specify the 'experiment_description' value in the first line of code, and the paths identifying the project and the different datasets. "
   ]
  },
  {
   "cell_type": "code",
   "execution_count": 3,
   "metadata": {
    "colab": {
     "base_uri": "https://localhost:8080/",
     "height": 34
    },
    "colab_type": "code",
    "executionInfo": {
     "elapsed": 3036,
     "status": "ok",
     "timestamp": 1587682446392,
     "user": {
      "displayName": "Luis Martín",
      "photoUrl": "",
      "userId": "05136960784416304431"
     },
     "user_tz": -120
    },
    "id": "GbuFvy-OAzXp",
    "outputId": "f54cb665-705d-4bbd-85b5-22e423b34818"
   },
   "outputs": [
    {
     "name": "stdout",
     "output_type": "stream",
     "text": [
      "There are 8351 total dog images.\n"
     ]
    }
   ],
   "source": [
    "import numpy as np\n",
    "from glob import glob\n",
    "import sys\n",
    "\n",
    "experiment_description = 'best_scenario_replay'\n",
    "project_path = '/content/drive/My Drive/dog-breeds/'\n",
    "\n",
    "##################### DO NOT MODIFY ################################\n",
    "\n",
    "experiment_location = project_path + experiment_description\n",
    "escaped_exp_location = experiment_location.replace(\" \", \"\\\\ \")\n",
    "!mkdir $escaped_exp_location\n",
    "model_file = experiment_location + '/model_ ' + experiment_description\n",
    "output_file = experiment_location + '/' + experiment_description\n",
    "sys.path.append(project_path)\n",
    "##################### END: DO NOT MODIFY ###########################\n",
    "\n",
    "dog_files = np.array(glob(project_path + \"dog_images/*/*/*\"))\n",
    "print('There are %d total dog images.' % len(dog_files))\n",
    "train_path = project_path + 'dog_images/train'\n",
    "validation_path = project_path +'dog_images/valid'\n",
    "test_path = project_path +'dog_images/test'\n",
    "\n",
    "\n",
    "def print_gpu():\n",
    "  gpu_info = !nvidia-smi\n",
    "  gpu_info = '\\n'.join(gpu_info)\n",
    "  if gpu_info.find('failed') >= 0:\n",
    "    print('Select the Runtime → \"Change runtime type\" menu to enable a GPU accelerator, ')\n",
    "    print('and then re-execute this cell.')\n",
    "  else:\n",
    "    print(gpu_info) "
   ]
  },
  {
   "cell_type": "markdown",
   "metadata": {
    "colab_type": "text",
    "id": "SVQ7DTfXq7m4"
   },
   "source": [
    "# Experiment\n",
    "\n",
    "A lot of things here need to be separated:\n",
    "\n",
    " - Creation of dataset loaders\n",
    " - NN architecture\n",
    " - Hyperparameter dictionaries\n",
    " - Testing and Rebooting functions\n",
    " - Experiment loop\n",
    " - Visualization"
   ]
  },
  {
   "cell_type": "code",
   "execution_count": 4,
   "metadata": {
    "colab": {
     "base_uri": "https://localhost:8080/",
     "height": 1000
    },
    "colab_type": "code",
    "executionInfo": {
     "elapsed": 27554566,
     "status": "ok",
     "timestamp": 1587711569526,
     "user": {
      "displayName": "Luis Martín",
      "photoUrl": "",
      "userId": "05136960784416304431"
     },
     "user_tz": -120
    },
    "id": "ksid6BWZJlFO",
    "outputId": "8253066f-4632-46b8-909c-e94fc7edd920"
   },
   "outputs": [
    {
     "name": "stdout",
     "output_type": "stream",
     "text": [
      "ResNet(\n",
      "  (conv1): Sequential(\n",
      "    (0): Conv2d(3, 64, kernel_size=(3, 3), stride=(1, 1), padding=(1, 1), bias=False)\n",
      "    (1): BatchNorm2d(64, eps=1e-05, momentum=0.1, affine=True, track_running_stats=True)\n",
      "    (2): ReLU(inplace=True)\n",
      "  )\n",
      "  (conv2_x): Sequential(\n",
      "    (0): BasicBlock(\n",
      "      (residual_function): Sequential(\n",
      "        (0): Conv2d(64, 64, kernel_size=(3, 3), stride=(1, 1), padding=(1, 1), bias=False)\n",
      "        (1): BatchNorm2d(64, eps=1e-05, momentum=0.1, affine=True, track_running_stats=True)\n",
      "        (2): ReLU(inplace=True)\n",
      "        (3): Conv2d(64, 64, kernel_size=(3, 3), stride=(1, 1), padding=(1, 1), bias=False)\n",
      "        (4): BatchNorm2d(64, eps=1e-05, momentum=0.1, affine=True, track_running_stats=True)\n",
      "      )\n",
      "      (shortcut): Sequential()\n",
      "    )\n",
      "    (1): BasicBlock(\n",
      "      (residual_function): Sequential(\n",
      "        (0): Conv2d(64, 64, kernel_size=(3, 3), stride=(1, 1), padding=(1, 1), bias=False)\n",
      "        (1): BatchNorm2d(64, eps=1e-05, momentum=0.1, affine=True, track_running_stats=True)\n",
      "        (2): ReLU(inplace=True)\n",
      "        (3): Conv2d(64, 64, kernel_size=(3, 3), stride=(1, 1), padding=(1, 1), bias=False)\n",
      "        (4): BatchNorm2d(64, eps=1e-05, momentum=0.1, affine=True, track_running_stats=True)\n",
      "      )\n",
      "      (shortcut): Sequential()\n",
      "    )\n",
      "  )\n",
      "  (conv3_x): Sequential(\n",
      "    (0): BasicBlock(\n",
      "      (residual_function): Sequential(\n",
      "        (0): Conv2d(64, 128, kernel_size=(3, 3), stride=(2, 2), padding=(1, 1), bias=False)\n",
      "        (1): BatchNorm2d(128, eps=1e-05, momentum=0.1, affine=True, track_running_stats=True)\n",
      "        (2): ReLU(inplace=True)\n",
      "        (3): Conv2d(128, 128, kernel_size=(3, 3), stride=(1, 1), padding=(1, 1), bias=False)\n",
      "        (4): BatchNorm2d(128, eps=1e-05, momentum=0.1, affine=True, track_running_stats=True)\n",
      "      )\n",
      "      (shortcut): Sequential(\n",
      "        (0): Conv2d(64, 128, kernel_size=(1, 1), stride=(2, 2), bias=False)\n",
      "        (1): BatchNorm2d(128, eps=1e-05, momentum=0.1, affine=True, track_running_stats=True)\n",
      "      )\n",
      "    )\n",
      "    (1): BasicBlock(\n",
      "      (residual_function): Sequential(\n",
      "        (0): Conv2d(128, 128, kernel_size=(3, 3), stride=(1, 1), padding=(1, 1), bias=False)\n",
      "        (1): BatchNorm2d(128, eps=1e-05, momentum=0.1, affine=True, track_running_stats=True)\n",
      "        (2): ReLU(inplace=True)\n",
      "        (3): Conv2d(128, 128, kernel_size=(3, 3), stride=(1, 1), padding=(1, 1), bias=False)\n",
      "        (4): BatchNorm2d(128, eps=1e-05, momentum=0.1, affine=True, track_running_stats=True)\n",
      "      )\n",
      "      (shortcut): Sequential()\n",
      "    )\n",
      "  )\n",
      "  (conv4_x): Sequential(\n",
      "    (0): BasicBlock(\n",
      "      (residual_function): Sequential(\n",
      "        (0): Conv2d(128, 256, kernel_size=(3, 3), stride=(2, 2), padding=(1, 1), bias=False)\n",
      "        (1): BatchNorm2d(256, eps=1e-05, momentum=0.1, affine=True, track_running_stats=True)\n",
      "        (2): ReLU(inplace=True)\n",
      "        (3): Conv2d(256, 256, kernel_size=(3, 3), stride=(1, 1), padding=(1, 1), bias=False)\n",
      "        (4): BatchNorm2d(256, eps=1e-05, momentum=0.1, affine=True, track_running_stats=True)\n",
      "      )\n",
      "      (shortcut): Sequential(\n",
      "        (0): Conv2d(128, 256, kernel_size=(1, 1), stride=(2, 2), bias=False)\n",
      "        (1): BatchNorm2d(256, eps=1e-05, momentum=0.1, affine=True, track_running_stats=True)\n",
      "      )\n",
      "    )\n",
      "    (1): BasicBlock(\n",
      "      (residual_function): Sequential(\n",
      "        (0): Conv2d(256, 256, kernel_size=(3, 3), stride=(1, 1), padding=(1, 1), bias=False)\n",
      "        (1): BatchNorm2d(256, eps=1e-05, momentum=0.1, affine=True, track_running_stats=True)\n",
      "        (2): ReLU(inplace=True)\n",
      "        (3): Conv2d(256, 256, kernel_size=(3, 3), stride=(1, 1), padding=(1, 1), bias=False)\n",
      "        (4): BatchNorm2d(256, eps=1e-05, momentum=0.1, affine=True, track_running_stats=True)\n",
      "      )\n",
      "      (shortcut): Sequential()\n",
      "    )\n",
      "  )\n",
      "  (conv5_x): Sequential(\n",
      "    (0): BasicBlock(\n",
      "      (residual_function): Sequential(\n",
      "        (0): Conv2d(256, 512, kernel_size=(3, 3), stride=(2, 2), padding=(1, 1), bias=False)\n",
      "        (1): BatchNorm2d(512, eps=1e-05, momentum=0.1, affine=True, track_running_stats=True)\n",
      "        (2): ReLU(inplace=True)\n",
      "        (3): Conv2d(512, 512, kernel_size=(3, 3), stride=(1, 1), padding=(1, 1), bias=False)\n",
      "        (4): BatchNorm2d(512, eps=1e-05, momentum=0.1, affine=True, track_running_stats=True)\n",
      "      )\n",
      "      (shortcut): Sequential(\n",
      "        (0): Conv2d(256, 512, kernel_size=(1, 1), stride=(2, 2), bias=False)\n",
      "        (1): BatchNorm2d(512, eps=1e-05, momentum=0.1, affine=True, track_running_stats=True)\n",
      "      )\n",
      "    )\n",
      "    (1): BasicBlock(\n",
      "      (residual_function): Sequential(\n",
      "        (0): Conv2d(512, 512, kernel_size=(3, 3), stride=(1, 1), padding=(1, 1), bias=False)\n",
      "        (1): BatchNorm2d(512, eps=1e-05, momentum=0.1, affine=True, track_running_stats=True)\n",
      "        (2): ReLU(inplace=True)\n",
      "        (3): Conv2d(512, 512, kernel_size=(3, 3), stride=(1, 1), padding=(1, 1), bias=False)\n",
      "        (4): BatchNorm2d(512, eps=1e-05, momentum=0.1, affine=True, track_running_stats=True)\n",
      "      )\n",
      "      (shortcut): Sequential()\n",
      "    )\n",
      "  )\n",
      "  (avg_pool): AdaptiveAvgPool2d(output_size=(1, 1))\n",
      "  (fc): Linear(in_features=512, out_features=133, bias=True)\n",
      ")\n",
      "Sun Apr  5 00:24:32 2020       \n",
      "+-----------------------------------------------------------------------------+\n",
      "| NVIDIA-SMI 440.64.00    Driver Version: 418.67       CUDA Version: 10.1     |\n",
      "|-------------------------------+----------------------+----------------------+\n",
      "| GPU  Name        Persistence-M| Bus-Id        Disp.A | Volatile Uncorr. ECC |\n",
      "| Fan  Temp  Perf  Pwr:Usage/Cap|         Memory-Usage | GPU-Util  Compute M. |\n",
      "|===============================+======================+======================|\n",
      "|   0  Tesla P100-PCIE...  Off  | 00000000:00:04.0 Off |                    0 |\n",
      "| N/A   41C    P0    33W / 250W |    781MiB / 16280MiB |      0%      Default |\n",
      "+-------------------------------+----------------------+----------------------+\n",
      "                                                                               \n",
      "+-----------------------------------------------------------------------------+\n",
      "| Processes:                                                       GPU Memory |\n",
      "|  GPU       PID   Type   Process name                             Usage      |\n",
      "|=============================================================================|\n",
      "+-----------------------------------------------------------------------------+\n",
      "Adam (\n",
      "Parameter Group 0\n",
      "    amsgrad: False\n",
      "    betas: (0.9, 0.999)\n",
      "    eps: 1e-08\n",
      "    lr: 0.0015\n",
      "    weight_decay: 0\n",
      ")\n",
      "Epoch: 1 \tTraining Loss: 4.994380 \tValidation Loss: 4.883770 \tTime spent: 149.103804\n",
      "Epoch: 2 \tTraining Loss: 4.879130 \tValidation Loss: 4.836637 \tTime spent: 148.627349\n",
      "Epoch: 3 \tTraining Loss: 4.852674 \tValidation Loss: 8.357665 \tTime spent: 148.780071\n",
      "Epoch: 4 \tTraining Loss: 4.848772 \tValidation Loss: 4.857139 \tTime spent: 147.980709\n",
      "Epoch: 5 \tTraining Loss: 4.830073 \tValidation Loss: 6.425777 \tTime spent: 146.335272\n",
      "Epoch: 6 \tTraining Loss: 4.811718 \tValidation Loss: 4.789107 \tTime spent: 148.654974\n",
      "Epoch: 7 \tTraining Loss: 4.783438 \tValidation Loss: 4.754968 \tTime spent: 144.665668\n",
      "Epoch: 8 \tTraining Loss: 4.750735 \tValidation Loss: 4.711338 \tTime spent: 144.905267\n",
      "Epoch: 9 \tTraining Loss: 4.720667 \tValidation Loss: 4.659973 \tTime spent: 147.237803\n",
      "Epoch: 10 \tTraining Loss: 4.700238 \tValidation Loss: 4.637497 \tTime spent: 145.400922\n",
      "Epoch: 11 \tTraining Loss: 4.670533 \tValidation Loss: 4.620207 \tTime spent: 144.213575\n",
      "Epoch: 12 \tTraining Loss: 4.622187 \tValidation Loss: 4.533768 \tTime spent: 144.436874\n",
      "Epoch: 13 \tTraining Loss: 4.586235 \tValidation Loss: 4.532825 \tTime spent: 148.542814\n",
      "Epoch: 14 \tTraining Loss: 4.548138 \tValidation Loss: 4.483263 \tTime spent: 146.728412\n",
      "Epoch: 15 \tTraining Loss: 4.519305 \tValidation Loss: 4.509402 \tTime spent: 148.021200\n",
      "Epoch: 16 \tTraining Loss: 4.478214 \tValidation Loss: 4.336201 \tTime spent: 148.043141\n",
      "Epoch: 17 \tTraining Loss: 4.447245 \tValidation Loss: 4.292972 \tTime spent: 142.936262\n",
      "Epoch: 18 \tTraining Loss: 4.396297 \tValidation Loss: 4.586538 \tTime spent: 149.948810\n",
      "Epoch: 19 \tTraining Loss: 4.346624 \tValidation Loss: 4.384010 \tTime spent: 152.134472\n",
      "Epoch: 20 \tTraining Loss: 4.292439 \tValidation Loss: 4.297151 \tTime spent: 151.250697\n",
      "Epoch: 21 \tTraining Loss: 4.261301 \tValidation Loss: 4.262848 \tTime spent: 151.324314\n",
      "Epoch: 22 \tTraining Loss: 4.212417 \tValidation Loss: 4.410961 \tTime spent: 149.961814\n",
      "Epoch: 23 \tTraining Loss: 4.172135 \tValidation Loss: 4.454015 \tTime spent: 144.827377\n",
      "Epoch: 24 \tTraining Loss: 4.116220 \tValidation Loss: 4.069304 \tTime spent: 146.251173\n",
      "Epoch: 25 \tTraining Loss: 4.061537 \tValidation Loss: 4.223759 \tTime spent: 146.420371\n",
      "Epoch: 26 \tTraining Loss: 4.012846 \tValidation Loss: 3.978034 \tTime spent: 149.102057\n",
      "Epoch: 27 \tTraining Loss: 3.949584 \tValidation Loss: 3.909853 \tTime spent: 147.931376\n",
      "Epoch: 28 \tTraining Loss: 3.920696 \tValidation Loss: 3.977196 \tTime spent: 147.135665\n",
      "Epoch: 29 \tTraining Loss: 3.865342 \tValidation Loss: 3.907535 \tTime spent: 148.961288\n",
      "Epoch: 30 \tTraining Loss: 3.812349 \tValidation Loss: 3.975819 \tTime spent: 144.212742\n",
      "Epoch: 31 \tTraining Loss: 3.721895 \tValidation Loss: 4.097319 \tTime spent: 144.482636\n",
      "Epoch: 32 \tTraining Loss: 3.683670 \tValidation Loss: 3.604484 \tTime spent: 141.072217\n",
      "Epoch: 33 \tTraining Loss: 3.634761 \tValidation Loss: 3.561390 \tTime spent: 143.675524\n",
      "Epoch: 34 \tTraining Loss: 3.569388 \tValidation Loss: 3.404527 \tTime spent: 144.018426\n",
      "Epoch: 35 \tTraining Loss: 3.474158 \tValidation Loss: 3.352975 \tTime spent: 145.254881\n",
      "Epoch: 36 \tTraining Loss: 3.405495 \tValidation Loss: 3.507460 \tTime spent: 145.112714\n",
      "Epoch: 37 \tTraining Loss: 3.328810 \tValidation Loss: 3.408000 \tTime spent: 148.646446\n",
      "Epoch: 38 \tTraining Loss: 3.263613 \tValidation Loss: 3.238376 \tTime spent: 148.990887\n",
      "Epoch: 39 \tTraining Loss: 3.216736 \tValidation Loss: 3.015506 \tTime spent: 148.367996\n",
      "Epoch: 40 \tTraining Loss: 3.127180 \tValidation Loss: 3.278323 \tTime spent: 152.418515\n",
      "Epoch: 41 \tTraining Loss: 3.081523 \tValidation Loss: 3.063298 \tTime spent: 149.246319\n",
      "Epoch: 42 \tTraining Loss: 3.002950 \tValidation Loss: 2.935308 \tTime spent: 152.769264\n",
      "Epoch: 43 \tTraining Loss: 2.921196 \tValidation Loss: 3.319860 \tTime spent: 146.319864\n",
      "Epoch: 44 \tTraining Loss: 2.886711 \tValidation Loss: 2.996219 \tTime spent: 147.983938\n",
      "Epoch: 45 \tTraining Loss: 2.849067 \tValidation Loss: 3.321112 \tTime spent: 146.295397\n",
      "Epoch: 46 \tTraining Loss: 2.790161 \tValidation Loss: 6.655120 \tTime spent: 148.474326\n",
      "Epoch: 47 \tTraining Loss: 2.853411 \tValidation Loss: 2.621092 \tTime spent: 145.483066\n",
      "Epoch: 48 \tTraining Loss: 2.686746 \tValidation Loss: 2.549889 \tTime spent: 147.554174\n",
      "Epoch: 49 \tTraining Loss: 2.619472 \tValidation Loss: 2.432178 \tTime spent: 148.484918\n",
      "Epoch: 50 \tTraining Loss: 2.542446 \tValidation Loss: 2.770597 \tTime spent: 147.213317\n",
      "Epoch: 51 \tTraining Loss: 2.480795 \tValidation Loss: 2.943887 \tTime spent: 148.015873\n",
      "Epoch: 52 \tTraining Loss: 2.434728 \tValidation Loss: 2.812298 \tTime spent: 150.837181\n",
      "Epoch: 53 \tTraining Loss: 2.356287 \tValidation Loss: 2.777372 \tTime spent: 148.729486\n",
      "Epoch: 54 \tTraining Loss: 2.285851 \tValidation Loss: 2.402693 \tTime spent: 146.577989\n",
      "Epoch: 55 \tTraining Loss: 2.237404 \tValidation Loss: 2.603697 \tTime spent: 147.456270\n",
      "Epoch: 56 \tTraining Loss: 2.185739 \tValidation Loss: 2.341810 \tTime spent: 145.072822\n",
      "Epoch: 57 \tTraining Loss: 2.131748 \tValidation Loss: 3.190566 \tTime spent: 146.821507\n",
      "Epoch: 58 \tTraining Loss: 2.077843 \tValidation Loss: 2.446205 \tTime spent: 143.791270\n",
      "Epoch: 59 \tTraining Loss: 2.032667 \tValidation Loss: 2.316972 \tTime spent: 144.736772\n",
      "Epoch: 60 \tTraining Loss: 1.926457 \tValidation Loss: 2.195491 \tTime spent: 144.921832\n",
      "Epoch: 61 \tTraining Loss: 1.954442 \tValidation Loss: 2.291551 \tTime spent: 144.693671\n",
      "Epoch: 62 \tTraining Loss: 1.868595 \tValidation Loss: 2.296644 \tTime spent: 144.321619\n",
      "Epoch: 63 \tTraining Loss: 1.825422 \tValidation Loss: 2.014912 \tTime spent: 146.483534\n",
      "Epoch: 64 \tTraining Loss: 1.791373 \tValidation Loss: 2.107117 \tTime spent: 146.030149\n",
      "Epoch: 65 \tTraining Loss: 1.826472 \tValidation Loss: 2.067022 \tTime spent: 144.485524\n",
      "Epoch: 66 \tTraining Loss: 1.733912 \tValidation Loss: 2.043132 \tTime spent: 144.034916\n",
      "Epoch: 67 \tTraining Loss: 1.666123 \tValidation Loss: 2.190176 \tTime spent: 149.260114\n",
      "Epoch: 68 \tTraining Loss: 1.625319 \tValidation Loss: 1.948691 \tTime spent: 146.782673\n",
      "Epoch: 69 \tTraining Loss: 1.581281 \tValidation Loss: 1.957473 \tTime spent: 143.614970\n",
      "Epoch: 70 \tTraining Loss: 1.545079 \tValidation Loss: 1.874078 \tTime spent: 147.145825\n",
      "Epoch: 71 \tTraining Loss: 1.494385 \tValidation Loss: 2.034661 \tTime spent: 146.388252\n",
      "Epoch: 72 \tTraining Loss: 1.501438 \tValidation Loss: 2.243594 \tTime spent: 144.182941\n",
      "Epoch: 73 \tTraining Loss: 1.448833 \tValidation Loss: 1.873384 \tTime spent: 146.473021\n",
      "Epoch: 74 \tTraining Loss: 1.422011 \tValidation Loss: 1.929034 \tTime spent: 144.894294\n",
      "Epoch: 75 \tTraining Loss: 1.409583 \tValidation Loss: 2.046245 \tTime spent: 146.788270\n",
      "Epoch: 76 \tTraining Loss: 1.361796 \tValidation Loss: 1.889568 \tTime spent: 145.608696\n",
      "Epoch: 77 \tTraining Loss: 1.393783 \tValidation Loss: 1.997607 \tTime spent: 145.627228\n",
      "Epoch: 78 \tTraining Loss: 1.358726 \tValidation Loss: 1.946973 \tTime spent: 146.339310\n",
      "Epoch: 79 \tTraining Loss: 1.311248 \tValidation Loss: 2.378885 \tTime spent: 147.774635\n",
      "Epoch: 80 \tTraining Loss: 1.276586 \tValidation Loss: 1.983540 \tTime spent: 142.957742\n",
      "Epoch: 81 \tTraining Loss: 1.239249 \tValidation Loss: 1.842709 \tTime spent: 147.485690\n",
      "Epoch: 82 \tTraining Loss: 1.270403 \tValidation Loss: 1.926590 \tTime spent: 147.619163\n",
      "Epoch: 83 \tTraining Loss: 1.227368 \tValidation Loss: 2.061835 \tTime spent: 148.746409\n",
      "Epoch: 84 \tTraining Loss: 1.214960 \tValidation Loss: 1.756973 \tTime spent: 147.946111\n",
      "Epoch: 85 \tTraining Loss: 1.185166 \tValidation Loss: 2.019410 \tTime spent: 146.215916\n",
      "Epoch: 86 \tTraining Loss: 1.196566 \tValidation Loss: 1.970104 \tTime spent: 144.062442\n",
      "Epoch: 87 \tTraining Loss: 1.159136 \tValidation Loss: 1.768763 \tTime spent: 146.300548\n",
      "Epoch: 88 \tTraining Loss: 1.128809 \tValidation Loss: 1.996426 \tTime spent: 145.988172\n",
      "Epoch: 89 \tTraining Loss: 1.107412 \tValidation Loss: 1.960615 \tTime spent: 149.265015\n",
      "Epoch: 90 \tTraining Loss: 1.093629 \tValidation Loss: 1.897518 \tTime spent: 146.242332\n",
      "Epoch: 91 \tTraining Loss: 1.066105 \tValidation Loss: 1.941224 \tTime spent: 146.332472\n",
      "Epoch: 92 \tTraining Loss: 1.064518 \tValidation Loss: 2.398514 \tTime spent: 149.038841\n",
      "Epoch: 93 \tTraining Loss: 1.050379 \tValidation Loss: 1.873992 \tTime spent: 148.209790\n",
      "Epoch: 94 \tTraining Loss: 1.079885 \tValidation Loss: 1.817899 \tTime spent: 150.284162\n",
      "Epoch: 95 \tTraining Loss: 1.059080 \tValidation Loss: 1.874564 \tTime spent: 149.192616\n",
      "Epoch: 96 \tTraining Loss: 1.008919 \tValidation Loss: 1.785098 \tTime spent: 149.972178\n",
      "Epoch: 97 \tTraining Loss: 1.023760 \tValidation Loss: 2.068214 \tTime spent: 147.779962\n",
      "Epoch: 98 \tTraining Loss: 0.991443 \tValidation Loss: 1.939872 \tTime spent: 148.359603\n",
      "Epoch: 99 \tTraining Loss: 0.959764 \tValidation Loss: 1.777911 \tTime spent: 147.470804\n",
      "Epoch: 100 \tTraining Loss: 0.978154 \tValidation Loss: 1.578954 \tTime spent: 151.335536\n",
      "time spent:  4:05:07.233802\n",
      "Minimum trainig loss:  0.9597635269165039\n",
      "Minimum validation loss:  1.578953742980957\n"
     ]
    },
    {
     "data": {
      "image/png": "[encoded data removed]",
      "text/plain": [
       "<Figure size 432x288 with 1 Axes>"
      ]
     },
     "metadata": {
      "image/png": {
       "height": 248,
       "width": 362
      },
      "tags": []
     },
     "output_type": "display_data"
    },
    {
     "name": "stdout",
     "output_type": "stream",
     "text": [
      "Test Loss: 1.723389\n",
      "\n",
      "Test Accuracy: 55% (466/836)\n",
      "\n",
      "\n"
     ]
    }
   ],
   "source": [
    "%matplotlib inline\n",
    "%config InlineBackend.figure_format = 'retina'\n",
    "from utils.preprocess import *\n",
    "from utils.resnet_model import *\n",
    "from utils.train import *\n",
    "from utils.simple_model import *\n",
    "import torch.optim as optim\n",
    "from PIL import ImageFile\n",
    "\n",
    "ImageFile.LOAD_TRUNCATED_IMAGES = True\n",
    "\n",
    "sometimes = lambda aug: iaa.Sometimes(0.5, aug)\n",
    "\n",
    "augmentations = [\n",
    "        [\n",
    "        sometimes(iaa.Crop(percent=(0, 0.45))),\n",
    "        iaa.Multiply((0.5, 1.5), per_channel=0.5),\n",
    "        iaa.LinearContrast((0.5, 2.0), per_channel=0.5),\n",
    "        iaa.Grayscale(alpha=(0.0, 1.0))\n",
    "        ]\n",
    "]\n",
    "learning_rates = [\n",
    "                 0.0015\n",
    "                 ]\n",
    "optimizers = [\n",
    "             optim.Adam\n",
    "             ]\n",
    "models = [\n",
    "         resnet18()\n",
    "         ]\n",
    "         \n",
    "paths = {\n",
    "    'train_path' : train_path,\n",
    "    'validation_path' : validation_path,\n",
    "    'test_path' : test_path\n",
    "}\n",
    "\n",
    "\n",
    "hyperparameters_dictionary = {\n",
    "    'augmentations' : augmentations,\n",
    "    'learning_rates' : learning_rates,\n",
    "    'epochs' : 100,\n",
    "    'optimizers' : optimizers,\n",
    "    'models' : models\n",
    "}\n",
    "\n",
    "print_gpu()\n",
    "run_experiments(paths, hyperparameters_dictionary, model_file)\n",
    "\n",
    "\n"
   ]
  },
  {
   "cell_type": "code",
   "execution_count": null,
   "metadata": {
    "colab": {},
    "colab_type": "code",
    "id": "JIajAq0W3g08"
   },
   "outputs": [],
   "source": []
  }
 ],
 "metadata": {
  "accelerator": "GPU",
  "anaconda-cloud": {},
  "colab": {
   "collapsed_sections": [],
   "name": "best_scenario_replay.ipynb",
   "provenance": [
    {
     "file_id": "1OjCJi1WTxHyoX3PJv-O2nnwOTT2llm1K",
     "timestamp": 1586133248550
    },
    {
     "file_id": "1nDZaK8ZxAz8K8x1nvxH5hJxNrFdDGOGW",
     "timestamp": 1586132559362
    },
    {
     "file_id": "1CB8ottEi6O0V1byMpFFwPGAsDASBjZMB",
     "timestamp": 1586083613524
    },
    {
     "file_id": "1Z8yuY-OvTPNR_I39ExXUOetQgZCd5ai3",
     "timestamp": 1586083560447
    },
    {
     "file_id": "1CCtPCrvTO1eJTvBKDYBNh1qzbLulOgIB",
     "timestamp": 1586083192152
    },
    {
     "file_id": "1XEMq3W--Egp-IwHfHLUl8fooafAISsSq",
     "timestamp": 1586046109632
    },
    {
     "file_id": "1M6NnHno6mb6UmPwY3rLfVYIgx4r300qj",
     "timestamp": 1586045971599
    },
    {
     "file_id": "1nfhbSpamn1nTIQ94KZMjeAJvJQuUvQWH",
     "timestamp": 1586019294461
    },
    {
     "file_id": "1S5b4ZZBlAQH0-QI2rR3Klay6plHwlSG4",
     "timestamp": 1586019186582
    },
    {
     "file_id": "1x43TFVwxZ-RIkjvpxoh231Lvtt-ikN2C",
     "timestamp": 1586019059898
    },
    {
     "file_id": "18_yL6W-Q1P8P1xqcCJPCNjg_8OeZTD69",
     "timestamp": 1586005625719
    },
    {
     "file_id": "1r2_wvotCDm3k_r_TLNHFwiyqgwyV5KkQ",
     "timestamp": 1586005597098
    },
    {
     "file_id": "1x17ANn3WW9PJckaEQSlkio5gn7dkPN-k",
     "timestamp": 1586005574311
    },
    {
     "file_id": "1wrfznjw3XLiV6JfDZxRvB0FBT5wBDZ0I",
     "timestamp": 1586005511862
    },
    {
     "file_id": "1dOYwkMe0ADYqIypoTsfACJ0m1aC2wFkJ",
     "timestamp": 1585991244277
    },
    {
     "file_id": "1f9SevfjtTDJD6CO-HfNW-osiYvgrGJvN",
     "timestamp": 1585991217369
    },
    {
     "file_id": "1XWPqI_yXRmz4PenEhf7W2irFoa6HT6uF",
     "timestamp": 1585991195574
    },
    {
     "file_id": "1XNOEqHACPONOBz8ZN9L-aSYsuM0I2xJd",
     "timestamp": 1585991128475
    },
    {
     "file_id": "1E3y3-KvBsy9UapPVrGZypZT00YexjZbR",
     "timestamp": 1585955348971
    },
    {
     "file_id": "116DV5OYEC78n8Tdpt9Q7_MzL_TdLq6Qe",
     "timestamp": 1585955020650
    },
    {
     "file_id": "14GYMrkofK2E3cxEXO0Wa3eUO1nV6TOXr",
     "timestamp": 1585941706806
    },
    {
     "file_id": "1vcnE6D3-w6WNefC-orZ7W0KpV6HOmgnW",
     "timestamp": 1585781564679
    },
    {
     "file_id": "1CuKotTscUY4BCBXthHtT6SvrXJtC5f2I",
     "timestamp": 1585484980455
    },
    {
     "file_id": "1q5wJQ8TKeGV62hAt3Qj8gTaCOJkqUNgd",
     "timestamp": 1585323933479
    }
   ],
   "toc_visible": true
  },
  "kernelspec": {
   "display_name": "Python 3",
   "language": "python",
   "name": "python3"
  },
  "language_info": {
   "codemirror_mode": {
    "name": "ipython",
    "version": 3
   },
   "file_extension": ".py",
   "mimetype": "text/x-python",
   "name": "python",
   "nbconvert_exporter": "python",
   "pygments_lexer": "ipython3",
   "version": "3.7.6"
  }
 },
 "nbformat": 4,
 "nbformat_minor": 4
}
