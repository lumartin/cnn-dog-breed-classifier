{
 "cells": [
  {
   "cell_type": "code",
   "execution_count": 1,
   "metadata": {
    "colab": {
     "base_uri": "https://localhost:8080/",
     "height": 122
    },
    "colab_type": "code",
    "executionInfo": {
     "elapsed": 30090,
     "status": "ok",
     "timestamp": 1587682383528,
     "user": {
      "displayName": "Luis Martín",
      "photoUrl": "",
      "userId": "05136960784416304431"
     },
     "user_tz": -120
    },
    "id": "JXxOTx7DU-o4",
    "outputId": "35c9c40a-8109-4d9a-881f-158020b4922d"
   },
   "outputs": [
    {
     "name": "stdout",
     "output_type": "stream",
     "text": [
      "Go to this URL in a browser: https://accounts.google.com/o/oauth2/auth?client_id=947318989803-6bn6qk8qdgf4n4g3pfee6491hc0brc4i.apps.googleusercontent.com&redirect_uri=urn%3aietf%3awg%3aoauth%3a2.0%3aoob&response_type=code&scope=email%20https%3a%2f%2fwww.googleapis.com%2fauth%2fdocs.test%20https%3a%2f%2fwww.googleapis.com%2fauth%2fdrive%20https%3a%2f%2fwww.googleapis.com%2fauth%2fdrive.photos.readonly%20https%3a%2f%2fwww.googleapis.com%2fauth%2fpeopleapi.readonly\n",
      "\n",
      "Enter your authorization code:\n",
      "··········\n",
      "Mounted at /content/drive\n"
     ]
    }
   ],
   "source": [
    "from google.colab import drive\n",
    "drive.mount('/content/drive')"
   ]
  },
  {
   "cell_type": "code",
   "execution_count": null,
   "metadata": {
    "colab": {},
    "colab_type": "code",
    "id": "qkVY9R0tYZw3"
   },
   "outputs": [],
   "source": [
    "#%%capture\n",
    "#!wget -N https://s3-us-west-1.amazonaws.com/udacity-aind/dog-project/dogImages.zip\n",
    "#!unzip -o /content/dogImages.zip\n",
    "#!mv /content/dogImages /content/drive/My\\ Drive/dog-breeds/dog_images"
   ]
  },
  {
   "cell_type": "markdown",
   "metadata": {
    "colab_type": "text",
    "id": "SE3rFGLpoYhJ"
   },
   "source": [
    "# Configuration & utilities\n",
    "\n",
    "Here we define the configuration parameters, dependencies and utility functions needed for the experiment. You may only need to specify the 'experiment_description' value in the first line of code, and the paths identifying the project and the different datasets. "
   ]
  },
  {
   "cell_type": "code",
   "execution_count": 3,
   "metadata": {
    "colab": {
     "base_uri": "https://localhost:8080/",
     "height": 34
    },
    "colab_type": "code",
    "executionInfo": {
     "elapsed": 3036,
     "status": "ok",
     "timestamp": 1587682446392,
     "user": {
      "displayName": "Luis Martín",
      "photoUrl": "",
      "userId": "05136960784416304431"
     },
     "user_tz": -120
    },
    "id": "GbuFvy-OAzXp",
    "outputId": "f54cb665-705d-4bbd-85b5-22e423b34818"
   },
   "outputs": [
    {
     "name": "stdout",
     "output_type": "stream",
     "text": [
      "There are 8351 total dog images.\n"
     ]
    }
   ],
   "source": [
    "import numpy as np\n",
    "from glob import glob\n",
    "import sys\n",
    "\n",
    "experiment_description = 'best_scenario_replay'\n",
    "project_path = '/content/drive/My Drive/dog-breeds/'\n",
    "\n",
    "##################### DO NOT MODIFY ################################\n",
    "\n",
    "experiment_location = project_path + experiment_description\n",
    "escaped_exp_location = experiment_location.replace(\" \", \"\\\\ \")\n",
    "!mkdir $escaped_exp_location\n",
    "model_file = experiment_location + '/model_ ' + experiment_description\n",
    "output_file = experiment_location + '/' + experiment_description\n",
    "sys.path.append(project_path)\n",
    "##################### END: DO NOT MODIFY ###########################\n",
    "\n",
    "dog_files = np.array(glob(project_path + \"dog_images/*/*/*\"))\n",
    "print('There are %d total dog images.' % len(dog_files))\n",
    "train_path = project_path + 'dog_images/train'\n",
    "validation_path = project_path +'dog_images/valid'\n",
    "test_path = project_path +'dog_images/test'\n",
    "\n",
    "\n",
    "def print_gpu():\n",
    "  gpu_info = !nvidia-smi\n",
    "  gpu_info = '\\n'.join(gpu_info)\n",
    "  if gpu_info.find('failed') >= 0:\n",
    "    print('Select the Runtime → \"Change runtime type\" menu to enable a GPU accelerator, ')\n",
    "    print('and then re-execute this cell.')\n",
    "  else:\n",
    "    print(gpu_info) "
   ]
  },
  {
   "cell_type": "markdown",
   "metadata": {
    "colab_type": "text",
    "id": "SVQ7DTfXq7m4"
   },
   "source": [
    "# Experiment\n",
    "\n",
    "A lot of things here need to be separated:\n",
    "\n",
    " - Creation of dataset loaders\n",
    " - NN architecture\n",
    " - Hyperparameter dictionaries\n",
    " - Testing and Rebooting functions\n",
    " - Experiment loop\n",
    " - Visualization"
   ]
  },
  {
   "cell_type": "code",
   "execution_count": 4,
   "metadata": {
    "colab": {
     "base_uri": "https://localhost:8080/",
     "height": 1000
    },
    "colab_type": "code",
    "executionInfo": {
     "elapsed": 27554566,
     "status": "ok",
     "timestamp": 1587711569526,
     "user": {
      "displayName": "Luis Martín",
      "photoUrl": "",
      "userId": "05136960784416304431"
     },
     "user_tz": -120
    },
    "id": "ksid6BWZJlFO",
    "outputId": "8253066f-4632-46b8-909c-e94fc7edd920"
   },
   "outputs": [
    {
     "name": "stdout",
     "output_type": "stream",
     "text": [
      "ResNet(\n",
      "  (conv1): Sequential(\n",
      "    (0): Conv2d(3, 64, kernel_size=(3, 3), stride=(1, 1), padding=(1, 1), bias=False)\n",
      "    (1): BatchNorm2d(64, eps=1e-05, momentum=0.1, affine=True, track_running_stats=True)\n",
      "    (2): ReLU(inplace=True)\n",
      "  )\n",
      "  (conv2_x): Sequential(\n",
      "    (0): BasicBlock(\n",
      "      (residual_function): Sequential(\n",
      "        (0): Conv2d(64, 64, kernel_size=(3, 3), stride=(1, 1), padding=(1, 1), bias=False)\n",
      "        (1): BatchNorm2d(64, eps=1e-05, momentum=0.1, affine=True, track_running_stats=True)\n",
      "        (2): ReLU(inplace=True)\n",
      "        (3): Conv2d(64, 64, kernel_size=(3, 3), stride=(1, 1), padding=(1, 1), bias=False)\n",
      "        (4): BatchNorm2d(64, eps=1e-05, momentum=0.1, affine=True, track_running_stats=True)\n",
      "      )\n",
      "      (shortcut): Sequential()\n",
      "    )\n",
      "    (1): BasicBlock(\n",
      "      (residual_function): Sequential(\n",
      "        (0): Conv2d(64, 64, kernel_size=(3, 3), stride=(1, 1), padding=(1, 1), bias=False)\n",
      "        (1): BatchNorm2d(64, eps=1e-05, momentum=0.1, affine=True, track_running_stats=True)\n",
      "        (2): ReLU(inplace=True)\n",
      "        (3): Conv2d(64, 64, kernel_size=(3, 3), stride=(1, 1), padding=(1, 1), bias=False)\n",
      "        (4): BatchNorm2d(64, eps=1e-05, momentum=0.1, affine=True, track_running_stats=True)\n",
      "      )\n",
      "      (shortcut): Sequential()\n",
      "    )\n",
      "  )\n",
      "  (conv3_x): Sequential(\n",
      "    (0): BasicBlock(\n",
      "      (residual_function): Sequential(\n",
      "        (0): Conv2d(64, 128, kernel_size=(3, 3), stride=(2, 2), padding=(1, 1), bias=False)\n",
      "        (1): BatchNorm2d(128, eps=1e-05, momentum=0.1, affine=True, track_running_stats=True)\n",
      "        (2): ReLU(inplace=True)\n",
      "        (3): Conv2d(128, 128, kernel_size=(3, 3), stride=(1, 1), padding=(1, 1), bias=False)\n",
      "        (4): BatchNorm2d(128, eps=1e-05, momentum=0.1, affine=True, track_running_stats=True)\n",
      "      )\n",
      "      (shortcut): Sequential(\n",
      "        (0): Conv2d(64, 128, kernel_size=(1, 1), stride=(2, 2), bias=False)\n",
      "        (1): BatchNorm2d(128, eps=1e-05, momentum=0.1, affine=True, track_running_stats=True)\n",
      "      )\n",
      "    )\n",
      "    (1): BasicBlock(\n",
      "      (residual_function): Sequential(\n",
      "        (0): Conv2d(128, 128, kernel_size=(3, 3), stride=(1, 1), padding=(1, 1), bias=False)\n",
      "        (1): BatchNorm2d(128, eps=1e-05, momentum=0.1, affine=True, track_running_stats=True)\n",
      "        (2): ReLU(inplace=True)\n",
      "        (3): Conv2d(128, 128, kernel_size=(3, 3), stride=(1, 1), padding=(1, 1), bias=False)\n",
      "        (4): BatchNorm2d(128, eps=1e-05, momentum=0.1, affine=True, track_running_stats=True)\n",
      "      )\n",
      "      (shortcut): Sequential()\n",
      "    )\n",
      "  )\n",
      "  (conv4_x): Sequential(\n",
      "    (0): BasicBlock(\n",
      "      (residual_function): Sequential(\n",
      "        (0): Conv2d(128, 256, kernel_size=(3, 3), stride=(2, 2), padding=(1, 1), bias=False)\n",
      "        (1): BatchNorm2d(256, eps=1e-05, momentum=0.1, affine=True, track_running_stats=True)\n",
      "        (2): ReLU(inplace=True)\n",
      "        (3): Conv2d(256, 256, kernel_size=(3, 3), stride=(1, 1), padding=(1, 1), bias=False)\n",
      "        (4): BatchNorm2d(256, eps=1e-05, momentum=0.1, affine=True, track_running_stats=True)\n",
      "      )\n",
      "      (shortcut): Sequential(\n",
      "        (0): Conv2d(128, 256, kernel_size=(1, 1), stride=(2, 2), bias=False)\n",
      "        (1): BatchNorm2d(256, eps=1e-05, momentum=0.1, affine=True, track_running_stats=True)\n",
      "      )\n",
      "    )\n",
      "    (1): BasicBlock(\n",
      "      (residual_function): Sequential(\n",
      "        (0): Conv2d(256, 256, kernel_size=(3, 3), stride=(1, 1), padding=(1, 1), bias=False)\n",
      "        (1): BatchNorm2d(256, eps=1e-05, momentum=0.1, affine=True, track_running_stats=True)\n",
      "        (2): ReLU(inplace=True)\n",
      "        (3): Conv2d(256, 256, kernel_size=(3, 3), stride=(1, 1), padding=(1, 1), bias=False)\n",
      "        (4): BatchNorm2d(256, eps=1e-05, momentum=0.1, affine=True, track_running_stats=True)\n",
      "      )\n",
      "      (shortcut): Sequential()\n",
      "    )\n",
      "  )\n",
      "  (conv5_x): Sequential(\n",
      "    (0): BasicBlock(\n",
      "      (residual_function): Sequential(\n",
      "        (0): Conv2d(256, 512, kernel_size=(3, 3), stride=(2, 2), padding=(1, 1), bias=False)\n",
      "        (1): BatchNorm2d(512, eps=1e-05, momentum=0.1, affine=True, track_running_stats=True)\n",
      "        (2): ReLU(inplace=True)\n",
      "        (3): Conv2d(512, 512, kernel_size=(3, 3), stride=(1, 1), padding=(1, 1), bias=False)\n",
      "        (4): BatchNorm2d(512, eps=1e-05, momentum=0.1, affine=True, track_running_stats=True)\n",
      "      )\n",
      "      (shortcut): Sequential(\n",
      "        (0): Conv2d(256, 512, kernel_size=(1, 1), stride=(2, 2), bias=False)\n",
      "        (1): BatchNorm2d(512, eps=1e-05, momentum=0.1, affine=True, track_running_stats=True)\n",
      "      )\n",
      "    )\n",
      "    (1): BasicBlock(\n",
      "      (residual_function): Sequential(\n",
      "        (0): Conv2d(512, 512, kernel_size=(3, 3), stride=(1, 1), padding=(1, 1), bias=False)\n",
      "        (1): BatchNorm2d(512, eps=1e-05, momentum=0.1, affine=True, track_running_stats=True)\n",
      "        (2): ReLU(inplace=True)\n",
      "        (3): Conv2d(512, 512, kernel_size=(3, 3), stride=(1, 1), padding=(1, 1), bias=False)\n",
      "        (4): BatchNorm2d(512, eps=1e-05, momentum=0.1, affine=True, track_running_stats=True)\n",
      "      )\n",
      "      (shortcut): Sequential()\n",
      "    )\n",
      "  )\n",
      "  (avg_pool): AdaptiveAvgPool2d(output_size=(1, 1))\n",
      "  (fc): Linear(in_features=512, out_features=133, bias=True)\n",
      ")\n",
      "Sun Apr  5 00:21:52 2020       \n",
      "+-----------------------------------------------------------------------------+\n",
      "| NVIDIA-SMI 440.64.00    Driver Version: 418.67       CUDA Version: 10.1     |\n",
      "|-------------------------------+----------------------+----------------------+\n",
      "| GPU  Name        Persistence-M| Bus-Id        Disp.A | Volatile Uncorr. ECC |\n",
      "| Fan  Temp  Perf  Pwr:Usage/Cap|         Memory-Usage | GPU-Util  Compute M. |\n",
      "|===============================+======================+======================|\n",
      "|   0  Tesla P100-PCIE...  Off  | 00000000:00:04.0 Off |                    0 |\n",
      "| N/A   30C    P0    31W / 250W |    781MiB / 16280MiB |      0%      Default |\n",
      "+-------------------------------+----------------------+----------------------+\n",
      "                                                                               \n",
      "+-----------------------------------------------------------------------------+\n",
      "| Processes:                                                       GPU Memory |\n",
      "|  GPU       PID   Type   Process name                             Usage      |\n",
      "|=============================================================================|\n",
      "+-----------------------------------------------------------------------------+\n",
      "Adam (\n",
      "Parameter Group 0\n",
      "    amsgrad: False\n",
      "    betas: (0.9, 0.999)\n",
      "    eps: 1e-08\n",
      "    lr: 0.0015\n",
      "    weight_decay: 0\n",
      ")\n",
      "Epoch: 1 \tTraining Loss: 4.971226 \tValidation Loss: 5.770408 \tTime spent: 131.806699\n",
      "Epoch: 2 \tTraining Loss: 4.846345 \tValidation Loss: 4.830207 \tTime spent: 130.911732\n",
      "Epoch: 3 \tTraining Loss: 4.820042 \tValidation Loss: 4.807134 \tTime spent: 131.087294\n",
      "Epoch: 4 \tTraining Loss: 4.792402 \tValidation Loss: 4.779751 \tTime spent: 131.353141\n",
      "Epoch: 5 \tTraining Loss: 4.764007 \tValidation Loss: 4.829182 \tTime spent: 131.337338\n",
      "Epoch: 6 \tTraining Loss: 4.724936 \tValidation Loss: 4.814670 \tTime spent: 130.466181\n",
      "Epoch: 7 \tTraining Loss: 4.687192 \tValidation Loss: 4.591304 \tTime spent: 131.956874\n",
      "Epoch: 8 \tTraining Loss: 4.616088 \tValidation Loss: 5.353527 \tTime spent: 131.999165\n",
      "Epoch: 9 \tTraining Loss: 4.546453 \tValidation Loss: 5.061282 \tTime spent: 131.547505\n",
      "Epoch: 10 \tTraining Loss: 4.486842 \tValidation Loss: 5.997780 \tTime spent: 130.532572\n",
      "Epoch: 11 \tTraining Loss: 4.425541 \tValidation Loss: 4.415341 \tTime spent: 131.491750\n",
      "Epoch: 12 \tTraining Loss: 4.378134 \tValidation Loss: 4.305153 \tTime spent: 131.425818\n",
      "Epoch: 13 \tTraining Loss: 4.313873 \tValidation Loss: 4.320134 \tTime spent: 131.685208\n",
      "Epoch: 14 \tTraining Loss: 4.271349 \tValidation Loss: 4.218293 \tTime spent: 132.318588\n",
      "Epoch: 15 \tTraining Loss: 4.195200 \tValidation Loss: 4.343424 \tTime spent: 133.066194\n",
      "Epoch: 16 \tTraining Loss: 4.106064 \tValidation Loss: 4.064498 \tTime spent: 132.103898\n",
      "Epoch: 17 \tTraining Loss: 4.035977 \tValidation Loss: 4.087265 \tTime spent: 133.322592\n",
      "Epoch: 18 \tTraining Loss: 3.953331 \tValidation Loss: 4.173993 \tTime spent: 132.889515\n",
      "Epoch: 19 \tTraining Loss: 3.881007 \tValidation Loss: 4.131046 \tTime spent: 132.188866\n",
      "Epoch: 20 \tTraining Loss: 3.809464 \tValidation Loss: 4.340855 \tTime spent: 133.476328\n",
      "Epoch: 21 \tTraining Loss: 3.742964 \tValidation Loss: 3.597183 \tTime spent: 132.635207\n",
      "Epoch: 22 \tTraining Loss: 3.679473 \tValidation Loss: 3.640436 \tTime spent: 132.103784\n",
      "Epoch: 23 \tTraining Loss: 3.621015 \tValidation Loss: 3.617760 \tTime spent: 131.561928\n",
      "Epoch: 24 \tTraining Loss: 3.530214 \tValidation Loss: 3.536171 \tTime spent: 131.984020\n",
      "Epoch: 25 \tTraining Loss: 3.480795 \tValidation Loss: 3.900285 \tTime spent: 132.167461\n",
      "Epoch: 26 \tTraining Loss: 3.409111 \tValidation Loss: 3.639474 \tTime spent: 131.470284\n",
      "Epoch: 27 \tTraining Loss: 3.327554 \tValidation Loss: 3.888535 \tTime spent: 131.564326\n",
      "Epoch: 28 \tTraining Loss: 3.271723 \tValidation Loss: 3.234545 \tTime spent: 131.624074\n",
      "Epoch: 29 \tTraining Loss: 3.196914 \tValidation Loss: 3.683243 \tTime spent: 131.853518\n",
      "Epoch: 30 \tTraining Loss: 3.109097 \tValidation Loss: 3.691292 \tTime spent: 132.252723\n",
      "Epoch: 31 \tTraining Loss: 3.038764 \tValidation Loss: 3.327532 \tTime spent: 130.198342\n",
      "Epoch: 32 \tTraining Loss: 2.970134 \tValidation Loss: 3.222102 \tTime spent: 132.246516\n",
      "Epoch: 33 \tTraining Loss: 2.913805 \tValidation Loss: 2.865572 \tTime spent: 131.311579\n",
      "Epoch: 34 \tTraining Loss: 2.852702 \tValidation Loss: 2.873801 \tTime spent: 132.275464\n",
      "Epoch: 35 \tTraining Loss: 2.755322 \tValidation Loss: 3.214463 \tTime spent: 131.664392\n",
      "Epoch: 36 \tTraining Loss: 2.670160 \tValidation Loss: 3.110271 \tTime spent: 133.180281\n",
      "Epoch: 37 \tTraining Loss: 2.640817 \tValidation Loss: 2.844835 \tTime spent: 134.323940\n",
      "Epoch: 38 \tTraining Loss: 2.554986 \tValidation Loss: 2.853803 \tTime spent: 131.673619\n",
      "Epoch: 39 \tTraining Loss: 2.507415 \tValidation Loss: 2.597794 \tTime spent: 131.090685\n",
      "Epoch: 40 \tTraining Loss: 2.433630 \tValidation Loss: 2.829477 \tTime spent: 131.909678\n",
      "Epoch: 41 \tTraining Loss: 2.393864 \tValidation Loss: 2.432348 \tTime spent: 131.429648\n",
      "Epoch: 42 \tTraining Loss: 2.311326 \tValidation Loss: 2.421619 \tTime spent: 131.074761\n",
      "Epoch: 43 \tTraining Loss: 2.239034 \tValidation Loss: 2.937765 \tTime spent: 130.615700\n",
      "Epoch: 44 \tTraining Loss: 2.174689 \tValidation Loss: 2.767128 \tTime spent: 132.112154\n",
      "Epoch: 45 \tTraining Loss: 2.082815 \tValidation Loss: 2.737465 \tTime spent: 131.034282\n",
      "Epoch: 46 \tTraining Loss: 2.029087 \tValidation Loss: 2.545575 \tTime spent: 130.656820\n",
      "Epoch: 47 \tTraining Loss: 2.032448 \tValidation Loss: 2.253992 \tTime spent: 129.970103\n",
      "Epoch: 48 \tTraining Loss: 1.957788 \tValidation Loss: 2.601261 \tTime spent: 130.792710\n",
      "Epoch: 49 \tTraining Loss: 1.902689 \tValidation Loss: 1.993938 \tTime spent: 130.798648\n",
      "Epoch: 50 \tTraining Loss: 1.823625 \tValidation Loss: 2.336832 \tTime spent: 129.576620\n",
      "Epoch: 51 \tTraining Loss: 1.790031 \tValidation Loss: 2.897148 \tTime spent: 129.337027\n",
      "Epoch: 52 \tTraining Loss: 1.749613 \tValidation Loss: 2.030577 \tTime spent: 130.292975\n",
      "Epoch: 53 \tTraining Loss: 1.693556 \tValidation Loss: 2.063425 \tTime spent: 131.213143\n",
      "Epoch: 54 \tTraining Loss: 1.646951 \tValidation Loss: 2.322503 \tTime spent: 130.121348\n",
      "Epoch: 55 \tTraining Loss: 1.607389 \tValidation Loss: 2.005777 \tTime spent: 129.440858\n",
      "Epoch: 56 \tTraining Loss: 1.542490 \tValidation Loss: 2.402336 \tTime spent: 129.416532\n",
      "Epoch: 57 \tTraining Loss: 1.501327 \tValidation Loss: 2.074411 \tTime spent: 130.000522\n",
      "Epoch: 58 \tTraining Loss: 1.511529 \tValidation Loss: 2.412106 \tTime spent: 130.395681\n",
      "Epoch: 59 \tTraining Loss: 1.456916 \tValidation Loss: 2.311311 \tTime spent: 130.128217\n",
      "Epoch: 60 \tTraining Loss: 1.429100 \tValidation Loss: 2.301678 \tTime spent: 130.235237\n",
      "Epoch: 61 \tTraining Loss: 1.365031 \tValidation Loss: 2.036237 \tTime spent: 130.766368\n",
      "Epoch: 62 \tTraining Loss: 1.330503 \tValidation Loss: 2.066249 \tTime spent: 132.259012\n",
      "Epoch: 63 \tTraining Loss: 1.298537 \tValidation Loss: 2.387440 \tTime spent: 132.943787\n",
      "Epoch: 64 \tTraining Loss: 1.277769 \tValidation Loss: 1.962203 \tTime spent: 132.946607\n",
      "Epoch: 65 \tTraining Loss: 1.242527 \tValidation Loss: 1.946553 \tTime spent: 130.746861\n",
      "Epoch: 66 \tTraining Loss: 1.233933 \tValidation Loss: 1.922121 \tTime spent: 132.652787\n",
      "Epoch: 67 \tTraining Loss: 1.166989 \tValidation Loss: 1.872265 \tTime spent: 131.335393\n",
      "Epoch: 68 \tTraining Loss: 1.175245 \tValidation Loss: 2.151476 \tTime spent: 131.875569\n",
      "Epoch: 69 \tTraining Loss: 1.166965 \tValidation Loss: 1.836990 \tTime spent: 132.747381\n",
      "Epoch: 70 \tTraining Loss: 1.138273 \tValidation Loss: 2.014548 \tTime spent: 130.756038\n",
      "Epoch: 71 \tTraining Loss: 1.110934 \tValidation Loss: 1.960763 \tTime spent: 132.643406\n",
      "Epoch: 72 \tTraining Loss: 1.101396 \tValidation Loss: 1.825863 \tTime spent: 130.734269\n",
      "Epoch: 73 \tTraining Loss: 1.075025 \tValidation Loss: 1.879781 \tTime spent: 130.776281\n",
      "Epoch: 74 \tTraining Loss: 1.074703 \tValidation Loss: 1.832900 \tTime spent: 131.377207\n",
      "Epoch: 75 \tTraining Loss: 1.104185 \tValidation Loss: 2.116329 \tTime spent: 130.023411\n",
      "Epoch: 76 \tTraining Loss: 0.990102 \tValidation Loss: 2.026976 \tTime spent: 130.318457\n",
      "Epoch: 77 \tTraining Loss: 0.972877 \tValidation Loss: 1.961779 \tTime spent: 131.062589\n",
      "Epoch: 78 \tTraining Loss: 0.971516 \tValidation Loss: 2.108699 \tTime spent: 130.912943\n",
      "Epoch: 79 \tTraining Loss: 0.959779 \tValidation Loss: 2.196880 \tTime spent: 130.928448\n",
      "Epoch: 80 \tTraining Loss: 0.928198 \tValidation Loss: 1.816085 \tTime spent: 131.189327\n",
      "Epoch: 81 \tTraining Loss: 0.924172 \tValidation Loss: 2.143799 \tTime spent: 130.085691\n",
      "Epoch: 82 \tTraining Loss: 0.925781 \tValidation Loss: 1.896525 \tTime spent: 131.432450\n",
      "Epoch: 83 \tTraining Loss: 0.888325 \tValidation Loss: 1.816978 \tTime spent: 130.007404\n",
      "Epoch: 84 \tTraining Loss: 0.895575 \tValidation Loss: 1.993319 \tTime spent: 130.655024\n",
      "Epoch: 85 \tTraining Loss: 0.885943 \tValidation Loss: 2.062912 \tTime spent: 130.485453\n",
      "Epoch: 86 \tTraining Loss: 0.869914 \tValidation Loss: 2.026201 \tTime spent: 130.310435\n",
      "Epoch: 87 \tTraining Loss: 0.844634 \tValidation Loss: 1.899269 \tTime spent: 130.075938\n",
      "Epoch: 88 \tTraining Loss: 0.837293 \tValidation Loss: 1.621700 \tTime spent: 130.634301\n",
      "Epoch: 89 \tTraining Loss: 0.822286 \tValidation Loss: 1.737941 \tTime spent: 130.637813\n",
      "Epoch: 90 \tTraining Loss: 0.801757 \tValidation Loss: 1.636788 \tTime spent: 132.056527\n",
      "Epoch: 91 \tTraining Loss: 0.816830 \tValidation Loss: 1.971484 \tTime spent: 132.418616\n",
      "Epoch: 92 \tTraining Loss: 0.808445 \tValidation Loss: 2.067316 \tTime spent: 132.383976\n",
      "Epoch: 93 \tTraining Loss: 0.795575 \tValidation Loss: 1.635692 \tTime spent: 131.372054\n",
      "Epoch: 94 \tTraining Loss: 0.772023 \tValidation Loss: 1.565530 \tTime spent: 131.675243\n",
      "Epoch: 95 \tTraining Loss: 0.737054 \tValidation Loss: 1.622328 \tTime spent: 131.123112\n",
      "Epoch: 96 \tTraining Loss: 0.764493 \tValidation Loss: 2.040535 \tTime spent: 131.183327\n",
      "Epoch: 97 \tTraining Loss: 0.731659 \tValidation Loss: 1.760011 \tTime spent: 131.325452\n",
      "Epoch: 98 \tTraining Loss: 0.745140 \tValidation Loss: 1.894915 \tTime spent: 130.590094\n",
      "Epoch: 99 \tTraining Loss: 0.726495 \tValidation Loss: 1.909301 \tTime spent: 131.344131\n",
      "Epoch: 100 \tTraining Loss: 0.710158 \tValidation Loss: 2.110076 \tTime spent: 130.544465\n",
      "time spent:  3:38:55.890301\n",
      "Minimum trainig loss:  0.710158109664917\n",
      "Minimum validation loss:  1.5655300617218018\n"
     ]
    },
    {
     "data": {
      "image/png": "[encoded data removed]",
      "text/plain": [
       "<Figure size 432x288 with 1 Axes>"
      ]
     },
     "metadata": {
      "image/png": {
       "height": 248,
       "width": 362
      },
      "tags": []
     },
     "output_type": "display_data"
    },
    {
     "name": "stdout",
     "output_type": "stream",
     "text": [
      "Test Loss: 1.705814\n",
      "\n",
      "Test Accuracy: 58% (491/836)\n",
      "\n",
      "\n"
     ]
    }
   ],
   "source": [
    "%matplotlib inline\n",
    "%config InlineBackend.figure_format = 'retina'\n",
    "from utils.preprocess import *\n",
    "from utils.resnet_model import *\n",
    "from utils.train import *\n",
    "from utils.simple_model import *\n",
    "import torch.optim as optim\n",
    "from PIL import ImageFile\n",
    "\n",
    "ImageFile.LOAD_TRUNCATED_IMAGES = True\n",
    "\n",
    "sometimes = lambda aug: iaa.Sometimes(0.5, aug)\n",
    "\n",
    "augmentations = [\n",
    "        [\n",
    "        sometimes(iaa.Crop(percent=(0, 0.45))),\n",
    "        iaa.Multiply((0.5, 1.5), per_channel=0.5),\n",
    "        iaa.Grayscale(alpha=(0.0, 1.0))\n",
    "        ]\n",
    "]\n",
    "learning_rates = [\n",
    "                 0.0015\n",
    "                 ]\n",
    "optimizers = [\n",
    "             optim.Adam\n",
    "             ]\n",
    "models = [\n",
    "         resnet18()\n",
    "         ]\n",
    "         \n",
    "paths = {\n",
    "    'train_path' : train_path,\n",
    "    'validation_path' : validation_path,\n",
    "    'test_path' : test_path\n",
    "}\n",
    "\n",
    "\n",
    "hyperparameters_dictionary = {\n",
    "    'augmentations' : augmentations,\n",
    "    'learning_rates' : learning_rates,\n",
    "    'epochs' : 100,\n",
    "    'optimizers' : optimizers,\n",
    "    'models' : models\n",
    "}\n",
    "\n",
    "print_gpu()\n",
    "run_experiments(paths, hyperparameters_dictionary, model_file)\n",
    "\n",
    "\n"
   ]
  },
  {
   "cell_type": "code",
   "execution_count": null,
   "metadata": {
    "colab": {},
    "colab_type": "code",
    "id": "JIajAq0W3g08"
   },
   "outputs": [],
   "source": []
  }
 ],
 "metadata": {
  "accelerator": "GPU",
  "anaconda-cloud": {},
  "colab": {
   "collapsed_sections": [],
   "name": "best_scenario_replay.ipynb",
   "provenance": [
    {
     "file_id": "1OjCJi1WTxHyoX3PJv-O2nnwOTT2llm1K",
     "timestamp": 1586133248550
    },
    {
     "file_id": "1nDZaK8ZxAz8K8x1nvxH5hJxNrFdDGOGW",
     "timestamp": 1586132559362
    },
    {
     "file_id": "1CB8ottEi6O0V1byMpFFwPGAsDASBjZMB",
     "timestamp": 1586083613524
    },
    {
     "file_id": "1Z8yuY-OvTPNR_I39ExXUOetQgZCd5ai3",
     "timestamp": 1586083560447
    },
    {
     "file_id": "1CCtPCrvTO1eJTvBKDYBNh1qzbLulOgIB",
     "timestamp": 1586083192152
    },
    {
     "file_id": "1XEMq3W--Egp-IwHfHLUl8fooafAISsSq",
     "timestamp": 1586046109632
    },
    {
     "file_id": "1M6NnHno6mb6UmPwY3rLfVYIgx4r300qj",
     "timestamp": 1586045971599
    },
    {
     "file_id": "1nfhbSpamn1nTIQ94KZMjeAJvJQuUvQWH",
     "timestamp": 1586019294461
    },
    {
     "file_id": "1S5b4ZZBlAQH0-QI2rR3Klay6plHwlSG4",
     "timestamp": 1586019186582
    },
    {
     "file_id": "1x43TFVwxZ-RIkjvpxoh231Lvtt-ikN2C",
     "timestamp": 1586019059898
    },
    {
     "file_id": "18_yL6W-Q1P8P1xqcCJPCNjg_8OeZTD69",
     "timestamp": 1586005625719
    },
    {
     "file_id": "1r2_wvotCDm3k_r_TLNHFwiyqgwyV5KkQ",
     "timestamp": 1586005597098
    },
    {
     "file_id": "1x17ANn3WW9PJckaEQSlkio5gn7dkPN-k",
     "timestamp": 1586005574311
    },
    {
     "file_id": "1wrfznjw3XLiV6JfDZxRvB0FBT5wBDZ0I",
     "timestamp": 1586005511862
    },
    {
     "file_id": "1dOYwkMe0ADYqIypoTsfACJ0m1aC2wFkJ",
     "timestamp": 1585991244277
    },
    {
     "file_id": "1f9SevfjtTDJD6CO-HfNW-osiYvgrGJvN",
     "timestamp": 1585991217369
    },
    {
     "file_id": "1XWPqI_yXRmz4PenEhf7W2irFoa6HT6uF",
     "timestamp": 1585991195574
    },
    {
     "file_id": "1XNOEqHACPONOBz8ZN9L-aSYsuM0I2xJd",
     "timestamp": 1585991128475
    },
    {
     "file_id": "1E3y3-KvBsy9UapPVrGZypZT00YexjZbR",
     "timestamp": 1585955348971
    },
    {
     "file_id": "116DV5OYEC78n8Tdpt9Q7_MzL_TdLq6Qe",
     "timestamp": 1585955020650
    },
    {
     "file_id": "14GYMrkofK2E3cxEXO0Wa3eUO1nV6TOXr",
     "timestamp": 1585941706806
    },
    {
     "file_id": "1vcnE6D3-w6WNefC-orZ7W0KpV6HOmgnW",
     "timestamp": 1585781564679
    },
    {
     "file_id": "1CuKotTscUY4BCBXthHtT6SvrXJtC5f2I",
     "timestamp": 1585484980455
    },
    {
     "file_id": "1q5wJQ8TKeGV62hAt3Qj8gTaCOJkqUNgd",
     "timestamp": 1585323933479
    }
   ],
   "toc_visible": true
  },
  "kernelspec": {
   "display_name": "Python 3",
   "language": "python",
   "name": "python3"
  },
  "language_info": {
   "codemirror_mode": {
    "name": "ipython",
    "version": 3
   },
   "file_extension": ".py",
   "mimetype": "text/x-python",
   "name": "python",
   "nbconvert_exporter": "python",
   "pygments_lexer": "ipython3",
   "version": "3.7.6"
  }
 },
 "nbformat": 4,
 "nbformat_minor": 4
}
