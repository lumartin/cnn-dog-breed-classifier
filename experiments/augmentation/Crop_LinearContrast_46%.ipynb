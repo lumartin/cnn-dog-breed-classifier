{
 "cells": [
  {
   "cell_type": "code",
   "execution_count": 1,
   "metadata": {
    "colab": {
     "base_uri": "https://localhost:8080/",
     "height": 122
    },
    "colab_type": "code",
    "executionInfo": {
     "elapsed": 30090,
     "status": "ok",
     "timestamp": 1587682383528,
     "user": {
      "displayName": "Luis Martín",
      "photoUrl": "",
      "userId": "05136960784416304431"
     },
     "user_tz": -120
    },
    "id": "JXxOTx7DU-o4",
    "outputId": "35c9c40a-8109-4d9a-881f-158020b4922d"
   },
   "outputs": [
    {
     "name": "stdout",
     "output_type": "stream",
     "text": [
      "Go to this URL in a browser: https://accounts.google.com/o/oauth2/auth?client_id=947318989803-6bn6qk8qdgf4n4g3pfee6491hc0brc4i.apps.googleusercontent.com&redirect_uri=urn%3aietf%3awg%3aoauth%3a2.0%3aoob&response_type=code&scope=email%20https%3a%2f%2fwww.googleapis.com%2fauth%2fdocs.test%20https%3a%2f%2fwww.googleapis.com%2fauth%2fdrive%20https%3a%2f%2fwww.googleapis.com%2fauth%2fdrive.photos.readonly%20https%3a%2f%2fwww.googleapis.com%2fauth%2fpeopleapi.readonly\n",
      "\n",
      "Enter your authorization code:\n",
      "··········\n",
      "Mounted at /content/drive\n"
     ]
    }
   ],
   "source": [
    "from google.colab import drive\n",
    "drive.mount('/content/drive')"
   ]
  },
  {
   "cell_type": "code",
   "execution_count": null,
   "metadata": {
    "colab": {},
    "colab_type": "code",
    "id": "qkVY9R0tYZw3"
   },
   "outputs": [],
   "source": [
    "#%%capture\n",
    "#!wget -N https://s3-us-west-1.amazonaws.com/udacity-aind/dog-project/dogImages.zip\n",
    "#!unzip -o /content/dogImages.zip\n",
    "#!mv /content/dogImages /content/drive/My\\ Drive/dog-breeds/dog_images"
   ]
  },
  {
   "cell_type": "markdown",
   "metadata": {
    "colab_type": "text",
    "id": "SE3rFGLpoYhJ"
   },
   "source": [
    "# Configuration & utilities\n",
    "\n",
    "Here we define the configuration parameters, dependencies and utility functions needed for the experiment. You may only need to specify the 'experiment_description' value in the first line of code, and the paths identifying the project and the different datasets. "
   ]
  },
  {
   "cell_type": "code",
   "execution_count": 3,
   "metadata": {
    "colab": {
     "base_uri": "https://localhost:8080/",
     "height": 34
    },
    "colab_type": "code",
    "executionInfo": {
     "elapsed": 3036,
     "status": "ok",
     "timestamp": 1587682446392,
     "user": {
      "displayName": "Luis Martín",
      "photoUrl": "",
      "userId": "05136960784416304431"
     },
     "user_tz": -120
    },
    "id": "GbuFvy-OAzXp",
    "outputId": "f54cb665-705d-4bbd-85b5-22e423b34818"
   },
   "outputs": [
    {
     "name": "stdout",
     "output_type": "stream",
     "text": [
      "There are 8351 total dog images.\n"
     ]
    }
   ],
   "source": [
    "import numpy as np\n",
    "from glob import glob\n",
    "import sys\n",
    "\n",
    "experiment_description = 'best_scenario_replay'\n",
    "project_path = '/content/drive/My Drive/dog-breeds/'\n",
    "\n",
    "##################### DO NOT MODIFY ################################\n",
    "\n",
    "experiment_location = project_path + experiment_description\n",
    "escaped_exp_location = experiment_location.replace(\" \", \"\\\\ \")\n",
    "!mkdir $escaped_exp_location\n",
    "model_file = experiment_location + '/model_ ' + experiment_description\n",
    "output_file = experiment_location + '/' + experiment_description\n",
    "sys.path.append(project_path)\n",
    "##################### END: DO NOT MODIFY ###########################\n",
    "\n",
    "dog_files = np.array(glob(project_path + \"dog_images/*/*/*\"))\n",
    "print('There are %d total dog images.' % len(dog_files))\n",
    "train_path = project_path + 'dog_images/train'\n",
    "validation_path = project_path +'dog_images/valid'\n",
    "test_path = project_path +'dog_images/test'\n",
    "\n",
    "\n",
    "def print_gpu():\n",
    "  gpu_info = !nvidia-smi\n",
    "  gpu_info = '\\n'.join(gpu_info)\n",
    "  if gpu_info.find('failed') >= 0:\n",
    "    print('Select the Runtime → \"Change runtime type\" menu to enable a GPU accelerator, ')\n",
    "    print('and then re-execute this cell.')\n",
    "  else:\n",
    "    print(gpu_info) "
   ]
  },
  {
   "cell_type": "markdown",
   "metadata": {
    "colab_type": "text",
    "id": "SVQ7DTfXq7m4"
   },
   "source": [
    "# Experiment\n",
    "\n",
    "A lot of things here need to be separated:\n",
    "\n",
    " - Creation of dataset loaders\n",
    " - NN architecture\n",
    " - Hyperparameter dictionaries\n",
    " - Testing and Rebooting functions\n",
    " - Experiment loop\n",
    " - Visualization"
   ]
  },
  {
   "cell_type": "code",
   "execution_count": 4,
   "metadata": {
    "colab": {
     "base_uri": "https://localhost:8080/",
     "height": 1000
    },
    "colab_type": "code",
    "executionInfo": {
     "elapsed": 27554566,
     "status": "ok",
     "timestamp": 1587711569526,
     "user": {
      "displayName": "Luis Martín",
      "photoUrl": "",
      "userId": "05136960784416304431"
     },
     "user_tz": -120
    },
    "id": "ksid6BWZJlFO",
    "outputId": "8253066f-4632-46b8-909c-e94fc7edd920"
   },
   "outputs": [
        {
          "output_type": "stream",
          "text": [
            "ResNet(\n",
            "  (conv1): Sequential(\n",
            "    (0): Conv2d(3, 64, kernel_size=(3, 3), stride=(1, 1), padding=(1, 1), bias=False)\n",
            "    (1): BatchNorm2d(64, eps=1e-05, momentum=0.1, affine=True, track_running_stats=True)\n",
            "    (2): ReLU(inplace=True)\n",
            "  )\n",
            "  (conv2_x): Sequential(\n",
            "    (0): BasicBlock(\n",
            "      (residual_function): Sequential(\n",
            "        (0): Conv2d(64, 64, kernel_size=(3, 3), stride=(1, 1), padding=(1, 1), bias=False)\n",
            "        (1): BatchNorm2d(64, eps=1e-05, momentum=0.1, affine=True, track_running_stats=True)\n",
            "        (2): ReLU(inplace=True)\n",
            "        (3): Conv2d(64, 64, kernel_size=(3, 3), stride=(1, 1), padding=(1, 1), bias=False)\n",
            "        (4): BatchNorm2d(64, eps=1e-05, momentum=0.1, affine=True, track_running_stats=True)\n",
            "      )\n",
            "      (shortcut): Sequential()\n",
            "    )\n",
            "    (1): BasicBlock(\n",
            "      (residual_function): Sequential(\n",
            "        (0): Conv2d(64, 64, kernel_size=(3, 3), stride=(1, 1), padding=(1, 1), bias=False)\n",
            "        (1): BatchNorm2d(64, eps=1e-05, momentum=0.1, affine=True, track_running_stats=True)\n",
            "        (2): ReLU(inplace=True)\n",
            "        (3): Conv2d(64, 64, kernel_size=(3, 3), stride=(1, 1), padding=(1, 1), bias=False)\n",
            "        (4): BatchNorm2d(64, eps=1e-05, momentum=0.1, affine=True, track_running_stats=True)\n",
            "      )\n",
            "      (shortcut): Sequential()\n",
            "    )\n",
            "  )\n",
            "  (conv3_x): Sequential(\n",
            "    (0): BasicBlock(\n",
            "      (residual_function): Sequential(\n",
            "        (0): Conv2d(64, 128, kernel_size=(3, 3), stride=(2, 2), padding=(1, 1), bias=False)\n",
            "        (1): BatchNorm2d(128, eps=1e-05, momentum=0.1, affine=True, track_running_stats=True)\n",
            "        (2): ReLU(inplace=True)\n",
            "        (3): Conv2d(128, 128, kernel_size=(3, 3), stride=(1, 1), padding=(1, 1), bias=False)\n",
            "        (4): BatchNorm2d(128, eps=1e-05, momentum=0.1, affine=True, track_running_stats=True)\n",
            "      )\n",
            "      (shortcut): Sequential(\n",
            "        (0): Conv2d(64, 128, kernel_size=(1, 1), stride=(2, 2), bias=False)\n",
            "        (1): BatchNorm2d(128, eps=1e-05, momentum=0.1, affine=True, track_running_stats=True)\n",
            "      )\n",
            "    )\n",
            "    (1): BasicBlock(\n",
            "      (residual_function): Sequential(\n",
            "        (0): Conv2d(128, 128, kernel_size=(3, 3), stride=(1, 1), padding=(1, 1), bias=False)\n",
            "        (1): BatchNorm2d(128, eps=1e-05, momentum=0.1, affine=True, track_running_stats=True)\n",
            "        (2): ReLU(inplace=True)\n",
            "        (3): Conv2d(128, 128, kernel_size=(3, 3), stride=(1, 1), padding=(1, 1), bias=False)\n",
            "        (4): BatchNorm2d(128, eps=1e-05, momentum=0.1, affine=True, track_running_stats=True)\n",
            "      )\n",
            "      (shortcut): Sequential()\n",
            "    )\n",
            "  )\n",
            "  (conv4_x): Sequential(\n",
            "    (0): BasicBlock(\n",
            "      (residual_function): Sequential(\n",
            "        (0): Conv2d(128, 256, kernel_size=(3, 3), stride=(2, 2), padding=(1, 1), bias=False)\n",
            "        (1): BatchNorm2d(256, eps=1e-05, momentum=0.1, affine=True, track_running_stats=True)\n",
            "        (2): ReLU(inplace=True)\n",
            "        (3): Conv2d(256, 256, kernel_size=(3, 3), stride=(1, 1), padding=(1, 1), bias=False)\n",
            "        (4): BatchNorm2d(256, eps=1e-05, momentum=0.1, affine=True, track_running_stats=True)\n",
            "      )\n",
            "      (shortcut): Sequential(\n",
            "        (0): Conv2d(128, 256, kernel_size=(1, 1), stride=(2, 2), bias=False)\n",
            "        (1): BatchNorm2d(256, eps=1e-05, momentum=0.1, affine=True, track_running_stats=True)\n",
            "      )\n",
            "    )\n",
            "    (1): BasicBlock(\n",
            "      (residual_function): Sequential(\n",
            "        (0): Conv2d(256, 256, kernel_size=(3, 3), stride=(1, 1), padding=(1, 1), bias=False)\n",
            "        (1): BatchNorm2d(256, eps=1e-05, momentum=0.1, affine=True, track_running_stats=True)\n",
            "        (2): ReLU(inplace=True)\n",
            "        (3): Conv2d(256, 256, kernel_size=(3, 3), stride=(1, 1), padding=(1, 1), bias=False)\n",
            "        (4): BatchNorm2d(256, eps=1e-05, momentum=0.1, affine=True, track_running_stats=True)\n",
            "      )\n",
            "      (shortcut): Sequential()\n",
            "    )\n",
            "  )\n",
            "  (conv5_x): Sequential(\n",
            "    (0): BasicBlock(\n",
            "      (residual_function): Sequential(\n",
            "        (0): Conv2d(256, 512, kernel_size=(3, 3), stride=(2, 2), padding=(1, 1), bias=False)\n",
            "        (1): BatchNorm2d(512, eps=1e-05, momentum=0.1, affine=True, track_running_stats=True)\n",
            "        (2): ReLU(inplace=True)\n",
            "        (3): Conv2d(512, 512, kernel_size=(3, 3), stride=(1, 1), padding=(1, 1), bias=False)\n",
            "        (4): BatchNorm2d(512, eps=1e-05, momentum=0.1, affine=True, track_running_stats=True)\n",
            "      )\n",
            "      (shortcut): Sequential(\n",
            "        (0): Conv2d(256, 512, kernel_size=(1, 1), stride=(2, 2), bias=False)\n",
            "        (1): BatchNorm2d(512, eps=1e-05, momentum=0.1, affine=True, track_running_stats=True)\n",
            "      )\n",
            "    )\n",
            "    (1): BasicBlock(\n",
            "      (residual_function): Sequential(\n",
            "        (0): Conv2d(512, 512, kernel_size=(3, 3), stride=(1, 1), padding=(1, 1), bias=False)\n",
            "        (1): BatchNorm2d(512, eps=1e-05, momentum=0.1, affine=True, track_running_stats=True)\n",
            "        (2): ReLU(inplace=True)\n",
            "        (3): Conv2d(512, 512, kernel_size=(3, 3), stride=(1, 1), padding=(1, 1), bias=False)\n",
            "        (4): BatchNorm2d(512, eps=1e-05, momentum=0.1, affine=True, track_running_stats=True)\n",
            "      )\n",
            "      (shortcut): Sequential()\n",
            "    )\n",
            "  )\n",
            "  (avg_pool): AdaptiveAvgPool2d(output_size=(1, 1))\n",
            "  (fc): Linear(in_features=512, out_features=133, bias=True)\n",
            ")\n",
            "Sat Apr  4 13:11:32 2020       \n",
            "+-----------------------------------------------------------------------------+\n",
            "| NVIDIA-SMI 440.64.00    Driver Version: 418.67       CUDA Version: 10.1     |\n",
            "|-------------------------------+----------------------+----------------------+\n",
            "| GPU  Name        Persistence-M| Bus-Id        Disp.A | Volatile Uncorr. ECC |\n",
            "| Fan  Temp  Perf  Pwr:Usage/Cap|         Memory-Usage | GPU-Util  Compute M. |\n",
            "|===============================+======================+======================|\n",
            "|   0  Tesla P100-PCIE...  Off  | 00000000:00:04.0 Off |                    0 |\n",
            "| N/A   41C    P0    33W / 250W |    781MiB / 16280MiB |      0%      Default |\n",
            "+-------------------------------+----------------------+----------------------+\n",
            "                                                                               \n",
            "+-----------------------------------------------------------------------------+\n",
            "| Processes:                                                       GPU Memory |\n",
            "|  GPU       PID   Type   Process name                             Usage      |\n",
            "|=============================================================================|\n",
            "+-----------------------------------------------------------------------------+\n",
            "Adam (\n",
            "Parameter Group 0\n",
            "    amsgrad: False\n",
            "    betas: (0.9, 0.999)\n",
            "    eps: 1e-08\n",
            "    lr: 0.0015\n",
            "    weight_decay: 0\n",
            ")\n",
            "Epoch: 1 \tTraining Loss: 4.920114 \tValidation Loss: 4.747530 \tTime spent: 131.059812\n",
            "Epoch: 2 \tTraining Loss: 4.751441 \tValidation Loss: 5.011684 \tTime spent: 129.906771\n",
            "Epoch: 3 \tTraining Loss: 4.704216 \tValidation Loss: 4.693624 \tTime spent: 130.207000\n",
            "Epoch: 4 \tTraining Loss: 4.685218 \tValidation Loss: 4.730605 \tTime spent: 131.693587\n",
            "Epoch: 5 \tTraining Loss: 4.598114 \tValidation Loss: 4.553306 \tTime spent: 130.895056\n",
            "Epoch: 6 \tTraining Loss: 4.539534 \tValidation Loss: 4.557218 \tTime spent: 130.752775\n",
            "Epoch: 7 \tTraining Loss: 4.486796 \tValidation Loss: 4.427451 \tTime spent: 132.058825\n",
            "Epoch: 8 \tTraining Loss: 4.426659 \tValidation Loss: 4.366822 \tTime spent: 131.484080\n",
            "Epoch: 9 \tTraining Loss: 4.361822 \tValidation Loss: 4.361645 \tTime spent: 131.564593\n",
            "Epoch: 10 \tTraining Loss: 4.296192 \tValidation Loss: 4.279375 \tTime spent: 130.575819\n",
            "Epoch: 11 \tTraining Loss: 4.266335 \tValidation Loss: 4.278613 \tTime spent: 129.729628\n",
            "Epoch: 12 \tTraining Loss: 4.207072 \tValidation Loss: 4.131602 \tTime spent: 130.258578\n",
            "Epoch: 13 \tTraining Loss: 4.159107 \tValidation Loss: 4.323450 \tTime spent: 130.163680\n",
            "Epoch: 14 \tTraining Loss: 4.080289 \tValidation Loss: 4.029714 \tTime spent: 130.333066\n",
            "Epoch: 15 \tTraining Loss: 4.047474 \tValidation Loss: 4.009915 \tTime spent: 131.650995\n",
            "Epoch: 16 \tTraining Loss: 3.983374 \tValidation Loss: 4.065560 \tTime spent: 130.406014\n",
            "Epoch: 17 \tTraining Loss: 3.943763 \tValidation Loss: 4.011752 \tTime spent: 132.091045\n",
            "Epoch: 18 \tTraining Loss: 3.905104 \tValidation Loss: 4.051790 \tTime spent: 131.105357\n",
            "Epoch: 19 \tTraining Loss: 3.857245 \tValidation Loss: 3.957552 \tTime spent: 130.361848\n",
            "Epoch: 20 \tTraining Loss: 3.821695 \tValidation Loss: 3.872344 \tTime spent: 130.939861\n",
            "Epoch: 21 \tTraining Loss: 3.735756 \tValidation Loss: 3.748616 \tTime spent: 131.146244\n",
            "Epoch: 22 \tTraining Loss: 3.718992 \tValidation Loss: 3.809677 \tTime spent: 131.637046\n",
            "Epoch: 23 \tTraining Loss: 3.674187 \tValidation Loss: 3.873374 \tTime spent: 130.903277\n",
            "Epoch: 24 \tTraining Loss: 3.605979 \tValidation Loss: 3.758452 \tTime spent: 131.092953\n",
            "Epoch: 25 \tTraining Loss: 3.567368 \tValidation Loss: 3.645597 \tTime spent: 132.071904\n",
            "Epoch: 26 \tTraining Loss: 3.542149 \tValidation Loss: 3.773391 \tTime spent: 132.056409\n",
            "Epoch: 27 \tTraining Loss: 3.486958 \tValidation Loss: 3.646955 \tTime spent: 131.289244\n",
            "Epoch: 28 \tTraining Loss: 3.411725 \tValidation Loss: 3.802625 \tTime spent: 131.536826\n",
            "Epoch: 29 \tTraining Loss: 3.400370 \tValidation Loss: 3.582845 \tTime spent: 131.498542\n",
            "Epoch: 30 \tTraining Loss: 3.363561 \tValidation Loss: 3.611852 \tTime spent: 132.026745\n",
            "Epoch: 31 \tTraining Loss: 3.294322 \tValidation Loss: 3.324321 \tTime spent: 130.950432\n",
            "Epoch: 32 \tTraining Loss: 3.244097 \tValidation Loss: 3.365721 \tTime spent: 130.655575\n",
            "Epoch: 33 \tTraining Loss: 3.202415 \tValidation Loss: 3.374047 \tTime spent: 130.316631\n",
            "Epoch: 34 \tTraining Loss: 3.158625 \tValidation Loss: 3.329578 \tTime spent: 130.001535\n",
            "Epoch: 35 \tTraining Loss: 3.073531 \tValidation Loss: 3.452782 \tTime spent: 130.549017\n",
            "Epoch: 36 \tTraining Loss: 3.018560 \tValidation Loss: 3.194510 \tTime spent: 132.368309\n",
            "Epoch: 37 \tTraining Loss: 3.006913 \tValidation Loss: 3.238343 \tTime spent: 131.563108\n",
            "Epoch: 38 \tTraining Loss: 2.932610 \tValidation Loss: 3.024178 \tTime spent: 131.826072\n",
            "Epoch: 39 \tTraining Loss: 2.866751 \tValidation Loss: 3.063618 \tTime spent: 131.160113\n",
            "Epoch: 40 \tTraining Loss: 2.811277 \tValidation Loss: 3.320858 \tTime spent: 131.652078\n",
            "Epoch: 41 \tTraining Loss: 2.735648 \tValidation Loss: 3.124749 \tTime spent: 131.012099\n",
            "Epoch: 42 \tTraining Loss: 2.713040 \tValidation Loss: 3.112369 \tTime spent: 130.417556\n",
            "Epoch: 43 \tTraining Loss: 2.656703 \tValidation Loss: 2.913699 \tTime spent: 130.753436\n",
            "Epoch: 44 \tTraining Loss: 2.602568 \tValidation Loss: 2.874205 \tTime spent: 131.914511\n",
            "Epoch: 45 \tTraining Loss: 2.508186 \tValidation Loss: 2.979824 \tTime spent: 130.521749\n",
            "Epoch: 46 \tTraining Loss: 2.471277 \tValidation Loss: 2.816639 \tTime spent: 129.937335\n",
            "Epoch: 47 \tTraining Loss: 2.410298 \tValidation Loss: 2.786463 \tTime spent: 130.142526\n",
            "Epoch: 48 \tTraining Loss: 2.366264 \tValidation Loss: 2.616211 \tTime spent: 129.939477\n",
            "Epoch: 49 \tTraining Loss: 2.329607 \tValidation Loss: 3.218746 \tTime spent: 130.854132\n",
            "Epoch: 50 \tTraining Loss: 2.275496 \tValidation Loss: 2.667499 \tTime spent: 129.911264\n",
            "Epoch: 51 \tTraining Loss: 2.219186 \tValidation Loss: 2.631629 \tTime spent: 129.876869\n",
            "Epoch: 52 \tTraining Loss: 2.136962 \tValidation Loss: 2.752722 \tTime spent: 129.948339\n",
            "Epoch: 53 \tTraining Loss: 2.136935 \tValidation Loss: 2.444074 \tTime spent: 130.735482\n",
            "Epoch: 54 \tTraining Loss: 2.050985 \tValidation Loss: 2.497854 \tTime spent: 130.890376\n",
            "Epoch: 55 \tTraining Loss: 1.986427 \tValidation Loss: 2.505204 \tTime spent: 130.870486\n",
            "Epoch: 56 \tTraining Loss: 1.928025 \tValidation Loss: 2.533742 \tTime spent: 131.651056\n",
            "Epoch: 57 \tTraining Loss: 1.897511 \tValidation Loss: 2.487667 \tTime spent: 131.208920\n",
            "Epoch: 58 \tTraining Loss: 1.848731 \tValidation Loss: 2.352771 \tTime spent: 130.590249\n",
            "Epoch: 59 \tTraining Loss: 1.791800 \tValidation Loss: 2.371994 \tTime spent: 130.934019\n",
            "Epoch: 60 \tTraining Loss: 1.753851 \tValidation Loss: 2.372073 \tTime spent: 131.905212\n",
            "Epoch: 61 \tTraining Loss: 1.719907 \tValidation Loss: 2.431094 \tTime spent: 131.247659\n",
            "Epoch: 62 \tTraining Loss: 1.681023 \tValidation Loss: 2.483910 \tTime spent: 131.323574\n",
            "Epoch: 63 \tTraining Loss: 1.603919 \tValidation Loss: 2.535112 \tTime spent: 130.732296\n",
            "Epoch: 64 \tTraining Loss: 1.580157 \tValidation Loss: 2.242367 \tTime spent: 130.783454\n",
            "Epoch: 65 \tTraining Loss: 1.568178 \tValidation Loss: 2.415463 \tTime spent: 129.728009\n",
            "Epoch: 66 \tTraining Loss: 1.548707 \tValidation Loss: 2.095554 \tTime spent: 130.365083\n",
            "Epoch: 67 \tTraining Loss: 1.467111 \tValidation Loss: 2.460424 \tTime spent: 130.748688\n",
            "Epoch: 68 \tTraining Loss: 1.419752 \tValidation Loss: 2.315570 \tTime spent: 129.662540\n",
            "Epoch: 69 \tTraining Loss: 1.380917 \tValidation Loss: 2.129969 \tTime spent: 130.702379\n",
            "Epoch: 70 \tTraining Loss: 1.347176 \tValidation Loss: 2.205485 \tTime spent: 130.293123\n",
            "Epoch: 71 \tTraining Loss: 1.324510 \tValidation Loss: 2.136317 \tTime spent: 130.590119\n",
            "Epoch: 72 \tTraining Loss: 1.317271 \tValidation Loss: 2.326997 \tTime spent: 130.102103\n",
            "Epoch: 73 \tTraining Loss: 1.274853 \tValidation Loss: 2.288074 \tTime spent: 131.725913\n",
            "Epoch: 74 \tTraining Loss: 1.214279 \tValidation Loss: 2.354517 \tTime spent: 131.153670\n",
            "Epoch: 75 \tTraining Loss: 1.233254 \tValidation Loss: 2.166452 \tTime spent: 131.954664\n",
            "Epoch: 76 \tTraining Loss: 1.170964 \tValidation Loss: 2.048441 \tTime spent: 131.438263\n",
            "Epoch: 77 \tTraining Loss: 1.147940 \tValidation Loss: 2.011299 \tTime spent: 130.447628\n",
            "Epoch: 78 \tTraining Loss: 1.133091 \tValidation Loss: 2.118976 \tTime spent: 130.459593\n",
            "Epoch: 79 \tTraining Loss: 1.113496 \tValidation Loss: 2.092169 \tTime spent: 129.912963\n",
            "Epoch: 80 \tTraining Loss: 1.072664 \tValidation Loss: 2.262157 \tTime spent: 130.827958\n",
            "Epoch: 81 \tTraining Loss: 1.062905 \tValidation Loss: 2.594456 \tTime spent: 131.566524\n",
            "Epoch: 82 \tTraining Loss: 1.035490 \tValidation Loss: 2.388825 \tTime spent: 131.736555\n",
            "Epoch: 83 \tTraining Loss: 1.053126 \tValidation Loss: 2.235076 \tTime spent: 131.084162\n",
            "Epoch: 84 \tTraining Loss: 1.032051 \tValidation Loss: 2.238604 \tTime spent: 130.601998\n",
            "Epoch: 85 \tTraining Loss: 1.001991 \tValidation Loss: 2.019006 \tTime spent: 130.261264\n",
            "Epoch: 86 \tTraining Loss: 0.962843 \tValidation Loss: 2.190952 \tTime spent: 130.704114\n",
            "Epoch: 87 \tTraining Loss: 0.959607 \tValidation Loss: 2.291445 \tTime spent: 130.371564\n",
            "Epoch: 88 \tTraining Loss: 0.941684 \tValidation Loss: 2.194011 \tTime spent: 129.823717\n",
            "Epoch: 89 \tTraining Loss: 0.917239 \tValidation Loss: 2.320417 \tTime spent: 129.554132\n",
            "Epoch: 90 \tTraining Loss: 0.906320 \tValidation Loss: 2.320571 \tTime spent: 129.879229\n",
            "Epoch: 91 \tTraining Loss: 0.904799 \tValidation Loss: 2.178793 \tTime spent: 130.445733\n",
            "Epoch: 92 \tTraining Loss: 0.902868 \tValidation Loss: 2.188926 \tTime spent: 130.110479\n",
            "Epoch: 93 \tTraining Loss: 0.876219 \tValidation Loss: 2.259208 \tTime spent: 130.935228\n",
            "Epoch: 94 \tTraining Loss: 0.846311 \tValidation Loss: 2.357659 \tTime spent: 129.622062\n",
            "Epoch: 95 \tTraining Loss: 0.855198 \tValidation Loss: 2.048542 \tTime spent: 129.899782\n",
            "Epoch: 96 \tTraining Loss: 0.831716 \tValidation Loss: 2.155151 \tTime spent: 128.945367\n",
            "Epoch: 97 \tTraining Loss: 0.805693 \tValidation Loss: 2.380270 \tTime spent: 129.302437\n",
            "Epoch: 98 \tTraining Loss: 0.804289 \tValidation Loss: 2.194082 \tTime spent: 128.975243\n",
            "Epoch: 99 \tTraining Loss: 0.802828 \tValidation Loss: 2.215574 \tTime spent: 129.363014\n",
            "Epoch: 100 \tTraining Loss: 0.786633 \tValidation Loss: 2.415533 \tTime spent: 129.556294\n",
            "time spent:  3:37:56.518314\n",
            "Minimum trainig loss:  0.7866325974464417\n",
            "Minimum validation loss:  2.011298894882202\n"
          ],
          "name": "stdout"
        },
        {
          "output_type": "display_data",
          "data": {
            "image/png": "[encoded data removed]",
            "text/plain": [
              "<Figure size 432x288 with 1 Axes>"
            ]
          },
          "metadata": {
            "tags": [],
            "image/png": {
              "width": 362,
              "height": 248
            }
          }
        },
        {
          "output_type": "stream",
          "text": [
            "Test Loss: 2.075913\n",
            "\n",
            "Test Accuracy: 46% (392/836)\n",
            "\n",
            "\n"
          ],
          "name": "stdout"
        }
      ],
   "source": [
    "%matplotlib inline\n",
    "%config InlineBackend.figure_format = 'retina'\n",
    "from utils.preprocess import *\n",
    "from utils.resnet_model import *\n",
    "from utils.train import *\n",
    "from utils.simple_model import *\n",
    "import torch.optim as optim\n",
    "from PIL import ImageFile\n",
    "\n",
    "ImageFile.LOAD_TRUNCATED_IMAGES = True\n",
    "\n",
    "sometimes = lambda aug: iaa.Sometimes(0.5, aug)\n",
    "\n",
    "augmentations = [\n",
    "        [\n",
    "        sometimes(iaa.Crop(percent=(0, 0.45))),\n",
    "        iaa.LinearContrast((0.5, 2.0), per_channel=0.5)\n",
    "        ]\n",
    "]\n",
    "learning_rates = [\n",
    "                 0.0015\n",
    "                 ]\n",
    "optimizers = [\n",
    "             optim.Adam\n",
    "             ]\n",
    "models = [\n",
    "         resnet18()\n",
    "         ]\n",
    "         \n",
    "paths = {\n",
    "    'train_path' : train_path,\n",
    "    'validation_path' : validation_path,\n",
    "    'test_path' : test_path\n",
    "}\n",
    "\n",
    "\n",
    "hyperparameters_dictionary = {\n",
    "    'augmentations' : augmentations,\n",
    "    'learning_rates' : learning_rates,\n",
    "    'epochs' : 100,\n",
    "    'optimizers' : optimizers,\n",
    "    'models' : models\n",
    "}\n",
    "\n",
    "print_gpu()\n",
    "run_experiments(paths, hyperparameters_dictionary, model_file)\n",
    "\n",
    "\n"
   ]
  },
  {
   "cell_type": "code",
   "execution_count": null,
   "metadata": {
    "colab": {},
    "colab_type": "code",
    "id": "JIajAq0W3g08"
   },
   "outputs": [],
   "source": []
  }
 ],
 "metadata": {
  "accelerator": "GPU",
  "anaconda-cloud": {},
  "colab": {
   "collapsed_sections": [],
   "name": "best_scenario_replay.ipynb",
   "provenance": [
    {
     "file_id": "1OjCJi1WTxHyoX3PJv-O2nnwOTT2llm1K",
     "timestamp": 1586133248550
    },
    {
     "file_id": "1nDZaK8ZxAz8K8x1nvxH5hJxNrFdDGOGW",
     "timestamp": 1586132559362
    },
    {
     "file_id": "1CB8ottEi6O0V1byMpFFwPGAsDASBjZMB",
     "timestamp": 1586083613524
    },
    {
     "file_id": "1Z8yuY-OvTPNR_I39ExXUOetQgZCd5ai3",
     "timestamp": 1586083560447
    },
    {
     "file_id": "1CCtPCrvTO1eJTvBKDYBNh1qzbLulOgIB",
     "timestamp": 1586083192152
    },
    {
     "file_id": "1XEMq3W--Egp-IwHfHLUl8fooafAISsSq",
     "timestamp": 1586046109632
    },
    {
     "file_id": "1M6NnHno6mb6UmPwY3rLfVYIgx4r300qj",
     "timestamp": 1586045971599
    },
    {
     "file_id": "1nfhbSpamn1nTIQ94KZMjeAJvJQuUvQWH",
     "timestamp": 1586019294461
    },
    {
     "file_id": "1S5b4ZZBlAQH0-QI2rR3Klay6plHwlSG4",
     "timestamp": 1586019186582
    },
    {
     "file_id": "1x43TFVwxZ-RIkjvpxoh231Lvtt-ikN2C",
     "timestamp": 1586019059898
    },
    {
     "file_id": "18_yL6W-Q1P8P1xqcCJPCNjg_8OeZTD69",
     "timestamp": 1586005625719
    },
    {
     "file_id": "1r2_wvotCDm3k_r_TLNHFwiyqgwyV5KkQ",
     "timestamp": 1586005597098
    },
    {
     "file_id": "1x17ANn3WW9PJckaEQSlkio5gn7dkPN-k",
     "timestamp": 1586005574311
    },
    {
     "file_id": "1wrfznjw3XLiV6JfDZxRvB0FBT5wBDZ0I",
     "timestamp": 1586005511862
    },
    {
     "file_id": "1dOYwkMe0ADYqIypoTsfACJ0m1aC2wFkJ",
     "timestamp": 1585991244277
    },
    {
     "file_id": "1f9SevfjtTDJD6CO-HfNW-osiYvgrGJvN",
     "timestamp": 1585991217369
    },
    {
     "file_id": "1XWPqI_yXRmz4PenEhf7W2irFoa6HT6uF",
     "timestamp": 1585991195574
    },
    {
     "file_id": "1XNOEqHACPONOBz8ZN9L-aSYsuM0I2xJd",
     "timestamp": 1585991128475
    },
    {
     "file_id": "1E3y3-KvBsy9UapPVrGZypZT00YexjZbR",
     "timestamp": 1585955348971
    },
    {
     "file_id": "116DV5OYEC78n8Tdpt9Q7_MzL_TdLq6Qe",
     "timestamp": 1585955020650
    },
    {
     "file_id": "14GYMrkofK2E3cxEXO0Wa3eUO1nV6TOXr",
     "timestamp": 1585941706806
    },
    {
     "file_id": "1vcnE6D3-w6WNefC-orZ7W0KpV6HOmgnW",
     "timestamp": 1585781564679
    },
    {
     "file_id": "1CuKotTscUY4BCBXthHtT6SvrXJtC5f2I",
     "timestamp": 1585484980455
    },
    {
     "file_id": "1q5wJQ8TKeGV62hAt3Qj8gTaCOJkqUNgd",
     "timestamp": 1585323933479
    }
   ],
   "toc_visible": true
  },
  "kernelspec": {
   "display_name": "Python 3",
   "language": "python",
   "name": "python3"
  },
  "language_info": {
   "codemirror_mode": {
    "name": "ipython",
    "version": 3
   },
   "file_extension": ".py",
   "mimetype": "text/x-python",
   "name": "python",
   "nbconvert_exporter": "python",
   "pygments_lexer": "ipython3",
   "version": "3.7.6"
  }
 },
 "nbformat": 4,
 "nbformat_minor": 4
}
