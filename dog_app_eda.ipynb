{
 "cells": [
  {
   "cell_type": "code",
   "execution_count": 4,
   "metadata": {},
   "outputs": [
    {
     "name": "stdout",
     "output_type": "stream",
     "text": [
      "There are 13233 total human images.\n",
      "There are 8351 total dog images.\n"
     ]
    }
   ],
   "source": [
    "import numpy as np\n",
    "from glob import glob\n",
    "\n",
    "# load filenames for human and dog images\n",
    "human_files = np.array(glob(\"lfw/*/*\"))\n",
    "dog_files = np.array(glob(\"dog_images/*/*/*\"))\n",
    "\n",
    "# print number of images in each dataset\n",
    "print('There are %d total human images.' % len(human_files))\n",
    "print('There are %d total dog images.' % len(dog_files))"
   ]
  },
  {
   "cell_type": "code",
   "execution_count": 2,
   "metadata": {},
   "outputs": [
    {
     "name": "stdout",
     "output_type": "stream",
     "text": [
      "Dataset ImageFolder\n",
      "    Number of datapoints: 6680\n",
      "    Root location: dog_images/train\n",
      "Dataset ImageFolder\n",
      "    Number of datapoints: 835\n",
      "    Root location: dog_images/valid\n",
      "Dataset ImageFolder\n",
      "    Number of datapoints: 836\n",
      "    Root location: dog_images/test\n"
     ]
    }
   ],
   "source": [
    "import os\n",
    "import torch\n",
    "from torchvision import datasets\n",
    "import torchvision.transforms as transforms\n",
    "from PIL import ImageFile\n",
    "ImageFile.LOAD_TRUNCATED_IMAGES = True\n",
    "\n",
    "# Pass transforms in here, then run the next cell to see how the transforms look\n",
    "train_data = datasets.ImageFolder('dog_images/train')\n",
    "valid_data = datasets.ImageFolder('dog_images/valid')\n",
    "test_data = datasets.ImageFolder('dog_images/test')\n",
    "\n",
    "trainloader = torch.utils.data.DataLoader(train_data, batch_size=128, shuffle=True, num_workers=0)\n",
    "\n",
    "validloader = torch.utils.data.DataLoader(valid_data, batch_size=128, shuffle=True, num_workers=0)\n",
    "\n",
    "testloader = torch.utils.data.DataLoader(test_data,  batch_size=64, shuffle=False, num_workers=0)\n",
    "\n",
    "loaders_scratch = {'train' : trainloader, 'valid' : validloader, 'test' : testloader}\n",
    "\n",
    "print(train_data)\n",
    "\n",
    "print(valid_data)\n",
    "\n",
    "print(test_data)"
   ]
  },
  {
   "cell_type": "code",
   "execution_count": 4,
   "metadata": {},
   "outputs": [
    {
     "data": {
      "image/png": "[encoded data removed]",
      "text/plain": [
       "<Figure size 432x288 with 1 Axes>"
      ]
     },
     "metadata": {
      "needs_background": "light"
     },
     "output_type": "display_data"
    },
    {
     "name": "stdout",
     "output_type": "stream",
     "text": [
      "77 dog_images/train\\005.Alaskan_malamute\n",
      "26 dog_images/train\\108.Norwegian_buhund\n",
      "[64, 58, 52, 63, 77, 64, 50, 66, 34, 50, 66, 66, 46, 69, 73, 59, 62, 50, 48, 62, 64, 47, 65, 62, 37, 41, 64, 35, 74, 52, 56, 65, 45, 64, 53, 65, 50, 57, 69, 53, 69, 63, 50, 64, 53, 67, 54, 54, 50, 50, 62, 49, 47, 57, 50, 65, 71, 50, 47, 60, 61, 53, 53, 39, 42, 33, 34, 63, 51, 47, 62, 48, 42, 41, 44, 64, 43, 40, 59, 46, 56, 61, 46, 50, 37, 53, 66, 51, 53, 58, 57, 44, 35, 44, 49, 43, 50, 46, 42, 34, 48, 29, 58, 42, 31, 50, 46, 26, 45, 33, 44, 54, 39, 35, 63, 30, 48, 53, 31, 39, 28, 32, 44, 50, 34, 30, 41, 30, 48, 44, 30, 26, 30]\n"
     ]
    }
   ],
   "source": [
    "import os\n",
    "import numpy as np\n",
    "import matplotlib.pyplot as plt\n",
    "from PIL import Image\n",
    "\n",
    "base_dir = \"dog_images/train\"\n",
    "distribution = {}\n",
    "number_list = []\n",
    "max_class = 0\n",
    "max_path = ''\n",
    "min_class = 100\n",
    "min_path = ''\n",
    "for dirpath, dirnames, filenames in os.walk(base_dir):\n",
    "    distribution[dirpath] = 0\n",
    "    for filename in [f for f in filenames]: \n",
    "        distribution[dirpath] += 1\n",
    "    if distribution[dirpath] != 0:\n",
    "        number_list.append(distribution[dirpath])\n",
    "        if distribution[dirpath] > max_class:\n",
    "            max_class = distribution[dirpath]\n",
    "            max_path = dirpath\n",
    "        if distribution[dirpath] < min_class:\n",
    "            min_class = distribution[dirpath]\n",
    "            min_path = dirpath\n",
    "        \n",
    "keys, values = distribution.keys(), distribution.values()\n",
    "plt.bar(range(len(values)), values, color='r')\n",
    "plt.show()\n",
    "\n",
    "print(max(number_list), max_path)\n",
    "\n",
    "print(min(number_list), min_path)\n",
    "print(number_list)\n"
   ]
  },
  {
   "cell_type": "code",
   "execution_count": 6,
   "metadata": {},
   "outputs": [
    {
     "name": "stdout",
     "output_type": "stream",
     "text": [
      "3456\n",
      "3072\n",
      "121\n",
      "153\n"
     ]
    }
   ],
   "source": [
    "import os\n",
    "import numpy as np\n",
    "import matplotlib.pyplot as plt\n",
    "from PIL import Image\n",
    "\n",
    "base_dir = \"dog_images/test\"\n",
    "sizes = []    \n",
    "widths = []\n",
    "heights = []\n",
    "for dirpath, dirnames, filenames in os.walk(base_dir):\n",
    "    for dirname in [d for d in dirnames]: \n",
    "        files = os.listdir(base_dir + \"/\" + dirname)   \n",
    "        for file in files:\n",
    "            im = Image.open(base_dir + \"/\" + dirname + \"/\" + file)\n",
    "            width, height = im.size\n",
    "            sizes.append(im.size)   \n",
    "            widths.append(width)\n",
    "            heights.append(height)\n",
    "            \n",
    "#print(sizes)\n",
    "print(max(widths))\n",
    "print(max(heights))\n",
    "print(min(widths))\n",
    "print(min(heights))"
   ]
  },
  {
   "cell_type": "code",
   "execution_count": null,
   "metadata": {},
   "outputs": [],
   "source": []
  }
 ],
 "metadata": {
  "anaconda-cloud": {},
  "kernelspec": {
   "display_name": "Python 3",
   "language": "python",
   "name": "python3"
  },
  "language_info": {
   "codemirror_mode": {
    "name": "ipython",
    "version": 3
   },
   "file_extension": ".py",
   "mimetype": "text/x-python",
   "name": "python",
   "nbconvert_exporter": "python",
   "pygments_lexer": "ipython3",
   "version": "3.7.4"
  }
 },
 "nbformat": 4,
 "nbformat_minor": 4
}
